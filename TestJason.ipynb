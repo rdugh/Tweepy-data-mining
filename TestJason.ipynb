{
 "metadata": {
  "language_info": {
   "codemirror_mode": {
    "name": "ipython",
    "version": 3
   },
   "file_extension": ".py",
   "mimetype": "text/x-python",
   "name": "python",
   "nbconvert_exporter": "python",
   "pygments_lexer": "ipython3",
   "version": "3.7.3-final"
  },
  "orig_nbformat": 2,
  "kernelspec": {
   "name": "Python 3.7.3 64-bit",
   "display_name": "Python 3.7.3 64-bit",
   "metadata": {
    "interpreter": {
     "hash": "31f2aee4e71d21fbe5cf8b01ff0e069b9275f58929596ceb00d14d90e3e16cd6"
    }
   }
  }
 },
 "nbformat": 4,
 "nbformat_minor": 2,
 "cells": [
  {
   "cell_type": "code",
   "execution_count": 2,
   "metadata": {},
   "outputs": [],
   "source": [
    "import pandas as pd"
   ]
  },
  {
   "cell_type": "code",
   "execution_count": 4,
   "metadata": {},
   "outputs": [
    {
     "output_type": "execute_result",
     "data": {
      "text/plain": [
       "                 created_at                   id               id_str  \\\n",
       "0 2020-10-12 16:33:36+00:00  1315692104484564993  1315692104484564992   \n",
       "1 2020-10-12 16:33:37+00:00  1315692106346717185  1315692106346717184   \n",
       "2 2020-10-12 16:33:37+00:00  1315692109471440896  1315692109471440896   \n",
       "3 2020-10-12 16:33:41+00:00  1315692122864058369  1315692122864058368   \n",
       "4 2020-10-12 16:33:41+00:00  1315692125401411584  1315692125401411584   \n",
       "\n",
       "                                                text  \\\n",
       "0  RT @khamenei_ir: If some people prevent a girl...   \n",
       "1  RT @Dena_AlThani: Qatar 🇶🇦 has scored first pl...   \n",
       "2  RT @Karmjee68673845: #DayOfTheGirl\\nलड़की भी म...   \n",
       "3  RT @cgirlzhack: 📣#NOWTHIS #DayOfTheGirl #liste...   \n",
       "4  RT @AlwaysBHappy21: Sensing the need of hour,\\...   \n",
       "\n",
       "                                              source  truncated  \\\n",
       "0  <a href=\"http://twitter.com/download/android\" ...      False   \n",
       "1  <a href=\"http://twitter.com/download/iphone\" r...      False   \n",
       "2  <a href=\"http://twitter.com/download/android\" ...      False   \n",
       "3  <a href=\"https://mobile.twitter.com\" rel=\"nofo...      False   \n",
       "4  <a href=\"http://twitter.com/download/android\" ...      False   \n",
       "\n",
       "   in_reply_to_status_id  in_reply_to_status_id_str  in_reply_to_user_id  \\\n",
       "0                    NaN                        NaN                  NaN   \n",
       "1                    NaN                        NaN                  NaN   \n",
       "2                    NaN                        NaN                  NaN   \n",
       "3                    NaN                        NaN                  NaN   \n",
       "4                    NaN                        NaN                  NaN   \n",
       "\n",
       "   in_reply_to_user_id_str  ...  lang            timestamp_ms  \\\n",
       "0                      NaN  ...    en 2020-10-12 16:33:36.743   \n",
       "1                      NaN  ...    en 2020-10-12 16:33:37.187   \n",
       "2                      NaN  ...    hi 2020-10-12 16:33:37.932   \n",
       "3                      NaN  ...    en 2020-10-12 16:33:41.125   \n",
       "4                      NaN  ...    en 2020-10-12 16:33:41.730   \n",
       "\n",
       "   quoted_status_id  quoted_status_id_str  \\\n",
       "0               NaN                   NaN   \n",
       "1      1.314261e+18          1.314261e+18   \n",
       "2               NaN                   NaN   \n",
       "3      1.315311e+18          1.315311e+18   \n",
       "4               NaN                   NaN   \n",
       "\n",
       "                                       quoted_status  \\\n",
       "0                                                NaN   \n",
       "1  {'created_at': 'Thu Oct 08 17:48:18 +0000 2020...   \n",
       "2                                                NaN   \n",
       "3  {'created_at': 'Sun Oct 11 15:17:54 +0000 2020...   \n",
       "4                                                NaN   \n",
       "\n",
       "                             quoted_status_permalink possibly_sensitive  \\\n",
       "0                                                NaN                NaN   \n",
       "1  {'url': 'https://t.co/bQXOT90fye', 'expanded':...                NaN   \n",
       "2                                                NaN                NaN   \n",
       "3  {'url': 'https://t.co/RStXWAn2nD', 'expanded':...                NaN   \n",
       "4                                                NaN                NaN   \n",
       "\n",
       "   extended_tweet  extended_entities  display_text_range  \n",
       "0             NaN                NaN                 NaN  \n",
       "1             NaN                NaN                 NaN  \n",
       "2             NaN                NaN                 NaN  \n",
       "3             NaN                NaN                 NaN  \n",
       "4             NaN                NaN                 NaN  \n",
       "\n",
       "[5 rows x 36 columns]"
      ],
      "text/html": "<div>\n<style scoped>\n    .dataframe tbody tr th:only-of-type {\n        vertical-align: middle;\n    }\n\n    .dataframe tbody tr th {\n        vertical-align: top;\n    }\n\n    .dataframe thead th {\n        text-align: right;\n    }\n</style>\n<table border=\"1\" class=\"dataframe\">\n  <thead>\n    <tr style=\"text-align: right;\">\n      <th></th>\n      <th>created_at</th>\n      <th>id</th>\n      <th>id_str</th>\n      <th>text</th>\n      <th>source</th>\n      <th>truncated</th>\n      <th>in_reply_to_status_id</th>\n      <th>in_reply_to_status_id_str</th>\n      <th>in_reply_to_user_id</th>\n      <th>in_reply_to_user_id_str</th>\n      <th>...</th>\n      <th>lang</th>\n      <th>timestamp_ms</th>\n      <th>quoted_status_id</th>\n      <th>quoted_status_id_str</th>\n      <th>quoted_status</th>\n      <th>quoted_status_permalink</th>\n      <th>possibly_sensitive</th>\n      <th>extended_tweet</th>\n      <th>extended_entities</th>\n      <th>display_text_range</th>\n    </tr>\n  </thead>\n  <tbody>\n    <tr>\n      <th>0</th>\n      <td>2020-10-12 16:33:36+00:00</td>\n      <td>1315692104484564993</td>\n      <td>1315692104484564992</td>\n      <td>RT @khamenei_ir: If some people prevent a girl...</td>\n      <td>&lt;a href=\"http://twitter.com/download/android\" ...</td>\n      <td>False</td>\n      <td>NaN</td>\n      <td>NaN</td>\n      <td>NaN</td>\n      <td>NaN</td>\n      <td>...</td>\n      <td>en</td>\n      <td>2020-10-12 16:33:36.743</td>\n      <td>NaN</td>\n      <td>NaN</td>\n      <td>NaN</td>\n      <td>NaN</td>\n      <td>NaN</td>\n      <td>NaN</td>\n      <td>NaN</td>\n      <td>NaN</td>\n    </tr>\n    <tr>\n      <th>1</th>\n      <td>2020-10-12 16:33:37+00:00</td>\n      <td>1315692106346717185</td>\n      <td>1315692106346717184</td>\n      <td>RT @Dena_AlThani: Qatar 🇶🇦 has scored first pl...</td>\n      <td>&lt;a href=\"http://twitter.com/download/iphone\" r...</td>\n      <td>False</td>\n      <td>NaN</td>\n      <td>NaN</td>\n      <td>NaN</td>\n      <td>NaN</td>\n      <td>...</td>\n      <td>en</td>\n      <td>2020-10-12 16:33:37.187</td>\n      <td>1.314261e+18</td>\n      <td>1.314261e+18</td>\n      <td>{'created_at': 'Thu Oct 08 17:48:18 +0000 2020...</td>\n      <td>{'url': 'https://t.co/bQXOT90fye', 'expanded':...</td>\n      <td>NaN</td>\n      <td>NaN</td>\n      <td>NaN</td>\n      <td>NaN</td>\n    </tr>\n    <tr>\n      <th>2</th>\n      <td>2020-10-12 16:33:37+00:00</td>\n      <td>1315692109471440896</td>\n      <td>1315692109471440896</td>\n      <td>RT @Karmjee68673845: #DayOfTheGirl\\nलड़की भी म...</td>\n      <td>&lt;a href=\"http://twitter.com/download/android\" ...</td>\n      <td>False</td>\n      <td>NaN</td>\n      <td>NaN</td>\n      <td>NaN</td>\n      <td>NaN</td>\n      <td>...</td>\n      <td>hi</td>\n      <td>2020-10-12 16:33:37.932</td>\n      <td>NaN</td>\n      <td>NaN</td>\n      <td>NaN</td>\n      <td>NaN</td>\n      <td>NaN</td>\n      <td>NaN</td>\n      <td>NaN</td>\n      <td>NaN</td>\n    </tr>\n    <tr>\n      <th>3</th>\n      <td>2020-10-12 16:33:41+00:00</td>\n      <td>1315692122864058369</td>\n      <td>1315692122864058368</td>\n      <td>RT @cgirlzhack: 📣#NOWTHIS #DayOfTheGirl #liste...</td>\n      <td>&lt;a href=\"https://mobile.twitter.com\" rel=\"nofo...</td>\n      <td>False</td>\n      <td>NaN</td>\n      <td>NaN</td>\n      <td>NaN</td>\n      <td>NaN</td>\n      <td>...</td>\n      <td>en</td>\n      <td>2020-10-12 16:33:41.125</td>\n      <td>1.315311e+18</td>\n      <td>1.315311e+18</td>\n      <td>{'created_at': 'Sun Oct 11 15:17:54 +0000 2020...</td>\n      <td>{'url': 'https://t.co/RStXWAn2nD', 'expanded':...</td>\n      <td>NaN</td>\n      <td>NaN</td>\n      <td>NaN</td>\n      <td>NaN</td>\n    </tr>\n    <tr>\n      <th>4</th>\n      <td>2020-10-12 16:33:41+00:00</td>\n      <td>1315692125401411584</td>\n      <td>1315692125401411584</td>\n      <td>RT @AlwaysBHappy21: Sensing the need of hour,\\...</td>\n      <td>&lt;a href=\"http://twitter.com/download/android\" ...</td>\n      <td>False</td>\n      <td>NaN</td>\n      <td>NaN</td>\n      <td>NaN</td>\n      <td>NaN</td>\n      <td>...</td>\n      <td>en</td>\n      <td>2020-10-12 16:33:41.730</td>\n      <td>NaN</td>\n      <td>NaN</td>\n      <td>NaN</td>\n      <td>NaN</td>\n      <td>NaN</td>\n      <td>NaN</td>\n      <td>NaN</td>\n      <td>NaN</td>\n    </tr>\n  </tbody>\n</table>\n<p>5 rows × 36 columns</p>\n</div>"
     },
     "metadata": {},
     "execution_count": 4
    }
   ],
   "source": [
    "A=pd.read_json('/Users/livi/Git/Tweepy-data-mining/Testtweets20201012_1233.json',lines=True)\n",
    "A.head()\n"
   ]
  },
  {
   "cell_type": "code",
   "execution_count": 9,
   "metadata": {},
   "outputs": [
    {
     "output_type": "execute_result",
     "data": {
      "text/plain": [
       "0      en\n",
       "1      en\n",
       "2      hi\n",
       "3      en\n",
       "4      en\n",
       "5      en\n",
       "6      en\n",
       "7      en\n",
       "8     und\n",
       "9      en\n",
       "10     en\n",
       "11     th\n",
       "12     ro\n",
       "13     en\n",
       "14     en\n",
       "15     en\n",
       "16     en\n",
       "17     es\n",
       "18     en\n",
       "19     en\n",
       "20    und\n",
       "21     ja\n",
       "22     hi\n",
       "23     tl\n",
       "24     en\n",
       "25     en\n",
       "26     en\n",
       "27     en\n",
       "28     ar\n",
       "29     en\n",
       "30     en\n",
       "Name: lang, dtype: object"
      ]
     },
     "metadata": {},
     "execution_count": 9
    }
   ],
   "source": [
    "A.lang"
   ]
  },
  {
   "cell_type": "code",
   "execution_count": 13,
   "metadata": {},
   "outputs": [
    {
     "output_type": "stream",
     "name": "stdout",
     "text": [
      "['ja' 'en' 'in' 'und']\n"
     ]
    }
   ],
   "source": [
    "print(A.lang.unique())"
   ]
  },
  {
   "cell_type": "code",
   "execution_count": 4,
   "metadata": {},
   "outputs": [
    {
     "output_type": "execute_result",
     "data": {
      "text/plain": [
       "Index(['created_at', 'id', 'id_str', 'text', 'source', 'truncated',\n",
       "       'in_reply_to_status_id', 'in_reply_to_status_id_str',\n",
       "       'in_reply_to_user_id', 'in_reply_to_user_id_str',\n",
       "       'in_reply_to_screen_name', 'user', 'geo', 'coordinates', 'place',\n",
       "       'contributors', 'retweeted_status', 'quoted_status_id',\n",
       "       'quoted_status_id_str', 'quoted_status', 'quoted_status_permalink',\n",
       "       'is_quote_status', 'quote_count', 'reply_count', 'retweet_count',\n",
       "       'favorite_count', 'entities', 'favorited', 'retweeted', 'filter_level',\n",
       "       'lang', 'timestamp_ms', 'extended_tweet', 'possibly_sensitive',\n",
       "       'display_text_range', 'extended_entities'],\n",
       "      dtype='object')"
      ]
     },
     "metadata": {},
     "execution_count": 4
    }
   ],
   "source": [
    "A.columns"
   ]
  },
  {
   "cell_type": "code",
   "execution_count": 6,
   "metadata": {},
   "outputs": [
    {
     "output_type": "stream",
     "name": "stdout",
     "text": [
      "研修会後半のグループワークでは、株式会社Amp Tech（アンプテック）代表取締役の濱屋　雄太氏を講師に地域課題を地球規模の視点で考える SDGsのワークショップを実施しました。\n#SDGs \n#北海道腐ってる\n"
     ]
    }
   ],
   "source": [
    "print(A['text'][7])"
   ]
  },
  {
   "cell_type": "code",
   "execution_count": null,
   "metadata": {},
   "outputs": [],
   "source": []
  }
 ]
}