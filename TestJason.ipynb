{
 "metadata": {
  "language_info": {
   "codemirror_mode": {
    "name": "ipython",
    "version": 3
   },
   "file_extension": ".py",
   "mimetype": "text/x-python",
   "name": "python",
   "nbconvert_exporter": "python",
   "pygments_lexer": "ipython3",
   "version": "3.7.3-final"
  },
  "orig_nbformat": 2,
  "kernelspec": {
   "name": "Python 3.7.3 64-bit",
   "display_name": "Python 3.7.3 64-bit",
   "metadata": {
    "interpreter": {
     "hash": "31f2aee4e71d21fbe5cf8b01ff0e069b9275f58929596ceb00d14d90e3e16cd6"
    }
   }
  }
 },
 "nbformat": 4,
 "nbformat_minor": 2,
 "cells": [
  {
   "cell_type": "code",
   "execution_count": 2,
   "metadata": {},
   "outputs": [],
   "source": [
    "import pandas as pd"
   ]
  },
  {
   "cell_type": "code",
   "execution_count": 3,
   "metadata": {},
   "outputs": [
    {
     "output_type": "execute_result",
     "data": {
      "text/plain": [
       "                 created_at                   id               id_str  \\\n",
       "0 2020-10-12 05:39:23+00:00  1315527466480402433  1315527466480402432   \n",
       "1 2020-10-12 05:39:40+00:00  1315527535921254400  1315527535921254400   \n",
       "2 2020-10-12 05:39:50+00:00  1315527577243586560  1315527577243586560   \n",
       "3 2020-10-12 05:40:14+00:00  1315527676518522880  1315527676518522880   \n",
       "4 2020-10-12 05:40:21+00:00  1315527707212513282  1315527707212513280   \n",
       "\n",
       "                                                text  \\\n",
       "0  RT @JericHinaya: 学生時代デパ地下の惣菜屋でバイトしてたときに何が一番嫌だっ...   \n",
       "1  immigration has been exacerbated by the pandem...   \n",
       "2  RT @kanamamo2020: 科学ジャーナリスト 山本智之さん のインタビュー(5) ...   \n",
       "3  @ecoyuri ◆世界規模のコロナ言乍 其欠\\nロシア公共放送局が真実を放送!\\n\\nビル...   \n",
       "4  RT @arikring: A History of #Solar #Power\\nPric...   \n",
       "\n",
       "                                              source  truncated  \\\n",
       "0  <a href=\"http://twitter.com/download/iphone\" r...      False   \n",
       "1  <a href=\"http://twitter.com/download/android\" ...       True   \n",
       "2  <a href=\"https://mobile.twitter.com\" rel=\"nofo...      False   \n",
       "3  <a href=\"http://twitter.com/download/android\" ...       True   \n",
       "4  <a href=\"http://twitter.com/download/android\" ...      False   \n",
       "\n",
       "   in_reply_to_status_id  in_reply_to_status_id_str  in_reply_to_user_id  \\\n",
       "0                    NaN                        NaN                  NaN   \n",
       "1           1.315527e+18               1.315527e+18         1.302117e+18   \n",
       "2                    NaN                        NaN                  NaN   \n",
       "3           1.315512e+18               1.315512e+18         8.963195e+07   \n",
       "4                    NaN                        NaN                  NaN   \n",
       "\n",
       "   in_reply_to_user_id_str  ...  \\\n",
       "0                      NaN  ...   \n",
       "1             1.302117e+18  ...   \n",
       "2                      NaN  ...   \n",
       "3             8.963195e+07  ...   \n",
       "4                      NaN  ...   \n",
       "\n",
       "                                            entities favorited  retweeted  \\\n",
       "0  {'hashtags': [], 'urls': [], 'user_mentions': ...     False      False   \n",
       "1  {'hashtags': [], 'urls': [{'url': 'https://t.c...     False      False   \n",
       "2  {'hashtags': [{'text': 'fmyokohama', 'indices'...     False      False   \n",
       "3  {'hashtags': [], 'urls': [{'url': 'https://t.c...     False      False   \n",
       "4  {'hashtags': [{'text': 'Solar', 'indices': [27...     False      False   \n",
       "\n",
       "   filter_level lang            timestamp_ms  \\\n",
       "0           low   ja 2020-10-12 05:39:23.984   \n",
       "1           low   en 2020-10-12 05:39:40.540   \n",
       "2           low   ja 2020-10-12 05:39:50.392   \n",
       "3           low   ja 2020-10-12 05:40:14.061   \n",
       "4           low   en 2020-10-12 05:40:21.379   \n",
       "\n",
       "                                      extended_tweet  possibly_sensitive  \\\n",
       "0                                                NaN                 NaN   \n",
       "1  {'full_text': 'immigration has been exacerbate...                 NaN   \n",
       "2                                                NaN                 0.0   \n",
       "3  {'full_text': '@ecoyuri ◆世界規模のコロナ言乍 其欠\n",
       "ロシア公共放送...                 0.0   \n",
       "4                                                NaN                 NaN   \n",
       "\n",
       "   display_text_range extended_entities  \n",
       "0                 NaN               NaN  \n",
       "1                 NaN               NaN  \n",
       "2                 NaN               NaN  \n",
       "3            [9, 140]               NaN  \n",
       "4                 NaN               NaN  \n",
       "\n",
       "[5 rows x 36 columns]"
      ],
      "text/html": "<div>\n<style scoped>\n    .dataframe tbody tr th:only-of-type {\n        vertical-align: middle;\n    }\n\n    .dataframe tbody tr th {\n        vertical-align: top;\n    }\n\n    .dataframe thead th {\n        text-align: right;\n    }\n</style>\n<table border=\"1\" class=\"dataframe\">\n  <thead>\n    <tr style=\"text-align: right;\">\n      <th></th>\n      <th>created_at</th>\n      <th>id</th>\n      <th>id_str</th>\n      <th>text</th>\n      <th>source</th>\n      <th>truncated</th>\n      <th>in_reply_to_status_id</th>\n      <th>in_reply_to_status_id_str</th>\n      <th>in_reply_to_user_id</th>\n      <th>in_reply_to_user_id_str</th>\n      <th>...</th>\n      <th>entities</th>\n      <th>favorited</th>\n      <th>retweeted</th>\n      <th>filter_level</th>\n      <th>lang</th>\n      <th>timestamp_ms</th>\n      <th>extended_tweet</th>\n      <th>possibly_sensitive</th>\n      <th>display_text_range</th>\n      <th>extended_entities</th>\n    </tr>\n  </thead>\n  <tbody>\n    <tr>\n      <th>0</th>\n      <td>2020-10-12 05:39:23+00:00</td>\n      <td>1315527466480402433</td>\n      <td>1315527466480402432</td>\n      <td>RT @JericHinaya: 学生時代デパ地下の惣菜屋でバイトしてたときに何が一番嫌だっ...</td>\n      <td>&lt;a href=\"http://twitter.com/download/iphone\" r...</td>\n      <td>False</td>\n      <td>NaN</td>\n      <td>NaN</td>\n      <td>NaN</td>\n      <td>NaN</td>\n      <td>...</td>\n      <td>{'hashtags': [], 'urls': [], 'user_mentions': ...</td>\n      <td>False</td>\n      <td>False</td>\n      <td>low</td>\n      <td>ja</td>\n      <td>2020-10-12 05:39:23.984</td>\n      <td>NaN</td>\n      <td>NaN</td>\n      <td>NaN</td>\n      <td>NaN</td>\n    </tr>\n    <tr>\n      <th>1</th>\n      <td>2020-10-12 05:39:40+00:00</td>\n      <td>1315527535921254400</td>\n      <td>1315527535921254400</td>\n      <td>immigration has been exacerbated by the pandem...</td>\n      <td>&lt;a href=\"http://twitter.com/download/android\" ...</td>\n      <td>True</td>\n      <td>1.315527e+18</td>\n      <td>1.315527e+18</td>\n      <td>1.302117e+18</td>\n      <td>1.302117e+18</td>\n      <td>...</td>\n      <td>{'hashtags': [], 'urls': [{'url': 'https://t.c...</td>\n      <td>False</td>\n      <td>False</td>\n      <td>low</td>\n      <td>en</td>\n      <td>2020-10-12 05:39:40.540</td>\n      <td>{'full_text': 'immigration has been exacerbate...</td>\n      <td>NaN</td>\n      <td>NaN</td>\n      <td>NaN</td>\n    </tr>\n    <tr>\n      <th>2</th>\n      <td>2020-10-12 05:39:50+00:00</td>\n      <td>1315527577243586560</td>\n      <td>1315527577243586560</td>\n      <td>RT @kanamamo2020: 科学ジャーナリスト 山本智之さん のインタビュー(5) ...</td>\n      <td>&lt;a href=\"https://mobile.twitter.com\" rel=\"nofo...</td>\n      <td>False</td>\n      <td>NaN</td>\n      <td>NaN</td>\n      <td>NaN</td>\n      <td>NaN</td>\n      <td>...</td>\n      <td>{'hashtags': [{'text': 'fmyokohama', 'indices'...</td>\n      <td>False</td>\n      <td>False</td>\n      <td>low</td>\n      <td>ja</td>\n      <td>2020-10-12 05:39:50.392</td>\n      <td>NaN</td>\n      <td>0.0</td>\n      <td>NaN</td>\n      <td>NaN</td>\n    </tr>\n    <tr>\n      <th>3</th>\n      <td>2020-10-12 05:40:14+00:00</td>\n      <td>1315527676518522880</td>\n      <td>1315527676518522880</td>\n      <td>@ecoyuri ◆世界規模のコロナ言乍 其欠\\nロシア公共放送局が真実を放送!\\n\\nビル...</td>\n      <td>&lt;a href=\"http://twitter.com/download/android\" ...</td>\n      <td>True</td>\n      <td>1.315512e+18</td>\n      <td>1.315512e+18</td>\n      <td>8.963195e+07</td>\n      <td>8.963195e+07</td>\n      <td>...</td>\n      <td>{'hashtags': [], 'urls': [{'url': 'https://t.c...</td>\n      <td>False</td>\n      <td>False</td>\n      <td>low</td>\n      <td>ja</td>\n      <td>2020-10-12 05:40:14.061</td>\n      <td>{'full_text': '@ecoyuri ◆世界規模のコロナ言乍 其欠\nロシア公共放送...</td>\n      <td>0.0</td>\n      <td>[9, 140]</td>\n      <td>NaN</td>\n    </tr>\n    <tr>\n      <th>4</th>\n      <td>2020-10-12 05:40:21+00:00</td>\n      <td>1315527707212513282</td>\n      <td>1315527707212513280</td>\n      <td>RT @arikring: A History of #Solar #Power\\nPric...</td>\n      <td>&lt;a href=\"http://twitter.com/download/android\" ...</td>\n      <td>False</td>\n      <td>NaN</td>\n      <td>NaN</td>\n      <td>NaN</td>\n      <td>NaN</td>\n      <td>...</td>\n      <td>{'hashtags': [{'text': 'Solar', 'indices': [27...</td>\n      <td>False</td>\n      <td>False</td>\n      <td>low</td>\n      <td>en</td>\n      <td>2020-10-12 05:40:21.379</td>\n      <td>NaN</td>\n      <td>NaN</td>\n      <td>NaN</td>\n      <td>NaN</td>\n    </tr>\n  </tbody>\n</table>\n<p>5 rows × 36 columns</p>\n</div>"
     },
     "metadata": {},
     "execution_count": 3
    }
   ],
   "source": [
    "A=pd.read_json('/Users/livi/Git/Tweepy-data-mining/Testtweets20201012_139.json',lines=True)\n",
    "A.head()\n"
   ]
  },
  {
   "cell_type": "code",
   "execution_count": 13,
   "metadata": {},
   "outputs": [
    {
     "output_type": "stream",
     "name": "stdout",
     "text": [
      "['ja' 'en' 'in' 'und']\n"
     ]
    }
   ],
   "source": [
    "print(A.lang.unique())"
   ]
  },
  {
   "cell_type": "code",
   "execution_count": 4,
   "metadata": {},
   "outputs": [
    {
     "output_type": "execute_result",
     "data": {
      "text/plain": [
       "Index(['created_at', 'id', 'id_str', 'text', 'source', 'truncated',\n",
       "       'in_reply_to_status_id', 'in_reply_to_status_id_str',\n",
       "       'in_reply_to_user_id', 'in_reply_to_user_id_str',\n",
       "       'in_reply_to_screen_name', 'user', 'geo', 'coordinates', 'place',\n",
       "       'contributors', 'retweeted_status', 'quoted_status_id',\n",
       "       'quoted_status_id_str', 'quoted_status', 'quoted_status_permalink',\n",
       "       'is_quote_status', 'quote_count', 'reply_count', 'retweet_count',\n",
       "       'favorite_count', 'entities', 'favorited', 'retweeted', 'filter_level',\n",
       "       'lang', 'timestamp_ms', 'extended_tweet', 'possibly_sensitive',\n",
       "       'display_text_range', 'extended_entities'],\n",
       "      dtype='object')"
      ]
     },
     "metadata": {},
     "execution_count": 4
    }
   ],
   "source": [
    "A.columns"
   ]
  },
  {
   "cell_type": "code",
   "execution_count": 6,
   "metadata": {},
   "outputs": [
    {
     "output_type": "stream",
     "name": "stdout",
     "text": [
      "研修会後半のグループワークでは、株式会社Amp Tech（アンプテック）代表取締役の濱屋　雄太氏を講師に地域課題を地球規模の視点で考える SDGsのワークショップを実施しました。\n#SDGs \n#北海道腐ってる\n"
     ]
    }
   ],
   "source": [
    "print(A['text'][7])"
   ]
  },
  {
   "cell_type": "code",
   "execution_count": null,
   "metadata": {},
   "outputs": [],
   "source": []
  }
 ]
}