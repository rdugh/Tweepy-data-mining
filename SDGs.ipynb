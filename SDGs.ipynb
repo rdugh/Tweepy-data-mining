{
  "nbformat": 4,
  "nbformat_minor": 0,
  "metadata": {
    "colab": {
      "name": "SDGs.ipynb",
      "provenance": [],
      "collapsed_sections": [
        "N3ZLvFrM7rRw",
        "5Fs-Hfvo-Y8b",
        "jQybSTqP9ANi",
        "KGGwEh7xcIsw"
      ],
      "toc_visible": true
    },
    "kernelspec": {
      "name": "python3",
      "display_name": "Python 3.7.3 64-bit",
      "metadata": {
        "interpreter": {
          "hash": "31f2aee4e71d21fbe5cf8b01ff0e069b9275f58929596ceb00d14d90e3e16cd6"
        }
      }
    }
  },
  "cells": [
    {
      "cell_type": "markdown",
      "metadata": {
        "id": "N3ZLvFrM7rRw"
      },
      "source": [
        "# import Data\n",
        "## import and install important libraries"
      ]
    },
    {
      "cell_type": "code",
      "metadata": {
        "id": "o43KwlBJ6UYp"
      },
      "source": [
        "from sklearn import preprocessing"
      ],
      "execution_count": null,
      "outputs": []
    },
    {
      "cell_type": "code",
      "metadata": {
        "id": "JhN_GSxKmKrp"
      },
      "source": [
        "import pandas as pd\n",
        "import numpy as np\n",
        "import re\n",
        "import json\n",
        "from os import listdir\n",
        "from os.path import join\n",
        "import matplotlib.pyplot as plt\n",
        "from collections import Counter\n",
        "import seaborn as sns"
      ],
      "execution_count": null,
      "outputs": []
    },
    {
      "cell_type": "code",
      "metadata": {
        "id": "v9KucAcklVM1"
      },
      "source": [
        "'''!pip uninstall nltk\n",
        "!pip install nltk==3.2.5\n",
        "import nltk'''"
      ],
      "execution_count": null,
      "outputs": []
    },
    {
      "cell_type": "code",
      "metadata": {
        "id": "8kVfAU1m387X"
      },
      "source": [
        "import emoji#checking if a character is an emoji\n",
        "import re\n",
        "import nltk\n",
        "from nltk.corpus import wordnet\n",
        "from nltk import word_tokenize \n",
        "from nltk.corpus import stopwords \n",
        "from nltk import sent_tokenize, word_tokenize\n",
        "import time"
      ],
      "execution_count": null,
      "outputs": []
    },
    {
      "cell_type": "code",
      "metadata": {
        "id": "W8T9AiWuaql3"
      },
      "source": [
        "'''folder=f'/Users/livi/Documents/2020 Fall/data mining/Proposal/Final Paper/Tweets_Half_Cleaned/'\n",
        "FinFolder=os.listdir(folder)\n",
        "Frame=[]\n",
        "for file in FinFolder[:]:\n",
        "    if (file.endswith('.csv')) & (file!='.DS_Store'):\n",
        "        One_Frame=pd.read_csv(join(folder,file),lineterminator='\\n',index_col=0)\n",
        "        Frame.append(One_Frame)\n",
        "T=pd.concat(Frame)\n",
        "T.reset_index(inplace=True,drop=True)'''"
      ],
      "execution_count": null,
      "outputs": []
    },
    {
      "cell_type": "code",
      "execution_count": null,
      "metadata": {},
      "outputs": [],
      "source": [
        "#T=pd.read_csv('/Users/livi/Git/Tweepy-data-mining/T12292020.csv', index_col=0,lineterminator='\\n')"
      ]
    },
    {
      "cell_type": "code",
      "execution_count": null,
      "metadata": {},
      "outputs": [],
      "source": [
        "T=pd.read_csv('/Users/livi/Git/Tweepy-data-mining/LIWC2015 Results (T12292020).csv', index_col=0,lineterminator='\\n')"
      ]
    },
    {
      "cell_type": "code",
      "execution_count": null,
      "metadata": {},
      "outputs": [],
      "source": [
        "#rename columnsT\n",
        "T_cols=list(T.columns)\n",
        "T_cols[:18]=['created_at', 'source', 'extended_tweet', 'location', 'CountryCode','SDG', 'id', 'name', 'screen_name', 'url', 'friends_count','followers_count', 'hashtags', 'extended_tweet_lemmatized', 'neg','neu', 'pos', 'compound']\n",
        "T.columns=T_cols\n",
        "\n",
        "# LIWC columns\n",
        "AffectWords=['posemo', 'negemo', 'anx', 'anger', 'sad']\n",
        "CognetiveProcess=['insight', 'cause', 'discrep', 'tentat', 'certain', 'differ']\n",
        "PerpetualProcesses=['see', 'hear', 'feel']\n",
        "BiologicalProcesses=['bio', 'body', 'health', 'sexual', 'ingest']\n",
        "CoreDrivesandNeeds=['affiliation', 'achieve', 'power', 'reward', 'risk']\n",
        "TimeOrientation=['focuspast', 'focuspresent', 'focusfuture']\n",
        "Relativity=['motion', 'space', 'time']\n",
        "PersonalConcerns=['work', 'leisure', 'home', 'money', 'relig', 'death']\n",
        "InformalSpeech=['informal','swear','netspeak','assent','nonflu','filler']"
      ]
    },
    {
      "cell_type": "code",
      "execution_count": null,
      "metadata": {},
      "outputs": [],
      "source": [
        "#drop ['location','name','url']\n",
        "desired_col=['created_at', 'source', 'extended_tweet', 'CountryCode','SDG', 'id', 'screen_name','followers_count', 'hashtags', 'extended_tweet_lemmatized', 'neg','neu', 'pos', 'compound']\n",
        "for i in ['AffectWords','CognetiveProcess','PerpetualProcesses','BiologicalProcesses','CoreDrivesandNeeds','TimeOrientation','Relativity','PersonalConcerns','InformalSpeech']:\n",
        "  desired_col.extend(eval(i))\n",
        "T=T[desired_col]\n",
        "T.drop(index=T[pd.isnull(T['extended_tweet'])].index,inplace=True)\n",
        "T.drop(index=T[pd.isnull(T['id'])].index,inplace=True)\n",
        "T.reset_index(drop=True,inplace=True)"
      ]
    },
    {
      "cell_type": "code",
      "execution_count": null,
      "metadata": {},
      "outputs": [],
      "source": [
        "#Country code clean\n",
        "for i,k in enumerate(T['CountryCode']):\n",
        "    if ']' in str(k):\n",
        "        T.loc[i,'CountryCode']='nan'"
      ]
    },
    {
      "cell_type": "code",
      "metadata": {
        "id": "I9xbxqE86jXe"
      },
      "source": [
        "#str\n",
        "for col in ['source','extended_tweet','CountryCode','id','extended_tweet_lemmatized']:\n",
        "    T[col]=T[col].astype(str)\n",
        "'''#num\n",
        "for col in ['friends_count','followers_count','neg','neu','pos','compound']:\n",
        "    T[col]=T[col].astype(float)'''\n",
        "#apply\n",
        "for col in ['SDG','hashtags']:\n",
        "    T[col]=T[col].apply(eval)"
      ],
      "execution_count": null,
      "outputs": []
    },
    {
      "cell_type": "code",
      "execution_count": null,
      "metadata": {},
      "outputs": [],
      "source": [
        "for i in T.columns:\n",
        "    if T[i].dtypes=='float64':\n",
        "        T[i].replace(0,np.nan,inplace=True)"
      ]
    },
    {
      "cell_type": "code",
      "execution_count": null,
      "metadata": {},
      "outputs": [],
      "source": [
        "T.info()"
      ]
    },
    {
      "cell_type": "markdown",
      "metadata": {
        "id": "0SFaRepraql4"
      },
      "source": [
        "# Data Cleaning\n",
        "\n",
        "## Generate user information"
      ]
    },
    {
      "cell_type": "markdown",
      "metadata": {
        "id": "LzGCtPBtaql5"
      },
      "source": [
        "### Detect Bot and Consider label Bot\n",
        "1. interarrival time is smaller than 5 seconds(Tested, mainly small intervals are caused by long tweets)\n",
        "2. other weird resource (source from bot may have interarrival time much longer 5 sec) Most effective method\n",
        "3. number of tweets per day (statuses_count, not used here, because there are accounts which frequently tweets)\n",
        "\n",
        "number of Influencer:A micro-influencer is someone who has between 1,000 to 100,000 followers"
      ]
    },
    {
      "cell_type": "code",
      "metadata": {
        "id": "r6UmU_dl6jXf"
      },
      "source": [
        "#Assign user type\n",
        "T['UserType']=''\n",
        "screen_name_of_bots=list(T[T['source'].str.contains('bot')]['screen_name'].unique())\n",
        "screen_name_of_bots.extend(['trendsinAI','form_bot','UDHROne257_247','globalhealthbot'])\n",
        "screen_name_of_bots.extend(list(T[T['screen_name'].str.contains('retweet',case=False)]['screen_name'].unique()))\n",
        "BFF=T[['screen_name','followers_count']].groupby(['screen_name']).agg({'followers_count':'max'}).reset_index()\n",
        "#assign user\n",
        "screen_name_of_user=list(BFF[(BFF['followers_count']<=800)]['screen_name'].unique())\n",
        "T.loc[(T['screen_name'].isin(screen_name_of_user))& (~ T['screen_name'].isin(screen_name_of_bots)),'UserType']='user'\n",
        "#assign influencer\n",
        "screen_name_of_influencer=list(BFF[(BFF['followers_count']>800)]['screen_name'].unique())\n",
        "screen_name_of_influencer.extend(list(T[T['screen_name'].str.contains('news',case=False)]['screen_name'].unique()))\n",
        "T.loc[(T['screen_name'].isin(screen_name_of_influencer)) & (~ T['screen_name'].isin(screen_name_of_bots)),'UserType']='influencer'\n",
        "#assign bots\n",
        "T.loc[T['screen_name'].isin(screen_name_of_bots),'UserType']='bot'"
      ],
      "execution_count": null,
      "outputs": []
    },
    {
      "cell_type": "code",
      "execution_count": null,
      "metadata": {},
      "outputs": [],
      "source": [
        "T=T[T['UserType']=='user'].reset_index(drop=True)"
      ]
    },
    {
      "cell_type": "code",
      "execution_count": null,
      "metadata": {},
      "outputs": [],
      "source": [
        "T.shape"
      ]
    },
    {
      "cell_type": "markdown",
      "metadata": {
        "id": "NSAy5lHG6jXg"
      },
      "source": [
        "### include other SDG according to the keywords"
      ]
    },
    {
      "cell_type": "code",
      "metadata": {
        "tags": [],
        "id": "JfuWuF096jXg"
      },
      "source": [
        "#choose to include keywords for sdgs or not\n",
        "'''keyword_list=[['#poverty'],['#zerohunger'],['#globalhealth'],['#education'],['#genderequality'],['#water'],['#energy'],['#decentwork'],['#economicgrowth','#ideas'],['#socialjustice'],['#sustainablecities'],['#sparetosave'],['#climateaction'],['#ocean'],['#lifeonland'],['#justice','#peace']]\n",
        "for i in range(16):\n",
        "    for ii in keyword_list[i]:\n",
        "        for iii in T[T['extended_tweet'].str.contains(ii,case=False)].index:\n",
        "            T.loc[iii,'SDG'].append('SDG'+str(i+1))\n",
        "        #print(i+1,keyword_list[i],ii)'''"
      ],
      "execution_count": null,
      "outputs": []
    },
    {
      "cell_type": "markdown",
      "metadata": {
        "id": "5Fs-Hfvo-Y8b"
      },
      "source": [
        "###  Generate labels topic"
      ]
    },
    {
      "cell_type": "code",
      "metadata": {
        "id": "cviRf6un-U0Z"
      },
      "source": [
        "from sklearn.decomposition import LatentDirichletAllocation\n",
        "from sklearn.feature_extraction.text import CountVectorizer"
      ],
      "execution_count": null,
      "outputs": []
    },
    {
      "cell_type": "code",
      "metadata": {
        "id": "bJM3mPlW6tcU"
      },
      "source": [
        "'''PopSDGs=['SDG'+str(i) for i in [4,5,7,2,16]]\n",
        "for PopSDG in PopSDGs:\n",
        "  searchTerm = PopSDG\n",
        "  TextExt=T[[searchTerm in x for x in T['SDG']]]\n",
        "  #parameter set-up\n",
        "  count_vect=CountVectorizer(max_df=0.8,min_df=2,stop_words='english')\n",
        "  LDA = LatentDirichletAllocation(n_components=5, random_state=42)\n",
        "  #topic modeling\n",
        "  tweet_matrix=count_vect.fit_transform(TextExt['extended_tweet_lemmatized'].values.astype('U'))\n",
        "  LDA.fit(tweet_matrix)\n",
        "  #print results\n",
        "   for i in top_topic_words:\n",
        "      print(count_vect.get_feature_names()[i])\n",
        "  for i,topic in enumerate(LDA.components_):\n",
        "      print(f'Top 20 words for {PopSDG} topic #{i}:')\n",
        "      print([count_vect.get_feature_names()[i] for i in topic.argsort()[-20:]])\n",
        "      print('\\n')\n",
        "  print('*'*50)\n",
        "  #put topic back to tweets\n",
        "  topic_values = LDA.transform(tweet_matrix)\n",
        "  T[PopSDG+'Topic']=None\n",
        "  #putinto the main matrix\n",
        "  T.loc[TextExt.index,PopSDG+'Topic']=topic_values.argmax(axis=1)'''"
      ],
      "execution_count": null,
      "outputs": []
    },
    {
      "cell_type": "markdown",
      "metadata": {
        "id": "-jh6Os6A19y-"
      },
      "source": [
        "# Analysis"
      ]
    },
    {
      "cell_type": "code",
      "metadata": {
        "id": "LNFhFfuM6jXh"
      },
      "source": [
        "Users=T[['screen_name','id','UserType','source']].groupby('screen_name').agg({'id':'count','UserType':'last','source':'last'})"
      ],
      "execution_count": null,
      "outputs": []
    },
    {
      "cell_type": "code",
      "metadata": {
        "id": "aMjklrFT6jXh"
      },
      "source": [
        "Users.sort_values('id',ascending=False,inplace=True)\n",
        "Users.reset_index(inplace=True)"
      ],
      "execution_count": null,
      "outputs": []
    },
    {
      "cell_type": "code",
      "metadata": {
        "id": "CfJs9CL36jXh"
      },
      "source": [
        "cri_bot=Users['UserType']=='bot'\n",
        "cri_user=Users['UserType']=='user'\n",
        "cri_influencer=Users['UserType']=='influencer'"
      ],
      "execution_count": null,
      "outputs": []
    },
    {
      "cell_type": "code",
      "metadata": {
        "id": "LIaw28JH6jXi"
      },
      "source": [
        "set(Users['screen_name'].to_list()[:30]).intersection(set(Users[cri_user]['screen_name'].to_list()[:15]))"
      ],
      "execution_count": null,
      "outputs": []
    },
    {
      "cell_type": "code",
      "metadata": {
        "id": "5XmZdxZv6jXi"
      },
      "source": [
        "plt.figure(figsize=(15,8))\n",
        "plt.bar(Users['screen_name'].to_list()[:40],Users['id'].to_list()[:40])\n",
        "plt.title('All', fontsize=15)\n",
        "plt.xticks(rotation=90)\n",
        "plt.show()\n",
        "\n",
        "plt.figure(figsize=(15,8))\n",
        "plt.bar(Users[cri_bot]['screen_name'].to_list()[:15],Users[cri_bot]['id'].to_list()[:15])\n",
        "plt.title('Bot', fontsize=15)\n",
        "plt.xticks(rotation=90)\n",
        "plt.show()\n",
        "\n",
        "plt.figure(figsize=(15,8))\n",
        "plt.bar(Users[cri_user]['screen_name'].to_list()[:30],Users[cri_user]['id'].to_list()[:30])\n",
        "plt.title('User', fontsize=15)\n",
        "plt.xticks(rotation=90)\n",
        "plt.show()\n",
        "\n",
        "plt.figure(figsize=(15,8))\n",
        "plt.bar(Users[cri_influencer]['screen_name'].to_list()[:15],Users[cri_influencer]['id'].to_list()[:15])\n",
        "plt.title('Influencer', fontsize=15)\n",
        "plt.xticks(rotation=90)\n",
        "plt.show()"
      ],
      "execution_count": null,
      "outputs": []
    },
    {
      "cell_type": "code",
      "metadata": {
        "id": "PgMrYeEs6jXi"
      },
      "source": [
        "T[['screen_name','id','UserType','source']].groupby('UserType').agg({'id':'count','source':'last','screen_name':'last'})"
      ],
      "execution_count": null,
      "outputs": []
    },
    {
      "source": [
        "# Analysis"
      ],
      "cell_type": "markdown",
      "metadata": {}
    },
    {
      "source": [
        "## Frequency of SDG"
      ],
      "cell_type": "markdown",
      "metadata": {}
    },
    {
      "cell_type": "code",
      "execution_count": null,
      "metadata": {},
      "outputs": [],
      "source": [
        "TT=T[['extended_tweet', 'SDG','CountryCode']]"
      ]
    },
    {
      "cell_type": "code",
      "execution_count": null,
      "metadata": {},
      "outputs": [],
      "source": [
        "TT['length']=TT['SDG'].apply(lambda x: type(x))"
      ]
    },
    {
      "cell_type": "code",
      "execution_count": null,
      "metadata": {},
      "outputs": [],
      "source": [
        "for n,i in enumerate(TT['SDG']):\n",
        "    if isinstance(i,float):\n",
        "        TT.drop(index=n,inplace=True)\n",
        "        T.drop(index=n,inplace=True)\n",
        "TT.reset_index(drop=True, inplace=True)\n",
        "T.reset_index(drop=True, inplace=True)"
      ]
    },
    {
      "cell_type": "code",
      "execution_count": null,
      "metadata": {},
      "outputs": [],
      "source": [
        "TT['length']=TT['SDG'].apply(lambda x: len(x))"
      ]
    },
    {
      "cell_type": "code",
      "execution_count": null,
      "metadata": {},
      "outputs": [],
      "source": [
        "TT=TT[[len(i)>0 for i in TT['SDG']]]\n",
        "TT.reset_index(drop=True,inplace=True)\n",
        "print(TT.shape)\n",
        "TT.head()"
      ]
    },
    {
      "cell_type": "code",
      "execution_count": null,
      "metadata": {},
      "outputs": [],
      "source": [
        "#Clean up the string\n",
        "Tdict={}\n",
        "for i in TT['SDG'].to_list():\n",
        "    for ii in i:\n",
        "        if ii in Tdict:\n",
        "            Tdict[ii]+=1\n",
        "        else:\n",
        "            Tdict[ii]=1\n",
        "#Tdict['']+=Tdict['']\n",
        "try:\n",
        "  Tdict['SDG1']+=Tdict['SDG01']\n",
        "  Tdict['SDG8']+=Tdict['SDG08']\n",
        "  Tdict['SDG6']+=Tdict['SDG64']\n",
        "  Tdict['SDG4']+=Tdict['SDG04']\n",
        "  del Tdict['SDG01']\n",
        "  del Tdict['SDG04']\n",
        "  #del Tdict['SDG4ALL']\n",
        "  #del Tdict['SDG4B']\n",
        "  #del Tdict['SDG4IT']\n",
        "  #del Tdict['SDG4SURVEY']\n",
        "  #del Tdict['SDG4PT7']\n",
        "  del Tdict['SDG64']\n",
        "  del Tdict['SDG08']\n",
        "  del Tdict['SDG18']\n",
        "  del Tdict['SDG200']\n",
        "  del Tdict['SDG2030']\n",
        "  del Tdict['SDG2020']\n",
        "  del Tdict['SDG19']\n",
        "\n",
        "except:\n",
        "  #raise\n",
        "  pass\n",
        "Tdict={k:v for k,v in sorted(Tdict.items(), key=lambda x: x[1],reverse=True)}\n",
        "sorted(Tdict)"
      ]
    },
    {
      "cell_type": "code",
      "execution_count": null,
      "metadata": {},
      "outputs": [],
      "source": [
        "print(Tdict.keys())\n",
        "plt.figure(figsize=(20,10))\n",
        "plt.bar(Tdict.keys(),Tdict.values())\n",
        "plt.xlabel('SDG',fontsize=25,weight='bold')\n",
        "plt.xticks(fontsize=20,weight='bold',rotation=90)\n",
        "plt.yticks(fontsize=20,weight='bold',rotation=90)\n",
        "plt.ylabel('Frequency',fontsize=25,weight='bold')\n",
        "plt.tight_layout()\n",
        "#plt.savefig('SDG popularity.jpg',dpi=300)\n",
        "plt.show()"
      ]
    },
    {
      "cell_type": "markdown",
      "metadata": {
        "id": "jQybSTqP9ANi"
      },
      "source": [
        "## Generate National Graph\n",
        "### import libraty and geojson"
      ]
    },
    {
      "cell_type": "code",
      "metadata": {
        "id": "zo01q7vrhVr1"
      },
      "source": [
        "import folium"
      ],
      "execution_count": null,
      "outputs": []
    },
    {
      "cell_type": "code",
      "metadata": {
        "id": "T6LmhSwJhgGn"
      },
      "source": [
        "with open('/Users/livi/Git/Tweepy-data-mining/countries.geojson') as f:\n",
        "  geodata = json.load(f)"
      ],
      "execution_count": null,
      "outputs": []
    },
    {
      "cell_type": "code",
      "metadata": {
        "id": "9TWIyC4sjRzU"
      },
      "source": [
        "holdlist=[]\n",
        "allcountries=[]\n",
        "for k,i in enumerate(geodata['features']):\n",
        "  allcountries.append(i['properties']['ADMIN'])\n",
        "  if i['properties']['ADMIN'] in T['CountryCode'].tolist():\n",
        "    holdlist.append(i['properties']['ADMIN'])"
      ],
      "execution_count": null,
      "outputs": []
    },
    {
      "cell_type": "code",
      "metadata": {
        "id": "gx8-Ft05uzTT"
      },
      "source": [
        "print('Overlap of geojson and countrycode:',len(np.unique(np.array(holdlist))))\n",
        "print('CountryCode in data:',len(T['CountryCode'].unique()))\n",
        "print('Geojson we have:',len(np.unique(allcountries)))\n",
        "df1=pd.DataFrame(allcountries)\n",
        "df1.index=df1[0]\n",
        "df1.columns=['geojson']\n",
        "df2=pd.DataFrame(T['CountryCode'].unique())\n",
        "df2.index=df2[0]\n",
        "df2.columns=['googlemap']"
      ],
      "execution_count": null,
      "outputs": []
    },
    {
      "cell_type": "code",
      "metadata": {
        "id": "CDY4EPyV6jXk"
      },
      "source": [
        "#countries could not be identified\n",
        "countrynotincluded=list(set(T['CountryCode'].unique())-set(np.unique(np.array(holdlist))))\n",
        "sum(T['CountryCode'].isin(countrynotincluded)),len(T)"
      ],
      "execution_count": null,
      "outputs": []
    },
    {
      "cell_type": "code",
      "metadata": {
        "id": "tXGl0JF3w8Y8"
      },
      "source": [
        "'''contriesLists=pd.concat([df1, df2], axis=1, sort=False,join='outer')\n",
        "D=contriesLists[contriesLists['googlemap']!=contriesLists['geojson']]'''"
      ],
      "execution_count": null,
      "outputs": []
    },
    {
      "cell_type": "markdown",
      "metadata": {
        "id": "ZHWAzABZlRhV"
      },
      "source": [
        "### Plot Frequency Map and sccatter plot"
      ]
    },
    {
      "cell_type": "code",
      "execution_count": null,
      "metadata": {},
      "outputs": [],
      "source": [
        "PP=T[['CountryCode', 'id']].groupby('CountryCode').count()\n",
        "PP.reset_index(inplace=True)\n",
        "PP.sort_values('id',ascending=False,inplace=True)\n",
        "PP['count']=np.log10(PP['id'])"
      ]
    },
    {
      "cell_type": "code",
      "metadata": {
        "id": "bBpnccR4inwu"
      },
      "source": [
        "#frequency map of tweets\n",
        "'''m = folium.Map(location=[0, 0], zoom_start=2)\n",
        "folium.Choropleth(\n",
        "    geo_data=geodata,\n",
        "    name='choropleth',\n",
        "    data=PP,\n",
        "    columns=['CountryCode', 'count'],\n",
        "    key_on='feature.properties.ADMIN',\n",
        "    fill_color='YlGn',\n",
        "    fill_opacity=0.7,\n",
        "    line_opacity=0.2,\n",
        "    legend_name='# of Tweets'\n",
        ").add_to(m)\n",
        "\n",
        "folium.LayerControl().add_to(m)\n",
        "m'''"
      ],
      "execution_count": null,
      "outputs": []
    },
    {
      "cell_type": "code",
      "metadata": {
        "id": "HDKGMBW2GFRK"
      },
      "source": [
        "#plot of all countries and counts\n",
        "'''plt.figure(figsize=(20,10))\n",
        "#plt.bar(PP.CountryCode[:30],PP.text[:30])\n",
        "plt.scatter(range(len(PP.CountryCode)),PP['count'])\n",
        "plt.xlabel('Country',fontsize=20)\n",
        "plt.xticks(rotation=90,fontsize=15)\n",
        "plt.yticks(fontsize=15)\n",
        "plt.ylabel('log_10 Frequency',fontsize=20)\n",
        "plt.tight_layout()\n",
        "#plt.savefig('1023place dis.jpg')\n",
        "plt.show()'''"
      ],
      "execution_count": null,
      "outputs": []
    },
    {
      "cell_type": "code",
      "metadata": {
        "id": "RhaFNIWU6jXl"
      },
      "source": [
        "plt.figure(figsize=(20,10))\n",
        "plt.bar(PP.CountryCode[1:30],PP.id[1:30])\n",
        "plt.xlabel('Country',fontsize=20)\n",
        "plt.xticks(rotation=90,fontsize=15)\n",
        "plt.yticks(fontsize=15)\n",
        "plt.ylabel('Frequency',fontsize=20)\n",
        "plt.tight_layout()\n",
        "#plt.savefig('Tweets Frequency with countries.jpg',dpi=300)\n",
        "plt.show()"
      ],
      "execution_count": null,
      "outputs": []
    },
    {
      "cell_type": "markdown",
      "metadata": {
        "id": "khGaoa3naVH9"
      },
      "source": [
        "### plot SDG Map and heatmap table \n"
      ]
    },
    {
      "cell_type": "code",
      "metadata": {
        "id": "p_UIUjUecggz"
      },
      "source": [
        "#Country and SDG distribution\n",
        "CS=T[['CountryCode','SDG']]\n",
        "SDs={}\n",
        "for coun in CS['CountryCode'].unique():\n",
        "    SDs[coun]={'SDG'+str(i+1):0 for i in range(17)}\n",
        "    temp=CS[CS['CountryCode']==coun]['SDG']\n",
        "    for S in temp:\n",
        "        for SS in S:\n",
        "            try:\n",
        "              SDs[coun][SS]+=1\n",
        "            except:\n",
        "                pass  "
      ],
      "execution_count": null,
      "outputs": []
    },
    {
      "source": [
        "#### Top SDG based on Country"
      ],
      "cell_type": "markdown",
      "metadata": {}
    },
    {
      "cell_type": "code",
      "execution_count": null,
      "metadata": {},
      "outputs": [],
      "source": [
        "'''top5EnCoun=PP.CountryCode[1:4].tolist()\n",
        "for topcount in top5EnCoun:\n",
        "  plt.figure(figsize=(14,7))\n",
        "  plt.bar(SDs[topcount].keys(),SDs[topcount].values())\n",
        "  plt.title(topcount,fontsize=25,weight='bold')\n",
        "  plt.xlabel('SDG',fontsize=25,weight='bold')\n",
        "  plt.xticks(fontsize=20,weight='bold',rotation=90)\n",
        "  plt.yticks(fontsize=20,weight='bold',rotation=90)\n",
        "  plt.ylabel('Frequency',fontsize=25,weight='bold')\n",
        "  plt.tight_layout()\n",
        "  #plt.savefig(topcount+'.jpg')'''"
      ]
    },
    {
      "source": [
        "#### distribution heatmap "
      ],
      "cell_type": "markdown",
      "metadata": {}
    },
    {
      "cell_type": "code",
      "metadata": {
        "id": "pnQq5FUU0g3m"
      },
      "source": [
        "selected_country=['United States','United Kingdom','Australia','India','Nigeria','Kenya']\n",
        "SD_Coun_HM=pd.DataFrame({i:SDs[i] for i in selected_country})\n",
        "rowname,colname=SD_Coun_HM.columns,SD_Coun_HM.index\n",
        "#prepare label\n",
        "HM_label=SD_Coun_HM.div(SD_Coun_HM.sum(axis=0),axis=1).T.values\n",
        "#prepare data\n",
        "SD_Coun_HM=pd.DataFrame(preprocessing.MinMaxScaler().fit_transform(SD_Coun_HM).T)\n",
        "SD_Coun_HM.index,SD_Coun_HM.columns=rowname,colname\n",
        "#plt\n",
        "plt.figure(figsize=(20,4))\n",
        "axhm = plt.gca()\n",
        "axhm.xaxis.set_ticks_position('top')\n",
        "cmp=sns.color_palette(\"Blues\", as_cmap=True)\n",
        "sns.heatmap(SD_Coun_HM,cmap=cmp,vmax=1.2,linewidths=1,annot=HM_label,fmt='.1%',cbar=False,annot_kws={\"fontsize\":13})\n",
        "plt.xticks(fontsize=15)\n",
        "plt.yticks(fontsize=15)\n",
        "#plt.savefig('HeatMap Country.jpg',dpi=300)\n",
        "plt.show()"
      ],
      "execution_count": null,
      "outputs": []
    },
    {
      "source": [
        "#### SDG change over time"
      ],
      "cell_type": "markdown",
      "metadata": {}
    },
    {
      "cell_type": "code",
      "execution_count": null,
      "metadata": {},
      "outputs": [],
      "source": [
        "def SDGovertime(T):\n",
        "    for ii in range(4):\n",
        "        l=[]\n",
        "        plt.figure(figsize=(18,5))\n",
        "        for i in range(ii*5,(ii+1)*5,1):\n",
        "            searchterm='SDG'+str(i+1)\n",
        "            Trend=pd.DataFrame()\n",
        "            Trend['created_at']=T[T['SDG'].apply(lambda x: searchterm in x)]['created_at'].sort_values()\n",
        "            Trend['count']=1\n",
        "            Trend['created_at']=pd.to_datetime(Trend['created_at'])\n",
        "            plt.plot(Trend.groupby(pd.Grouper(key=\"created_at\", freq=\"1w\")).sum())\n",
        "            plt.xticks(rotation=90)\n",
        "            l.append(searchterm)\n",
        "        plt.legend(l,loc=2)\n",
        "    plt.show()\n",
        "\n",
        "SDGovertime(T[T['CountryCode']=='United States'])"
      ]
    },
    {
      "source": [
        "#### Distribution of SDG"
      ],
      "cell_type": "markdown",
      "metadata": {}
    },
    {
      "cell_type": "code",
      "metadata": {
        "id": "FUvZ9XuC6jXl"
      },
      "source": [
        "def multi_dict_max(dict):\n",
        "    max_value=max(dict.values())\n",
        "    return [i for i in dict.keys() if dict[i]==max_value]\n",
        "def multi_dict_min(dict):\n",
        "    min_value=min(dict.values())\n",
        "    return [i for i in dict.keys() if dict[i]==min_value]"
      ],
      "execution_count": null,
      "outputs": []
    },
    {
      "cell_type": "code",
      "metadata": {
        "id": "m5dqzHNYayLK"
      },
      "source": [
        "#Color of each SDG\n",
        "Colors=['#e4253c','#dea73a','#4c9f45','#c5202e','#f0412b','#29bee2','#fac315','#a21c44','#f26a2c','#dd1768','#f99d27','#be8b2c','#417f45','#1c97d3','#5dbb47','#06699e','#18486b']\n",
        "SDGcolor={'SDG'+str(i+1):Colors[i] for i in range(17)}\n",
        "\n",
        "#statistic of some selected countries\n",
        "#statistic of some selected countries\n",
        "EsC_count={}\n",
        "for i in SDs.keys():\n",
        "    if i==i and i not in [\"['SDG14']\",\"[]\"]:\n",
        "        try:\n",
        "            EsC_count[i]={'sum':0,'top':0,'percentage':0}\n",
        "            EsC_count[i]['sum']=sum(SDs[i].values())\n",
        "            if EsC_count[i]['sum']!=0:\n",
        "                EsC_count[i]['percentage']=round(max(SDs[i].values())/sum(SDs[i].values())*100,1)\n",
        "            else:\n",
        "                EsC_count[i]['percentage']=0\n",
        "            EsC_count[i]['top']=multi_dict_max(SDs[i])\n",
        "            EsC_count[i]['bottom']=multi_dict_min(SDs[i])\n",
        "            #EsC_count[i]['geo']=[geodict[i]['lat'],geodict[i]['lng']]\n",
        "        except:\n",
        "            raise\n",
        "#select some countries\n",
        "ggdataEsC=geodata\n",
        "select=[]\n",
        "for i in range(len(ggdataEsC['features'])):\n",
        "    if ggdataEsC['features'][i]['properties']['ADMIN'] in EsC_count.keys():\n",
        "        select.append(i)\n",
        "ggdataEsC['features']=[ggdataEsC['features'][i] for i in select]"
      ],
      "execution_count": null,
      "outputs": []
    },
    {
      "cell_type": "code",
      "metadata": {
        "id": "ajCh_ZlPz0tT"
      },
      "source": [
        "#plot the graph least popular sdg\n",
        "def stfunc(features):\n",
        "    sort_features={i:Tdict[i] for i in EsC_count[features['properties']['ADMIN']]['bottom']}\n",
        "    sort_features=sorted(sort_features.items(),key=lambda x: x[1])\n",
        "    return {'fillOpacity': 0.9,'weight': 0,'fillColor':SDGcolor[sort_features[0][0]]}\n",
        "def gengeo(coun):\n",
        "    f={'features':[ggdataEsC['features'][i]] for i in range(len(ggdataEsC['features'])) if ggdataEsC['features'][i]['properties']['ADMIN']==coun}\n",
        "    f['type']='FeatureCollection'\n",
        "    return f\n",
        "\n",
        "o = folium.Map(location=[50, 10], zoom_start=2.2,tiles='OpenStreetMap')\n",
        "folium.GeoJson(ggdataEsC,name='United States',style_function=stfunc).add_to(o)\n",
        "o"
      ],
      "execution_count": null,
      "outputs": []
    },
    {
      "cell_type": "code",
      "metadata": {
        "id": "VLIdB1U8a1-H"
      },
      "source": [
        "#plot the graph most popular\n",
        "def stfunc(features):\n",
        "    sort_features={i:Tdict[i] for i in EsC_count[features['properties']['ADMIN']]['top']}\n",
        "    sort_features=sorted(sort_features.items(),key=lambda x: x[1],reverse=True)\n",
        "    return {'fillOpacity': 0.9,'weight': 0,'fillColor':SDGcolor[sort_features[0][0]]}\n",
        "def gengeo(coun):\n",
        "    f={'features':[ggdataEsC['features'][i]] for i in range(len(ggdataEsC['features'])) if ggdataEsC['features'][i]['properties']['ADMIN']==coun}\n",
        "    f['type']='FeatureCollection'\n",
        "    return f\n",
        "\n",
        "n = folium.Map(location=[50, 10], zoom_start=2.2,tiles='OpenStreetMap')\n",
        "folium.GeoJson(ggdataEsC,name='United States',style_function=stfunc).add_to(n)\n",
        "n"
      ],
      "execution_count": null,
      "outputs": []
    },
    {
      "cell_type": "markdown",
      "metadata": {
        "id": "r_2xKYE1jNdZ"
      },
      "source": [
        "#### vote the top then select, developing and developed countries"
      ]
    },
    {
      "cell_type": "code",
      "metadata": {
        "id": "eKMDOs3dcgd4"
      },
      "source": [
        "#### Developing and Developed Country Compare (vote the top then select)\n",
        "#define developed country and developing country\n",
        "developed_country='Canada,United States,Australia,Japan,New Zealand,Austria,Belgium,Denmark,Finland,France,Germany,Greece,Ireland,Italy,Luxembourg,Netherlands,Portugal,Spain,Sweden,United Kingdom,Bulgaria,Croatia,Cyprus,Czechia,Estonia,Hungary,Latvia,Lithuania,Malta,Poland,Romania,Slovakia,Slovenia,Iceland,Norway,Switzerland'.split(',')\n",
        "transition='Albania,Bosnia and Herzegovina,Montenegro,North Macedonia,Serbia,Armenia,Azerbaijan,Belarus,Georgia,Kazakhstan,Kyrgyzstan,Moldova,Russia,Tajikistan,Turkmenistan,Ukraine,Uzbekistan'.split(',')\n",
        "developing_country='Algeria,Egypt,Libya,Mauritania,Morocco,Sudan,Tunisia,Cameroon,Central African Republic,Chad,Republic of the Congo,Equatorial Guinea,Gabon,São Tomé and Príncipe,Burundi,Comoros,Democratic Republic of the Congo,Djibouti,Eritrea,Ethiopia,Kenya,Madagascar,Rwanda,Somalia,South Sudan,Uganda,Tanzania,Angola,Botswana,Eswatini,Lesotho,Malawi,Mauritius,Mozambique,Namibia,South Africa,Zambia,Zimbabwe,Benin,Burkina Faso,Cape Verde,Côte d\\'Ivoire,The Gambia,Ghana,Guinea,Guinea-Bissau,Liberia,Mali,Niger,Nigeria,Senegal,Sierra Leone,Togo,Brunei,Cambodia,China,North Korea,Fiji,Hong Kong,Indonesia,Kiribati,Laos,Malaysia,Mongolia,Myanmar (Burma),Papua New Guinea,Philippines,South Korea,Samoa,Singapore,Solomon Islands,Taiwan,Thailand,Timor-Leste,Vanuatu,Vietnam,Afghanistan,Bangladesh,Bhutan,India,Iran,Maldives,Nepal,Pakistan,Sri Lanka,Bahrain,Iraq,Israel,Jordan,Kuwait,Lebanon,Oman,Qatar,Saudi Arabia,Palestine,Syria,Turkey,United Arab Emirates,Yemen,The Bahamas,Barbados,Belize,Guyana,Jamaica,Suriname,Trinidad and Tobago,Costa Rica,Cuba,Dominican Republic,El Salvador,Guatemala,Haiti,Honduras,Mexico,Nicaragua,Panama,Argentina,Bolivia,Brazil,Chile,Colombia,Ecuador,Paraguay,Peru,Uruguay,Venezuela'.split(',')\n",
        "\n"
      ],
      "execution_count": null,
      "outputs": []
    },
    {
      "cell_type": "code",
      "metadata": {
        "id": "xAj1Q8CEj1Qt"
      },
      "source": [
        "def talkmost(country,T):\n",
        "  for i in list(set(country)-set(SDs.keys())):\n",
        "    country.remove(i)\n",
        "  country_SDs={i:SDs[i]for i in country}\n",
        "  country_TopSDG=[]\n",
        "  for i in country_SDs:\n",
        "    try:\n",
        "      if sum(country_SDs[i].values())>20 & max(country_SDs[i].values())>1:#make sure more than 1 tweets in the max column\n",
        "        MAXtop=max(country_SDs[i].values())\n",
        "        country_TopSDG.extend([ii for ii in country_SDs[i] if country_SDs[i][ii]==MAXtop])    \n",
        "    except:\n",
        "      pass\n",
        "  country_TopSDG={k:v for k,v in sorted(Counter(country_TopSDG).items(),key=lambda x:x[1],reverse=True)}\n",
        "  plt.bar(country_TopSDG.keys(),country_TopSDG.values())\n",
        "  plt.title(T)\n",
        "  print(list(country_TopSDG.keys()))\n",
        "  plt.show()\n",
        "\n",
        "def talkleast(country,T):\n",
        "  for i in list(set(country)-set(SDs.keys())):\n",
        "    country.remove(i)\n",
        "  country_SDs={i:SDs[i]for i in country}\n",
        "  country_TopSDG=[]\n",
        "  for i in country_SDs:\n",
        "    try:\n",
        "      if sum(country_SDs[i].values())>20:#make sure more than 1 tweets in the max column\n",
        "        MINtop=min(country_SDs[i].values())\n",
        "        country_TopSDG.extend([ii for ii in country_SDs[i] if country_SDs[i][ii]==MINtop])\n",
        "        #print(MINtop)\n",
        "    except:\n",
        "      pass\n",
        "  country_TopSDG={k:v for k,v in sorted(Counter(country_TopSDG).items(),key=lambda x:x[1],reverse=True)}\n",
        "  plt.bar(country_TopSDG.keys(),country_TopSDG.values())\n",
        "  plt.title(T)\n",
        "  print(list(country_TopSDG.keys()))\n",
        "  plt.show()"
      ],
      "execution_count": null,
      "outputs": []
    },
    {
      "cell_type": "code",
      "metadata": {
        "id": "R145PSnG6jXn"
      },
      "source": [
        "plt.figure(figsize=(15,5))\n",
        "talkmost(developed_country,'Developed talk Most')\n",
        "plt.figure(figsize=(15,5))\n",
        "talkleast(developed_country,'Developed talk Least')\n",
        "plt.figure(figsize=(15,5))\n",
        "talkmost(developing_country,'developing talk Most')\n",
        "plt.figure(figsize=(15,5))\n",
        "talkleast(developing_country,'developing talk Least')\n",
        "plt.figure(figsize=(15,5))\n",
        "talkmost(transition,'Transition talk Most')\n",
        "plt.figure(figsize=(15,5))\n",
        "talkleast(transition,'Transition talk Least')"
      ],
      "execution_count": null,
      "outputs": []
    },
    {
      "cell_type": "markdown",
      "metadata": {
        "id": "zrjJltzq_GB_"
      },
      "source": [
        "#### Based on Frequency"
      ]
    },
    {
      "cell_type": "code",
      "metadata": {
        "id": "ewv63om3AFaQ"
      },
      "source": [
        "def toptalkfreq(countrylist,T):\n",
        "  SD_Co=pd.DataFrame({i:SDs[i] for i in countrylist})\n",
        "  SD_Co.sum(axis=1).sort_values(ascending=False).plot(kind='bar')\n",
        "  l=list(SD_Co.sum(axis=1).sort_values(ascending=False).index)\n",
        "  #l = [i.strip('\\'\\'') for i in l]\n",
        "  print(l)\n",
        "\n",
        "  plt.title(T)\n",
        "  plt.show()"
      ],
      "execution_count": null,
      "outputs": []
    },
    {
      "cell_type": "code",
      "metadata": {
        "id": "3nzbc50w6jXn"
      },
      "source": [
        "plt.figure(figsize=(10,5))\n",
        "toptalkfreq(developed_country,'Developed Countries')\n",
        "plt.figure(figsize=(10,5))\n",
        "toptalkfreq(developing_country,'Developing Countries')"
      ],
      "execution_count": null,
      "outputs": []
    },
    {
      "cell_type": "markdown",
      "metadata": {
        "id": "KGGwEh7xcIsw"
      },
      "source": [
        "## LIWC analysis"
      ]
    },
    {
      "cell_type": "code",
      "execution_count": null,
      "metadata": {},
      "outputs": [],
      "source": [
        "import scipy.stats as stats\n",
        "from itertools import combinations"
      ]
    },
    {
      "cell_type": "code",
      "execution_count": null,
      "metadata": {},
      "outputs": [],
      "source": [
        "# LIWC columns\n",
        "AffectWords=['posemo', 'negemo', 'anx', 'anger', 'sad']\n",
        "CognetiveProcess=['insight', 'cause', 'discrep', 'tentat', 'certain', 'differ']\n",
        "PerpetualProcesses=['see', 'hear', 'feel']\n",
        "BiologicalProcesses=['bio', 'body', 'health', 'sexual', 'ingest']\n",
        "CoreDrivesandNeeds=['affiliation', 'achieve', 'power', 'reward', 'risk']\n",
        "TimeOrientation=['focuspast', 'focuspresent', 'focusfuture']\n",
        "Relativity=['motion', 'space', 'time']\n",
        "PersonalConcerns=['work', 'leisure', 'home', 'money', 'relig', 'death']\n",
        "InformalSpeech=['informal','swear','netspeak','assent','nonflu','filler']\n",
        "Customized=['neg','pos','compound']"
      ]
    },
    {
      "cell_type": "code",
      "metadata": {
        "id": "TMTRrikItZaj"
      },
      "source": [
        "T_COUN=T[T['CountryCode'].isin(selected_country)]"
      ],
      "execution_count": null,
      "outputs": []
    },
    {
      "cell_type": "code",
      "execution_count": null,
      "metadata": {},
      "outputs": [],
      "source": [
        "#all of the data is not normally distributed\n",
        "for i in AffectWords:\n",
        "    for coun in ['India','Kenya','Nigeria','Australia','United States','United Kingdom']:\n",
        "        #print('shapiro',coun,stats.shapiro(T_COUN[T_COUN['CountryCode']==coun][i]))\n",
        "        pass\n",
        "\n",
        "#create a stats table\n",
        "OneFrame=[]\n",
        "for LIWCcol in ['AffectWords','CognetiveProcess','PerpetualProcesses','BiologicalProcesses','CoreDrivesandNeeds','TimeOrientation','Relativity','PersonalConcerns','InformalSpeech','Customized']:\n",
        "    for i in eval(LIWCcol):\n",
        "        CounCom=combinations(['India','Kenya','Nigeria','Australia','United States','United Kingdom'],2)\n",
        "        for couns in CounCom:\n",
        "            st=stats.ranksums(T_COUN[T_COUN['CountryCode']==couns[0]][i],T_COUN[T_COUN['CountryCode']==couns[1]][i])\n",
        "            OneRow=[LIWCcol,i,couns[0],couns[1],st[0],st[1]]\n",
        "            OneFrame.append(OneRow)\n",
        "            #print(i,':',couns,stats.ranksums(T_COUN[T_COUN['CountryCode']==couns[0]][i],T_COUN[T_COUN['CountryCode']==couns[1]][i])[1])\n",
        "stats_table=pd.DataFrame(OneFrame,columns=['keyword1','keyword2','coun1','coun2','test_stats','p-value'])"
      ]
    },
    {
      "cell_type": "code",
      "execution_count": null,
      "metadata": {},
      "outputs": [],
      "source": [
        "stats_table"
      ]
    },
    {
      "cell_type": "code",
      "execution_count": null,
      "metadata": {},
      "outputs": [],
      "source": [
        "stats_table1=stats_table[stats_table['p-value']<0.05].sort_values('p-value')\n",
        "stats_table1['coun']=[frozenset([stats_table1.loc[i,'coun1'],stats_table1.loc[i,'coun2']]) for i in stats_table1.index]\n",
        "\n",
        "stats_table2=stats_table1.groupby('coun').agg({'keyword1':','.join,'keyword2':','.join})\n",
        "stats_table2['kw1list']=stats_table2['keyword1'].apply(lambda x: set(x.split(',')))\n",
        "stats_table2['kw2list']=stats_table2['keyword2'].apply(lambda x: set(x.split(',')))\n",
        "\n",
        "stats_table2['kw1len']=stats_table2['kw1list'].apply(lambda x:len(x))\n",
        "stats_table2['kw2len']=stats_table2['kw2list'].apply(lambda x:len(x))"
      ]
    },
    {
      "cell_type": "code",
      "execution_count": null,
      "metadata": {},
      "outputs": [],
      "source": [
        "stats_table1"
      ]
    },
    {
      "cell_type": "code",
      "execution_count": 54,
      "metadata": {},
      "outputs": [
        {
          "output_type": "display_data",
          "data": {
            "text/plain": "                posemo  negemo   anx  anger   sad     id\nCountryCode                                             \nAustralia         5.26    3.33  2.44   2.70  2.63   3287\nIndia             5.88    3.45  2.56   2.70  2.86  14248\nKenya             5.13    2.86  2.70   2.63  2.56   1713\nNigeria           5.26    2.86  2.70   2.94  2.70   5754\nUnited Kingdom    6.00    3.33  2.44   2.44  2.50  14836\nUnited States     6.67    3.28  2.78   2.94  2.50  46398",
            "text/html": "<div>\n<style scoped>\n    .dataframe tbody tr th:only-of-type {\n        vertical-align: middle;\n    }\n\n    .dataframe tbody tr th {\n        vertical-align: top;\n    }\n\n    .dataframe thead th {\n        text-align: right;\n    }\n</style>\n<table border=\"1\" class=\"dataframe\">\n  <thead>\n    <tr style=\"text-align: right;\">\n      <th></th>\n      <th>posemo</th>\n      <th>negemo</th>\n      <th>anx</th>\n      <th>anger</th>\n      <th>sad</th>\n      <th>id</th>\n    </tr>\n    <tr>\n      <th>CountryCode</th>\n      <th></th>\n      <th></th>\n      <th></th>\n      <th></th>\n      <th></th>\n      <th></th>\n    </tr>\n  </thead>\n  <tbody>\n    <tr>\n      <th>Australia</th>\n      <td>5.26</td>\n      <td>3.33</td>\n      <td>2.44</td>\n      <td>2.70</td>\n      <td>2.63</td>\n      <td>3287</td>\n    </tr>\n    <tr>\n      <th>India</th>\n      <td>5.88</td>\n      <td>3.45</td>\n      <td>2.56</td>\n      <td>2.70</td>\n      <td>2.86</td>\n      <td>14248</td>\n    </tr>\n    <tr>\n      <th>Kenya</th>\n      <td>5.13</td>\n      <td>2.86</td>\n      <td>2.70</td>\n      <td>2.63</td>\n      <td>2.56</td>\n      <td>1713</td>\n    </tr>\n    <tr>\n      <th>Nigeria</th>\n      <td>5.26</td>\n      <td>2.86</td>\n      <td>2.70</td>\n      <td>2.94</td>\n      <td>2.70</td>\n      <td>5754</td>\n    </tr>\n    <tr>\n      <th>United Kingdom</th>\n      <td>6.00</td>\n      <td>3.33</td>\n      <td>2.44</td>\n      <td>2.44</td>\n      <td>2.50</td>\n      <td>14836</td>\n    </tr>\n    <tr>\n      <th>United States</th>\n      <td>6.67</td>\n      <td>3.28</td>\n      <td>2.78</td>\n      <td>2.94</td>\n      <td>2.50</td>\n      <td>46398</td>\n    </tr>\n  </tbody>\n</table>\n</div>"
          },
          "metadata": {}
        },
        {
          "output_type": "display_data",
          "data": {
            "text/plain": "                insight  cause  discrep  tentat  certain  differ     id\nCountryCode                                                            \nAustralia          3.03   3.17     3.12    2.94     2.74    3.12   3287\nIndia              3.70   3.45     2.86    3.23     3.03    3.03  14248\nKenya              3.03   3.23     2.70    2.78     2.86    3.23   1713\nNigeria            3.45   3.12     2.78    3.03     2.94    3.03   5754\nUnited Kingdom     3.33   3.23     2.86    2.94     2.78    2.94  14836\nUnited States      3.57   3.33     3.12    3.39     3.03    3.33  46398",
            "text/html": "<div>\n<style scoped>\n    .dataframe tbody tr th:only-of-type {\n        vertical-align: middle;\n    }\n\n    .dataframe tbody tr th {\n        vertical-align: top;\n    }\n\n    .dataframe thead th {\n        text-align: right;\n    }\n</style>\n<table border=\"1\" class=\"dataframe\">\n  <thead>\n    <tr style=\"text-align: right;\">\n      <th></th>\n      <th>insight</th>\n      <th>cause</th>\n      <th>discrep</th>\n      <th>tentat</th>\n      <th>certain</th>\n      <th>differ</th>\n      <th>id</th>\n    </tr>\n    <tr>\n      <th>CountryCode</th>\n      <th></th>\n      <th></th>\n      <th></th>\n      <th></th>\n      <th></th>\n      <th></th>\n      <th></th>\n    </tr>\n  </thead>\n  <tbody>\n    <tr>\n      <th>Australia</th>\n      <td>3.03</td>\n      <td>3.17</td>\n      <td>3.12</td>\n      <td>2.94</td>\n      <td>2.74</td>\n      <td>3.12</td>\n      <td>3287</td>\n    </tr>\n    <tr>\n      <th>India</th>\n      <td>3.70</td>\n      <td>3.45</td>\n      <td>2.86</td>\n      <td>3.23</td>\n      <td>3.03</td>\n      <td>3.03</td>\n      <td>14248</td>\n    </tr>\n    <tr>\n      <th>Kenya</th>\n      <td>3.03</td>\n      <td>3.23</td>\n      <td>2.70</td>\n      <td>2.78</td>\n      <td>2.86</td>\n      <td>3.23</td>\n      <td>1713</td>\n    </tr>\n    <tr>\n      <th>Nigeria</th>\n      <td>3.45</td>\n      <td>3.12</td>\n      <td>2.78</td>\n      <td>3.03</td>\n      <td>2.94</td>\n      <td>3.03</td>\n      <td>5754</td>\n    </tr>\n    <tr>\n      <th>United Kingdom</th>\n      <td>3.33</td>\n      <td>3.23</td>\n      <td>2.86</td>\n      <td>2.94</td>\n      <td>2.78</td>\n      <td>2.94</td>\n      <td>14836</td>\n    </tr>\n    <tr>\n      <th>United States</th>\n      <td>3.57</td>\n      <td>3.33</td>\n      <td>3.12</td>\n      <td>3.39</td>\n      <td>3.03</td>\n      <td>3.33</td>\n      <td>46398</td>\n    </tr>\n  </tbody>\n</table>\n</div>"
          },
          "metadata": {}
        },
        {
          "output_type": "display_data",
          "data": {
            "text/plain": "                 see  hear  feel     id\nCountryCode                            \nAustralia       3.03  2.70  2.50   3287\nIndia           3.33  2.70  2.99  14248\nKenya           2.78  2.63  2.56   1713\nNigeria         3.03  2.94  2.56   5754\nUnited Kingdom  3.03  2.78  2.70  14836\nUnited States   3.57  3.12  3.12  46398",
            "text/html": "<div>\n<style scoped>\n    .dataframe tbody tr th:only-of-type {\n        vertical-align: middle;\n    }\n\n    .dataframe tbody tr th {\n        vertical-align: top;\n    }\n\n    .dataframe thead th {\n        text-align: right;\n    }\n</style>\n<table border=\"1\" class=\"dataframe\">\n  <thead>\n    <tr style=\"text-align: right;\">\n      <th></th>\n      <th>see</th>\n      <th>hear</th>\n      <th>feel</th>\n      <th>id</th>\n    </tr>\n    <tr>\n      <th>CountryCode</th>\n      <th></th>\n      <th></th>\n      <th></th>\n      <th></th>\n    </tr>\n  </thead>\n  <tbody>\n    <tr>\n      <th>Australia</th>\n      <td>3.03</td>\n      <td>2.70</td>\n      <td>2.50</td>\n      <td>3287</td>\n    </tr>\n    <tr>\n      <th>India</th>\n      <td>3.33</td>\n      <td>2.70</td>\n      <td>2.99</td>\n      <td>14248</td>\n    </tr>\n    <tr>\n      <th>Kenya</th>\n      <td>2.78</td>\n      <td>2.63</td>\n      <td>2.56</td>\n      <td>1713</td>\n    </tr>\n    <tr>\n      <th>Nigeria</th>\n      <td>3.03</td>\n      <td>2.94</td>\n      <td>2.56</td>\n      <td>5754</td>\n    </tr>\n    <tr>\n      <th>United Kingdom</th>\n      <td>3.03</td>\n      <td>2.78</td>\n      <td>2.70</td>\n      <td>14836</td>\n    </tr>\n    <tr>\n      <th>United States</th>\n      <td>3.57</td>\n      <td>3.12</td>\n      <td>3.12</td>\n      <td>46398</td>\n    </tr>\n  </tbody>\n</table>\n</div>"
          },
          "metadata": {}
        },
        {
          "output_type": "display_data",
          "data": {
            "text/plain": "                 bio  body  health  sexual  ingest     id\nCountryCode                                              \nAustralia       3.57  2.56    2.94    3.17    3.45   3287\nIndia           4.00  3.03    3.33    2.94    4.04  14248\nKenya           4.17  2.63    3.33    2.63    3.57   1713\nNigeria         5.56  2.63    2.86    2.94    6.25   5754\nUnited Kingdom  4.00  2.78    3.33    2.78    4.00  14836\nUnited States   4.76  3.03    3.85    3.23    4.38  46398",
            "text/html": "<div>\n<style scoped>\n    .dataframe tbody tr th:only-of-type {\n        vertical-align: middle;\n    }\n\n    .dataframe tbody tr th {\n        vertical-align: top;\n    }\n\n    .dataframe thead th {\n        text-align: right;\n    }\n</style>\n<table border=\"1\" class=\"dataframe\">\n  <thead>\n    <tr style=\"text-align: right;\">\n      <th></th>\n      <th>bio</th>\n      <th>body</th>\n      <th>health</th>\n      <th>sexual</th>\n      <th>ingest</th>\n      <th>id</th>\n    </tr>\n    <tr>\n      <th>CountryCode</th>\n      <th></th>\n      <th></th>\n      <th></th>\n      <th></th>\n      <th></th>\n      <th></th>\n    </tr>\n  </thead>\n  <tbody>\n    <tr>\n      <th>Australia</th>\n      <td>3.57</td>\n      <td>2.56</td>\n      <td>2.94</td>\n      <td>3.17</td>\n      <td>3.45</td>\n      <td>3287</td>\n    </tr>\n    <tr>\n      <th>India</th>\n      <td>4.00</td>\n      <td>3.03</td>\n      <td>3.33</td>\n      <td>2.94</td>\n      <td>4.04</td>\n      <td>14248</td>\n    </tr>\n    <tr>\n      <th>Kenya</th>\n      <td>4.17</td>\n      <td>2.63</td>\n      <td>3.33</td>\n      <td>2.63</td>\n      <td>3.57</td>\n      <td>1713</td>\n    </tr>\n    <tr>\n      <th>Nigeria</th>\n      <td>5.56</td>\n      <td>2.63</td>\n      <td>2.86</td>\n      <td>2.94</td>\n      <td>6.25</td>\n      <td>5754</td>\n    </tr>\n    <tr>\n      <th>United Kingdom</th>\n      <td>4.00</td>\n      <td>2.78</td>\n      <td>3.33</td>\n      <td>2.78</td>\n      <td>4.00</td>\n      <td>14836</td>\n    </tr>\n    <tr>\n      <th>United States</th>\n      <td>4.76</td>\n      <td>3.03</td>\n      <td>3.85</td>\n      <td>3.23</td>\n      <td>4.38</td>\n      <td>46398</td>\n    </tr>\n  </tbody>\n</table>\n</div>"
          },
          "metadata": {}
        },
        {
          "output_type": "display_data",
          "data": {
            "text/plain": "                affiliation  achieve  power  reward  risk     id\nCountryCode                                                     \nAustralia              4.68     4.17   5.36    3.23  3.03   3287\nIndia                  4.88     4.35   5.62    3.57  3.03  14248\nKenya                  5.00     4.88   4.62    3.33  2.86   1713\nNigeria                5.13     4.69   5.26    3.45  2.86   5754\nUnited Kingdom         4.88     4.00   5.26    3.12  2.78  14836\nUnited States          5.00     4.17   5.88    3.45  3.03  46398",
            "text/html": "<div>\n<style scoped>\n    .dataframe tbody tr th:only-of-type {\n        vertical-align: middle;\n    }\n\n    .dataframe tbody tr th {\n        vertical-align: top;\n    }\n\n    .dataframe thead th {\n        text-align: right;\n    }\n</style>\n<table border=\"1\" class=\"dataframe\">\n  <thead>\n    <tr style=\"text-align: right;\">\n      <th></th>\n      <th>affiliation</th>\n      <th>achieve</th>\n      <th>power</th>\n      <th>reward</th>\n      <th>risk</th>\n      <th>id</th>\n    </tr>\n    <tr>\n      <th>CountryCode</th>\n      <th></th>\n      <th></th>\n      <th></th>\n      <th></th>\n      <th></th>\n      <th></th>\n    </tr>\n  </thead>\n  <tbody>\n    <tr>\n      <th>Australia</th>\n      <td>4.68</td>\n      <td>4.17</td>\n      <td>5.36</td>\n      <td>3.23</td>\n      <td>3.03</td>\n      <td>3287</td>\n    </tr>\n    <tr>\n      <th>India</th>\n      <td>4.88</td>\n      <td>4.35</td>\n      <td>5.62</td>\n      <td>3.57</td>\n      <td>3.03</td>\n      <td>14248</td>\n    </tr>\n    <tr>\n      <th>Kenya</th>\n      <td>5.00</td>\n      <td>4.88</td>\n      <td>4.62</td>\n      <td>3.33</td>\n      <td>2.86</td>\n      <td>1713</td>\n    </tr>\n    <tr>\n      <th>Nigeria</th>\n      <td>5.13</td>\n      <td>4.69</td>\n      <td>5.26</td>\n      <td>3.45</td>\n      <td>2.86</td>\n      <td>5754</td>\n    </tr>\n    <tr>\n      <th>United Kingdom</th>\n      <td>4.88</td>\n      <td>4.00</td>\n      <td>5.26</td>\n      <td>3.12</td>\n      <td>2.78</td>\n      <td>14836</td>\n    </tr>\n    <tr>\n      <th>United States</th>\n      <td>5.00</td>\n      <td>4.17</td>\n      <td>5.88</td>\n      <td>3.45</td>\n      <td>3.03</td>\n      <td>46398</td>\n    </tr>\n  </tbody>\n</table>\n</div>"
          },
          "metadata": {}
        },
        {
          "output_type": "display_data",
          "data": {
            "text/plain": "                focuspast  focuspresent  focusfuture     id\nCountryCode                                                \nAustralia            3.12          7.69         3.12   3287\nIndia                3.23          7.14         3.03  14248\nKenya                2.94          7.69         2.86   1713\nNigeria              3.12          7.69         3.03   5754\nUnited Kingdom       3.23          7.89         2.94  14836\nUnited States        3.23          7.84         3.12  46398",
            "text/html": "<div>\n<style scoped>\n    .dataframe tbody tr th:only-of-type {\n        vertical-align: middle;\n    }\n\n    .dataframe tbody tr th {\n        vertical-align: top;\n    }\n\n    .dataframe thead th {\n        text-align: right;\n    }\n</style>\n<table border=\"1\" class=\"dataframe\">\n  <thead>\n    <tr style=\"text-align: right;\">\n      <th></th>\n      <th>focuspast</th>\n      <th>focuspresent</th>\n      <th>focusfuture</th>\n      <th>id</th>\n    </tr>\n    <tr>\n      <th>CountryCode</th>\n      <th></th>\n      <th></th>\n      <th></th>\n      <th></th>\n    </tr>\n  </thead>\n  <tbody>\n    <tr>\n      <th>Australia</th>\n      <td>3.12</td>\n      <td>7.69</td>\n      <td>3.12</td>\n      <td>3287</td>\n    </tr>\n    <tr>\n      <th>India</th>\n      <td>3.23</td>\n      <td>7.14</td>\n      <td>3.03</td>\n      <td>14248</td>\n    </tr>\n    <tr>\n      <th>Kenya</th>\n      <td>2.94</td>\n      <td>7.69</td>\n      <td>2.86</td>\n      <td>1713</td>\n    </tr>\n    <tr>\n      <th>Nigeria</th>\n      <td>3.12</td>\n      <td>7.69</td>\n      <td>3.03</td>\n      <td>5754</td>\n    </tr>\n    <tr>\n      <th>United Kingdom</th>\n      <td>3.23</td>\n      <td>7.89</td>\n      <td>2.94</td>\n      <td>14836</td>\n    </tr>\n    <tr>\n      <th>United States</th>\n      <td>3.23</td>\n      <td>7.84</td>\n      <td>3.12</td>\n      <td>46398</td>\n    </tr>\n  </tbody>\n</table>\n</div>"
          },
          "metadata": {}
        },
        {
          "output_type": "display_data",
          "data": {
            "text/plain": "                motion  space  time     id\nCountryCode                               \nAustralia         3.23   6.67  5.41   3287\nIndia             3.39   6.98  5.26  14248\nKenya             3.12   7.50  4.88   1713\nNigeria           3.12   6.33  5.00   5754\nUnited Kingdom    3.33   7.14  5.71  14836\nUnited States     3.70   7.14  5.88  46398",
            "text/html": "<div>\n<style scoped>\n    .dataframe tbody tr th:only-of-type {\n        vertical-align: middle;\n    }\n\n    .dataframe tbody tr th {\n        vertical-align: top;\n    }\n\n    .dataframe thead th {\n        text-align: right;\n    }\n</style>\n<table border=\"1\" class=\"dataframe\">\n  <thead>\n    <tr style=\"text-align: right;\">\n      <th></th>\n      <th>motion</th>\n      <th>space</th>\n      <th>time</th>\n      <th>id</th>\n    </tr>\n    <tr>\n      <th>CountryCode</th>\n      <th></th>\n      <th></th>\n      <th></th>\n      <th></th>\n    </tr>\n  </thead>\n  <tbody>\n    <tr>\n      <th>Australia</th>\n      <td>3.23</td>\n      <td>6.67</td>\n      <td>5.41</td>\n      <td>3287</td>\n    </tr>\n    <tr>\n      <th>India</th>\n      <td>3.39</td>\n      <td>6.98</td>\n      <td>5.26</td>\n      <td>14248</td>\n    </tr>\n    <tr>\n      <th>Kenya</th>\n      <td>3.12</td>\n      <td>7.50</td>\n      <td>4.88</td>\n      <td>1713</td>\n    </tr>\n    <tr>\n      <th>Nigeria</th>\n      <td>3.12</td>\n      <td>6.33</td>\n      <td>5.00</td>\n      <td>5754</td>\n    </tr>\n    <tr>\n      <th>United Kingdom</th>\n      <td>3.33</td>\n      <td>7.14</td>\n      <td>5.71</td>\n      <td>14836</td>\n    </tr>\n    <tr>\n      <th>United States</th>\n      <td>3.70</td>\n      <td>7.14</td>\n      <td>5.88</td>\n      <td>46398</td>\n    </tr>\n  </tbody>\n</table>\n</div>"
          },
          "metadata": {}
        },
        {
          "output_type": "display_data",
          "data": {
            "text/plain": "                 work  leisure  home  money  relig  death     id\nCountryCode                                                     \nAustralia       6.760     3.33  2.78   3.70   2.86  2.500   3287\nIndia           7.890     3.57  2.86   3.57   3.33  2.685  14248\nKenya           6.745     2.94  2.86   3.39   2.74  2.700   1713\nNigeria         7.500     3.57  3.03   3.85   5.41  2.860   5754\nUnited Kingdom  7.690     3.51  3.12   3.81   3.45  2.500  14836\nUnited States   7.890     4.35  3.12   3.85   5.00  2.500  46398",
            "text/html": "<div>\n<style scoped>\n    .dataframe tbody tr th:only-of-type {\n        vertical-align: middle;\n    }\n\n    .dataframe tbody tr th {\n        vertical-align: top;\n    }\n\n    .dataframe thead th {\n        text-align: right;\n    }\n</style>\n<table border=\"1\" class=\"dataframe\">\n  <thead>\n    <tr style=\"text-align: right;\">\n      <th></th>\n      <th>work</th>\n      <th>leisure</th>\n      <th>home</th>\n      <th>money</th>\n      <th>relig</th>\n      <th>death</th>\n      <th>id</th>\n    </tr>\n    <tr>\n      <th>CountryCode</th>\n      <th></th>\n      <th></th>\n      <th></th>\n      <th></th>\n      <th></th>\n      <th></th>\n      <th></th>\n    </tr>\n  </thead>\n  <tbody>\n    <tr>\n      <th>Australia</th>\n      <td>6.760</td>\n      <td>3.33</td>\n      <td>2.78</td>\n      <td>3.70</td>\n      <td>2.86</td>\n      <td>2.500</td>\n      <td>3287</td>\n    </tr>\n    <tr>\n      <th>India</th>\n      <td>7.890</td>\n      <td>3.57</td>\n      <td>2.86</td>\n      <td>3.57</td>\n      <td>3.33</td>\n      <td>2.685</td>\n      <td>14248</td>\n    </tr>\n    <tr>\n      <th>Kenya</th>\n      <td>6.745</td>\n      <td>2.94</td>\n      <td>2.86</td>\n      <td>3.39</td>\n      <td>2.74</td>\n      <td>2.700</td>\n      <td>1713</td>\n    </tr>\n    <tr>\n      <th>Nigeria</th>\n      <td>7.500</td>\n      <td>3.57</td>\n      <td>3.03</td>\n      <td>3.85</td>\n      <td>5.41</td>\n      <td>2.860</td>\n      <td>5754</td>\n    </tr>\n    <tr>\n      <th>United Kingdom</th>\n      <td>7.690</td>\n      <td>3.51</td>\n      <td>3.12</td>\n      <td>3.81</td>\n      <td>3.45</td>\n      <td>2.500</td>\n      <td>14836</td>\n    </tr>\n    <tr>\n      <th>United States</th>\n      <td>7.890</td>\n      <td>4.35</td>\n      <td>3.12</td>\n      <td>3.85</td>\n      <td>5.00</td>\n      <td>2.500</td>\n      <td>46398</td>\n    </tr>\n  </tbody>\n</table>\n</div>"
          },
          "metadata": {}
        },
        {
          "output_type": "display_data",
          "data": {
            "text/plain": "                informal  swear  netspeak  assent  nonflu  filler     id\nCountryCode                                                             \nAustralia           2.86  2.440      2.86    2.56    2.44   5.560   3287\nIndia               3.12  2.440      3.23    2.90    2.44   2.500  14248\nKenya               2.94  2.230      2.86    2.78    2.33     NaN   1713\nNigeria             3.12  2.785      3.23    3.03    2.44   2.270   5754\nUnited Kingdom      2.63  3.030      2.70    2.56    2.44   2.445  14836\nUnited States       3.12  2.940      3.17    2.86    2.50   2.780  46398",
            "text/html": "<div>\n<style scoped>\n    .dataframe tbody tr th:only-of-type {\n        vertical-align: middle;\n    }\n\n    .dataframe tbody tr th {\n        vertical-align: top;\n    }\n\n    .dataframe thead th {\n        text-align: right;\n    }\n</style>\n<table border=\"1\" class=\"dataframe\">\n  <thead>\n    <tr style=\"text-align: right;\">\n      <th></th>\n      <th>informal</th>\n      <th>swear</th>\n      <th>netspeak</th>\n      <th>assent</th>\n      <th>nonflu</th>\n      <th>filler</th>\n      <th>id</th>\n    </tr>\n    <tr>\n      <th>CountryCode</th>\n      <th></th>\n      <th></th>\n      <th></th>\n      <th></th>\n      <th></th>\n      <th></th>\n      <th></th>\n    </tr>\n  </thead>\n  <tbody>\n    <tr>\n      <th>Australia</th>\n      <td>2.86</td>\n      <td>2.440</td>\n      <td>2.86</td>\n      <td>2.56</td>\n      <td>2.44</td>\n      <td>5.560</td>\n      <td>3287</td>\n    </tr>\n    <tr>\n      <th>India</th>\n      <td>3.12</td>\n      <td>2.440</td>\n      <td>3.23</td>\n      <td>2.90</td>\n      <td>2.44</td>\n      <td>2.500</td>\n      <td>14248</td>\n    </tr>\n    <tr>\n      <th>Kenya</th>\n      <td>2.94</td>\n      <td>2.230</td>\n      <td>2.86</td>\n      <td>2.78</td>\n      <td>2.33</td>\n      <td>NaN</td>\n      <td>1713</td>\n    </tr>\n    <tr>\n      <th>Nigeria</th>\n      <td>3.12</td>\n      <td>2.785</td>\n      <td>3.23</td>\n      <td>3.03</td>\n      <td>2.44</td>\n      <td>2.270</td>\n      <td>5754</td>\n    </tr>\n    <tr>\n      <th>United Kingdom</th>\n      <td>2.63</td>\n      <td>3.030</td>\n      <td>2.70</td>\n      <td>2.56</td>\n      <td>2.44</td>\n      <td>2.445</td>\n      <td>14836</td>\n    </tr>\n    <tr>\n      <th>United States</th>\n      <td>3.12</td>\n      <td>2.940</td>\n      <td>3.17</td>\n      <td>2.86</td>\n      <td>2.50</td>\n      <td>2.780</td>\n      <td>46398</td>\n    </tr>\n  </tbody>\n</table>\n</div>"
          },
          "metadata": {}
        },
        {
          "output_type": "display_data",
          "data": {
            "text/plain": "                  neg     pos  compound     id\nCountryCode                                   \nAustralia       0.084  0.1290    0.5487   3287\nIndia           0.080  0.1490    0.6705  14248\nKenya           0.069  0.1365    0.6124   1713\nNigeria         0.061  0.1400    0.5859   5754\nUnited Kingdom  0.081  0.1490    0.6486  14836\nUnited States   0.087  0.1600    0.6486  46398",
            "text/html": "<div>\n<style scoped>\n    .dataframe tbody tr th:only-of-type {\n        vertical-align: middle;\n    }\n\n    .dataframe tbody tr th {\n        vertical-align: top;\n    }\n\n    .dataframe thead th {\n        text-align: right;\n    }\n</style>\n<table border=\"1\" class=\"dataframe\">\n  <thead>\n    <tr style=\"text-align: right;\">\n      <th></th>\n      <th>neg</th>\n      <th>pos</th>\n      <th>compound</th>\n      <th>id</th>\n    </tr>\n    <tr>\n      <th>CountryCode</th>\n      <th></th>\n      <th></th>\n      <th></th>\n      <th></th>\n    </tr>\n  </thead>\n  <tbody>\n    <tr>\n      <th>Australia</th>\n      <td>0.084</td>\n      <td>0.1290</td>\n      <td>0.5487</td>\n      <td>3287</td>\n    </tr>\n    <tr>\n      <th>India</th>\n      <td>0.080</td>\n      <td>0.1490</td>\n      <td>0.6705</td>\n      <td>14248</td>\n    </tr>\n    <tr>\n      <th>Kenya</th>\n      <td>0.069</td>\n      <td>0.1365</td>\n      <td>0.6124</td>\n      <td>1713</td>\n    </tr>\n    <tr>\n      <th>Nigeria</th>\n      <td>0.061</td>\n      <td>0.1400</td>\n      <td>0.5859</td>\n      <td>5754</td>\n    </tr>\n    <tr>\n      <th>United Kingdom</th>\n      <td>0.081</td>\n      <td>0.1490</td>\n      <td>0.6486</td>\n      <td>14836</td>\n    </tr>\n    <tr>\n      <th>United States</th>\n      <td>0.087</td>\n      <td>0.1600</td>\n      <td>0.6486</td>\n      <td>46398</td>\n    </tr>\n  </tbody>\n</table>\n</div>"
          },
          "metadata": {}
        }
      ],
      "source": [
        "for LIWCcol in ['AffectWords','CognetiveProcess','PerpetualProcesses','BiologicalProcesses','CoreDrivesandNeeds','TimeOrientation','Relativity','PersonalConcerns','InformalSpeech','Customized']:\n",
        "    colneeded=['CountryCode','id']\n",
        "    colneeded.extend(eval(LIWCcol))\n",
        "    aggdict={i:'median' for i in eval(LIWCcol)}\n",
        "    aggdict['id']='count'\n",
        "    display(T_COUN[colneeded].groupby('CountryCode').agg(aggdict))"
      ]
    },
    {
      "source": [
        "#### LIWC analysis on developed and developing countries\n"
      ],
      "cell_type": "markdown",
      "metadata": {}
    },
    {
      "cell_type": "code",
      "execution_count": 55,
      "metadata": {},
      "outputs": [],
      "source": [
        "T_developed_developing=T[(T['CountryCode'].isin(developed_country)) | (T['CountryCode'].isin(developing_country))]"
      ]
    },
    {
      "cell_type": "code",
      "execution_count": 56,
      "metadata": {},
      "outputs": [],
      "source": [
        "T_developed_developing['CountryType']=''\n",
        "T_developed_developing.loc[T['CountryCode'].isin(developed_country),'CountryType']='developed'\n",
        "T_developed_developing.loc[T['CountryCode'].isin(developing_country),'CountryType']='developing'"
      ]
    },
    {
      "cell_type": "code",
      "execution_count": 57,
      "metadata": {},
      "outputs": [],
      "source": [
        "#all of the data is not normally distributed\n",
        "for i in AffectWords:\n",
        "    for coun in ['developed','developing']:\n",
        "        #print('shapiro',coun,stats.shapiro(T_developed_developing[T_developed_developing['CountryType']==coun][i]))\n",
        "        pass\n",
        "\n",
        "#create a stats table\n",
        "OneFrame=[]\n",
        "for LIWCcol in ['AffectWords','CognetiveProcess','PerpetualProcesses','BiologicalProcesses','CoreDrivesandNeeds','TimeOrientation','Relativity','PersonalConcerns','InformalSpeech','Customized']:\n",
        "    for i in eval(LIWCcol):\n",
        "        CounCom=combinations(['developed','developing'],2)\n",
        "        for couns in CounCom:\n",
        "            st=stats.ranksums(T_developed_developing[T_developed_developing['CountryType']==couns[0]][i],T_developed_developing[T_developed_developing['CountryType']==couns[1]][i])\n",
        "            OneRow=[LIWCcol,i,couns[0],couns[1],st[0],st[1]]\n",
        "            OneFrame.append(OneRow)\n",
        "            #print(i,':',couns,stats.ranksums(T_COUN[T_COUN['CountryCode']==couns[0]][i],T_COUN[T_COUN['CountryCode']==couns[1]][i])[1])\n",
        "stats_table=pd.DataFrame(OneFrame,columns=['keyword1','keyword2','coun1','coun2','test_stats','p-value'])"
      ]
    },
    {
      "cell_type": "code",
      "execution_count": 58,
      "metadata": {},
      "outputs": [],
      "source": [
        "stats_table1=stats_table[stats_table['p-value']<0.05].sort_values('p-value')\n",
        "stats_table1['coun']=[frozenset([stats_table1.loc[i,'coun1'],stats_table1.loc[i,'coun2']]) for i in stats_table1.index]\n",
        "stats_table2=stats_table1.groupby('coun').agg({'keyword1':','.join,'keyword2':','.join})\n",
        "stats_table2['kw1list']=stats_table2['keyword1'].apply(lambda x: set(x.split(',')))\n",
        "stats_table2['kw2list']=stats_table2['keyword2'].apply(lambda x: set(x.split(',')))\n",
        "\n",
        "stats_table2['kw1len']=stats_table2['kw1list'].apply(lambda x:len(x))\n",
        "stats_table2['kw2len']=stats_table2['kw2list'].apply(lambda x:len(x))"
      ]
    },
    {
      "cell_type": "code",
      "execution_count": 59,
      "metadata": {},
      "outputs": [
        {
          "output_type": "execute_result",
          "data": {
            "text/plain": [
              "               keyword1      keyword2      coun1       coun2  test_stats  \\\n",
              "0           AffectWords        posemo  developed  developing   -3.615150   \n",
              "2           AffectWords           anx  developed  developing  164.522211   \n",
              "3           AffectWords         anger  developed  developing  159.854320   \n",
              "1           AffectWords        negemo  developed  developing  111.386684   \n",
              "4           AffectWords           sad  developed  developing  159.095142   \n",
              "15  BiologicalProcesses          body  developed  developing  163.308051   \n",
              "14  BiologicalProcesses           bio  developed  developing   95.607883   \n",
              "17  BiologicalProcesses        sexual  developed  developing  173.856845   \n",
              "16  BiologicalProcesses        health  developed  developing  138.082061   \n",
              "18  BiologicalProcesses        ingest  developed  developing  158.538843   \n",
              "10     CognetiveProcess        differ  developed  developing  122.774386   \n",
              "9      CognetiveProcess       certain  developed  developing  112.066736   \n",
              "8      CognetiveProcess        tentat  developed  developing  125.270798   \n",
              "7      CognetiveProcess       discrep  developed  developing  128.319837   \n",
              "5      CognetiveProcess       insight  developed  developing   43.087640   \n",
              "6      CognetiveProcess         cause  developed  developing  100.833110   \n",
              "22   CoreDrivesandNeeds        reward  developed  developing  112.980533   \n",
              "19   CoreDrivesandNeeds   affiliation  developed  developing   20.810633   \n",
              "21   CoreDrivesandNeeds         power  developed  developing   22.082997   \n",
              "20   CoreDrivesandNeeds       achieve  developed  developing   85.443660   \n",
              "23   CoreDrivesandNeeds          risk  developed  developing  147.059625   \n",
              "43           Customized           pos  developed  developing   -4.728009   \n",
              "44           Customized      compound  developed  developing   -9.378808   \n",
              "42           Customized           neg  developed  developing   98.779332   \n",
              "37       InformalSpeech         swear  developed  developing  174.074842   \n",
              "41       InformalSpeech        filler  developed  developing  176.425602   \n",
              "38       InformalSpeech      netspeak  developed  developing  160.314806   \n",
              "40       InformalSpeech        nonflu  developed  developing  171.327730   \n",
              "36       InformalSpeech      informal  developed  developing  147.738191   \n",
              "39       InformalSpeech        assent  developed  developing  169.898333   \n",
              "12   PerpetualProcesses          hear  developed  developing  147.948143   \n",
              "11   PerpetualProcesses           see  developed  developing  122.863027   \n",
              "13   PerpetualProcesses          feel  developed  developing  163.167073   \n",
              "30     PersonalConcerns          work  developed  developing   19.032324   \n",
              "35     PersonalConcerns         death  developed  developing  162.816362   \n",
              "34     PersonalConcerns         relig  developed  developing  157.232746   \n",
              "33     PersonalConcerns         money  developed  developing  122.309940   \n",
              "32     PersonalConcerns          home  developed  developing  163.539702   \n",
              "31     PersonalConcerns       leisure  developed  developing  115.309991   \n",
              "28           Relativity         space  developed  developing   -4.615092   \n",
              "29           Relativity          time  developed  developing   11.305384   \n",
              "27           Relativity        motion  developed  developing   97.777302   \n",
              "24      TimeOrientation     focuspast  developed  developing  119.253357   \n",
              "25      TimeOrientation  focuspresent  developed  developing    7.849909   \n",
              "26      TimeOrientation   focusfuture  developed  developing  123.940123   \n",
              "\n",
              "          p-value                     coun  \n",
              "0    3.001734e-04  (developed, developing)  \n",
              "2    0.000000e+00  (developed, developing)  \n",
              "3    0.000000e+00  (developed, developing)  \n",
              "1    0.000000e+00  (developed, developing)  \n",
              "4    0.000000e+00  (developed, developing)  \n",
              "15   0.000000e+00  (developed, developing)  \n",
              "14   0.000000e+00  (developed, developing)  \n",
              "17   0.000000e+00  (developed, developing)  \n",
              "16   0.000000e+00  (developed, developing)  \n",
              "18   0.000000e+00  (developed, developing)  \n",
              "10   0.000000e+00  (developed, developing)  \n",
              "9    0.000000e+00  (developed, developing)  \n",
              "8    0.000000e+00  (developed, developing)  \n",
              "7    0.000000e+00  (developed, developing)  \n",
              "5    0.000000e+00  (developed, developing)  \n",
              "6    0.000000e+00  (developed, developing)  \n",
              "22   0.000000e+00  (developed, developing)  \n",
              "19   3.467362e-96  (developed, developing)  \n",
              "21  4.605112e-108  (developed, developing)  \n",
              "20   0.000000e+00  (developed, developing)  \n",
              "23   0.000000e+00  (developed, developing)  \n",
              "43   2.267316e-06  (developed, developing)  \n",
              "44   6.672276e-21  (developed, developing)  \n",
              "42   0.000000e+00  (developed, developing)  \n",
              "37   0.000000e+00  (developed, developing)  \n",
              "41   0.000000e+00  (developed, developing)  \n",
              "38   0.000000e+00  (developed, developing)  \n",
              "40   0.000000e+00  (developed, developing)  \n",
              "36   0.000000e+00  (developed, developing)  \n",
              "39   0.000000e+00  (developed, developing)  \n",
              "12   0.000000e+00  (developed, developing)  \n",
              "11   0.000000e+00  (developed, developing)  \n",
              "13   0.000000e+00  (developed, developing)  \n",
              "30   9.207796e-81  (developed, developing)  \n",
              "35   0.000000e+00  (developed, developing)  \n",
              "34   0.000000e+00  (developed, developing)  \n",
              "33   0.000000e+00  (developed, developing)  \n",
              "32   0.000000e+00  (developed, developing)  \n",
              "31   0.000000e+00  (developed, developing)  \n",
              "28   3.929205e-06  (developed, developing)  \n",
              "29   1.234132e-29  (developed, developing)  \n",
              "27   0.000000e+00  (developed, developing)  \n",
              "24   0.000000e+00  (developed, developing)  \n",
              "25   4.163391e-15  (developed, developing)  \n",
              "26   0.000000e+00  (developed, developing)  "
            ],
            "text/html": "<div>\n<style scoped>\n    .dataframe tbody tr th:only-of-type {\n        vertical-align: middle;\n    }\n\n    .dataframe tbody tr th {\n        vertical-align: top;\n    }\n\n    .dataframe thead th {\n        text-align: right;\n    }\n</style>\n<table border=\"1\" class=\"dataframe\">\n  <thead>\n    <tr style=\"text-align: right;\">\n      <th></th>\n      <th>keyword1</th>\n      <th>keyword2</th>\n      <th>coun1</th>\n      <th>coun2</th>\n      <th>test_stats</th>\n      <th>p-value</th>\n      <th>coun</th>\n    </tr>\n  </thead>\n  <tbody>\n    <tr>\n      <th>0</th>\n      <td>AffectWords</td>\n      <td>posemo</td>\n      <td>developed</td>\n      <td>developing</td>\n      <td>-3.615150</td>\n      <td>3.001734e-04</td>\n      <td>(developed, developing)</td>\n    </tr>\n    <tr>\n      <th>2</th>\n      <td>AffectWords</td>\n      <td>anx</td>\n      <td>developed</td>\n      <td>developing</td>\n      <td>164.522211</td>\n      <td>0.000000e+00</td>\n      <td>(developed, developing)</td>\n    </tr>\n    <tr>\n      <th>3</th>\n      <td>AffectWords</td>\n      <td>anger</td>\n      <td>developed</td>\n      <td>developing</td>\n      <td>159.854320</td>\n      <td>0.000000e+00</td>\n      <td>(developed, developing)</td>\n    </tr>\n    <tr>\n      <th>1</th>\n      <td>AffectWords</td>\n      <td>negemo</td>\n      <td>developed</td>\n      <td>developing</td>\n      <td>111.386684</td>\n      <td>0.000000e+00</td>\n      <td>(developed, developing)</td>\n    </tr>\n    <tr>\n      <th>4</th>\n      <td>AffectWords</td>\n      <td>sad</td>\n      <td>developed</td>\n      <td>developing</td>\n      <td>159.095142</td>\n      <td>0.000000e+00</td>\n      <td>(developed, developing)</td>\n    </tr>\n    <tr>\n      <th>15</th>\n      <td>BiologicalProcesses</td>\n      <td>body</td>\n      <td>developed</td>\n      <td>developing</td>\n      <td>163.308051</td>\n      <td>0.000000e+00</td>\n      <td>(developed, developing)</td>\n    </tr>\n    <tr>\n      <th>14</th>\n      <td>BiologicalProcesses</td>\n      <td>bio</td>\n      <td>developed</td>\n      <td>developing</td>\n      <td>95.607883</td>\n      <td>0.000000e+00</td>\n      <td>(developed, developing)</td>\n    </tr>\n    <tr>\n      <th>17</th>\n      <td>BiologicalProcesses</td>\n      <td>sexual</td>\n      <td>developed</td>\n      <td>developing</td>\n      <td>173.856845</td>\n      <td>0.000000e+00</td>\n      <td>(developed, developing)</td>\n    </tr>\n    <tr>\n      <th>16</th>\n      <td>BiologicalProcesses</td>\n      <td>health</td>\n      <td>developed</td>\n      <td>developing</td>\n      <td>138.082061</td>\n      <td>0.000000e+00</td>\n      <td>(developed, developing)</td>\n    </tr>\n    <tr>\n      <th>18</th>\n      <td>BiologicalProcesses</td>\n      <td>ingest</td>\n      <td>developed</td>\n      <td>developing</td>\n      <td>158.538843</td>\n      <td>0.000000e+00</td>\n      <td>(developed, developing)</td>\n    </tr>\n    <tr>\n      <th>10</th>\n      <td>CognetiveProcess</td>\n      <td>differ</td>\n      <td>developed</td>\n      <td>developing</td>\n      <td>122.774386</td>\n      <td>0.000000e+00</td>\n      <td>(developed, developing)</td>\n    </tr>\n    <tr>\n      <th>9</th>\n      <td>CognetiveProcess</td>\n      <td>certain</td>\n      <td>developed</td>\n      <td>developing</td>\n      <td>112.066736</td>\n      <td>0.000000e+00</td>\n      <td>(developed, developing)</td>\n    </tr>\n    <tr>\n      <th>8</th>\n      <td>CognetiveProcess</td>\n      <td>tentat</td>\n      <td>developed</td>\n      <td>developing</td>\n      <td>125.270798</td>\n      <td>0.000000e+00</td>\n      <td>(developed, developing)</td>\n    </tr>\n    <tr>\n      <th>7</th>\n      <td>CognetiveProcess</td>\n      <td>discrep</td>\n      <td>developed</td>\n      <td>developing</td>\n      <td>128.319837</td>\n      <td>0.000000e+00</td>\n      <td>(developed, developing)</td>\n    </tr>\n    <tr>\n      <th>5</th>\n      <td>CognetiveProcess</td>\n      <td>insight</td>\n      <td>developed</td>\n      <td>developing</td>\n      <td>43.087640</td>\n      <td>0.000000e+00</td>\n      <td>(developed, developing)</td>\n    </tr>\n    <tr>\n      <th>6</th>\n      <td>CognetiveProcess</td>\n      <td>cause</td>\n      <td>developed</td>\n      <td>developing</td>\n      <td>100.833110</td>\n      <td>0.000000e+00</td>\n      <td>(developed, developing)</td>\n    </tr>\n    <tr>\n      <th>22</th>\n      <td>CoreDrivesandNeeds</td>\n      <td>reward</td>\n      <td>developed</td>\n      <td>developing</td>\n      <td>112.980533</td>\n      <td>0.000000e+00</td>\n      <td>(developed, developing)</td>\n    </tr>\n    <tr>\n      <th>19</th>\n      <td>CoreDrivesandNeeds</td>\n      <td>affiliation</td>\n      <td>developed</td>\n      <td>developing</td>\n      <td>20.810633</td>\n      <td>3.467362e-96</td>\n      <td>(developed, developing)</td>\n    </tr>\n    <tr>\n      <th>21</th>\n      <td>CoreDrivesandNeeds</td>\n      <td>power</td>\n      <td>developed</td>\n      <td>developing</td>\n      <td>22.082997</td>\n      <td>4.605112e-108</td>\n      <td>(developed, developing)</td>\n    </tr>\n    <tr>\n      <th>20</th>\n      <td>CoreDrivesandNeeds</td>\n      <td>achieve</td>\n      <td>developed</td>\n      <td>developing</td>\n      <td>85.443660</td>\n      <td>0.000000e+00</td>\n      <td>(developed, developing)</td>\n    </tr>\n    <tr>\n      <th>23</th>\n      <td>CoreDrivesandNeeds</td>\n      <td>risk</td>\n      <td>developed</td>\n      <td>developing</td>\n      <td>147.059625</td>\n      <td>0.000000e+00</td>\n      <td>(developed, developing)</td>\n    </tr>\n    <tr>\n      <th>43</th>\n      <td>Customized</td>\n      <td>pos</td>\n      <td>developed</td>\n      <td>developing</td>\n      <td>-4.728009</td>\n      <td>2.267316e-06</td>\n      <td>(developed, developing)</td>\n    </tr>\n    <tr>\n      <th>44</th>\n      <td>Customized</td>\n      <td>compound</td>\n      <td>developed</td>\n      <td>developing</td>\n      <td>-9.378808</td>\n      <td>6.672276e-21</td>\n      <td>(developed, developing)</td>\n    </tr>\n    <tr>\n      <th>42</th>\n      <td>Customized</td>\n      <td>neg</td>\n      <td>developed</td>\n      <td>developing</td>\n      <td>98.779332</td>\n      <td>0.000000e+00</td>\n      <td>(developed, developing)</td>\n    </tr>\n    <tr>\n      <th>37</th>\n      <td>InformalSpeech</td>\n      <td>swear</td>\n      <td>developed</td>\n      <td>developing</td>\n      <td>174.074842</td>\n      <td>0.000000e+00</td>\n      <td>(developed, developing)</td>\n    </tr>\n    <tr>\n      <th>41</th>\n      <td>InformalSpeech</td>\n      <td>filler</td>\n      <td>developed</td>\n      <td>developing</td>\n      <td>176.425602</td>\n      <td>0.000000e+00</td>\n      <td>(developed, developing)</td>\n    </tr>\n    <tr>\n      <th>38</th>\n      <td>InformalSpeech</td>\n      <td>netspeak</td>\n      <td>developed</td>\n      <td>developing</td>\n      <td>160.314806</td>\n      <td>0.000000e+00</td>\n      <td>(developed, developing)</td>\n    </tr>\n    <tr>\n      <th>40</th>\n      <td>InformalSpeech</td>\n      <td>nonflu</td>\n      <td>developed</td>\n      <td>developing</td>\n      <td>171.327730</td>\n      <td>0.000000e+00</td>\n      <td>(developed, developing)</td>\n    </tr>\n    <tr>\n      <th>36</th>\n      <td>InformalSpeech</td>\n      <td>informal</td>\n      <td>developed</td>\n      <td>developing</td>\n      <td>147.738191</td>\n      <td>0.000000e+00</td>\n      <td>(developed, developing)</td>\n    </tr>\n    <tr>\n      <th>39</th>\n      <td>InformalSpeech</td>\n      <td>assent</td>\n      <td>developed</td>\n      <td>developing</td>\n      <td>169.898333</td>\n      <td>0.000000e+00</td>\n      <td>(developed, developing)</td>\n    </tr>\n    <tr>\n      <th>12</th>\n      <td>PerpetualProcesses</td>\n      <td>hear</td>\n      <td>developed</td>\n      <td>developing</td>\n      <td>147.948143</td>\n      <td>0.000000e+00</td>\n      <td>(developed, developing)</td>\n    </tr>\n    <tr>\n      <th>11</th>\n      <td>PerpetualProcesses</td>\n      <td>see</td>\n      <td>developed</td>\n      <td>developing</td>\n      <td>122.863027</td>\n      <td>0.000000e+00</td>\n      <td>(developed, developing)</td>\n    </tr>\n    <tr>\n      <th>13</th>\n      <td>PerpetualProcesses</td>\n      <td>feel</td>\n      <td>developed</td>\n      <td>developing</td>\n      <td>163.167073</td>\n      <td>0.000000e+00</td>\n      <td>(developed, developing)</td>\n    </tr>\n    <tr>\n      <th>30</th>\n      <td>PersonalConcerns</td>\n      <td>work</td>\n      <td>developed</td>\n      <td>developing</td>\n      <td>19.032324</td>\n      <td>9.207796e-81</td>\n      <td>(developed, developing)</td>\n    </tr>\n    <tr>\n      <th>35</th>\n      <td>PersonalConcerns</td>\n      <td>death</td>\n      <td>developed</td>\n      <td>developing</td>\n      <td>162.816362</td>\n      <td>0.000000e+00</td>\n      <td>(developed, developing)</td>\n    </tr>\n    <tr>\n      <th>34</th>\n      <td>PersonalConcerns</td>\n      <td>relig</td>\n      <td>developed</td>\n      <td>developing</td>\n      <td>157.232746</td>\n      <td>0.000000e+00</td>\n      <td>(developed, developing)</td>\n    </tr>\n    <tr>\n      <th>33</th>\n      <td>PersonalConcerns</td>\n      <td>money</td>\n      <td>developed</td>\n      <td>developing</td>\n      <td>122.309940</td>\n      <td>0.000000e+00</td>\n      <td>(developed, developing)</td>\n    </tr>\n    <tr>\n      <th>32</th>\n      <td>PersonalConcerns</td>\n      <td>home</td>\n      <td>developed</td>\n      <td>developing</td>\n      <td>163.539702</td>\n      <td>0.000000e+00</td>\n      <td>(developed, developing)</td>\n    </tr>\n    <tr>\n      <th>31</th>\n      <td>PersonalConcerns</td>\n      <td>leisure</td>\n      <td>developed</td>\n      <td>developing</td>\n      <td>115.309991</td>\n      <td>0.000000e+00</td>\n      <td>(developed, developing)</td>\n    </tr>\n    <tr>\n      <th>28</th>\n      <td>Relativity</td>\n      <td>space</td>\n      <td>developed</td>\n      <td>developing</td>\n      <td>-4.615092</td>\n      <td>3.929205e-06</td>\n      <td>(developed, developing)</td>\n    </tr>\n    <tr>\n      <th>29</th>\n      <td>Relativity</td>\n      <td>time</td>\n      <td>developed</td>\n      <td>developing</td>\n      <td>11.305384</td>\n      <td>1.234132e-29</td>\n      <td>(developed, developing)</td>\n    </tr>\n    <tr>\n      <th>27</th>\n      <td>Relativity</td>\n      <td>motion</td>\n      <td>developed</td>\n      <td>developing</td>\n      <td>97.777302</td>\n      <td>0.000000e+00</td>\n      <td>(developed, developing)</td>\n    </tr>\n    <tr>\n      <th>24</th>\n      <td>TimeOrientation</td>\n      <td>focuspast</td>\n      <td>developed</td>\n      <td>developing</td>\n      <td>119.253357</td>\n      <td>0.000000e+00</td>\n      <td>(developed, developing)</td>\n    </tr>\n    <tr>\n      <th>25</th>\n      <td>TimeOrientation</td>\n      <td>focuspresent</td>\n      <td>developed</td>\n      <td>developing</td>\n      <td>7.849909</td>\n      <td>4.163391e-15</td>\n      <td>(developed, developing)</td>\n    </tr>\n    <tr>\n      <th>26</th>\n      <td>TimeOrientation</td>\n      <td>focusfuture</td>\n      <td>developed</td>\n      <td>developing</td>\n      <td>123.940123</td>\n      <td>0.000000e+00</td>\n      <td>(developed, developing)</td>\n    </tr>\n  </tbody>\n</table>\n</div>"
          },
          "metadata": {},
          "execution_count": 59
        }
      ],
      "source": [
        "stats_table1.sort_values('keyword1')"
      ]
    },
    {
      "cell_type": "code",
      "execution_count": 64,
      "metadata": {},
      "outputs": [
        {
          "output_type": "display_data",
          "data": {
            "text/plain": "               posemo                  negemo                     anx         \\\n                 mean median  count      mean median  count      mean median   \nCountryType                                                                    \ndeveloped    7.571829   6.06  63034  4.195550   3.12  23602  3.252857   2.63   \ndeveloping   7.232409   5.71  29531  4.356936   3.23   9651  3.116032   2.50   \n\n                      anger                    sad               \n            count      mean median count      mean median count  \nCountryType                                                      \ndeveloped    5765  3.534348   2.78  8140  3.003137   2.50  7836  \ndeveloping   2830  3.404041   2.63  3952  3.133285   2.63  2341  ",
            "text/html": "<div>\n<style scoped>\n    .dataframe tbody tr th:only-of-type {\n        vertical-align: middle;\n    }\n\n    .dataframe tbody tr th {\n        vertical-align: top;\n    }\n\n    .dataframe thead tr th {\n        text-align: left;\n    }\n\n    .dataframe thead tr:last-of-type th {\n        text-align: right;\n    }\n</style>\n<table border=\"1\" class=\"dataframe\">\n  <thead>\n    <tr>\n      <th></th>\n      <th colspan=\"3\" halign=\"left\">posemo</th>\n      <th colspan=\"3\" halign=\"left\">negemo</th>\n      <th colspan=\"3\" halign=\"left\">anx</th>\n      <th colspan=\"3\" halign=\"left\">anger</th>\n      <th colspan=\"3\" halign=\"left\">sad</th>\n    </tr>\n    <tr>\n      <th></th>\n      <th>mean</th>\n      <th>median</th>\n      <th>count</th>\n      <th>mean</th>\n      <th>median</th>\n      <th>count</th>\n      <th>mean</th>\n      <th>median</th>\n      <th>count</th>\n      <th>mean</th>\n      <th>median</th>\n      <th>count</th>\n      <th>mean</th>\n      <th>median</th>\n      <th>count</th>\n    </tr>\n    <tr>\n      <th>CountryType</th>\n      <th></th>\n      <th></th>\n      <th></th>\n      <th></th>\n      <th></th>\n      <th></th>\n      <th></th>\n      <th></th>\n      <th></th>\n      <th></th>\n      <th></th>\n      <th></th>\n      <th></th>\n      <th></th>\n      <th></th>\n    </tr>\n  </thead>\n  <tbody>\n    <tr>\n      <th>developed</th>\n      <td>7.571829</td>\n      <td>6.06</td>\n      <td>63034</td>\n      <td>4.195550</td>\n      <td>3.12</td>\n      <td>23602</td>\n      <td>3.252857</td>\n      <td>2.63</td>\n      <td>5765</td>\n      <td>3.534348</td>\n      <td>2.78</td>\n      <td>8140</td>\n      <td>3.003137</td>\n      <td>2.50</td>\n      <td>7836</td>\n    </tr>\n    <tr>\n      <th>developing</th>\n      <td>7.232409</td>\n      <td>5.71</td>\n      <td>29531</td>\n      <td>4.356936</td>\n      <td>3.23</td>\n      <td>9651</td>\n      <td>3.116032</td>\n      <td>2.50</td>\n      <td>2830</td>\n      <td>3.404041</td>\n      <td>2.63</td>\n      <td>3952</td>\n      <td>3.133285</td>\n      <td>2.63</td>\n      <td>2341</td>\n    </tr>\n  </tbody>\n</table>\n</div>"
          },
          "metadata": {}
        },
        {
          "output_type": "display_data",
          "data": {
            "text/plain": "              insight                   cause                 discrep         \\\n                 mean median  count      mean median  count      mean median   \nCountryType                                                                    \ndeveloped    4.464866   3.33  38843  4.189621   3.23  34523  3.659152   2.99   \ndeveloping   4.584830   3.33  17624  4.353142   3.33  18068  3.494146   2.94   \n\n                      tentat                 certain                  differ  \\\n             count      mean median  count      mean median  count      mean   \nCountryType                                                                    \ndeveloped    19540  3.872343   3.12  21378  3.602792   2.86  26479  3.948804   \ndeveloping    8290  3.682824   3.03   8832  3.700627   2.94  12703  3.884775   \n\n                           \n            median  count  \nCountryType                \ndeveloped     3.12  23682  \ndeveloping    3.03  10760  ",
            "text/html": "<div>\n<style scoped>\n    .dataframe tbody tr th:only-of-type {\n        vertical-align: middle;\n    }\n\n    .dataframe tbody tr th {\n        vertical-align: top;\n    }\n\n    .dataframe thead tr th {\n        text-align: left;\n    }\n\n    .dataframe thead tr:last-of-type th {\n        text-align: right;\n    }\n</style>\n<table border=\"1\" class=\"dataframe\">\n  <thead>\n    <tr>\n      <th></th>\n      <th colspan=\"3\" halign=\"left\">insight</th>\n      <th colspan=\"3\" halign=\"left\">cause</th>\n      <th colspan=\"3\" halign=\"left\">discrep</th>\n      <th colspan=\"3\" halign=\"left\">tentat</th>\n      <th colspan=\"3\" halign=\"left\">certain</th>\n      <th colspan=\"3\" halign=\"left\">differ</th>\n    </tr>\n    <tr>\n      <th></th>\n      <th>mean</th>\n      <th>median</th>\n      <th>count</th>\n      <th>mean</th>\n      <th>median</th>\n      <th>count</th>\n      <th>mean</th>\n      <th>median</th>\n      <th>count</th>\n      <th>mean</th>\n      <th>median</th>\n      <th>count</th>\n      <th>mean</th>\n      <th>median</th>\n      <th>count</th>\n      <th>mean</th>\n      <th>median</th>\n      <th>count</th>\n    </tr>\n    <tr>\n      <th>CountryType</th>\n      <th></th>\n      <th></th>\n      <th></th>\n      <th></th>\n      <th></th>\n      <th></th>\n      <th></th>\n      <th></th>\n      <th></th>\n      <th></th>\n      <th></th>\n      <th></th>\n      <th></th>\n      <th></th>\n      <th></th>\n      <th></th>\n      <th></th>\n      <th></th>\n    </tr>\n  </thead>\n  <tbody>\n    <tr>\n      <th>developed</th>\n      <td>4.464866</td>\n      <td>3.33</td>\n      <td>38843</td>\n      <td>4.189621</td>\n      <td>3.23</td>\n      <td>34523</td>\n      <td>3.659152</td>\n      <td>2.99</td>\n      <td>19540</td>\n      <td>3.872343</td>\n      <td>3.12</td>\n      <td>21378</td>\n      <td>3.602792</td>\n      <td>2.86</td>\n      <td>26479</td>\n      <td>3.948804</td>\n      <td>3.12</td>\n      <td>23682</td>\n    </tr>\n    <tr>\n      <th>developing</th>\n      <td>4.584830</td>\n      <td>3.33</td>\n      <td>17624</td>\n      <td>4.353142</td>\n      <td>3.33</td>\n      <td>18068</td>\n      <td>3.494146</td>\n      <td>2.94</td>\n      <td>8290</td>\n      <td>3.682824</td>\n      <td>3.03</td>\n      <td>8832</td>\n      <td>3.700627</td>\n      <td>2.94</td>\n      <td>12703</td>\n      <td>3.884775</td>\n      <td>3.03</td>\n      <td>10760</td>\n    </tr>\n  </tbody>\n</table>\n</div>"
          },
          "metadata": {}
        },
        {
          "output_type": "display_data",
          "data": {
            "text/plain": "                  see                    hear                    feel         \\\n                 mean median  count      mean median  count      mean median   \nCountryType                                                                    \ndeveloped    4.201650   3.23  19682  3.669856   2.94  11933  3.479754   2.86   \ndeveloping   4.368967   3.33   7869  3.499184   2.86   5443  3.380756   2.78   \n\n                   \n            count  \nCountryType        \ndeveloped    5734  \ndeveloping   1945  ",
            "text/html": "<div>\n<style scoped>\n    .dataframe tbody tr th:only-of-type {\n        vertical-align: middle;\n    }\n\n    .dataframe tbody tr th {\n        vertical-align: top;\n    }\n\n    .dataframe thead tr th {\n        text-align: left;\n    }\n\n    .dataframe thead tr:last-of-type th {\n        text-align: right;\n    }\n</style>\n<table border=\"1\" class=\"dataframe\">\n  <thead>\n    <tr>\n      <th></th>\n      <th colspan=\"3\" halign=\"left\">see</th>\n      <th colspan=\"3\" halign=\"left\">hear</th>\n      <th colspan=\"3\" halign=\"left\">feel</th>\n    </tr>\n    <tr>\n      <th></th>\n      <th>mean</th>\n      <th>median</th>\n      <th>count</th>\n      <th>mean</th>\n      <th>median</th>\n      <th>count</th>\n      <th>mean</th>\n      <th>median</th>\n      <th>count</th>\n    </tr>\n    <tr>\n      <th>CountryType</th>\n      <th></th>\n      <th></th>\n      <th></th>\n      <th></th>\n      <th></th>\n      <th></th>\n      <th></th>\n      <th></th>\n      <th></th>\n    </tr>\n  </thead>\n  <tbody>\n    <tr>\n      <th>developed</th>\n      <td>4.201650</td>\n      <td>3.23</td>\n      <td>19682</td>\n      <td>3.669856</td>\n      <td>2.94</td>\n      <td>11933</td>\n      <td>3.479754</td>\n      <td>2.86</td>\n      <td>5734</td>\n    </tr>\n    <tr>\n      <th>developing</th>\n      <td>4.368967</td>\n      <td>3.33</td>\n      <td>7869</td>\n      <td>3.499184</td>\n      <td>2.86</td>\n      <td>5443</td>\n      <td>3.380756</td>\n      <td>2.78</td>\n      <td>1945</td>\n    </tr>\n  </tbody>\n</table>\n</div>"
          },
          "metadata": {}
        },
        {
          "output_type": "display_data",
          "data": {
            "text/plain": "                  bio                    body                 health         \\\n                 mean median  count      mean median count      mean median   \nCountryType                                                                   \ndeveloped    5.778391   4.44  30794  3.775552   2.90  5724  4.485169   3.57   \ndeveloping   5.691412   4.35  14403  3.501952   2.86  2244  4.381612   3.23   \n\n                      sexual                 ingest               \n             count      mean median count      mean median count  \nCountryType                                                       \ndeveloped    16039  3.985648   3.03  1512  5.676914   4.17  9824  \ndeveloping    7189  3.386029   2.86   680  5.870131   4.55  6013  ",
            "text/html": "<div>\n<style scoped>\n    .dataframe tbody tr th:only-of-type {\n        vertical-align: middle;\n    }\n\n    .dataframe tbody tr th {\n        vertical-align: top;\n    }\n\n    .dataframe thead tr th {\n        text-align: left;\n    }\n\n    .dataframe thead tr:last-of-type th {\n        text-align: right;\n    }\n</style>\n<table border=\"1\" class=\"dataframe\">\n  <thead>\n    <tr>\n      <th></th>\n      <th colspan=\"3\" halign=\"left\">bio</th>\n      <th colspan=\"3\" halign=\"left\">body</th>\n      <th colspan=\"3\" halign=\"left\">health</th>\n      <th colspan=\"3\" halign=\"left\">sexual</th>\n      <th colspan=\"3\" halign=\"left\">ingest</th>\n    </tr>\n    <tr>\n      <th></th>\n      <th>mean</th>\n      <th>median</th>\n      <th>count</th>\n      <th>mean</th>\n      <th>median</th>\n      <th>count</th>\n      <th>mean</th>\n      <th>median</th>\n      <th>count</th>\n      <th>mean</th>\n      <th>median</th>\n      <th>count</th>\n      <th>mean</th>\n      <th>median</th>\n      <th>count</th>\n    </tr>\n    <tr>\n      <th>CountryType</th>\n      <th></th>\n      <th></th>\n      <th></th>\n      <th></th>\n      <th></th>\n      <th></th>\n      <th></th>\n      <th></th>\n      <th></th>\n      <th></th>\n      <th></th>\n      <th></th>\n      <th></th>\n      <th></th>\n      <th></th>\n    </tr>\n  </thead>\n  <tbody>\n    <tr>\n      <th>developed</th>\n      <td>5.778391</td>\n      <td>4.44</td>\n      <td>30794</td>\n      <td>3.775552</td>\n      <td>2.90</td>\n      <td>5724</td>\n      <td>4.485169</td>\n      <td>3.57</td>\n      <td>16039</td>\n      <td>3.985648</td>\n      <td>3.03</td>\n      <td>1512</td>\n      <td>5.676914</td>\n      <td>4.17</td>\n      <td>9824</td>\n    </tr>\n    <tr>\n      <th>developing</th>\n      <td>5.691412</td>\n      <td>4.35</td>\n      <td>14403</td>\n      <td>3.501952</td>\n      <td>2.86</td>\n      <td>2244</td>\n      <td>4.381612</td>\n      <td>3.23</td>\n      <td>7189</td>\n      <td>3.386029</td>\n      <td>2.86</td>\n      <td>680</td>\n      <td>5.870131</td>\n      <td>4.55</td>\n      <td>6013</td>\n    </tr>\n  </tbody>\n</table>\n</div>"
          },
          "metadata": {}
        },
        {
          "output_type": "display_data",
          "data": {
            "text/plain": "            affiliation                 achieve                   power  \\\n                   mean median  count      mean median  count      mean   \nCountryType                                                               \ndeveloped      5.910459   4.88  53274  4.936495   4.05  41324  6.683545   \ndeveloping     5.955538   4.88  25119  5.382762   4.55  23168  6.455227   \n\n                             reward                    risk                \n            median  count      mean median  count      mean median  count  \nCountryType                                                                \ndeveloped     5.41  60173  4.087183   3.33  29977  3.625935   2.94  13316  \ndeveloping    5.26  29417  4.302860   3.45  15777  3.666463   2.94   5753  ",
            "text/html": "<div>\n<style scoped>\n    .dataframe tbody tr th:only-of-type {\n        vertical-align: middle;\n    }\n\n    .dataframe tbody tr th {\n        vertical-align: top;\n    }\n\n    .dataframe thead tr th {\n        text-align: left;\n    }\n\n    .dataframe thead tr:last-of-type th {\n        text-align: right;\n    }\n</style>\n<table border=\"1\" class=\"dataframe\">\n  <thead>\n    <tr>\n      <th></th>\n      <th colspan=\"3\" halign=\"left\">affiliation</th>\n      <th colspan=\"3\" halign=\"left\">achieve</th>\n      <th colspan=\"3\" halign=\"left\">power</th>\n      <th colspan=\"3\" halign=\"left\">reward</th>\n      <th colspan=\"3\" halign=\"left\">risk</th>\n    </tr>\n    <tr>\n      <th></th>\n      <th>mean</th>\n      <th>median</th>\n      <th>count</th>\n      <th>mean</th>\n      <th>median</th>\n      <th>count</th>\n      <th>mean</th>\n      <th>median</th>\n      <th>count</th>\n      <th>mean</th>\n      <th>median</th>\n      <th>count</th>\n      <th>mean</th>\n      <th>median</th>\n      <th>count</th>\n    </tr>\n    <tr>\n      <th>CountryType</th>\n      <th></th>\n      <th></th>\n      <th></th>\n      <th></th>\n      <th></th>\n      <th></th>\n      <th></th>\n      <th></th>\n      <th></th>\n      <th></th>\n      <th></th>\n      <th></th>\n      <th></th>\n      <th></th>\n      <th></th>\n    </tr>\n  </thead>\n  <tbody>\n    <tr>\n      <th>developed</th>\n      <td>5.910459</td>\n      <td>4.88</td>\n      <td>53274</td>\n      <td>4.936495</td>\n      <td>4.05</td>\n      <td>41324</td>\n      <td>6.683545</td>\n      <td>5.41</td>\n      <td>60173</td>\n      <td>4.087183</td>\n      <td>3.33</td>\n      <td>29977</td>\n      <td>3.625935</td>\n      <td>2.94</td>\n      <td>13316</td>\n    </tr>\n    <tr>\n      <th>developing</th>\n      <td>5.955538</td>\n      <td>4.88</td>\n      <td>25119</td>\n      <td>5.382762</td>\n      <td>4.55</td>\n      <td>23168</td>\n      <td>6.455227</td>\n      <td>5.26</td>\n      <td>29417</td>\n      <td>4.302860</td>\n      <td>3.45</td>\n      <td>15777</td>\n      <td>3.666463</td>\n      <td>2.94</td>\n      <td>5753</td>\n    </tr>\n  </tbody>\n</table>\n</div>"
          },
          "metadata": {}
        },
        {
          "output_type": "display_data",
          "data": {
            "text/plain": "            focuspast               focuspresent               focusfuture  \\\n                 mean median  count         mean median  count        mean   \nCountryType                                                                  \ndeveloped    4.099460   3.12  23547     8.505127   7.69  74642    3.775653   \ndeveloping   3.890742   3.03  10989     8.066347   7.41  36681    3.793908   \n\n                           \n            median  count  \nCountryType                \ndeveloped     3.03  23312  \ndeveloping    3.03  11317  ",
            "text/html": "<div>\n<style scoped>\n    .dataframe tbody tr th:only-of-type {\n        vertical-align: middle;\n    }\n\n    .dataframe tbody tr th {\n        vertical-align: top;\n    }\n\n    .dataframe thead tr th {\n        text-align: left;\n    }\n\n    .dataframe thead tr:last-of-type th {\n        text-align: right;\n    }\n</style>\n<table border=\"1\" class=\"dataframe\">\n  <thead>\n    <tr>\n      <th></th>\n      <th colspan=\"3\" halign=\"left\">focuspast</th>\n      <th colspan=\"3\" halign=\"left\">focuspresent</th>\n      <th colspan=\"3\" halign=\"left\">focusfuture</th>\n    </tr>\n    <tr>\n      <th></th>\n      <th>mean</th>\n      <th>median</th>\n      <th>count</th>\n      <th>mean</th>\n      <th>median</th>\n      <th>count</th>\n      <th>mean</th>\n      <th>median</th>\n      <th>count</th>\n    </tr>\n    <tr>\n      <th>CountryType</th>\n      <th></th>\n      <th></th>\n      <th></th>\n      <th></th>\n      <th></th>\n      <th></th>\n      <th></th>\n      <th></th>\n      <th></th>\n    </tr>\n  </thead>\n  <tbody>\n    <tr>\n      <th>developed</th>\n      <td>4.099460</td>\n      <td>3.12</td>\n      <td>23547</td>\n      <td>8.505127</td>\n      <td>7.69</td>\n      <td>74642</td>\n      <td>3.775653</td>\n      <td>3.03</td>\n      <td>23312</td>\n    </tr>\n    <tr>\n      <th>developing</th>\n      <td>3.890742</td>\n      <td>3.03</td>\n      <td>10989</td>\n      <td>8.066347</td>\n      <td>7.41</td>\n      <td>36681</td>\n      <td>3.793908</td>\n      <td>3.03</td>\n      <td>11317</td>\n    </tr>\n  </tbody>\n</table>\n</div>"
          },
          "metadata": {}
        },
        {
          "output_type": "display_data",
          "data": {
            "text/plain": "               motion                   space                    time         \\\n                 mean median  count      mean median  count      mean median   \nCountryType                                                                    \ndeveloped    4.415331   3.45  35269  7.997368   7.14  73092  6.696080   5.71   \ndeveloping   4.540282   3.51  17711  8.056271   7.14  36409  6.356396   5.26   \n\n                    \n             count  \nCountryType         \ndeveloped    60763  \ndeveloping   28326  ",
            "text/html": "<div>\n<style scoped>\n    .dataframe tbody tr th:only-of-type {\n        vertical-align: middle;\n    }\n\n    .dataframe tbody tr th {\n        vertical-align: top;\n    }\n\n    .dataframe thead tr th {\n        text-align: left;\n    }\n\n    .dataframe thead tr:last-of-type th {\n        text-align: right;\n    }\n</style>\n<table border=\"1\" class=\"dataframe\">\n  <thead>\n    <tr>\n      <th></th>\n      <th colspan=\"3\" halign=\"left\">motion</th>\n      <th colspan=\"3\" halign=\"left\">space</th>\n      <th colspan=\"3\" halign=\"left\">time</th>\n    </tr>\n    <tr>\n      <th></th>\n      <th>mean</th>\n      <th>median</th>\n      <th>count</th>\n      <th>mean</th>\n      <th>median</th>\n      <th>count</th>\n      <th>mean</th>\n      <th>median</th>\n      <th>count</th>\n    </tr>\n    <tr>\n      <th>CountryType</th>\n      <th></th>\n      <th></th>\n      <th></th>\n      <th></th>\n      <th></th>\n      <th></th>\n      <th></th>\n      <th></th>\n      <th></th>\n    </tr>\n  </thead>\n  <tbody>\n    <tr>\n      <th>developed</th>\n      <td>4.415331</td>\n      <td>3.45</td>\n      <td>35269</td>\n      <td>7.997368</td>\n      <td>7.14</td>\n      <td>73092</td>\n      <td>6.696080</td>\n      <td>5.71</td>\n      <td>60763</td>\n    </tr>\n    <tr>\n      <th>developing</th>\n      <td>4.540282</td>\n      <td>3.51</td>\n      <td>17711</td>\n      <td>8.056271</td>\n      <td>7.14</td>\n      <td>36409</td>\n      <td>6.356396</td>\n      <td>5.26</td>\n      <td>28326</td>\n    </tr>\n  </tbody>\n</table>\n</div>"
          },
          "metadata": {}
        },
        {
          "output_type": "display_data",
          "data": {
            "text/plain": "                 work                 leisure                    home         \\\n                 mean median  count      mean median  count      mean median   \nCountryType                                                                    \ndeveloped    9.650065   7.50  62336  5.472500   3.70  23640  3.822052   2.94   \ndeveloping   9.224419   7.32  32107  5.122596   3.45   9717  3.451583   2.86   \n\n                      money                   relig                  death  \\\n            count      mean median  count      mean median count      mean   \nCountryType                                                                  \ndeveloped    6111  5.081289   3.70  22591  6.530121   3.85  8667  3.450067   \ndeveloping   2830  4.966882   3.57  10499  5.167440   3.23  4242  3.589217   \n\n                          \n            median count  \nCountryType               \ndeveloped      2.5  5064  \ndeveloping     2.5  1290  ",
            "text/html": "<div>\n<style scoped>\n    .dataframe tbody tr th:only-of-type {\n        vertical-align: middle;\n    }\n\n    .dataframe tbody tr th {\n        vertical-align: top;\n    }\n\n    .dataframe thead tr th {\n        text-align: left;\n    }\n\n    .dataframe thead tr:last-of-type th {\n        text-align: right;\n    }\n</style>\n<table border=\"1\" class=\"dataframe\">\n  <thead>\n    <tr>\n      <th></th>\n      <th colspan=\"3\" halign=\"left\">work</th>\n      <th colspan=\"3\" halign=\"left\">leisure</th>\n      <th colspan=\"3\" halign=\"left\">home</th>\n      <th colspan=\"3\" halign=\"left\">money</th>\n      <th colspan=\"3\" halign=\"left\">relig</th>\n      <th colspan=\"3\" halign=\"left\">death</th>\n    </tr>\n    <tr>\n      <th></th>\n      <th>mean</th>\n      <th>median</th>\n      <th>count</th>\n      <th>mean</th>\n      <th>median</th>\n      <th>count</th>\n      <th>mean</th>\n      <th>median</th>\n      <th>count</th>\n      <th>mean</th>\n      <th>median</th>\n      <th>count</th>\n      <th>mean</th>\n      <th>median</th>\n      <th>count</th>\n      <th>mean</th>\n      <th>median</th>\n      <th>count</th>\n    </tr>\n    <tr>\n      <th>CountryType</th>\n      <th></th>\n      <th></th>\n      <th></th>\n      <th></th>\n      <th></th>\n      <th></th>\n      <th></th>\n      <th></th>\n      <th></th>\n      <th></th>\n      <th></th>\n      <th></th>\n      <th></th>\n      <th></th>\n      <th></th>\n      <th></th>\n      <th></th>\n      <th></th>\n    </tr>\n  </thead>\n  <tbody>\n    <tr>\n      <th>developed</th>\n      <td>9.650065</td>\n      <td>7.50</td>\n      <td>62336</td>\n      <td>5.472500</td>\n      <td>3.70</td>\n      <td>23640</td>\n      <td>3.822052</td>\n      <td>2.94</td>\n      <td>6111</td>\n      <td>5.081289</td>\n      <td>3.70</td>\n      <td>22591</td>\n      <td>6.530121</td>\n      <td>3.85</td>\n      <td>8667</td>\n      <td>3.450067</td>\n      <td>2.5</td>\n      <td>5064</td>\n    </tr>\n    <tr>\n      <th>developing</th>\n      <td>9.224419</td>\n      <td>7.32</td>\n      <td>32107</td>\n      <td>5.122596</td>\n      <td>3.45</td>\n      <td>9717</td>\n      <td>3.451583</td>\n      <td>2.86</td>\n      <td>2830</td>\n      <td>4.966882</td>\n      <td>3.57</td>\n      <td>10499</td>\n      <td>5.167440</td>\n      <td>3.23</td>\n      <td>4242</td>\n      <td>3.589217</td>\n      <td>2.5</td>\n      <td>1290</td>\n    </tr>\n  </tbody>\n</table>\n</div>"
          },
          "metadata": {}
        },
        {
          "output_type": "display_data",
          "data": {
            "text/plain": "             informal                   swear               netspeak         \\\n                 mean median  count      mean median count      mean median   \nCountryType                                                                   \ndeveloped    3.742365   2.86  12970  3.681901   2.86  1073  3.754333   3.03   \ndeveloping   3.690217   2.94   6167  3.080915   2.30   164  3.880368   3.12   \n\n                     assent                 nonflu                 filler  \\\n            count      mean median count      mean median count      mean   \nCountryType                                                                 \ndeveloped    7694  3.381199   2.78  3319  2.801276   2.44  2736  3.208905   \ndeveloping   3829  3.549370   2.94  1413  2.727322   2.44  1583  2.517174   \n\n                          \n            median count  \nCountryType               \ndeveloped     2.78   137  \ndeveloping    2.27    46  ",
            "text/html": "<div>\n<style scoped>\n    .dataframe tbody tr th:only-of-type {\n        vertical-align: middle;\n    }\n\n    .dataframe tbody tr th {\n        vertical-align: top;\n    }\n\n    .dataframe thead tr th {\n        text-align: left;\n    }\n\n    .dataframe thead tr:last-of-type th {\n        text-align: right;\n    }\n</style>\n<table border=\"1\" class=\"dataframe\">\n  <thead>\n    <tr>\n      <th></th>\n      <th colspan=\"3\" halign=\"left\">informal</th>\n      <th colspan=\"3\" halign=\"left\">swear</th>\n      <th colspan=\"3\" halign=\"left\">netspeak</th>\n      <th colspan=\"3\" halign=\"left\">assent</th>\n      <th colspan=\"3\" halign=\"left\">nonflu</th>\n      <th colspan=\"3\" halign=\"left\">filler</th>\n    </tr>\n    <tr>\n      <th></th>\n      <th>mean</th>\n      <th>median</th>\n      <th>count</th>\n      <th>mean</th>\n      <th>median</th>\n      <th>count</th>\n      <th>mean</th>\n      <th>median</th>\n      <th>count</th>\n      <th>mean</th>\n      <th>median</th>\n      <th>count</th>\n      <th>mean</th>\n      <th>median</th>\n      <th>count</th>\n      <th>mean</th>\n      <th>median</th>\n      <th>count</th>\n    </tr>\n    <tr>\n      <th>CountryType</th>\n      <th></th>\n      <th></th>\n      <th></th>\n      <th></th>\n      <th></th>\n      <th></th>\n      <th></th>\n      <th></th>\n      <th></th>\n      <th></th>\n      <th></th>\n      <th></th>\n      <th></th>\n      <th></th>\n      <th></th>\n      <th></th>\n      <th></th>\n      <th></th>\n    </tr>\n  </thead>\n  <tbody>\n    <tr>\n      <th>developed</th>\n      <td>3.742365</td>\n      <td>2.86</td>\n      <td>12970</td>\n      <td>3.681901</td>\n      <td>2.86</td>\n      <td>1073</td>\n      <td>3.754333</td>\n      <td>3.03</td>\n      <td>7694</td>\n      <td>3.381199</td>\n      <td>2.78</td>\n      <td>3319</td>\n      <td>2.801276</td>\n      <td>2.44</td>\n      <td>2736</td>\n      <td>3.208905</td>\n      <td>2.78</td>\n      <td>137</td>\n    </tr>\n    <tr>\n      <th>developing</th>\n      <td>3.690217</td>\n      <td>2.94</td>\n      <td>6167</td>\n      <td>3.080915</td>\n      <td>2.30</td>\n      <td>164</td>\n      <td>3.880368</td>\n      <td>3.12</td>\n      <td>3829</td>\n      <td>3.549370</td>\n      <td>2.94</td>\n      <td>1413</td>\n      <td>2.727322</td>\n      <td>2.44</td>\n      <td>1583</td>\n      <td>2.517174</td>\n      <td>2.27</td>\n      <td>46</td>\n    </tr>\n  </tbody>\n</table>\n</div>"
          },
          "metadata": {}
        },
        {
          "output_type": "display_data",
          "data": {
            "text/plain": "                  neg                     pos                compound          \\\n                 mean median  count      mean median  count      mean  median   \nCountryType                                                                     \ndeveloped    0.098658  0.084  32179  0.168554  0.151  74186  0.479704  0.6486   \ndeveloping   0.094129  0.078  14262  0.162288  0.144  35280  0.486810  0.6369   \n\n                    \n             count  \nCountryType         \ndeveloped    78493  \ndeveloping   37536  ",
            "text/html": "<div>\n<style scoped>\n    .dataframe tbody tr th:only-of-type {\n        vertical-align: middle;\n    }\n\n    .dataframe tbody tr th {\n        vertical-align: top;\n    }\n\n    .dataframe thead tr th {\n        text-align: left;\n    }\n\n    .dataframe thead tr:last-of-type th {\n        text-align: right;\n    }\n</style>\n<table border=\"1\" class=\"dataframe\">\n  <thead>\n    <tr>\n      <th></th>\n      <th colspan=\"3\" halign=\"left\">neg</th>\n      <th colspan=\"3\" halign=\"left\">pos</th>\n      <th colspan=\"3\" halign=\"left\">compound</th>\n    </tr>\n    <tr>\n      <th></th>\n      <th>mean</th>\n      <th>median</th>\n      <th>count</th>\n      <th>mean</th>\n      <th>median</th>\n      <th>count</th>\n      <th>mean</th>\n      <th>median</th>\n      <th>count</th>\n    </tr>\n    <tr>\n      <th>CountryType</th>\n      <th></th>\n      <th></th>\n      <th></th>\n      <th></th>\n      <th></th>\n      <th></th>\n      <th></th>\n      <th></th>\n      <th></th>\n    </tr>\n  </thead>\n  <tbody>\n    <tr>\n      <th>developed</th>\n      <td>0.098658</td>\n      <td>0.084</td>\n      <td>32179</td>\n      <td>0.168554</td>\n      <td>0.151</td>\n      <td>74186</td>\n      <td>0.479704</td>\n      <td>0.6486</td>\n      <td>78493</td>\n    </tr>\n    <tr>\n      <th>developing</th>\n      <td>0.094129</td>\n      <td>0.078</td>\n      <td>14262</td>\n      <td>0.162288</td>\n      <td>0.144</td>\n      <td>35280</td>\n      <td>0.486810</td>\n      <td>0.6369</td>\n      <td>37536</td>\n    </tr>\n  </tbody>\n</table>\n</div>"
          },
          "metadata": {}
        }
      ],
      "source": [
        "for LIWCcol in ['AffectWords','CognetiveProcess','PerpetualProcesses','BiologicalProcesses','CoreDrivesandNeeds','TimeOrientation','Relativity','PersonalConcerns','InformalSpeech','Customized']:\n",
        "    colneeded=['CountryCode','CountryType','id']\n",
        "    colneeded.extend(eval(LIWCcol))\n",
        "    aggdict={i:['mean','median','count'] for i in eval(LIWCcol)}\n",
        "    display(T_developed_developing[colneeded].groupby('CountryType').agg(aggdict))"
      ]
    },
    {
      "source": [
        "### Strong against SDGs"
      ],
      "cell_type": "markdown",
      "metadata": {
        "id": "e0iBNWD5Hlbg"
      }
    },
    {
      "cell_type": "code",
      "metadata": {
        "id": "z1wcWCBKAis2"
      },
      "source": [
        "def PrintTopic(df, topicnum=5,keywds=20):\n",
        "  #parameter set-up\n",
        "  count_vect=CountVectorizer(max_df=0.8,min_df=2,stop_words='english')\n",
        "  LDA = LatentDirichletAllocation(n_components=topicnum, random_state=42)\n",
        "  #topic modeling\n",
        "  tweet_matrix=count_vect.fit_transform(df['extended_tweet_lemmatized'].values.astype('U'))\n",
        "  LDA.fit(tweet_matrix)\n",
        "  #print results\n",
        "  '''  for i in top_topic_words:\n",
        "      print(count_vect.get_feature_names()[i])'''\n",
        "  for i,topic in enumerate(LDA.components_):\n",
        "      print(f'Top 20 words for topic #{i}:')\n",
        "      print([count_vect.get_feature_names()[i] for i in topic.argsort()[-keywds:]])\n",
        "      print('\\n')\n",
        "  print('*'*50)\n",
        "  #put topic back to tweets\n",
        "  topic_values = LDA.transform(tweet_matrix)\n",
        "  df['HateTopic']=None\n",
        "  #putinto the main matrix\n",
        "  df.loc[df.index,'HateTopic']=topic_values.argmax(axis=1)\n",
        "  return df\n"
      ],
      "execution_count": 88,
      "outputs": []
    },
    {
      "cell_type": "code",
      "execution_count": 90,
      "metadata": {},
      "outputs": [
        {
          "output_type": "execute_result",
          "data": {
            "text/plain": [
              "(29409, 15555)"
            ]
          },
          "metadata": {},
          "execution_count": 90
        }
      ],
      "source": [
        "len(T[T['compound']>0.9]),len(T[T['compound']<-0.5])"
      ]
    },
    {
      "source": [
        "#### super positive ones"
      ],
      "cell_type": "markdown",
      "metadata": {}
    },
    {
      "cell_type": "code",
      "execution_count": 82,
      "metadata": {},
      "outputs": [
        {
          "output_type": "stream",
          "name": "stdout",
          "text": [
            "take care of yourself the best way you know how. take time you need to recharge. \n#time #mentalhealth #mentalhealthawareness #selfcare #peace #gratitude #grateful #positivevibes #takecare #rechargeyourself #stayblessed #anxiety #love #mentalhealthmatters\n**************************************************\n#investinindia\n\nsolar power  lighting up #newindia's energy future!\nregister for the renewable energy investors meet ; expo to unravel growth opportunities in the clean energy sector: \n\n#3rdreinvest #reinvest2020 #reinvest #sdg7 #investindia @mnreindia \n**************************************************\ntoday is the day of love in the island of love bali, please share beautiful smile today... #bali #love #peace #idwp \n**************************************************\nthese are tumultuous times and everyone is hurting in one way or another. despite the chaos, god loves you and is still in total control. take time to pray,find encouragement and heal your soul. merry christmasand god bess! #pray #peace #god #covid \n\n**************************************************\n\"dreams coming true sir.\ngreat achievement sister.\n@rspraveenswaero \n#swaeroes\n#swaeroism\n#education\n#empowerment \" shravya, our swaero daughter who escaped early marriage in village and joined telangana aviation academy to become commercial pilot. happy that she is clearing all the courses with distinction. cant wait to be the passenger of your first flight, beta. happy navigation. #swaero \n"
          ]
        }
      ],
      "source": [
        "print(*T[T['compound']>0.9]['extended_tweet'].sample(5).tolist(),sep='\\n'+'*'*50+'\\n')"
      ]
    },
    {
      "cell_type": "code",
      "execution_count": 91,
      "metadata": {},
      "outputs": [
        {
          "output_type": "stream",
          "name": "stdout",
          "text": [
            "Top 20 words for topic #0:\n",
            "['nonviolence', 'let', 'great', 'israel', 'today', 'world', 'motivation', 'health', 'award', 'life', 'support', 'people', 'india', 'energy', 'beautiful', 'love', 'thank', 'sdgs', 'justice', 'peace']\n",
            "\n",
            "\n",
            "Top 20 words for topic #1:\n",
            "['today', 'good', 'world', 'commitment', 'year', 'thank', 'justice', 'education', 'solution', 'great', 'make', 'future', 'work', 'peace', 'join', 'support', 'climate', 'help', 'climateaction', 'sdgs']\n",
            "\n",
            "\n",
            "Top 20 words for topic #2:\n",
            "['bless', 'happiness', 'la', 'jesus', 'light', 'kindness', 'truth', 'freedom', 'right', 'life', 'day', 'human', 'happy', 'faith', 'justice', 'hope', 'god', 'joy', 'love', 'peace']\n",
            "\n",
            "\n",
            "Top 20 words for topic #3:\n",
            "['water', 'able', 'like', 'need', 'help', 'space', 'make', 'create', 'time', 'share', 'world', 'christmas', 'support', 'education', 'come', 'energy', 'contribute', 'love', 'peace', 'good']\n",
            "\n",
            "\n",
            "Top 20 words for topic #4:\n",
            "['chance', 'new', 'award', 'sdgs', '2020', 'good', 'people', 'free', 'opportunity', 'student', 'like', 'thank', 'win', 'year', 'join', 'work', 'learn', 'energy', 'great', 'education']\n",
            "\n",
            "\n",
            "**************************************************\n"
          ]
        }
      ],
      "source": [
        "T_pos9=T[T['compound']>0.9]\n",
        "T_pos9=PrintTopic(T_pos9)"
      ]
    },
    {
      "cell_type": "code",
      "execution_count": 115,
      "metadata": {},
      "outputs": [
        {
          "output_type": "execute_result",
          "data": {
            "text/plain": [
              "[('SDG7', 457),\n",
              " ('SDG16', 414),\n",
              " ('SDG3', 348),\n",
              " ('SDG4', 329),\n",
              " ('SDG6', 308),\n",
              " ('SDG5', 307),\n",
              " ('SDG13', 279),\n",
              " ('SDG2', 261),\n",
              " ('SDG11', 243),\n",
              " ('SDG14', 173),\n",
              " ('SDG17', 107),\n",
              " ('SDG8', 103),\n",
              " ('SDG9', 100),\n",
              " ('SDG2030', 90),\n",
              " ('SDG10', 70),\n",
              " ('SDG15', 56),\n",
              " ('SDG12', 55),\n",
              " ('SDG1', 39),\n",
              " ('SDG2020', 9)]"
            ]
          },
          "metadata": {},
          "execution_count": 115
        }
      ],
      "source": [
        "#has sdg in row\n",
        "len(T_pos9[T_pos9['SDG'].apply(lambda x:len(x))>0]),len(T_pos9)\n",
        "#rank\n",
        "T_pos9_SDG=[]\n",
        "for i in T_pos9['SDG'].to_list():\n",
        "    T_pos9_SDG.extend(i)\n",
        "sorted(Counter(T_pos9_SDG).items(),key=lambda x:x[1], reverse=True)"
      ]
    },
    {
      "cell_type": "code",
      "execution_count": 123,
      "metadata": {},
      "outputs": [
        {
          "output_type": "stream",
          "name": "stdout",
          "text": [
            "Topic 0 :\n\ndear me, \nhere's a little reminder for you incase you've forgotten or need one today: you are inspirational.\nlove, \nme \n.\n.\n#kangaroominds #mentalhealth #puttingmentalhealthfirst #youare #heretohear #youarenotalone #bekind #selfcare #sdgs #sdg3 #wellbeing #wellness #selflove \n------------------------------\n\"thank you for words of encouragement, your excellency. \" saw today the most beautiful cows in #india at #govardhan @goecovillage, of @india_iskcon, under the inspiring leadership of @radhanathswami. saw also a huge potential for cooperation w/ #israel in #water, agro-tech, #ecology ; much more. above all- saw beautiful ; devoted people \n------------------------------\ndear us students and trainees: ever wonder what it's like to lobby on legislative bills? curious about how to get involved in the process and see it first hand? join @cughnews ; @cugh_tac  as we lobby on important #globalhealth  issues. apply today!  \n\n**************************************************\n\nTopic 1 :\n\n\"such a great initiative \" food distribution drive.\nas promised hamari pahchan ngo has conducted a food distribution drive today in front of safdarjung hospital. \n#ngo #charity #nonprofit #education #covid #donate #india #volunteer #love #help #children #support #community #change #donation #fundraising \n------------------------------\nin 2014, generation amazing built an indoor pitch in baqaa refugee camp. its an honor to be here today, standing amongst #palestinian girls ; boys, as they continue to use this  safe space facility ; community center and football as a tool to promote gender equality #sdg5  \n------------------------------\n\"such a great idea! @hmcw_science @unimelbmdhs received @nhmrc #ideas funding to learn how 'mr1' alerts immune cells that the body is infected by microbes. this is not well understood and he hopes to discover the cells and molecules that set off the mr1 alarm, to boost immunity.  \" such a great idea! @isabellerouiller @unimelbmdhs  received @nhmrc #ideas funding to look at a novel ion channel that senses mechanical #pain in neurons. understanding this channel (named tacan) will help to develop treatments for chronic pain conditions including #arthritis \n\n**************************************************\n\nTopic 2 :\n\n.. feel \"fortunate\" ; \"grateful\" enough ..\n.. for everything you have in your #life...\n\n.. it'll keep yourself at #peace ....\n.. it'll keep yourself connected to god ...\n\n#gratitude .....\n#lifeisgood #lifeisbeautiful ..\n#thoughts #thoughtoftheday ..... \n------------------------------\nmay the joy of the holidays warm your heart all year long! \n\n#peace #love #joy #joyful #cheerful #family #friends #holidayspirit #holidayfun #holidaycheer \n------------------------------\n\"may god's mercy, peace, and love cascade over you\" jude 1:2 tpt\n\n#peace #joy #hope #christmas #faith #love #cheer #happy\n\n**************************************************\n\nTopic 3 :\n\n\"this info graphic from the brilliant team at @beaconhouseteam could really make @christmas #calm ; your whole life much nicer. @adoptionuk #trauma #education \" day 10 of our resource advent is inspired by @bdperry, these simple brainstem calmers give you simple ideas to build on to help regulate a child who feels too much or too little.  \n------------------------------\nmaking peace with nature in the 21st century is a priority\n\n#evolve #progress #fossilfuel #climateaction #nature #think #patience #photography #smart #artistic #art #expression #reflect #pinterest  #creative #vision #innovation #lifelessons #mindset #gogreen #sustainability\n \n------------------------------\n\"congratulations to lebanon??!!\n\n.@unjankubis what about those sentenced to hard labor for tweeting about peace and talking about peace?\n\nshameless really... \" congratulations to #lebanon and to @ambmudallali  on gaining a membership seat at the un peacebuilding commission for 2021-2022 and a say in broad international #peace efforts!\n\n**************************************************\n\nTopic 4 :\n\n\"nothing but brave and bold beautiful to see here! #jacketpride \"  currently listening to the amazing ss of central present their art work they completed for the social justice and art extracurricular program! over 60 participants!\n. . .\n#ourstudentsareamazing #jacketpride #grabthetissues #socialjustice \n------------------------------\n\"a clear must-read by @blancomarquizo, head of the secretariat of @fctcofficial in @devex!\n\n\"in an ideal world  more mindful of the value of life than of profit   tobacco would never have been a legal product.\"\n\n@fcafortc #cop9week @uicc @stopcorpabuse @unfairtobacco @theggtc \" 'today, the conjunction of two pandemics  the long-simmering tobacco pandemic ; the #covid19 pandemic  has created unprecedented challenges for public health ; development #sdgs'\n\nop-ed by dr adriana @blancomarquizo\n\n\n@sdglab @sdg2030 @worldbank @sdgoals\n------------------------------\n\"nonprofit friends: take the cloud for good salesforce survey, share how technology impacts your organization and be entered to win $100! \" want a chance to win a $100 amazon gift card? take our annual state of salesforce survey in the #nonprofit or #education sectors to enter the drawing!\n\n**************************************************\n\n"
          ]
        }
      ],
      "source": [
        "for i in range(5):\n",
        "    print('Topic',str(i),':\\n')\n",
        "    print(*T_pos9[T_pos9['HateTopic']==i]['extended_tweet'].sample(3).tolist(),sep='\\n'+'-'*30+'\\n')\n",
        "    print('\\n'+'*'*50+'\\n')"
      ]
    },
    {
      "source": [
        "#### super negative ones"
      ],
      "cell_type": "markdown",
      "metadata": {}
    },
    {
      "cell_type": "code",
      "execution_count": 81,
      "metadata": {},
      "outputs": [
        {
          "output_type": "stream",
          "name": "stdout",
          "text": [
            "\"#georgia #criminalperdue belongs behind bars. martha stewart served time for much less!  elect someone who will vote for #economicrelief, for #preexistingconditions protections, #voterprotection. \n#jonossoff has fought for all of that ; #justice,#studentdebtrelief, $15 min wage. \" #criminalperdue belongs behind bars for his insider stock trades, not in the senate. fire his ass!\n\n\n**************************************************\n\"terrorism machine turned the city of flowers into the graveyard of flowers. ihsan r still a royal guest, while thousand of innocent civilians were n torment cell. a progressive nation r not run there country through their civilians blood.\n#aps attack ll never b forgot.\n#justice \" ganay nahi insaf \n#apspeshawar \n**************************************************\n11 billion tons of greenland ice melted in just one day - equivalent to 4 million olympic size swimming pools.\n\nno time to waste, no planet b. #actonclimate\n\n#climateaction #climate #energy #go100re #greennewdeal \n**************************************************\n it's been 5yrs since 197 governments made a pledge to keep global heating under 1.5c. \n\nthey failed to act.\n \ninstead, the #climatecrisis has worsened, increasing the risk of pandemics like #covid19.\n \nits not too late for #climateaction.\n\n#fightfor1point5 #parisagreement \n**************************************************\n79 years ago #onthisday, a #dayofinfamy, over 2400 people were killed in the attack on #pearlharbor, drawing the us into #wwii.\n\n#war is a horrible, tragic thing. almost every day is the #anniversary of a battle and many deaths.\n\nplease. lets work towards a world at #peace. \n"
          ]
        }
      ],
      "source": [
        "print(*T[T['compound']<-0.5]['extended_tweet'].sample(5).tolist(),sep='\\n'+'*'*50+'\\n')"
      ]
    },
    {
      "cell_type": "code",
      "execution_count": 92,
      "metadata": {},
      "outputs": [
        {
          "output_type": "stream",
          "name": "stdout",
          "text": [
            "Top 20 words for topic #0:\n",
            "['min', 'economicrelief', 'senate', 'ass', 'stock', 'protection', 'serve', 'georgia', 'elect', 'wage', 'trade', 'vote', 'fight', '15', 'education', 'time', 'criminalperdue', 'bar', 'belong', 'justice']\n",
            "\n",
            "\n",
            "Top 20 words for topic #1:\n",
            "['greennewdeal', 'amid', 'actonclimate', 'climate', 'corruption', '19', 'planet', 'hunger', 'need', 'face', 'energy', 'covid', 'waste', 'world', 'poverty', 'country', 'time', 'pandemic', 'climateaction', 'justice']\n",
            "\n",
            "\n",
            "Top 20 words for topic #2:\n",
            "['say', 'biodiversity', 'action', 'summit', 'need', 'new', 'country', 'environment', 'people', 'ambition', 'cop26', 'climatechange', 'year', 'world', 'change', 'water', 'sdgs', 'crisis', 'climate', 'climateaction']\n",
            "\n",
            "\n",
            "Top 20 words for topic #3:\n",
            "['global', 'uk', 'right', 'need', 'fail', 'million', 'pandemic', 'poor', 'health', 'make', 'covid', 'school', 'government', 'child', 'year', 'covid19', 'people', 'sdgs', 'education', 'poverty']\n",
            "\n",
            "\n",
            "Top 20 words for topic #4:\n",
            "['human', 'girl', 'poverty', 'life', 'global', 'criminal', 'need', 'day', 'gender', 'refuse', 'climateaction', 'world', 'sdg5', 'stop', 'fight', 'sdgs', 'lie', 'woman', 'violence', 'justice']\n",
            "\n",
            "\n",
            "**************************************************\n"
          ]
        }
      ],
      "source": [
        "T_neg=T[T['compound']<-0.5]\n",
        "T_neg=PrintTopic(T_neg)"
      ]
    },
    {
      "cell_type": "code",
      "execution_count": 114,
      "metadata": {},
      "outputs": [
        {
          "output_type": "stream",
          "name": "stdout",
          "text": [
            "2115 15555\n"
          ]
        },
        {
          "output_type": "execute_result",
          "data": {
            "text/plain": [
              "[('SDG5', 415),\n",
              " ('SDG4', 315),\n",
              " ('SDG2', 256),\n",
              " ('SDG16', 241),\n",
              " ('SDG13', 210),\n",
              " ('SDG3', 196),\n",
              " ('SDG1', 146),\n",
              " ('SDG14', 135),\n",
              " ('SDG7', 109),\n",
              " ('SDG6', 80),\n",
              " ('SDG8', 69),\n",
              " ('SDG10', 61),\n",
              " ('SDG12', 49),\n",
              " ('SDG11', 35),\n",
              " ('SDG15', 34),\n",
              " ('SDG17', 34),\n",
              " ('SDG2030', 30),\n",
              " ('SDG9', 13),\n",
              " ('SDG08', 1)]"
            ]
          },
          "metadata": {},
          "execution_count": 114
        }
      ],
      "source": [
        "#lenth of rows has sdg\n",
        "print(len(T_neg[T_neg['SDG'].apply(lambda x:len(x))>0]),len(T_neg))\n",
        "#rank sdg\n",
        "T_neg_SDG=[]\n",
        "for i in T_neg['SDG'].to_list():\n",
        "    T_neg_SDG.extend(i)\n",
        "sorted(Counter(T_neg_SDG).items(),key=lambda x:x[1], reverse=True)"
      ]
    },
    {
      "cell_type": "code",
      "execution_count": 125,
      "metadata": {},
      "outputs": [
        {
          "output_type": "stream",
          "name": "stdout",
          "text": [
            "Topic 0 :\n",
            "\n",
            "\"please read this thread! \n",
            "#timesup #lymecrime #whistleblower #truth #health #poverty #disabled #chronic \" 10\n",
            "\n",
            "if you want to blow up something before you leave office in a rage? i would direct you to this subject matter because it will never get told if you don't tell it.\n",
            "@cnnbrk @foxnews @nbcnews @cbs @bbcworld @cbseveningnews @newshour @yahoonews @nprhealth \n",
            "read this entire thread\n",
            "------------------------------\n",
            "\"how long we have to wait??\n",
            "how long will we deprived of study??\n",
            "how long we have to suffer??\n",
            "you already wasted a year now enough\n",
            "kindly do something asap #justiceforbhmsstudents\n",
            "@moayush \n",
            "@shripadynaik \n",
            "@cmohry \n",
            "@pmoindia \"    \n",
            "    \n",
            "we want #justice \n",
            "@cmohry @pmoindia @moayush @mlkhattar @anilvijminister \n",
            "#justuceforbhmsstudents \n",
            "------------------------------\n",
            "#educationcannotwait exceeded the #grandbargain target by delivering inclusive quality #education through national + local responders in emergencies and protracted crisis - as directly as possible -  26% of allocations in 2019. #leavenoonebehind #humanitariandevelopment #sdg4 \n",
            "\n",
            "**************************************************\n",
            "\n",
            "Topic 1 :\n",
            "\n",
            "china's glaciers are melting at an alarming rate due to the #climatecrisis.\n",
            "\n",
            "there is no planet b, there is no time to waste. #actonclimate \n",
            "\n",
            "#climate #energy #greennewdeal #buildbackbetter \n",
            "------------------------------\n",
            "every hour a garbage truck of plastic is dumped into the seas. we catch seafood equivalent to the weight of china every year. we need to change course. \n",
            "\n",
            "there's no time to waste. there's no planet b. #greennewdeal.\n",
            "\n",
            "#actonclimate #climate #energy #useless #wasteless #go100re \n",
            "------------------------------\n",
            "@nandini41982051 @itsrahulrajput7 @pmoindia @ianu03 @branded73535187 @chandranidasgu4 @manish3573 @priyadarshipri8 @preetasushant47 @dileeps71437378 @its_rahulsingh_ is this largest democratic country is made up of for #injustice that even after  fighting #justice will not be delivered ?\n",
            "why so much murder in #drugiwood and crime every where ? respond to us #govind and #cbi. is this the reality 4 future generations ???\n",
            "#justice4ssrdec16\n",
            "\n",
            "**************************************************\n",
            "\n",
            "Topic 2 :\n",
            "\n",
            "education for more than 6,000 #palestine children in ein el hilweh refugee camp is affected by multiple crises - including economic, conflict, #covid19. #ecw is supporting these children through @unrwa, delivering inclusive quality #education here and in other camps in #lebanon. \n",
            "------------------------------\n",
            "\"go to hell   leave it in the ground you fossil fuel corporate fascist! \" just in: customers who use #natgas to heat their homes can expect to see bills up to 71% lower than alternatives this winter. listen to @richardmeyerdc on why natural gas continues to be the lowest cost #energy option for home heating:\n",
            "------------------------------\n",
            " yesterdays climate ambition summit was just another climate jamboree with empty promises and plans that dont add up. \n",
            "\n",
            " we've left 2 messages on the cop26 venue in glasgow: net zero 2050? your climate \"ambition\" is a death sentence... \n",
            "\n",
            "#realzero #climateaction \n",
            "\n",
            "**************************************************\n",
            "\n",
            "Topic 3 :\n",
            "\n",
            "how to overcome #poverty \n",
            "------------------------------\n",
            "\"aye @un #humanrightsday?\n",
            "look equal humans #yemen #syria #libya #iraq #palestine #afghanistan ;al\n",
            "ashes by our 100ks bombs\n",
            "look violence on peace #catalonia #westpapua #biafra #standingrock ;al\n",
            "look #16days #violenceagainstwomen\n",
            "do as done by\n",
            "violence wrong\n",
            "me ; mine\n",
            "#peace \" cette dame cossaise arrive  barcelone avec un bouclier sign par @claraponsati, indpendantiste catalane exile politique en cosse. elle confronte la police dans deux langues qu'elle connat, l'anglais et ... le franais. coutez-la ! #catalogne \n",
            "\n",
            "------------------------------\n",
            "#newpaper an interdisciplinary scientific and mathematic education, addressing relevant social problems such as sexist hate speech\n",
            "#hatespeech   \n",
            "#integrated #curriculum\n",
            "#mathematics #education\n",
            "#sexism\n",
            "\n",
            "@informationmdpi\n",
            "@mdpiopenaccess \n",
            "\n",
            "**************************************************\n",
            "\n",
            "Topic 4 :\n",
            "\n",
            "[weekly report] #syria crisis horizon. #ai-powered crisis indicators, unique assessment, archive and up-to-date map. click for pdf download. stay tuned for the latest developments. \n",
            "\n",
            "#middleeast #conflict #peace \n",
            "------------------------------\n",
            "\".@theglobalgoals we are truly humbled and we vow to continue rallying men and boys to join the quest to #endfgm, #endchildmarriage and #endsgbv.\n",
            "#generationequality #goal5 #16days #menendfgm #sdg5 #globalgoals  \" .@menendfgm is a movement of men and boys fighting fgm, child marriage, and other forms of gender-based violence. \n",
            "\n",
            "the group strives to keep the boy child, young men and elders informed by transforming negative masculinities.\n",
            "\n",
            "#generationequality #globalgoals #goal5 #16days \n",
            "------------------------------\n",
            "\"boom!!!  #justice \" threats to democrats or republicans are unacceptable and un-american. theyre even more unbecoming of an elected official. rep. ca johnson has been stripped of her committees and were looking into further disciplinary action as the proper authorities conduct their investigation. \n",
            "\n",
            "**************************************************\n",
            "\n"
          ]
        }
      ],
      "source": [
        "for i in range(5):\n",
        "    print('Topic',str(i),':\\n')\n",
        "    print(*T_neg[T_neg['HateTopic']==i]['extended_tweet'].sample(3).tolist(),sep='\\n'+'-'*30+'\\n')\n",
        "    print('\\n'+'*'*50+'\\n')"
      ]
    },
    {
      "source": [
        "#### select manually"
      ],
      "cell_type": "markdown",
      "metadata": {}
    },
    {
      "cell_type": "code",
      "metadata": {
        "id": "3Gdr_tqb_J-Y",
        "tags": []
      },
      "source": [
        "'''print(*T[T['extended_tweet'].str.contains('propaganda')]['extended_tweet'].drop_duplicates().tolist(),sep='\\n'+'-'*100+'\\n')\n",
        "print(*T[T['extended_tweet'].str.contains('nosdgs')]['extended_tweet'].tolist(),sep='\\n'+'-'*100+'\\n')\n",
        "print(*T[T['extended_tweet'].str.contains('hypocrite')]['extended_tweet'].tolist(),sep='\\n'+'-'*100+'\\n')\n",
        "print(*T[T['extended_tweet'].str.contains('stopsdg')]['extended_tweet'].tolist(),sep='\\n'+'-'*100+'\\n')\n",
        "print(*T[T['extended_tweet'].str.contains('globalism')]['extended_tweet'].drop_duplicates().tolist(),sep='\\n'+'-'*100+'\\n')\n",
        "print(*T[T['extended_tweet'].str.contains('hypocrisy')]['extended_tweet'].drop_duplicates().tolist(),sep='\\n'+'-'*100+'\\n')\n",
        "print(*T[T['extended_tweet'].str.contains('plandemic')]['extended_tweet'].drop_duplicates().tolist(),sep='\\n'+'-'*100+'\\n')'''"
      ],
      "execution_count": null,
      "outputs": []
    },
    {
      "cell_type": "code",
      "metadata": {
        "id": "rjQC5YxnJe6k"
      },
      "source": [
        "StrongAgainst=T[T['extended_tweet'].str.contains('propaganda|nosdgs|hypocrite|stopsdgs|globalism|hypocrisy|plandemic|pcrtestpandemic|thegreatreset|scamdemic|pcrtestpandemic|itsascam|nowef|nonsa|noimf|nocia|stopthegreatreset|noagenda21|noun |nog30',case=False)].drop_duplicates(subset='extended_tweet')#['extended_tweet']#.drop_duplicates()"
      ],
      "execution_count": 188,
      "outputs": []
    },
    {
      "cell_type": "code",
      "execution_count": 190,
      "metadata": {},
      "outputs": [],
      "source": [
        "StrongAgainst=T[T['extended_tweet'].str.contains('propaganda|nosdgs|hypocrite|stopsdgs|globalism|hypocrisy|itsascam|nowef|noagenda21|noun |nog30',case=False)].drop_duplicates(subset='extended_tweet')#['extended_tweet']#.drop_duplicates()"
      ]
    },
    {
      "cell_type": "code",
      "execution_count": 191,
      "metadata": {},
      "outputs": [
        {
          "output_type": "execute_result",
          "data": {
            "text/plain": [
              "count    174.000000\n",
              "mean      -0.171206\n",
              "std        0.633466\n",
              "min       -0.974100\n",
              "25%       -0.742675\n",
              "50%       -0.356950\n",
              "75%        0.421100\n",
              "max        0.979000\n",
              "Name: compound, dtype: float64"
            ]
          },
          "metadata": {},
          "execution_count": 191
        }
      ],
      "source": [
        "StrongAgainst['compound'].describe()"
      ]
    },
    {
      "cell_type": "code",
      "execution_count": 161,
      "metadata": {},
      "outputs": [
        {
          "output_type": "stream",
          "name": "stdout",
          "text": [
            "\"cm @drpramodpsawant cannot hold an assembly session because of #covid19, but he chooses to hold offline #exams for #goas #children risking both their #health ; #education. here is an example of why we should #savegoanow from the @goacm cluelessness ; inconsideration. \" goa youth forward @goaforwardparty strongly opposes the decision of the govt to conduct offline exams. is the cm trying to lay a red carpet for the 2nd wave of #covid19?just for the sake of zp election propaganda?? shame on such incompetent cm @goacm. #savegoanow @vijaisardesai \n------------------------------\njust used hashtag getup, wondered who else might be using it. @getupgoals\nof course its an #agenda21 \n#agenda2030\n#sdg organization designed to imbed change agent propaganda in schools. \ninfiltration everywhere\ncall them out\nrefuse to collaborate \nif no one goes along it stops. \n------------------------------\n\"@christingle17 @pepematter he knows \" reminder: human traff*cking, satanists, pedos ; ritual child sacrifice are real.\n \n#srcusa #newworldorder #writerscommunity #ideas #saveourchildren  #politics #tedgunderson #nancyschaefer #lauragaylersilsby #isaackappy #epstein #toronto #topoli #cdnpoli #stopthegreatreset \n"
          ]
        }
      ],
      "source": [
        "print(*StrongAgainst['extended_tweet'].sample(3).tolist(),sep='\\n'+'-'*30+'\\n')"
      ]
    },
    {
      "cell_type": "code",
      "metadata": {
        "id": "iivJjSQoL3EQ"
      },
      "source": [
        "StrongAgainst_HT=[]\n",
        "for i in StrongAgainst['hashtags'].tolist():\n",
        "  StrongAgainst_HT.extend(i)\n",
        "StrongAgainst_HT=Counter(StrongAgainst_HT)\n",
        "StrongAgainst_HT={i:k for i,k in sorted(StrongAgainst_HT.items(),key=lambda x:x[1],reverse=True)}\n",
        "#del StrongAgainst_HT['#sdg']\n"
      ],
      "execution_count": 140,
      "outputs": []
    },
    {
      "cell_type": "code",
      "execution_count": 183,
      "metadata": {
        "tags": []
      },
      "outputs": [
        {
          "output_type": "stream",
          "name": "stdout",
          "text": [
            "\"\ny\ne\ns\nabout time!\nmass class action lawsuits\n#restoretherepublic #constitutionalgovernance #nopatriotact #nopoliticalparties #makepacsnlobbiesillegal #noreset #noagenda21 #noglobalism #nocentralbank #noimf #noworldbank #vaxaware #nocia #noun #nog30 #nowef #nonsa \" yes !! get crazy now or never !!\n******************************\ntruth @legendaryenergy \n\ntotally open\ntotal freedom\n\n#covid #vaxaware #nopatriotact #constitutionalgovernance #restoretherepublic #makepacsnlobbiesillegal #noreset #noagenda21 #noglobalism #nocentralbank #noimf #noworldbank #nocia #nog30 #nowef #nonsa\n\n******************************\n\"they threw a medical expert in a mental institution 4 disagreeing w the globalist narrative on the experimental #covid vaccine\n\n#vaxaware #nopatriotact #makepacsnlobbiesillegal #noagenda21 #noglobalism #nocentralbank #noimf #noworldbank #nofbi #nocia #noun #nog30 #nowef #nonsa \" expertos con nombre y apellidos cuya opinin es silenciada. este hombre ha sido farmacetico y profesor universitario. ha sido internado en un psquitrico por disidente. solo dan voz a quien apoya la versin oficial.\n\ncon sus actos quedan retratados.\n\n\n******************************\nmore just doing their job\nshut business down yet let blm riot\n\n\n\n#covidhoax #covid #donotcomply #nopatriotact #nopoliticalparties #makepacsnlobbiesillegal #nogreatreset #noagenda21 #noglobalism #nocentralbank #noimf #noworldbank #nocia #nog30 #nowef #nonsa\n******************************\n\"if masks were truly contaminated w covid\nthey'd discard w\nbio hazard waste procedure\n\n#covid #vaxaware #constitutionalgovernance #nopatriotact #nopoliticalparties #makepacsnlobbiesillegal #nogreatreset #noagenda21 #noglobalism #noimf #noworldbank #nocia #noun #nog30 #nowef #nonsa \" just heard on the radio that 102 million disposable face masks are discarded each week in the uk alone.\n\nthink about that for a second.\n\nat least we got rid of plastic straws though eh.\n******************************\n@lawrancewillia2 @legendaryenergy bill gates can't keep a virus out of his software\nyet they trust him near humans?\n#covid #covid19 #vaxaware #donotcomply #nopatriotact #nopoliticalparties #makepacsnlobbiesillegal #nogreatreset #noagenda21 #noglobalism #nocentralbank #noimf #noworldbank #nocia #noun #nog30 #nowef\n******************************\n\"honor martyred truthers\nwho shone light in darkness\n\nalways shine ur light\n\n\n#billcooper #sethrich #garywebb #constitutionalgovernance #nopatriotact #nopoliticalparties #makepacsnlobbiesillegal #nogreatreset #noagenda21 #noglobalism #nocentralbank #noimf #nocia #nofbi \" \n******************************\n\"also mark of the beast system setting up\n#watchmen #revelation #remnant #brethren #ai #restoretherepublic #constitutionalgovernance #nopatriotact #nopoliticalparties #makepacsnlobbiesillegal #nogreatreset #noagenda21 #noglobalism #nocentralbank #noimf #noworldbank #nocia #nowef \" @sfl_france @cypherada only prob~crypto is the tyrants tool\nimf wants fed coin\nur farmed cattle via agenda 21 2030\ncontrol our land resources family \n\namazon sidewalk~5g~starlink\nconnect us 2 iot\nproducts 2b managed\nur life canceled in 1click\n#noimf #noglobalism #nocentralbank #noworldbank #nocia #noun\n******************************\n\"also mark of the beast system setting up\n#watchmen #revelation #remnant #brethren #ai #restoretherepublic #constitutionalgovernance #nopatriotact #nopoliticalparties #makepacsnlobbiesillegal #nogreatreset #noagenda21 #noglobalism #nocentralbank #noimf #noworldbank #nocia #nowef  \" @sfl_france @cypherada only prob~crypto is the tyrants tool\nimf wants fed coin\nur farmed cattle via agenda 21 2030\ncontrol our land resources family \n\namazon sidewalk~5g~starlink\nconnect us 2 iot\nproducts 2b managed\nur life canceled in 1click\n#noimf #noglobalism #nocentralbank #noworldbank #nocia #noun\n******************************\ncanada land rights in threat\n\nglobalists trying to take over the world\n\n#covid #covid19 #vaxaware #nopatriotact #nopoliticalparties #makepacsnlobbiesillegal #nogreatreset #noagenda21 #noglobalism #nocentralbank #noimf #noworldbank\n\nlbry://emergency-broadcast-you-are-going-to#6\n******************************\n\"creator of pcr test\n\ndied 4mo b4 #covid hysteria\nnice 4 wef imf  bankers ; globalist cabal\n\ntells #fauci off frm grave\n\n#vaxaware #nopatriotact #makepacsnlobbiesillegal #noagenda21 #noglobalism #noimf #noworldbank #nocia #noun #nog30 #nowef #nonsa \" kary mullis, pcr test inventor: \"#fauci knows nothing about nothing. the man thinks you can take a blood sample and stick it into an electron microscope and if it's got a virus in there you'll know it! [chuckles]\"\n \n******************************\n\"@cocacola tests positive\n#covid #covid19\nlive @ parliament\n\n@us_fda\nstop vax fast track\n\n#vaxaware #nopatriotact #nopoliticalparties #makepacsnlobbiesillegal #nogreatreset #noagenda21 #noglobalism #nocentralbank #noimf #noworldbank #nocia #nofema #nocia #noun #nog30 #nowef #nonsa \" wow! \nim sterreichischen parlament wird eine #cola live im staats-tv positiv auf #corona getestet!\ndie bunten brllen sich vor rger die seele aus dem leib.\nich brech' weg!\n\nhey: dr. osten, #merkel ; co: da kommen ein paar fragen auf euch zu...\n#lockdownjetzt \n******************************\n@naomirwolf @andrewcuomo ; practicing/giving medical advice/insinuating cure w/o license or dr patient relationship #covid #vaxaware #donotcomply #nopatriotact #nopoliticalparties #makepacsnlobbiesillegal #nogreatreset #noagenda21 #noglobalism #nocentralbank #noimf #noworldbank #nocia #noun #nog30 #nowef\n******************************\n\"@legendaryenergy\ngot2 get 2gether as american\n\n#restoretherepublic \n#constitutionalgovernance #nopatriotact #nopoliticalparties #makepacsnlobbiesillegal #nogreatreset #noagenda21 #noglobalism #noimf #noworldbank #nocia #nofema #nocia #noun #nowef #nonsa \" whatever happened to the 80,000 indictments? the gitmo tribunals? whatever happened to the fisa declass? whatever happened to drain the swamp? whatever happened to save the children in underground tunnels? whatever happened to trust the plan? anyone know?\n******************************\n\"you really don't want this illuminati vaccine full of god only knows what!\n#covid #restoretherepublic #constitutionalgovernance #nopatriotact #nopoliticalparties #makepacsnlobbiesillegal #nogreatreset #noagenda21 #noglobalism #noimf #noworldbank #nocia #noun #nog30 #nowef #nonsa \" pfizer executive was arrested for porn production.  \n******************************\n"
          ]
        }
      ],
      "source": [
        "for i in T[T['extended_tweet'].str.contains('nopatriotact')]['extended_tweet'].tolist():\n",
        "    print(i)\n",
        "    print('*'*30)"
      ]
    },
    {
      "cell_type": "code",
      "metadata": {
        "id": "9glb4PUwFG8T"
      },
      "source": [
        "plt.figure(figsize=(15,8))\n",
        "plt.bar(list(StrongAgainst_HT.keys())[:30],list(StrongAgainst_HT.values())[:30])\n",
        "plt.xticks(rotation=90)\n",
        "plt.show()\n",
        "list(StrongAgainst_HT.keys())[:30]"
      ],
      "execution_count": 141,
      "outputs": [
        {
          "output_type": "display_data",
          "data": {
            "text/plain": "<Figure size 1080x576 with 1 Axes>",
            "image/svg+xml": "<?xml version=\"1.0\" encoding=\"utf-8\" standalone=\"no\"?>\n<!DOCTYPE svg PUBLIC \"-//W3C//DTD SVG 1.1//EN\"\n  \"http://www.w3.org/Graphics/SVG/1.1/DTD/svg11.dtd\">\n<!-- Created with matplotlib (https://matplotlib.org/) -->\n<svg height=\"555.51125pt\" version=\"1.1\" viewBox=\"0 0 877.4875 555.51125\" width=\"877.4875pt\" xmlns=\"http://www.w3.org/2000/svg\" xmlns:xlink=\"http://www.w3.org/1999/xlink\">\n <metadata>\n  <rdf:RDF xmlns:cc=\"http://creativecommons.org/ns#\" xmlns:dc=\"http://purl.org/dc/elements/1.1/\" xmlns:rdf=\"http://www.w3.org/1999/02/22-rdf-syntax-ns#\">\n   <cc:Work>\n    <dc:type rdf:resource=\"http://purl.org/dc/dcmitype/StillImage\"/>\n    <dc:date>2020-12-31T01:29:52.524069</dc:date>\n    <dc:format>image/svg+xml</dc:format>\n    <dc:creator>\n     <cc:Agent>\n      <dc:title>Matplotlib v3.3.1, https://matplotlib.org/</dc:title>\n     </cc:Agent>\n    </dc:creator>\n   </cc:Work>\n  </rdf:RDF>\n </metadata>\n <defs>\n  <style type=\"text/css\">*{stroke-linecap:butt;stroke-linejoin:round;}</style>\n </defs>\n <g id=\"figure_1\">\n  <g id=\"patch_1\">\n   <path d=\"M 0 555.51125 \nL 877.4875 555.51125 \nL 877.4875 0 \nL 0 0 \nz\n\" style=\"fill:none;\"/>\n  </g>\n  <g id=\"axes_1\">\n   <g id=\"patch_2\">\n    <path d=\"M 33.2875 442.08 \nL 870.2875 442.08 \nL 870.2875 7.2 \nL 33.2875 7.2 \nz\n\" style=\"fill:#ffffff;\"/>\n   </g>\n   <g id=\"patch_3\">\n    <path clip-path=\"url(#pe000e700b9)\" d=\"M 71.332955 442.08 \nL 91.760044 442.08 \nL 91.760044 27.908571 \nL 71.332955 27.908571 \nz\n\" style=\"fill:#1f77b4;\"/>\n   </g>\n   <g id=\"patch_4\">\n    <path clip-path=\"url(#pe000e700b9)\" d=\"M 96.866817 442.08 \nL 117.293906 442.08 \nL 117.293906 142.645251 \nL 96.866817 142.645251 \nz\n\" style=\"fill:#1f77b4;\"/>\n   </g>\n   <g id=\"patch_5\">\n    <path clip-path=\"url(#pe000e700b9)\" d=\"M 122.400679 442.08 \nL 142.827768 442.08 \nL 142.827768 153.839073 \nL 122.400679 153.839073 \nz\n\" style=\"fill:#1f77b4;\"/>\n   </g>\n   <g id=\"patch_6\">\n    <path clip-path=\"url(#pe000e700b9)\" d=\"M 147.934541 442.08 \nL 168.361631 442.08 \nL 168.361631 229.397375 \nL 147.934541 229.397375 \nz\n\" style=\"fill:#1f77b4;\"/>\n   </g>\n   <g id=\"patch_7\">\n    <path clip-path=\"url(#pe000e700b9)\" d=\"M 173.468403 442.08 \nL 193.895493 442.08 \nL 193.895493 237.792741 \nL 173.468403 237.792741 \nz\n\" style=\"fill:#1f77b4;\"/>\n   </g>\n   <g id=\"patch_8\">\n    <path clip-path=\"url(#pe000e700b9)\" d=\"M 199.002265 442.08 \nL 219.429355 442.08 \nL 219.429355 240.591197 \nL 199.002265 240.591197 \nz\n\" style=\"fill:#1f77b4;\"/>\n   </g>\n   <g id=\"patch_9\">\n    <path clip-path=\"url(#pe000e700b9)\" d=\"M 224.536127 442.08 \nL 244.963217 442.08 \nL 244.963217 243.389653 \nL 224.536127 243.389653 \nz\n\" style=\"fill:#1f77b4;\"/>\n   </g>\n   <g id=\"patch_10\">\n    <path clip-path=\"url(#pe000e700b9)\" d=\"M 250.069989 442.08 \nL 270.497079 442.08 \nL 270.497079 251.785019 \nL 250.069989 251.785019 \nz\n\" style=\"fill:#1f77b4;\"/>\n   </g>\n   <g id=\"patch_11\">\n    <path clip-path=\"url(#pe000e700b9)\" d=\"M 275.603851 442.08 \nL 296.030941 442.08 \nL 296.030941 262.978842 \nL 275.603851 262.978842 \nz\n\" style=\"fill:#1f77b4;\"/>\n   </g>\n   <g id=\"patch_12\">\n    <path clip-path=\"url(#pe000e700b9)\" d=\"M 301.137714 442.08 \nL 321.564803 442.08 \nL 321.564803 268.575753 \nL 301.137714 268.575753 \nz\n\" style=\"fill:#1f77b4;\"/>\n   </g>\n   <g id=\"patch_13\">\n    <path clip-path=\"url(#pe000e700b9)\" d=\"M 326.671576 442.08 \nL 347.098665 442.08 \nL 347.098665 268.575753 \nL 326.671576 268.575753 \nz\n\" style=\"fill:#1f77b4;\"/>\n   </g>\n   <g id=\"patch_14\">\n    <path clip-path=\"url(#pe000e700b9)\" d=\"M 352.205438 442.08 \nL 372.632527 442.08 \nL 372.632527 271.374208 \nL 352.205438 271.374208 \nz\n\" style=\"fill:#1f77b4;\"/>\n   </g>\n   <g id=\"patch_15\">\n    <path clip-path=\"url(#pe000e700b9)\" d=\"M 377.7393 442.08 \nL 398.16639 442.08 \nL 398.16639 279.769575 \nL 377.7393 279.769575 \nz\n\" style=\"fill:#1f77b4;\"/>\n   </g>\n   <g id=\"patch_16\">\n    <path clip-path=\"url(#pe000e700b9)\" d=\"M 403.273162 442.08 \nL 423.700252 442.08 \nL 423.700252 282.568031 \nL 403.273162 282.568031 \nz\n\" style=\"fill:#1f77b4;\"/>\n   </g>\n   <g id=\"patch_17\">\n    <path clip-path=\"url(#pe000e700b9)\" d=\"M 428.807024 442.08 \nL 449.234114 442.08 \nL 449.234114 282.568031 \nL 428.807024 282.568031 \nz\n\" style=\"fill:#1f77b4;\"/>\n   </g>\n   <g id=\"patch_18\">\n    <path clip-path=\"url(#pe000e700b9)\" d=\"M 454.340886 442.08 \nL 474.767976 442.08 \nL 474.767976 282.568031 \nL 454.340886 282.568031 \nz\n\" style=\"fill:#1f77b4;\"/>\n   </g>\n   <g id=\"patch_19\">\n    <path clip-path=\"url(#pe000e700b9)\" d=\"M 479.874748 442.08 \nL 500.301838 442.08 \nL 500.301838 282.568031 \nL 479.874748 282.568031 \nz\n\" style=\"fill:#1f77b4;\"/>\n   </g>\n   <g id=\"patch_20\">\n    <path clip-path=\"url(#pe000e700b9)\" d=\"M 505.40861 442.08 \nL 525.8357 442.08 \nL 525.8357 282.568031 \nL 505.40861 282.568031 \nz\n\" style=\"fill:#1f77b4;\"/>\n   </g>\n   <g id=\"patch_21\">\n    <path clip-path=\"url(#pe000e700b9)\" d=\"M 530.942473 442.08 \nL 551.369562 442.08 \nL 551.369562 282.568031 \nL 530.942473 282.568031 \nz\n\" style=\"fill:#1f77b4;\"/>\n   </g>\n   <g id=\"patch_22\">\n    <path clip-path=\"url(#pe000e700b9)\" d=\"M 556.476335 442.08 \nL 576.903424 442.08 \nL 576.903424 282.568031 \nL 556.476335 282.568031 \nz\n\" style=\"fill:#1f77b4;\"/>\n   </g>\n   <g id=\"patch_23\">\n    <path clip-path=\"url(#pe000e700b9)\" d=\"M 582.010197 442.08 \nL 602.437286 442.08 \nL 602.437286 293.761853 \nL 582.010197 293.761853 \nz\n\" style=\"fill:#1f77b4;\"/>\n   </g>\n   <g id=\"patch_24\">\n    <path clip-path=\"url(#pe000e700b9)\" d=\"M 607.544059 442.08 \nL 627.971149 442.08 \nL 627.971149 296.560309 \nL 607.544059 296.560309 \nz\n\" style=\"fill:#1f77b4;\"/>\n   </g>\n   <g id=\"patch_25\">\n    <path clip-path=\"url(#pe000e700b9)\" d=\"M 633.077921 442.08 \nL 653.505011 442.08 \nL 653.505011 327.34332 \nL 633.077921 327.34332 \nz\n\" style=\"fill:#1f77b4;\"/>\n   </g>\n   <g id=\"patch_26\">\n    <path clip-path=\"url(#pe000e700b9)\" d=\"M 658.611783 442.08 \nL 679.038873 442.08 \nL 679.038873 335.738687 \nL 658.611783 335.738687 \nz\n\" style=\"fill:#1f77b4;\"/>\n   </g>\n   <g id=\"patch_27\">\n    <path clip-path=\"url(#pe000e700b9)\" d=\"M 684.145645 442.08 \nL 704.572735 442.08 \nL 704.572735 338.537143 \nL 684.145645 338.537143 \nz\n\" style=\"fill:#1f77b4;\"/>\n   </g>\n   <g id=\"patch_28\">\n    <path clip-path=\"url(#pe000e700b9)\" d=\"M 709.679507 442.08 \nL 730.106597 442.08 \nL 730.106597 344.134054 \nL 709.679507 344.134054 \nz\n\" style=\"fill:#1f77b4;\"/>\n   </g>\n   <g id=\"patch_29\">\n    <path clip-path=\"url(#pe000e700b9)\" d=\"M 735.213369 442.08 \nL 755.640459 442.08 \nL 755.640459 346.93251 \nL 735.213369 346.93251 \nz\n\" style=\"fill:#1f77b4;\"/>\n   </g>\n   <g id=\"patch_30\">\n    <path clip-path=\"url(#pe000e700b9)\" d=\"M 760.747232 442.08 \nL 781.174321 442.08 \nL 781.174321 346.93251 \nL 760.747232 346.93251 \nz\n\" style=\"fill:#1f77b4;\"/>\n   </g>\n   <g id=\"patch_31\">\n    <path clip-path=\"url(#pe000e700b9)\" d=\"M 786.281094 442.08 \nL 806.708183 442.08 \nL 806.708183 346.93251 \nL 786.281094 346.93251 \nz\n\" style=\"fill:#1f77b4;\"/>\n   </g>\n   <g id=\"patch_32\">\n    <path clip-path=\"url(#pe000e700b9)\" d=\"M 811.814956 442.08 \nL 832.242045 442.08 \nL 832.242045 346.93251 \nL 811.814956 346.93251 \nz\n\" style=\"fill:#1f77b4;\"/>\n   </g>\n   <g id=\"matplotlib.axis_1\">\n    <g id=\"xtick_1\">\n     <g id=\"line2d_1\">\n      <defs>\n       <path d=\"M 0 0 \nL 0 3.5 \n\" id=\"m73f4387309\" style=\"stroke:#000000;stroke-width:0.8;\"/>\n      </defs>\n      <g>\n       <use style=\"stroke:#000000;stroke-width:0.8;\" x=\"81.546499\" xlink:href=\"#m73f4387309\" y=\"442.08\"/>\n      </g>\n     </g>\n     <g id=\"text_1\">\n      <!-- #sdgs -->\n      <g transform=\"translate(84.305874 480.575312)rotate(-90)scale(0.1 -0.1)\">\n       <defs>\n        <path d=\"M 51.125 44 \nL 36.921875 44 \nL 32.8125 27.6875 \nL 47.125 27.6875 \nz\nM 43.796875 71.78125 \nL 38.71875 51.515625 \nL 52.984375 51.515625 \nL 58.109375 71.78125 \nL 65.921875 71.78125 \nL 60.890625 51.515625 \nL 76.125 51.515625 \nL 76.125 44 \nL 58.984375 44 \nL 54.984375 27.6875 \nL 70.515625 27.6875 \nL 70.515625 20.21875 \nL 53.078125 20.21875 \nL 48 0 \nL 40.1875 0 \nL 45.21875 20.21875 \nL 30.90625 20.21875 \nL 25.875 0 \nL 18.015625 0 \nL 23.09375 20.21875 \nL 7.71875 20.21875 \nL 7.71875 27.6875 \nL 24.90625 27.6875 \nL 29 44 \nL 13.28125 44 \nL 13.28125 51.515625 \nL 30.90625 51.515625 \nL 35.890625 71.78125 \nz\n\" id=\"DejaVuSans-35\"/>\n        <path d=\"M 44.28125 53.078125 \nL 44.28125 44.578125 \nQ 40.484375 46.53125 36.375 47.5 \nQ 32.28125 48.484375 27.875 48.484375 \nQ 21.1875 48.484375 17.84375 46.4375 \nQ 14.5 44.390625 14.5 40.28125 \nQ 14.5 37.15625 16.890625 35.375 \nQ 19.28125 33.59375 26.515625 31.984375 \nL 29.59375 31.296875 \nQ 39.15625 29.25 43.1875 25.515625 \nQ 47.21875 21.78125 47.21875 15.09375 \nQ 47.21875 7.46875 41.1875 3.015625 \nQ 35.15625 -1.421875 24.609375 -1.421875 \nQ 20.21875 -1.421875 15.453125 -0.5625 \nQ 10.6875 0.296875 5.421875 2 \nL 5.421875 11.28125 \nQ 10.40625 8.6875 15.234375 7.390625 \nQ 20.0625 6.109375 24.8125 6.109375 \nQ 31.15625 6.109375 34.5625 8.28125 \nQ 37.984375 10.453125 37.984375 14.40625 \nQ 37.984375 18.0625 35.515625 20.015625 \nQ 33.0625 21.96875 24.703125 23.78125 \nL 21.578125 24.515625 \nQ 13.234375 26.265625 9.515625 29.90625 \nQ 5.8125 33.546875 5.8125 39.890625 \nQ 5.8125 47.609375 11.28125 51.796875 \nQ 16.75 56 26.8125 56 \nQ 31.78125 56 36.171875 55.265625 \nQ 40.578125 54.546875 44.28125 53.078125 \nz\n\" id=\"DejaVuSans-115\"/>\n        <path d=\"M 45.40625 46.390625 \nL 45.40625 75.984375 \nL 54.390625 75.984375 \nL 54.390625 0 \nL 45.40625 0 \nL 45.40625 8.203125 \nQ 42.578125 3.328125 38.25 0.953125 \nQ 33.9375 -1.421875 27.875 -1.421875 \nQ 17.96875 -1.421875 11.734375 6.484375 \nQ 5.515625 14.40625 5.515625 27.296875 \nQ 5.515625 40.1875 11.734375 48.09375 \nQ 17.96875 56 27.875 56 \nQ 33.9375 56 38.25 53.625 \nQ 42.578125 51.265625 45.40625 46.390625 \nz\nM 14.796875 27.296875 \nQ 14.796875 17.390625 18.875 11.75 \nQ 22.953125 6.109375 30.078125 6.109375 \nQ 37.203125 6.109375 41.296875 11.75 \nQ 45.40625 17.390625 45.40625 27.296875 \nQ 45.40625 37.203125 41.296875 42.84375 \nQ 37.203125 48.484375 30.078125 48.484375 \nQ 22.953125 48.484375 18.875 42.84375 \nQ 14.796875 37.203125 14.796875 27.296875 \nz\n\" id=\"DejaVuSans-100\"/>\n        <path d=\"M 45.40625 27.984375 \nQ 45.40625 37.75 41.375 43.109375 \nQ 37.359375 48.484375 30.078125 48.484375 \nQ 22.859375 48.484375 18.828125 43.109375 \nQ 14.796875 37.75 14.796875 27.984375 \nQ 14.796875 18.265625 18.828125 12.890625 \nQ 22.859375 7.515625 30.078125 7.515625 \nQ 37.359375 7.515625 41.375 12.890625 \nQ 45.40625 18.265625 45.40625 27.984375 \nz\nM 54.390625 6.78125 \nQ 54.390625 -7.171875 48.1875 -13.984375 \nQ 42 -20.796875 29.203125 -20.796875 \nQ 24.46875 -20.796875 20.265625 -20.09375 \nQ 16.0625 -19.390625 12.109375 -17.921875 \nL 12.109375 -9.1875 \nQ 16.0625 -11.328125 19.921875 -12.34375 \nQ 23.78125 -13.375 27.78125 -13.375 \nQ 36.625 -13.375 41.015625 -8.765625 \nQ 45.40625 -4.15625 45.40625 5.171875 \nL 45.40625 9.625 \nQ 42.625 4.78125 38.28125 2.390625 \nQ 33.9375 0 27.875 0 \nQ 17.828125 0 11.671875 7.65625 \nQ 5.515625 15.328125 5.515625 27.984375 \nQ 5.515625 40.671875 11.671875 48.328125 \nQ 17.828125 56 27.875 56 \nQ 33.9375 56 38.28125 53.609375 \nQ 42.625 51.21875 45.40625 46.390625 \nL 45.40625 54.6875 \nL 54.390625 54.6875 \nz\n\" id=\"DejaVuSans-103\"/>\n       </defs>\n       <use xlink:href=\"#DejaVuSans-35\"/>\n       <use x=\"83.789062\" xlink:href=\"#DejaVuSans-115\"/>\n       <use x=\"135.888672\" xlink:href=\"#DejaVuSans-100\"/>\n       <use x=\"199.365234\" xlink:href=\"#DejaVuSans-103\"/>\n       <use x=\"262.841797\" xlink:href=\"#DejaVuSans-115\"/>\n      </g>\n     </g>\n    </g>\n    <g id=\"xtick_2\">\n     <g id=\"line2d_2\">\n      <g>\n       <use style=\"stroke:#000000;stroke-width:0.8;\" x=\"107.080362\" xlink:href=\"#m73f4387309\" y=\"442.08\"/>\n      </g>\n     </g>\n     <g id=\"text_2\">\n      <!-- #agenda2030 -->\n      <g transform=\"translate(109.839737 520.353437)rotate(-90)scale(0.1 -0.1)\">\n       <defs>\n        <path d=\"M 34.28125 27.484375 \nQ 23.390625 27.484375 19.1875 25 \nQ 14.984375 22.515625 14.984375 16.5 \nQ 14.984375 11.71875 18.140625 8.90625 \nQ 21.296875 6.109375 26.703125 6.109375 \nQ 34.1875 6.109375 38.703125 11.40625 \nQ 43.21875 16.703125 43.21875 25.484375 \nL 43.21875 27.484375 \nz\nM 52.203125 31.203125 \nL 52.203125 0 \nL 43.21875 0 \nL 43.21875 8.296875 \nQ 40.140625 3.328125 35.546875 0.953125 \nQ 30.953125 -1.421875 24.3125 -1.421875 \nQ 15.921875 -1.421875 10.953125 3.296875 \nQ 6 8.015625 6 15.921875 \nQ 6 25.140625 12.171875 29.828125 \nQ 18.359375 34.515625 30.609375 34.515625 \nL 43.21875 34.515625 \nL 43.21875 35.40625 \nQ 43.21875 41.609375 39.140625 45 \nQ 35.0625 48.390625 27.6875 48.390625 \nQ 23 48.390625 18.546875 47.265625 \nQ 14.109375 46.140625 10.015625 43.890625 \nL 10.015625 52.203125 \nQ 14.9375 54.109375 19.578125 55.046875 \nQ 24.21875 56 28.609375 56 \nQ 40.484375 56 46.34375 49.84375 \nQ 52.203125 43.703125 52.203125 31.203125 \nz\n\" id=\"DejaVuSans-97\"/>\n        <path d=\"M 56.203125 29.59375 \nL 56.203125 25.203125 \nL 14.890625 25.203125 \nQ 15.484375 15.921875 20.484375 11.0625 \nQ 25.484375 6.203125 34.421875 6.203125 \nQ 39.59375 6.203125 44.453125 7.46875 \nQ 49.3125 8.734375 54.109375 11.28125 \nL 54.109375 2.78125 \nQ 49.265625 0.734375 44.1875 -0.34375 \nQ 39.109375 -1.421875 33.890625 -1.421875 \nQ 20.796875 -1.421875 13.15625 6.1875 \nQ 5.515625 13.8125 5.515625 26.8125 \nQ 5.515625 40.234375 12.765625 48.109375 \nQ 20.015625 56 32.328125 56 \nQ 43.359375 56 49.78125 48.890625 \nQ 56.203125 41.796875 56.203125 29.59375 \nz\nM 47.21875 32.234375 \nQ 47.125 39.59375 43.09375 43.984375 \nQ 39.0625 48.390625 32.421875 48.390625 \nQ 24.90625 48.390625 20.390625 44.140625 \nQ 15.875 39.890625 15.1875 32.171875 \nz\n\" id=\"DejaVuSans-101\"/>\n        <path d=\"M 54.890625 33.015625 \nL 54.890625 0 \nL 45.90625 0 \nL 45.90625 32.71875 \nQ 45.90625 40.484375 42.875 44.328125 \nQ 39.84375 48.1875 33.796875 48.1875 \nQ 26.515625 48.1875 22.3125 43.546875 \nQ 18.109375 38.921875 18.109375 30.90625 \nL 18.109375 0 \nL 9.078125 0 \nL 9.078125 54.6875 \nL 18.109375 54.6875 \nL 18.109375 46.1875 \nQ 21.34375 51.125 25.703125 53.5625 \nQ 30.078125 56 35.796875 56 \nQ 45.21875 56 50.046875 50.171875 \nQ 54.890625 44.34375 54.890625 33.015625 \nz\n\" id=\"DejaVuSans-110\"/>\n        <path d=\"M 19.1875 8.296875 \nL 53.609375 8.296875 \nL 53.609375 0 \nL 7.328125 0 \nL 7.328125 8.296875 \nQ 12.9375 14.109375 22.625 23.890625 \nQ 32.328125 33.6875 34.8125 36.53125 \nQ 39.546875 41.84375 41.421875 45.53125 \nQ 43.3125 49.21875 43.3125 52.78125 \nQ 43.3125 58.59375 39.234375 62.25 \nQ 35.15625 65.921875 28.609375 65.921875 \nQ 23.96875 65.921875 18.8125 64.3125 \nQ 13.671875 62.703125 7.8125 59.421875 \nL 7.8125 69.390625 \nQ 13.765625 71.78125 18.9375 73 \nQ 24.125 74.21875 28.421875 74.21875 \nQ 39.75 74.21875 46.484375 68.546875 \nQ 53.21875 62.890625 53.21875 53.421875 \nQ 53.21875 48.921875 51.53125 44.890625 \nQ 49.859375 40.875 45.40625 35.40625 \nQ 44.1875 33.984375 37.640625 27.21875 \nQ 31.109375 20.453125 19.1875 8.296875 \nz\n\" id=\"DejaVuSans-50\"/>\n        <path d=\"M 31.78125 66.40625 \nQ 24.171875 66.40625 20.328125 58.90625 \nQ 16.5 51.421875 16.5 36.375 \nQ 16.5 21.390625 20.328125 13.890625 \nQ 24.171875 6.390625 31.78125 6.390625 \nQ 39.453125 6.390625 43.28125 13.890625 \nQ 47.125 21.390625 47.125 36.375 \nQ 47.125 51.421875 43.28125 58.90625 \nQ 39.453125 66.40625 31.78125 66.40625 \nz\nM 31.78125 74.21875 \nQ 44.046875 74.21875 50.515625 64.515625 \nQ 56.984375 54.828125 56.984375 36.375 \nQ 56.984375 17.96875 50.515625 8.265625 \nQ 44.046875 -1.421875 31.78125 -1.421875 \nQ 19.53125 -1.421875 13.0625 8.265625 \nQ 6.59375 17.96875 6.59375 36.375 \nQ 6.59375 54.828125 13.0625 64.515625 \nQ 19.53125 74.21875 31.78125 74.21875 \nz\n\" id=\"DejaVuSans-48\"/>\n        <path d=\"M 40.578125 39.3125 \nQ 47.65625 37.796875 51.625 33 \nQ 55.609375 28.21875 55.609375 21.1875 \nQ 55.609375 10.40625 48.1875 4.484375 \nQ 40.765625 -1.421875 27.09375 -1.421875 \nQ 22.515625 -1.421875 17.65625 -0.515625 \nQ 12.796875 0.390625 7.625 2.203125 \nL 7.625 11.71875 \nQ 11.71875 9.328125 16.59375 8.109375 \nQ 21.484375 6.890625 26.8125 6.890625 \nQ 36.078125 6.890625 40.9375 10.546875 \nQ 45.796875 14.203125 45.796875 21.1875 \nQ 45.796875 27.640625 41.28125 31.265625 \nQ 36.765625 34.90625 28.71875 34.90625 \nL 20.21875 34.90625 \nL 20.21875 43.015625 \nL 29.109375 43.015625 \nQ 36.375 43.015625 40.234375 45.921875 \nQ 44.09375 48.828125 44.09375 54.296875 \nQ 44.09375 59.90625 40.109375 62.90625 \nQ 36.140625 65.921875 28.71875 65.921875 \nQ 24.65625 65.921875 20.015625 65.03125 \nQ 15.375 64.15625 9.8125 62.3125 \nL 9.8125 71.09375 \nQ 15.4375 72.65625 20.34375 73.4375 \nQ 25.25 74.21875 29.59375 74.21875 \nQ 40.828125 74.21875 47.359375 69.109375 \nQ 53.90625 64.015625 53.90625 55.328125 \nQ 53.90625 49.265625 50.4375 45.09375 \nQ 46.96875 40.921875 40.578125 39.3125 \nz\n\" id=\"DejaVuSans-51\"/>\n       </defs>\n       <use xlink:href=\"#DejaVuSans-35\"/>\n       <use x=\"83.789062\" xlink:href=\"#DejaVuSans-97\"/>\n       <use x=\"145.068359\" xlink:href=\"#DejaVuSans-103\"/>\n       <use x=\"208.544922\" xlink:href=\"#DejaVuSans-101\"/>\n       <use x=\"270.068359\" xlink:href=\"#DejaVuSans-110\"/>\n       <use x=\"333.447266\" xlink:href=\"#DejaVuSans-100\"/>\n       <use x=\"396.923828\" xlink:href=\"#DejaVuSans-97\"/>\n       <use x=\"458.203125\" xlink:href=\"#DejaVuSans-50\"/>\n       <use x=\"521.826172\" xlink:href=\"#DejaVuSans-48\"/>\n       <use x=\"585.449219\" xlink:href=\"#DejaVuSans-51\"/>\n       <use x=\"649.072266\" xlink:href=\"#DejaVuSans-48\"/>\n      </g>\n     </g>\n    </g>\n    <g id=\"xtick_3\">\n     <g id=\"line2d_3\">\n      <g>\n       <use style=\"stroke:#000000;stroke-width:0.8;\" x=\"132.614224\" xlink:href=\"#m73f4387309\" y=\"442.08\"/>\n      </g>\n     </g>\n     <g id=\"text_3\">\n      <!-- #thegreatreset -->\n      <g transform=\"translate(135.373599 525.628437)rotate(-90)scale(0.1 -0.1)\">\n       <defs>\n        <path d=\"M 18.3125 70.21875 \nL 18.3125 54.6875 \nL 36.8125 54.6875 \nL 36.8125 47.703125 \nL 18.3125 47.703125 \nL 18.3125 18.015625 \nQ 18.3125 11.328125 20.140625 9.421875 \nQ 21.96875 7.515625 27.59375 7.515625 \nL 36.8125 7.515625 \nL 36.8125 0 \nL 27.59375 0 \nQ 17.1875 0 13.234375 3.875 \nQ 9.28125 7.765625 9.28125 18.015625 \nL 9.28125 47.703125 \nL 2.6875 47.703125 \nL 2.6875 54.6875 \nL 9.28125 54.6875 \nL 9.28125 70.21875 \nz\n\" id=\"DejaVuSans-116\"/>\n        <path d=\"M 54.890625 33.015625 \nL 54.890625 0 \nL 45.90625 0 \nL 45.90625 32.71875 \nQ 45.90625 40.484375 42.875 44.328125 \nQ 39.84375 48.1875 33.796875 48.1875 \nQ 26.515625 48.1875 22.3125 43.546875 \nQ 18.109375 38.921875 18.109375 30.90625 \nL 18.109375 0 \nL 9.078125 0 \nL 9.078125 75.984375 \nL 18.109375 75.984375 \nL 18.109375 46.1875 \nQ 21.34375 51.125 25.703125 53.5625 \nQ 30.078125 56 35.796875 56 \nQ 45.21875 56 50.046875 50.171875 \nQ 54.890625 44.34375 54.890625 33.015625 \nz\n\" id=\"DejaVuSans-104\"/>\n        <path d=\"M 41.109375 46.296875 \nQ 39.59375 47.171875 37.8125 47.578125 \nQ 36.03125 48 33.890625 48 \nQ 26.265625 48 22.1875 43.046875 \nQ 18.109375 38.09375 18.109375 28.8125 \nL 18.109375 0 \nL 9.078125 0 \nL 9.078125 54.6875 \nL 18.109375 54.6875 \nL 18.109375 46.1875 \nQ 20.953125 51.171875 25.484375 53.578125 \nQ 30.03125 56 36.53125 56 \nQ 37.453125 56 38.578125 55.875 \nQ 39.703125 55.765625 41.0625 55.515625 \nz\n\" id=\"DejaVuSans-114\"/>\n       </defs>\n       <use xlink:href=\"#DejaVuSans-35\"/>\n       <use x=\"83.789062\" xlink:href=\"#DejaVuSans-116\"/>\n       <use x=\"122.998047\" xlink:href=\"#DejaVuSans-104\"/>\n       <use x=\"186.376953\" xlink:href=\"#DejaVuSans-101\"/>\n       <use x=\"247.900391\" xlink:href=\"#DejaVuSans-103\"/>\n       <use x=\"311.376953\" xlink:href=\"#DejaVuSans-114\"/>\n       <use x=\"350.240234\" xlink:href=\"#DejaVuSans-101\"/>\n       <use x=\"411.763672\" xlink:href=\"#DejaVuSans-97\"/>\n       <use x=\"473.042969\" xlink:href=\"#DejaVuSans-116\"/>\n       <use x=\"512.251953\" xlink:href=\"#DejaVuSans-114\"/>\n       <use x=\"551.115234\" xlink:href=\"#DejaVuSans-101\"/>\n       <use x=\"612.638672\" xlink:href=\"#DejaVuSans-115\"/>\n       <use x=\"664.738281\" xlink:href=\"#DejaVuSans-101\"/>\n       <use x=\"726.261719\" xlink:href=\"#DejaVuSans-116\"/>\n      </g>\n     </g>\n    </g>\n    <g id=\"xtick_4\">\n     <g id=\"line2d_4\">\n      <g>\n       <use style=\"stroke:#000000;stroke-width:0.8;\" x=\"158.148086\" xlink:href=\"#m73f4387309\" y=\"442.08\"/>\n      </g>\n     </g>\n     <g id=\"text_4\">\n      <!-- #politics -->\n      <g transform=\"translate(160.907461 492.889375)rotate(-90)scale(0.1 -0.1)\">\n       <defs>\n        <path d=\"M 18.109375 8.203125 \nL 18.109375 -20.796875 \nL 9.078125 -20.796875 \nL 9.078125 54.6875 \nL 18.109375 54.6875 \nL 18.109375 46.390625 \nQ 20.953125 51.265625 25.265625 53.625 \nQ 29.59375 56 35.59375 56 \nQ 45.5625 56 51.78125 48.09375 \nQ 58.015625 40.1875 58.015625 27.296875 \nQ 58.015625 14.40625 51.78125 6.484375 \nQ 45.5625 -1.421875 35.59375 -1.421875 \nQ 29.59375 -1.421875 25.265625 0.953125 \nQ 20.953125 3.328125 18.109375 8.203125 \nz\nM 48.6875 27.296875 \nQ 48.6875 37.203125 44.609375 42.84375 \nQ 40.53125 48.484375 33.40625 48.484375 \nQ 26.265625 48.484375 22.1875 42.84375 \nQ 18.109375 37.203125 18.109375 27.296875 \nQ 18.109375 17.390625 22.1875 11.75 \nQ 26.265625 6.109375 33.40625 6.109375 \nQ 40.53125 6.109375 44.609375 11.75 \nQ 48.6875 17.390625 48.6875 27.296875 \nz\n\" id=\"DejaVuSans-112\"/>\n        <path d=\"M 30.609375 48.390625 \nQ 23.390625 48.390625 19.1875 42.75 \nQ 14.984375 37.109375 14.984375 27.296875 \nQ 14.984375 17.484375 19.15625 11.84375 \nQ 23.34375 6.203125 30.609375 6.203125 \nQ 37.796875 6.203125 41.984375 11.859375 \nQ 46.1875 17.53125 46.1875 27.296875 \nQ 46.1875 37.015625 41.984375 42.703125 \nQ 37.796875 48.390625 30.609375 48.390625 \nz\nM 30.609375 56 \nQ 42.328125 56 49.015625 48.375 \nQ 55.71875 40.765625 55.71875 27.296875 \nQ 55.71875 13.875 49.015625 6.21875 \nQ 42.328125 -1.421875 30.609375 -1.421875 \nQ 18.84375 -1.421875 12.171875 6.21875 \nQ 5.515625 13.875 5.515625 27.296875 \nQ 5.515625 40.765625 12.171875 48.375 \nQ 18.84375 56 30.609375 56 \nz\n\" id=\"DejaVuSans-111\"/>\n        <path d=\"M 9.421875 75.984375 \nL 18.40625 75.984375 \nL 18.40625 0 \nL 9.421875 0 \nz\n\" id=\"DejaVuSans-108\"/>\n        <path d=\"M 9.421875 54.6875 \nL 18.40625 54.6875 \nL 18.40625 0 \nL 9.421875 0 \nz\nM 9.421875 75.984375 \nL 18.40625 75.984375 \nL 18.40625 64.59375 \nL 9.421875 64.59375 \nz\n\" id=\"DejaVuSans-105\"/>\n        <path d=\"M 48.78125 52.59375 \nL 48.78125 44.1875 \nQ 44.96875 46.296875 41.140625 47.34375 \nQ 37.3125 48.390625 33.40625 48.390625 \nQ 24.65625 48.390625 19.8125 42.84375 \nQ 14.984375 37.3125 14.984375 27.296875 \nQ 14.984375 17.28125 19.8125 11.734375 \nQ 24.65625 6.203125 33.40625 6.203125 \nQ 37.3125 6.203125 41.140625 7.25 \nQ 44.96875 8.296875 48.78125 10.40625 \nL 48.78125 2.09375 \nQ 45.015625 0.34375 40.984375 -0.53125 \nQ 36.96875 -1.421875 32.421875 -1.421875 \nQ 20.0625 -1.421875 12.78125 6.34375 \nQ 5.515625 14.109375 5.515625 27.296875 \nQ 5.515625 40.671875 12.859375 48.328125 \nQ 20.21875 56 33.015625 56 \nQ 37.15625 56 41.109375 55.140625 \nQ 45.0625 54.296875 48.78125 52.59375 \nz\n\" id=\"DejaVuSans-99\"/>\n       </defs>\n       <use xlink:href=\"#DejaVuSans-35\"/>\n       <use x=\"83.789062\" xlink:href=\"#DejaVuSans-112\"/>\n       <use x=\"147.265625\" xlink:href=\"#DejaVuSans-111\"/>\n       <use x=\"208.447266\" xlink:href=\"#DejaVuSans-108\"/>\n       <use x=\"236.230469\" xlink:href=\"#DejaVuSans-105\"/>\n       <use x=\"264.013672\" xlink:href=\"#DejaVuSans-116\"/>\n       <use x=\"303.222656\" xlink:href=\"#DejaVuSans-105\"/>\n       <use x=\"331.005859\" xlink:href=\"#DejaVuSans-99\"/>\n       <use x=\"385.986328\" xlink:href=\"#DejaVuSans-115\"/>\n      </g>\n     </g>\n    </g>\n    <g id=\"xtick_5\">\n     <g id=\"line2d_5\">\n      <g>\n       <use style=\"stroke:#000000;stroke-width:0.8;\" x=\"183.681948\" xlink:href=\"#m73f4387309\" y=\"442.08\"/>\n      </g>\n     </g>\n     <g id=\"text_5\">\n      <!-- #ideas -->\n      <g transform=\"translate(186.441323 484.076875)rotate(-90)scale(0.1 -0.1)\">\n       <use xlink:href=\"#DejaVuSans-35\"/>\n       <use x=\"83.789062\" xlink:href=\"#DejaVuSans-105\"/>\n       <use x=\"111.572266\" xlink:href=\"#DejaVuSans-100\"/>\n       <use x=\"175.048828\" xlink:href=\"#DejaVuSans-101\"/>\n       <use x=\"236.572266\" xlink:href=\"#DejaVuSans-97\"/>\n       <use x=\"297.851562\" xlink:href=\"#DejaVuSans-115\"/>\n      </g>\n     </g>\n    </g>\n    <g id=\"xtick_6\">\n     <g id=\"line2d_6\">\n      <g>\n       <use style=\"stroke:#000000;stroke-width:0.8;\" x=\"209.21581\" xlink:href=\"#m73f4387309\" y=\"442.08\"/>\n      </g>\n     </g>\n     <g id=\"text_6\">\n      <!-- #toronto -->\n      <g transform=\"translate(211.975185 493.88)rotate(-90)scale(0.1 -0.1)\">\n       <use xlink:href=\"#DejaVuSans-35\"/>\n       <use x=\"83.789062\" xlink:href=\"#DejaVuSans-116\"/>\n       <use x=\"122.998047\" xlink:href=\"#DejaVuSans-111\"/>\n       <use x=\"184.179688\" xlink:href=\"#DejaVuSans-114\"/>\n       <use x=\"223.042969\" xlink:href=\"#DejaVuSans-111\"/>\n       <use x=\"284.224609\" xlink:href=\"#DejaVuSans-110\"/>\n       <use x=\"347.603516\" xlink:href=\"#DejaVuSans-116\"/>\n       <use x=\"386.8125\" xlink:href=\"#DejaVuSans-111\"/>\n      </g>\n     </g>\n    </g>\n    <g id=\"xtick_7\">\n     <g id=\"line2d_7\">\n      <g>\n       <use style=\"stroke:#000000;stroke-width:0.8;\" x=\"234.749672\" xlink:href=\"#m73f4387309\" y=\"442.08\"/>\n      </g>\n     </g>\n     <g id=\"text_7\">\n      <!-- #stopthegreatreset -->\n      <g transform=\"translate(237.509047 547.225312)rotate(-90)scale(0.1 -0.1)\">\n       <use xlink:href=\"#DejaVuSans-35\"/>\n       <use x=\"83.789062\" xlink:href=\"#DejaVuSans-115\"/>\n       <use x=\"135.888672\" xlink:href=\"#DejaVuSans-116\"/>\n       <use x=\"175.097656\" xlink:href=\"#DejaVuSans-111\"/>\n       <use x=\"236.279297\" xlink:href=\"#DejaVuSans-112\"/>\n       <use x=\"299.755859\" xlink:href=\"#DejaVuSans-116\"/>\n       <use x=\"338.964844\" xlink:href=\"#DejaVuSans-104\"/>\n       <use x=\"402.34375\" xlink:href=\"#DejaVuSans-101\"/>\n       <use x=\"463.867188\" xlink:href=\"#DejaVuSans-103\"/>\n       <use x=\"527.34375\" xlink:href=\"#DejaVuSans-114\"/>\n       <use x=\"566.207031\" xlink:href=\"#DejaVuSans-101\"/>\n       <use x=\"627.730469\" xlink:href=\"#DejaVuSans-97\"/>\n       <use x=\"689.009766\" xlink:href=\"#DejaVuSans-116\"/>\n       <use x=\"728.21875\" xlink:href=\"#DejaVuSans-114\"/>\n       <use x=\"767.082031\" xlink:href=\"#DejaVuSans-101\"/>\n       <use x=\"828.605469\" xlink:href=\"#DejaVuSans-115\"/>\n       <use x=\"880.705078\" xlink:href=\"#DejaVuSans-101\"/>\n       <use x=\"942.228516\" xlink:href=\"#DejaVuSans-116\"/>\n      </g>\n     </g>\n    </g>\n    <g id=\"xtick_8\">\n     <g id=\"line2d_8\">\n      <g>\n       <use style=\"stroke:#000000;stroke-width:0.8;\" x=\"260.283534\" xlink:href=\"#m73f4387309\" y=\"442.08\"/>\n      </g>\n     </g>\n     <g id=\"text_8\">\n      <!-- #savegoanow -->\n      <g transform=\"translate(263.042909 520.09875)rotate(-90)scale(0.1 -0.1)\">\n       <defs>\n        <path d=\"M 2.984375 54.6875 \nL 12.5 54.6875 \nL 29.59375 8.796875 \nL 46.6875 54.6875 \nL 56.203125 54.6875 \nL 35.6875 0 \nL 23.484375 0 \nz\n\" id=\"DejaVuSans-118\"/>\n        <path d=\"M 4.203125 54.6875 \nL 13.1875 54.6875 \nL 24.421875 12.015625 \nL 35.59375 54.6875 \nL 46.1875 54.6875 \nL 57.421875 12.015625 \nL 68.609375 54.6875 \nL 77.59375 54.6875 \nL 63.28125 0 \nL 52.6875 0 \nL 40.921875 44.828125 \nL 29.109375 0 \nL 18.5 0 \nz\n\" id=\"DejaVuSans-119\"/>\n       </defs>\n       <use xlink:href=\"#DejaVuSans-35\"/>\n       <use x=\"83.789062\" xlink:href=\"#DejaVuSans-115\"/>\n       <use x=\"135.888672\" xlink:href=\"#DejaVuSans-97\"/>\n       <use x=\"197.167969\" xlink:href=\"#DejaVuSans-118\"/>\n       <use x=\"256.347656\" xlink:href=\"#DejaVuSans-101\"/>\n       <use x=\"317.871094\" xlink:href=\"#DejaVuSans-103\"/>\n       <use x=\"381.347656\" xlink:href=\"#DejaVuSans-111\"/>\n       <use x=\"442.529297\" xlink:href=\"#DejaVuSans-97\"/>\n       <use x=\"503.808594\" xlink:href=\"#DejaVuSans-110\"/>\n       <use x=\"567.1875\" xlink:href=\"#DejaVuSans-111\"/>\n       <use x=\"628.369141\" xlink:href=\"#DejaVuSans-119\"/>\n      </g>\n     </g>\n    </g>\n    <g id=\"xtick_9\">\n     <g id=\"line2d_9\">\n      <g>\n       <use style=\"stroke:#000000;stroke-width:0.8;\" x=\"285.817396\" xlink:href=\"#m73f4387309\" y=\"442.08\"/>\n      </g>\n     </g>\n     <g id=\"text_9\">\n      <!-- #cdnpoli -->\n      <g transform=\"translate(288.576771 493.6675)rotate(-90)scale(0.1 -0.1)\">\n       <use xlink:href=\"#DejaVuSans-35\"/>\n       <use x=\"83.789062\" xlink:href=\"#DejaVuSans-99\"/>\n       <use x=\"138.769531\" xlink:href=\"#DejaVuSans-100\"/>\n       <use x=\"202.246094\" xlink:href=\"#DejaVuSans-110\"/>\n       <use x=\"265.625\" xlink:href=\"#DejaVuSans-112\"/>\n       <use x=\"329.101562\" xlink:href=\"#DejaVuSans-111\"/>\n       <use x=\"390.283203\" xlink:href=\"#DejaVuSans-108\"/>\n       <use x=\"418.066406\" xlink:href=\"#DejaVuSans-105\"/>\n      </g>\n     </g>\n    </g>\n    <g id=\"xtick_10\">\n     <g id=\"line2d_10\">\n      <g>\n       <use style=\"stroke:#000000;stroke-width:0.8;\" x=\"311.351258\" xlink:href=\"#m73f4387309\" y=\"442.08\"/>\n      </g>\n     </g>\n     <g id=\"text_10\">\n      <!-- #covid19 -->\n      <g transform=\"translate(314.110633 496.847187)rotate(-90)scale(0.1 -0.1)\">\n       <defs>\n        <path d=\"M 12.40625 8.296875 \nL 28.515625 8.296875 \nL 28.515625 63.921875 \nL 10.984375 60.40625 \nL 10.984375 69.390625 \nL 28.421875 72.90625 \nL 38.28125 72.90625 \nL 38.28125 8.296875 \nL 54.390625 8.296875 \nL 54.390625 0 \nL 12.40625 0 \nz\n\" id=\"DejaVuSans-49\"/>\n        <path d=\"M 10.984375 1.515625 \nL 10.984375 10.5 \nQ 14.703125 8.734375 18.5 7.8125 \nQ 22.3125 6.890625 25.984375 6.890625 \nQ 35.75 6.890625 40.890625 13.453125 \nQ 46.046875 20.015625 46.78125 33.40625 \nQ 43.953125 29.203125 39.59375 26.953125 \nQ 35.25 24.703125 29.984375 24.703125 \nQ 19.046875 24.703125 12.671875 31.3125 \nQ 6.296875 37.9375 6.296875 49.421875 \nQ 6.296875 60.640625 12.9375 67.421875 \nQ 19.578125 74.21875 30.609375 74.21875 \nQ 43.265625 74.21875 49.921875 64.515625 \nQ 56.59375 54.828125 56.59375 36.375 \nQ 56.59375 19.140625 48.40625 8.859375 \nQ 40.234375 -1.421875 26.421875 -1.421875 \nQ 22.703125 -1.421875 18.890625 -0.6875 \nQ 15.09375 0.046875 10.984375 1.515625 \nz\nM 30.609375 32.421875 \nQ 37.25 32.421875 41.125 36.953125 \nQ 45.015625 41.5 45.015625 49.421875 \nQ 45.015625 57.28125 41.125 61.84375 \nQ 37.25 66.40625 30.609375 66.40625 \nQ 23.96875 66.40625 20.09375 61.84375 \nQ 16.21875 57.28125 16.21875 49.421875 \nQ 16.21875 41.5 20.09375 36.953125 \nQ 23.96875 32.421875 30.609375 32.421875 \nz\n\" id=\"DejaVuSans-57\"/>\n       </defs>\n       <use xlink:href=\"#DejaVuSans-35\"/>\n       <use x=\"83.789062\" xlink:href=\"#DejaVuSans-99\"/>\n       <use x=\"138.769531\" xlink:href=\"#DejaVuSans-111\"/>\n       <use x=\"199.951172\" xlink:href=\"#DejaVuSans-118\"/>\n       <use x=\"259.130859\" xlink:href=\"#DejaVuSans-105\"/>\n       <use x=\"286.914062\" xlink:href=\"#DejaVuSans-100\"/>\n       <use x=\"350.390625\" xlink:href=\"#DejaVuSans-49\"/>\n       <use x=\"414.013672\" xlink:href=\"#DejaVuSans-57\"/>\n      </g>\n     </g>\n    </g>\n    <g id=\"xtick_11\">\n     <g id=\"line2d_11\">\n      <g>\n       <use style=\"stroke:#000000;stroke-width:0.8;\" x=\"336.885121\" xlink:href=\"#m73f4387309\" y=\"442.08\"/>\n      </g>\n     </g>\n     <g id=\"text_11\">\n      <!-- #newworldorder -->\n      <g transform=\"translate(339.644496 532.33)rotate(-90)scale(0.1 -0.1)\">\n       <use xlink:href=\"#DejaVuSans-35\"/>\n       <use x=\"83.789062\" xlink:href=\"#DejaVuSans-110\"/>\n       <use x=\"147.167969\" xlink:href=\"#DejaVuSans-101\"/>\n       <use x=\"208.691406\" xlink:href=\"#DejaVuSans-119\"/>\n       <use x=\"290.478516\" xlink:href=\"#DejaVuSans-119\"/>\n       <use x=\"372.265625\" xlink:href=\"#DejaVuSans-111\"/>\n       <use x=\"433.447266\" xlink:href=\"#DejaVuSans-114\"/>\n       <use x=\"474.560547\" xlink:href=\"#DejaVuSans-108\"/>\n       <use x=\"502.34375\" xlink:href=\"#DejaVuSans-100\"/>\n       <use x=\"565.820312\" xlink:href=\"#DejaVuSans-111\"/>\n       <use x=\"627.001953\" xlink:href=\"#DejaVuSans-114\"/>\n       <use x=\"666.365234\" xlink:href=\"#DejaVuSans-100\"/>\n       <use x=\"729.841797\" xlink:href=\"#DejaVuSans-101\"/>\n       <use x=\"791.365234\" xlink:href=\"#DejaVuSans-114\"/>\n      </g>\n     </g>\n    </g>\n    <g id=\"xtick_12\">\n     <g id=\"line2d_12\">\n      <g>\n       <use style=\"stroke:#000000;stroke-width:0.8;\" x=\"362.418983\" xlink:href=\"#m73f4387309\" y=\"442.08\"/>\n      </g>\n     </g>\n     <g id=\"text_12\">\n      <!-- #topoli -->\n      <g transform=\"translate(365.178358 485.522187)rotate(-90)scale(0.1 -0.1)\">\n       <use xlink:href=\"#DejaVuSans-35\"/>\n       <use x=\"83.789062\" xlink:href=\"#DejaVuSans-116\"/>\n       <use x=\"122.998047\" xlink:href=\"#DejaVuSans-111\"/>\n       <use x=\"184.179688\" xlink:href=\"#DejaVuSans-112\"/>\n       <use x=\"247.65625\" xlink:href=\"#DejaVuSans-111\"/>\n       <use x=\"308.837891\" xlink:href=\"#DejaVuSans-108\"/>\n       <use x=\"336.621094\" xlink:href=\"#DejaVuSans-105\"/>\n      </g>\n     </g>\n    </g>\n    <g id=\"xtick_13\">\n     <g id=\"line2d_13\">\n      <g>\n       <use style=\"stroke:#000000;stroke-width:0.8;\" x=\"387.952845\" xlink:href=\"#m73f4387309\" y=\"442.08\"/>\n      </g>\n     </g>\n     <g id=\"text_13\">\n      <!-- #saveourchildren -->\n      <g transform=\"translate(390.71222 537.328437)rotate(-90)scale(0.1 -0.1)\">\n       <defs>\n        <path d=\"M 8.5 21.578125 \nL 8.5 54.6875 \nL 17.484375 54.6875 \nL 17.484375 21.921875 \nQ 17.484375 14.15625 20.5 10.265625 \nQ 23.53125 6.390625 29.59375 6.390625 \nQ 36.859375 6.390625 41.078125 11.03125 \nQ 45.3125 15.671875 45.3125 23.6875 \nL 45.3125 54.6875 \nL 54.296875 54.6875 \nL 54.296875 0 \nL 45.3125 0 \nL 45.3125 8.40625 \nQ 42.046875 3.421875 37.71875 1 \nQ 33.40625 -1.421875 27.6875 -1.421875 \nQ 18.265625 -1.421875 13.375 4.4375 \nQ 8.5 10.296875 8.5 21.578125 \nz\nM 31.109375 56 \nz\n\" id=\"DejaVuSans-117\"/>\n       </defs>\n       <use xlink:href=\"#DejaVuSans-35\"/>\n       <use x=\"83.789062\" xlink:href=\"#DejaVuSans-115\"/>\n       <use x=\"135.888672\" xlink:href=\"#DejaVuSans-97\"/>\n       <use x=\"197.167969\" xlink:href=\"#DejaVuSans-118\"/>\n       <use x=\"256.347656\" xlink:href=\"#DejaVuSans-101\"/>\n       <use x=\"317.871094\" xlink:href=\"#DejaVuSans-111\"/>\n       <use x=\"379.052734\" xlink:href=\"#DejaVuSans-117\"/>\n       <use x=\"442.431641\" xlink:href=\"#DejaVuSans-114\"/>\n       <use x=\"481.294922\" xlink:href=\"#DejaVuSans-99\"/>\n       <use x=\"536.275391\" xlink:href=\"#DejaVuSans-104\"/>\n       <use x=\"599.654297\" xlink:href=\"#DejaVuSans-105\"/>\n       <use x=\"627.4375\" xlink:href=\"#DejaVuSans-108\"/>\n       <use x=\"655.220703\" xlink:href=\"#DejaVuSans-100\"/>\n       <use x=\"718.697266\" xlink:href=\"#DejaVuSans-114\"/>\n       <use x=\"757.560547\" xlink:href=\"#DejaVuSans-101\"/>\n       <use x=\"819.083984\" xlink:href=\"#DejaVuSans-110\"/>\n      </g>\n     </g>\n    </g>\n    <g id=\"xtick_14\">\n     <g id=\"line2d_14\">\n      <g>\n       <use style=\"stroke:#000000;stroke-width:0.8;\" x=\"413.486707\" xlink:href=\"#m73f4387309\" y=\"442.08\"/>\n      </g>\n     </g>\n     <g id=\"text_14\">\n      <!-- #srcusa -->\n      <g transform=\"translate(416.246082 489.728437)rotate(-90)scale(0.1 -0.1)\">\n       <use xlink:href=\"#DejaVuSans-35\"/>\n       <use x=\"83.789062\" xlink:href=\"#DejaVuSans-115\"/>\n       <use x=\"135.888672\" xlink:href=\"#DejaVuSans-114\"/>\n       <use x=\"174.751953\" xlink:href=\"#DejaVuSans-99\"/>\n       <use x=\"229.732422\" xlink:href=\"#DejaVuSans-117\"/>\n       <use x=\"293.111328\" xlink:href=\"#DejaVuSans-115\"/>\n       <use x=\"345.210938\" xlink:href=\"#DejaVuSans-97\"/>\n      </g>\n     </g>\n    </g>\n    <g id=\"xtick_15\">\n     <g id=\"line2d_15\">\n      <g>\n       <use style=\"stroke:#000000;stroke-width:0.8;\" x=\"439.020569\" xlink:href=\"#m73f4387309\" y=\"442.08\"/>\n      </g>\n     </g>\n     <g id=\"text_15\">\n      <!-- #writerscommunity -->\n      <g transform=\"translate(441.779944 548.31125)rotate(-90)scale(0.1 -0.1)\">\n       <defs>\n        <path d=\"M 52 44.1875 \nQ 55.375 50.25 60.0625 53.125 \nQ 64.75 56 71.09375 56 \nQ 79.640625 56 84.28125 50.015625 \nQ 88.921875 44.046875 88.921875 33.015625 \nL 88.921875 0 \nL 79.890625 0 \nL 79.890625 32.71875 \nQ 79.890625 40.578125 77.09375 44.375 \nQ 74.3125 48.1875 68.609375 48.1875 \nQ 61.625 48.1875 57.5625 43.546875 \nQ 53.515625 38.921875 53.515625 30.90625 \nL 53.515625 0 \nL 44.484375 0 \nL 44.484375 32.71875 \nQ 44.484375 40.625 41.703125 44.40625 \nQ 38.921875 48.1875 33.109375 48.1875 \nQ 26.21875 48.1875 22.15625 43.53125 \nQ 18.109375 38.875 18.109375 30.90625 \nL 18.109375 0 \nL 9.078125 0 \nL 9.078125 54.6875 \nL 18.109375 54.6875 \nL 18.109375 46.1875 \nQ 21.1875 51.21875 25.484375 53.609375 \nQ 29.78125 56 35.6875 56 \nQ 41.65625 56 45.828125 52.96875 \nQ 50 49.953125 52 44.1875 \nz\n\" id=\"DejaVuSans-109\"/>\n        <path d=\"M 32.171875 -5.078125 \nQ 28.375 -14.84375 24.75 -17.8125 \nQ 21.140625 -20.796875 15.09375 -20.796875 \nL 7.90625 -20.796875 \nL 7.90625 -13.28125 \nL 13.1875 -13.28125 \nQ 16.890625 -13.28125 18.9375 -11.515625 \nQ 21 -9.765625 23.484375 -3.21875 \nL 25.09375 0.875 \nL 2.984375 54.6875 \nL 12.5 54.6875 \nL 29.59375 11.921875 \nL 46.6875 54.6875 \nL 56.203125 54.6875 \nz\n\" id=\"DejaVuSans-121\"/>\n       </defs>\n       <use xlink:href=\"#DejaVuSans-35\"/>\n       <use x=\"83.789062\" xlink:href=\"#DejaVuSans-119\"/>\n       <use x=\"165.576172\" xlink:href=\"#DejaVuSans-114\"/>\n       <use x=\"206.689453\" xlink:href=\"#DejaVuSans-105\"/>\n       <use x=\"234.472656\" xlink:href=\"#DejaVuSans-116\"/>\n       <use x=\"273.681641\" xlink:href=\"#DejaVuSans-101\"/>\n       <use x=\"335.205078\" xlink:href=\"#DejaVuSans-114\"/>\n       <use x=\"376.318359\" xlink:href=\"#DejaVuSans-115\"/>\n       <use x=\"428.417969\" xlink:href=\"#DejaVuSans-99\"/>\n       <use x=\"483.398438\" xlink:href=\"#DejaVuSans-111\"/>\n       <use x=\"544.580078\" xlink:href=\"#DejaVuSans-109\"/>\n       <use x=\"641.992188\" xlink:href=\"#DejaVuSans-109\"/>\n       <use x=\"739.404297\" xlink:href=\"#DejaVuSans-117\"/>\n       <use x=\"802.783203\" xlink:href=\"#DejaVuSans-110\"/>\n       <use x=\"866.162109\" xlink:href=\"#DejaVuSans-105\"/>\n       <use x=\"893.945312\" xlink:href=\"#DejaVuSans-116\"/>\n       <use x=\"933.154297\" xlink:href=\"#DejaVuSans-121\"/>\n      </g>\n     </g>\n    </g>\n    <g id=\"xtick_16\">\n     <g id=\"line2d_16\">\n      <g>\n       <use style=\"stroke:#000000;stroke-width:0.8;\" x=\"464.554431\" xlink:href=\"#m73f4387309\" y=\"442.08\"/>\n      </g>\n     </g>\n     <g id=\"text_16\">\n      <!-- #tedgunderson -->\n      <g transform=\"translate(467.313806 527.183125)rotate(-90)scale(0.1 -0.1)\">\n       <use xlink:href=\"#DejaVuSans-35\"/>\n       <use x=\"83.789062\" xlink:href=\"#DejaVuSans-116\"/>\n       <use x=\"122.998047\" xlink:href=\"#DejaVuSans-101\"/>\n       <use x=\"184.521484\" xlink:href=\"#DejaVuSans-100\"/>\n       <use x=\"247.998047\" xlink:href=\"#DejaVuSans-103\"/>\n       <use x=\"311.474609\" xlink:href=\"#DejaVuSans-117\"/>\n       <use x=\"374.853516\" xlink:href=\"#DejaVuSans-110\"/>\n       <use x=\"438.232422\" xlink:href=\"#DejaVuSans-100\"/>\n       <use x=\"501.708984\" xlink:href=\"#DejaVuSans-101\"/>\n       <use x=\"563.232422\" xlink:href=\"#DejaVuSans-114\"/>\n       <use x=\"604.345703\" xlink:href=\"#DejaVuSans-115\"/>\n       <use x=\"656.445312\" xlink:href=\"#DejaVuSans-111\"/>\n       <use x=\"717.626953\" xlink:href=\"#DejaVuSans-110\"/>\n      </g>\n     </g>\n    </g>\n    <g id=\"xtick_17\">\n     <g id=\"line2d_17\">\n      <g>\n       <use style=\"stroke:#000000;stroke-width:0.8;\" x=\"490.088293\" xlink:href=\"#m73f4387309\" y=\"442.08\"/>\n      </g>\n     </g>\n     <g id=\"text_17\">\n      <!-- #nancyschaefer -->\n      <g transform=\"translate(492.847668 530.790937)rotate(-90)scale(0.1 -0.1)\">\n       <defs>\n        <path d=\"M 37.109375 75.984375 \nL 37.109375 68.5 \nL 28.515625 68.5 \nQ 23.6875 68.5 21.796875 66.546875 \nQ 19.921875 64.59375 19.921875 59.515625 \nL 19.921875 54.6875 \nL 34.71875 54.6875 \nL 34.71875 47.703125 \nL 19.921875 47.703125 \nL 19.921875 0 \nL 10.890625 0 \nL 10.890625 47.703125 \nL 2.296875 47.703125 \nL 2.296875 54.6875 \nL 10.890625 54.6875 \nL 10.890625 58.5 \nQ 10.890625 67.625 15.140625 71.796875 \nQ 19.390625 75.984375 28.609375 75.984375 \nz\n\" id=\"DejaVuSans-102\"/>\n       </defs>\n       <use xlink:href=\"#DejaVuSans-35\"/>\n       <use x=\"83.789062\" xlink:href=\"#DejaVuSans-110\"/>\n       <use x=\"147.167969\" xlink:href=\"#DejaVuSans-97\"/>\n       <use x=\"208.447266\" xlink:href=\"#DejaVuSans-110\"/>\n       <use x=\"271.826172\" xlink:href=\"#DejaVuSans-99\"/>\n       <use x=\"326.806641\" xlink:href=\"#DejaVuSans-121\"/>\n       <use x=\"385.986328\" xlink:href=\"#DejaVuSans-115\"/>\n       <use x=\"438.085938\" xlink:href=\"#DejaVuSans-99\"/>\n       <use x=\"493.066406\" xlink:href=\"#DejaVuSans-104\"/>\n       <use x=\"556.445312\" xlink:href=\"#DejaVuSans-97\"/>\n       <use x=\"617.724609\" xlink:href=\"#DejaVuSans-101\"/>\n       <use x=\"679.248047\" xlink:href=\"#DejaVuSans-102\"/>\n       <use x=\"714.453125\" xlink:href=\"#DejaVuSans-101\"/>\n       <use x=\"775.976562\" xlink:href=\"#DejaVuSans-114\"/>\n      </g>\n     </g>\n    </g>\n    <g id=\"xtick_18\">\n     <g id=\"line2d_18\">\n      <g>\n       <use style=\"stroke:#000000;stroke-width:0.8;\" x=\"515.622155\" xlink:href=\"#m73f4387309\" y=\"442.08\"/>\n      </g>\n     </g>\n     <g id=\"text_18\">\n      <!-- #lauragaylersilsby -->\n      <g transform=\"translate(518.38153 542.622187)rotate(-90)scale(0.1 -0.1)\">\n       <defs>\n        <path d=\"M 48.6875 27.296875 \nQ 48.6875 37.203125 44.609375 42.84375 \nQ 40.53125 48.484375 33.40625 48.484375 \nQ 26.265625 48.484375 22.1875 42.84375 \nQ 18.109375 37.203125 18.109375 27.296875 \nQ 18.109375 17.390625 22.1875 11.75 \nQ 26.265625 6.109375 33.40625 6.109375 \nQ 40.53125 6.109375 44.609375 11.75 \nQ 48.6875 17.390625 48.6875 27.296875 \nz\nM 18.109375 46.390625 \nQ 20.953125 51.265625 25.265625 53.625 \nQ 29.59375 56 35.59375 56 \nQ 45.5625 56 51.78125 48.09375 \nQ 58.015625 40.1875 58.015625 27.296875 \nQ 58.015625 14.40625 51.78125 6.484375 \nQ 45.5625 -1.421875 35.59375 -1.421875 \nQ 29.59375 -1.421875 25.265625 0.953125 \nQ 20.953125 3.328125 18.109375 8.203125 \nL 18.109375 0 \nL 9.078125 0 \nL 9.078125 75.984375 \nL 18.109375 75.984375 \nz\n\" id=\"DejaVuSans-98\"/>\n       </defs>\n       <use xlink:href=\"#DejaVuSans-35\"/>\n       <use x=\"83.789062\" xlink:href=\"#DejaVuSans-108\"/>\n       <use x=\"111.572266\" xlink:href=\"#DejaVuSans-97\"/>\n       <use x=\"172.851562\" xlink:href=\"#DejaVuSans-117\"/>\n       <use x=\"236.230469\" xlink:href=\"#DejaVuSans-114\"/>\n       <use x=\"277.34375\" xlink:href=\"#DejaVuSans-97\"/>\n       <use x=\"338.623047\" xlink:href=\"#DejaVuSans-103\"/>\n       <use x=\"402.099609\" xlink:href=\"#DejaVuSans-97\"/>\n       <use x=\"463.378906\" xlink:href=\"#DejaVuSans-121\"/>\n       <use x=\"522.558594\" xlink:href=\"#DejaVuSans-108\"/>\n       <use x=\"550.341797\" xlink:href=\"#DejaVuSans-101\"/>\n       <use x=\"611.865234\" xlink:href=\"#DejaVuSans-114\"/>\n       <use x=\"652.978516\" xlink:href=\"#DejaVuSans-115\"/>\n       <use x=\"705.078125\" xlink:href=\"#DejaVuSans-105\"/>\n       <use x=\"732.861328\" xlink:href=\"#DejaVuSans-108\"/>\n       <use x=\"760.644531\" xlink:href=\"#DejaVuSans-115\"/>\n       <use x=\"812.744141\" xlink:href=\"#DejaVuSans-98\"/>\n       <use x=\"876.220703\" xlink:href=\"#DejaVuSans-121\"/>\n      </g>\n     </g>\n    </g>\n    <g id=\"xtick_19\">\n     <g id=\"line2d_19\">\n      <g>\n       <use style=\"stroke:#000000;stroke-width:0.8;\" x=\"541.156017\" xlink:href=\"#m73f4387309\" y=\"442.08\"/>\n      </g>\n     </g>\n     <g id=\"text_19\">\n      <!-- #isaackappy -->\n      <g transform=\"translate(543.915392 513.56125)rotate(-90)scale(0.1 -0.1)\">\n       <defs>\n        <path d=\"M 9.078125 75.984375 \nL 18.109375 75.984375 \nL 18.109375 31.109375 \nL 44.921875 54.6875 \nL 56.390625 54.6875 \nL 27.390625 29.109375 \nL 57.625 0 \nL 45.90625 0 \nL 18.109375 26.703125 \nL 18.109375 0 \nL 9.078125 0 \nz\n\" id=\"DejaVuSans-107\"/>\n       </defs>\n       <use xlink:href=\"#DejaVuSans-35\"/>\n       <use x=\"83.789062\" xlink:href=\"#DejaVuSans-105\"/>\n       <use x=\"111.572266\" xlink:href=\"#DejaVuSans-115\"/>\n       <use x=\"163.671875\" xlink:href=\"#DejaVuSans-97\"/>\n       <use x=\"224.951172\" xlink:href=\"#DejaVuSans-97\"/>\n       <use x=\"286.230469\" xlink:href=\"#DejaVuSans-99\"/>\n       <use x=\"341.210938\" xlink:href=\"#DejaVuSans-107\"/>\n       <use x=\"397.371094\" xlink:href=\"#DejaVuSans-97\"/>\n       <use x=\"458.650391\" xlink:href=\"#DejaVuSans-112\"/>\n       <use x=\"522.126953\" xlink:href=\"#DejaVuSans-112\"/>\n       <use x=\"585.603516\" xlink:href=\"#DejaVuSans-121\"/>\n      </g>\n     </g>\n    </g>\n    <g id=\"xtick_20\">\n     <g id=\"line2d_20\">\n      <g>\n       <use style=\"stroke:#000000;stroke-width:0.8;\" x=\"566.689879\" xlink:href=\"#m73f4387309\" y=\"442.08\"/>\n      </g>\n     </g>\n     <g id=\"text_20\">\n      <!-- #epstein -->\n      <g transform=\"translate(569.449254 494.359687)rotate(-90)scale(0.1 -0.1)\">\n       <use xlink:href=\"#DejaVuSans-35\"/>\n       <use x=\"83.789062\" xlink:href=\"#DejaVuSans-101\"/>\n       <use x=\"145.3125\" xlink:href=\"#DejaVuSans-112\"/>\n       <use x=\"208.789062\" xlink:href=\"#DejaVuSans-115\"/>\n       <use x=\"260.888672\" xlink:href=\"#DejaVuSans-116\"/>\n       <use x=\"300.097656\" xlink:href=\"#DejaVuSans-101\"/>\n       <use x=\"361.621094\" xlink:href=\"#DejaVuSans-105\"/>\n       <use x=\"389.404297\" xlink:href=\"#DejaVuSans-110\"/>\n      </g>\n     </g>\n    </g>\n    <g id=\"xtick_21\">\n     <g id=\"line2d_21\">\n      <g>\n       <use style=\"stroke:#000000;stroke-width:0.8;\" x=\"592.223742\" xlink:href=\"#m73f4387309\" y=\"442.08\"/>\n      </g>\n     </g>\n     <g id=\"text_21\">\n      <!-- #plandemic -->\n      <g transform=\"translate(594.983117 509.570625)rotate(-90)scale(0.1 -0.1)\">\n       <use xlink:href=\"#DejaVuSans-35\"/>\n       <use x=\"83.789062\" xlink:href=\"#DejaVuSans-112\"/>\n       <use x=\"147.265625\" xlink:href=\"#DejaVuSans-108\"/>\n       <use x=\"175.048828\" xlink:href=\"#DejaVuSans-97\"/>\n       <use x=\"236.328125\" xlink:href=\"#DejaVuSans-110\"/>\n       <use x=\"299.707031\" xlink:href=\"#DejaVuSans-100\"/>\n       <use x=\"363.183594\" xlink:href=\"#DejaVuSans-101\"/>\n       <use x=\"424.707031\" xlink:href=\"#DejaVuSans-109\"/>\n       <use x=\"522.119141\" xlink:href=\"#DejaVuSans-105\"/>\n       <use x=\"549.902344\" xlink:href=\"#DejaVuSans-99\"/>\n      </g>\n     </g>\n    </g>\n    <g id=\"xtick_22\">\n     <g id=\"line2d_22\">\n      <g>\n       <use style=\"stroke:#000000;stroke-width:0.8;\" x=\"617.757604\" xlink:href=\"#m73f4387309\" y=\"442.08\"/>\n      </g>\n     </g>\n     <g id=\"text_22\">\n      <!-- #health -->\n      <g transform=\"translate(620.516979 489.114375)rotate(-90)scale(0.1 -0.1)\">\n       <use xlink:href=\"#DejaVuSans-35\"/>\n       <use x=\"83.789062\" xlink:href=\"#DejaVuSans-104\"/>\n       <use x=\"147.167969\" xlink:href=\"#DejaVuSans-101\"/>\n       <use x=\"208.691406\" xlink:href=\"#DejaVuSans-97\"/>\n       <use x=\"269.970703\" xlink:href=\"#DejaVuSans-108\"/>\n       <use x=\"297.753906\" xlink:href=\"#DejaVuSans-116\"/>\n       <use x=\"336.962891\" xlink:href=\"#DejaVuSans-104\"/>\n      </g>\n     </g>\n    </g>\n    <g id=\"xtick_23\">\n     <g id=\"line2d_23\">\n      <g>\n       <use style=\"stroke:#000000;stroke-width:0.8;\" x=\"643.291466\" xlink:href=\"#m73f4387309\" y=\"442.08\"/>\n      </g>\n     </g>\n     <g id=\"text_23\">\n      <!-- #scamdemic -->\n      <g transform=\"translate(646.050841 514.555)rotate(-90)scale(0.1 -0.1)\">\n       <use xlink:href=\"#DejaVuSans-35\"/>\n       <use x=\"83.789062\" xlink:href=\"#DejaVuSans-115\"/>\n       <use x=\"135.888672\" xlink:href=\"#DejaVuSans-99\"/>\n       <use x=\"190.869141\" xlink:href=\"#DejaVuSans-97\"/>\n       <use x=\"252.148438\" xlink:href=\"#DejaVuSans-109\"/>\n       <use x=\"349.560547\" xlink:href=\"#DejaVuSans-100\"/>\n       <use x=\"413.037109\" xlink:href=\"#DejaVuSans-101\"/>\n       <use x=\"474.560547\" xlink:href=\"#DejaVuSans-109\"/>\n       <use x=\"571.972656\" xlink:href=\"#DejaVuSans-105\"/>\n       <use x=\"599.755859\" xlink:href=\"#DejaVuSans-99\"/>\n      </g>\n     </g>\n    </g>\n    <g id=\"xtick_24\">\n     <g id=\"line2d_24\">\n      <g>\n       <use style=\"stroke:#000000;stroke-width:0.8;\" x=\"668.825328\" xlink:href=\"#m73f4387309\" y=\"442.08\"/>\n      </g>\n     </g>\n     <g id=\"text_24\">\n      <!-- #2030agenda -->\n      <g transform=\"translate(671.584703 520.353437)rotate(-90)scale(0.1 -0.1)\">\n       <use xlink:href=\"#DejaVuSans-35\"/>\n       <use x=\"83.789062\" xlink:href=\"#DejaVuSans-50\"/>\n       <use x=\"147.412109\" xlink:href=\"#DejaVuSans-48\"/>\n       <use x=\"211.035156\" xlink:href=\"#DejaVuSans-51\"/>\n       <use x=\"274.658203\" xlink:href=\"#DejaVuSans-48\"/>\n       <use x=\"338.28125\" xlink:href=\"#DejaVuSans-97\"/>\n       <use x=\"399.560547\" xlink:href=\"#DejaVuSans-103\"/>\n       <use x=\"463.037109\" xlink:href=\"#DejaVuSans-101\"/>\n       <use x=\"524.560547\" xlink:href=\"#DejaVuSans-110\"/>\n       <use x=\"587.939453\" xlink:href=\"#DejaVuSans-100\"/>\n       <use x=\"651.416016\" xlink:href=\"#DejaVuSans-97\"/>\n      </g>\n     </g>\n    </g>\n    <g id=\"xtick_25\">\n     <g id=\"line2d_25\">\n      <g>\n       <use style=\"stroke:#000000;stroke-width:0.8;\" x=\"694.35919\" xlink:href=\"#m73f4387309\" y=\"442.08\"/>\n      </g>\n     </g>\n     <g id=\"text_25\">\n      <!-- #education -->\n      <g transform=\"translate(697.118565 507.08)rotate(-90)scale(0.1 -0.1)\">\n       <use xlink:href=\"#DejaVuSans-35\"/>\n       <use x=\"83.789062\" xlink:href=\"#DejaVuSans-101\"/>\n       <use x=\"145.3125\" xlink:href=\"#DejaVuSans-100\"/>\n       <use x=\"208.789062\" xlink:href=\"#DejaVuSans-117\"/>\n       <use x=\"272.167969\" xlink:href=\"#DejaVuSans-99\"/>\n       <use x=\"327.148438\" xlink:href=\"#DejaVuSans-97\"/>\n       <use x=\"388.427734\" xlink:href=\"#DejaVuSans-116\"/>\n       <use x=\"427.636719\" xlink:href=\"#DejaVuSans-105\"/>\n       <use x=\"455.419922\" xlink:href=\"#DejaVuSans-111\"/>\n       <use x=\"516.601562\" xlink:href=\"#DejaVuSans-110\"/>\n      </g>\n     </g>\n    </g>\n    <g id=\"xtick_26\">\n     <g id=\"line2d_26\">\n      <g>\n       <use style=\"stroke:#000000;stroke-width:0.8;\" x=\"719.893052\" xlink:href=\"#m73f4387309\" y=\"442.08\"/>\n      </g>\n     </g>\n     <g id=\"text_26\">\n      <!-- #children -->\n      <g transform=\"translate(722.652427 497.576875)rotate(-90)scale(0.1 -0.1)\">\n       <use xlink:href=\"#DejaVuSans-35\"/>\n       <use x=\"83.789062\" xlink:href=\"#DejaVuSans-99\"/>\n       <use x=\"138.769531\" xlink:href=\"#DejaVuSans-104\"/>\n       <use x=\"202.148438\" xlink:href=\"#DejaVuSans-105\"/>\n       <use x=\"229.931641\" xlink:href=\"#DejaVuSans-108\"/>\n       <use x=\"257.714844\" xlink:href=\"#DejaVuSans-100\"/>\n       <use x=\"321.191406\" xlink:href=\"#DejaVuSans-114\"/>\n       <use x=\"360.054688\" xlink:href=\"#DejaVuSans-101\"/>\n       <use x=\"421.578125\" xlink:href=\"#DejaVuSans-110\"/>\n      </g>\n     </g>\n    </g>\n    <g id=\"xtick_27\">\n     <g id=\"line2d_27\">\n      <g>\n       <use style=\"stroke:#000000;stroke-width:0.8;\" x=\"745.426914\" xlink:href=\"#m73f4387309\" y=\"442.08\"/>\n      </g>\n     </g>\n     <g id=\"text_27\">\n      <!-- #covid19, -->\n      <g transform=\"translate(748.186289 500.025312)rotate(-90)scale(0.1 -0.1)\">\n       <defs>\n        <path d=\"M 11.71875 12.40625 \nL 22.015625 12.40625 \nL 22.015625 4 \nL 14.015625 -11.625 \nL 7.71875 -11.625 \nL 11.71875 4 \nz\n\" id=\"DejaVuSans-44\"/>\n       </defs>\n       <use xlink:href=\"#DejaVuSans-35\"/>\n       <use x=\"83.789062\" xlink:href=\"#DejaVuSans-99\"/>\n       <use x=\"138.769531\" xlink:href=\"#DejaVuSans-111\"/>\n       <use x=\"199.951172\" xlink:href=\"#DejaVuSans-118\"/>\n       <use x=\"259.130859\" xlink:href=\"#DejaVuSans-105\"/>\n       <use x=\"286.914062\" xlink:href=\"#DejaVuSans-100\"/>\n       <use x=\"350.390625\" xlink:href=\"#DejaVuSans-49\"/>\n       <use x=\"414.013672\" xlink:href=\"#DejaVuSans-57\"/>\n       <use x=\"477.636719\" xlink:href=\"#DejaVuSans-44\"/>\n      </g>\n     </g>\n    </g>\n    <g id=\"xtick_28\">\n     <g id=\"line2d_28\">\n      <g>\n       <use style=\"stroke:#000000;stroke-width:0.8;\" x=\"770.960776\" xlink:href=\"#m73f4387309\" y=\"442.08\"/>\n      </g>\n     </g>\n     <g id=\"text_28\">\n      <!-- #exams -->\n      <g transform=\"translate(773.720151 490.434687)rotate(-90)scale(0.1 -0.1)\">\n       <defs>\n        <path d=\"M 54.890625 54.6875 \nL 35.109375 28.078125 \nL 55.90625 0 \nL 45.3125 0 \nL 29.390625 21.484375 \nL 13.484375 0 \nL 2.875 0 \nL 24.125 28.609375 \nL 4.6875 54.6875 \nL 15.28125 54.6875 \nL 29.78125 35.203125 \nL 44.28125 54.6875 \nz\n\" id=\"DejaVuSans-120\"/>\n       </defs>\n       <use xlink:href=\"#DejaVuSans-35\"/>\n       <use x=\"83.789062\" xlink:href=\"#DejaVuSans-101\"/>\n       <use x=\"143.5625\" xlink:href=\"#DejaVuSans-120\"/>\n       <use x=\"202.742188\" xlink:href=\"#DejaVuSans-97\"/>\n       <use x=\"264.021484\" xlink:href=\"#DejaVuSans-109\"/>\n       <use x=\"361.433594\" xlink:href=\"#DejaVuSans-115\"/>\n      </g>\n     </g>\n    </g>\n    <g id=\"xtick_29\">\n     <g id=\"line2d_29\">\n      <g>\n       <use style=\"stroke:#000000;stroke-width:0.8;\" x=\"796.494638\" xlink:href=\"#m73f4387309\" y=\"442.08\"/>\n      </g>\n     </g>\n     <g id=\"text_29\">\n      <!-- #goa’s -->\n      <g transform=\"translate(799.254013 484.4425)rotate(-90)scale(0.1 -0.1)\">\n       <defs>\n        <path d=\"M 12.703125 72.90625 \nL 23 72.90625 \nL 23 65.484375 \nL 14.984375 49.90625 \nL 8.6875 49.90625 \nL 12.703125 65.484375 \nz\n\" id=\"DejaVuSans-8217\"/>\n       </defs>\n       <use xlink:href=\"#DejaVuSans-35\"/>\n       <use x=\"83.789062\" xlink:href=\"#DejaVuSans-103\"/>\n       <use x=\"147.265625\" xlink:href=\"#DejaVuSans-111\"/>\n       <use x=\"208.447266\" xlink:href=\"#DejaVuSans-97\"/>\n       <use x=\"269.726562\" xlink:href=\"#DejaVuSans-8217\"/>\n       <use x=\"301.513672\" xlink:href=\"#DejaVuSans-115\"/>\n      </g>\n     </g>\n    </g>\n    <g id=\"xtick_30\">\n     <g id=\"line2d_30\">\n      <g>\n       <use style=\"stroke:#000000;stroke-width:0.8;\" x=\"822.028501\" xlink:href=\"#m73f4387309\" y=\"442.08\"/>\n      </g>\n     </g>\n     <g id=\"text_30\">\n      <!-- #education. -->\n      <g transform=\"translate(824.787876 510.258125)rotate(-90)scale(0.1 -0.1)\">\n       <defs>\n        <path d=\"M 10.6875 12.40625 \nL 21 12.40625 \nL 21 0 \nL 10.6875 0 \nz\n\" id=\"DejaVuSans-46\"/>\n       </defs>\n       <use xlink:href=\"#DejaVuSans-35\"/>\n       <use x=\"83.789062\" xlink:href=\"#DejaVuSans-101\"/>\n       <use x=\"145.3125\" xlink:href=\"#DejaVuSans-100\"/>\n       <use x=\"208.789062\" xlink:href=\"#DejaVuSans-117\"/>\n       <use x=\"272.167969\" xlink:href=\"#DejaVuSans-99\"/>\n       <use x=\"327.148438\" xlink:href=\"#DejaVuSans-97\"/>\n       <use x=\"388.427734\" xlink:href=\"#DejaVuSans-116\"/>\n       <use x=\"427.636719\" xlink:href=\"#DejaVuSans-105\"/>\n       <use x=\"455.419922\" xlink:href=\"#DejaVuSans-111\"/>\n       <use x=\"516.601562\" xlink:href=\"#DejaVuSans-110\"/>\n       <use x=\"579.980469\" xlink:href=\"#DejaVuSans-46\"/>\n      </g>\n     </g>\n    </g>\n   </g>\n   <g id=\"matplotlib.axis_2\">\n    <g id=\"ytick_1\">\n     <g id=\"line2d_31\">\n      <defs>\n       <path d=\"M 0 0 \nL -3.5 0 \n\" id=\"m1e3c600b7a\" style=\"stroke:#000000;stroke-width:0.8;\"/>\n      </defs>\n      <g>\n       <use style=\"stroke:#000000;stroke-width:0.8;\" x=\"33.2875\" xlink:href=\"#m1e3c600b7a\" y=\"442.08\"/>\n      </g>\n     </g>\n     <g id=\"text_31\">\n      <!-- 0 -->\n      <g transform=\"translate(19.925 445.879219)scale(0.1 -0.1)\">\n       <use xlink:href=\"#DejaVuSans-48\"/>\n      </g>\n     </g>\n    </g>\n    <g id=\"ytick_2\">\n     <g id=\"line2d_32\">\n      <g>\n       <use style=\"stroke:#000000;stroke-width:0.8;\" x=\"33.2875\" xlink:href=\"#m1e3c600b7a\" y=\"386.110888\"/>\n      </g>\n     </g>\n     <g id=\"text_32\">\n      <!-- 20 -->\n      <g transform=\"translate(13.5625 389.910107)scale(0.1 -0.1)\">\n       <use xlink:href=\"#DejaVuSans-50\"/>\n       <use x=\"63.623047\" xlink:href=\"#DejaVuSans-48\"/>\n      </g>\n     </g>\n    </g>\n    <g id=\"ytick_3\">\n     <g id=\"line2d_33\">\n      <g>\n       <use style=\"stroke:#000000;stroke-width:0.8;\" x=\"33.2875\" xlink:href=\"#m1e3c600b7a\" y=\"330.141776\"/>\n      </g>\n     </g>\n     <g id=\"text_33\">\n      <!-- 40 -->\n      <g transform=\"translate(13.5625 333.940995)scale(0.1 -0.1)\">\n       <defs>\n        <path d=\"M 37.796875 64.3125 \nL 12.890625 25.390625 \nL 37.796875 25.390625 \nz\nM 35.203125 72.90625 \nL 47.609375 72.90625 \nL 47.609375 25.390625 \nL 58.015625 25.390625 \nL 58.015625 17.1875 \nL 47.609375 17.1875 \nL 47.609375 0 \nL 37.796875 0 \nL 37.796875 17.1875 \nL 4.890625 17.1875 \nL 4.890625 26.703125 \nz\n\" id=\"DejaVuSans-52\"/>\n       </defs>\n       <use xlink:href=\"#DejaVuSans-52\"/>\n       <use x=\"63.623047\" xlink:href=\"#DejaVuSans-48\"/>\n      </g>\n     </g>\n    </g>\n    <g id=\"ytick_4\">\n     <g id=\"line2d_34\">\n      <g>\n       <use style=\"stroke:#000000;stroke-width:0.8;\" x=\"33.2875\" xlink:href=\"#m1e3c600b7a\" y=\"274.172664\"/>\n      </g>\n     </g>\n     <g id=\"text_34\">\n      <!-- 60 -->\n      <g transform=\"translate(13.5625 277.971883)scale(0.1 -0.1)\">\n       <defs>\n        <path d=\"M 33.015625 40.375 \nQ 26.375 40.375 22.484375 35.828125 \nQ 18.609375 31.296875 18.609375 23.390625 \nQ 18.609375 15.53125 22.484375 10.953125 \nQ 26.375 6.390625 33.015625 6.390625 \nQ 39.65625 6.390625 43.53125 10.953125 \nQ 47.40625 15.53125 47.40625 23.390625 \nQ 47.40625 31.296875 43.53125 35.828125 \nQ 39.65625 40.375 33.015625 40.375 \nz\nM 52.59375 71.296875 \nL 52.59375 62.3125 \nQ 48.875 64.0625 45.09375 64.984375 \nQ 41.3125 65.921875 37.59375 65.921875 \nQ 27.828125 65.921875 22.671875 59.328125 \nQ 17.53125 52.734375 16.796875 39.40625 \nQ 19.671875 43.65625 24.015625 45.921875 \nQ 28.375 48.1875 33.59375 48.1875 \nQ 44.578125 48.1875 50.953125 41.515625 \nQ 57.328125 34.859375 57.328125 23.390625 \nQ 57.328125 12.15625 50.6875 5.359375 \nQ 44.046875 -1.421875 33.015625 -1.421875 \nQ 20.359375 -1.421875 13.671875 8.265625 \nQ 6.984375 17.96875 6.984375 36.375 \nQ 6.984375 53.65625 15.1875 63.9375 \nQ 23.390625 74.21875 37.203125 74.21875 \nQ 40.921875 74.21875 44.703125 73.484375 \nQ 48.484375 72.75 52.59375 71.296875 \nz\n\" id=\"DejaVuSans-54\"/>\n       </defs>\n       <use xlink:href=\"#DejaVuSans-54\"/>\n       <use x=\"63.623047\" xlink:href=\"#DejaVuSans-48\"/>\n      </g>\n     </g>\n    </g>\n    <g id=\"ytick_5\">\n     <g id=\"line2d_35\">\n      <g>\n       <use style=\"stroke:#000000;stroke-width:0.8;\" x=\"33.2875\" xlink:href=\"#m1e3c600b7a\" y=\"218.203552\"/>\n      </g>\n     </g>\n     <g id=\"text_35\">\n      <!-- 80 -->\n      <g transform=\"translate(13.5625 222.002771)scale(0.1 -0.1)\">\n       <defs>\n        <path d=\"M 31.78125 34.625 \nQ 24.75 34.625 20.71875 30.859375 \nQ 16.703125 27.09375 16.703125 20.515625 \nQ 16.703125 13.921875 20.71875 10.15625 \nQ 24.75 6.390625 31.78125 6.390625 \nQ 38.8125 6.390625 42.859375 10.171875 \nQ 46.921875 13.96875 46.921875 20.515625 \nQ 46.921875 27.09375 42.890625 30.859375 \nQ 38.875 34.625 31.78125 34.625 \nz\nM 21.921875 38.8125 \nQ 15.578125 40.375 12.03125 44.71875 \nQ 8.5 49.078125 8.5 55.328125 \nQ 8.5 64.0625 14.71875 69.140625 \nQ 20.953125 74.21875 31.78125 74.21875 \nQ 42.671875 74.21875 48.875 69.140625 \nQ 55.078125 64.0625 55.078125 55.328125 \nQ 55.078125 49.078125 51.53125 44.71875 \nQ 48 40.375 41.703125 38.8125 \nQ 48.828125 37.15625 52.796875 32.3125 \nQ 56.78125 27.484375 56.78125 20.515625 \nQ 56.78125 9.90625 50.3125 4.234375 \nQ 43.84375 -1.421875 31.78125 -1.421875 \nQ 19.734375 -1.421875 13.25 4.234375 \nQ 6.78125 9.90625 6.78125 20.515625 \nQ 6.78125 27.484375 10.78125 32.3125 \nQ 14.796875 37.15625 21.921875 38.8125 \nz\nM 18.3125 54.390625 \nQ 18.3125 48.734375 21.84375 45.5625 \nQ 25.390625 42.390625 31.78125 42.390625 \nQ 38.140625 42.390625 41.71875 45.5625 \nQ 45.3125 48.734375 45.3125 54.390625 \nQ 45.3125 60.0625 41.71875 63.234375 \nQ 38.140625 66.40625 31.78125 66.40625 \nQ 25.390625 66.40625 21.84375 63.234375 \nQ 18.3125 60.0625 18.3125 54.390625 \nz\n\" id=\"DejaVuSans-56\"/>\n       </defs>\n       <use xlink:href=\"#DejaVuSans-56\"/>\n       <use x=\"63.623047\" xlink:href=\"#DejaVuSans-48\"/>\n      </g>\n     </g>\n    </g>\n    <g id=\"ytick_6\">\n     <g id=\"line2d_36\">\n      <g>\n       <use style=\"stroke:#000000;stroke-width:0.8;\" x=\"33.2875\" xlink:href=\"#m1e3c600b7a\" y=\"162.23444\"/>\n      </g>\n     </g>\n     <g id=\"text_36\">\n      <!-- 100 -->\n      <g transform=\"translate(7.2 166.033659)scale(0.1 -0.1)\">\n       <use xlink:href=\"#DejaVuSans-49\"/>\n       <use x=\"63.623047\" xlink:href=\"#DejaVuSans-48\"/>\n       <use x=\"127.246094\" xlink:href=\"#DejaVuSans-48\"/>\n      </g>\n     </g>\n    </g>\n    <g id=\"ytick_7\">\n     <g id=\"line2d_37\">\n      <g>\n       <use style=\"stroke:#000000;stroke-width:0.8;\" x=\"33.2875\" xlink:href=\"#m1e3c600b7a\" y=\"106.265328\"/>\n      </g>\n     </g>\n     <g id=\"text_37\">\n      <!-- 120 -->\n      <g transform=\"translate(7.2 110.064547)scale(0.1 -0.1)\">\n       <use xlink:href=\"#DejaVuSans-49\"/>\n       <use x=\"63.623047\" xlink:href=\"#DejaVuSans-50\"/>\n       <use x=\"127.246094\" xlink:href=\"#DejaVuSans-48\"/>\n      </g>\n     </g>\n    </g>\n    <g id=\"ytick_8\">\n     <g id=\"line2d_38\">\n      <g>\n       <use style=\"stroke:#000000;stroke-width:0.8;\" x=\"33.2875\" xlink:href=\"#m1e3c600b7a\" y=\"50.296216\"/>\n      </g>\n     </g>\n     <g id=\"text_38\">\n      <!-- 140 -->\n      <g transform=\"translate(7.2 54.095435)scale(0.1 -0.1)\">\n       <use xlink:href=\"#DejaVuSans-49\"/>\n       <use x=\"63.623047\" xlink:href=\"#DejaVuSans-52\"/>\n       <use x=\"127.246094\" xlink:href=\"#DejaVuSans-48\"/>\n      </g>\n     </g>\n    </g>\n   </g>\n   <g id=\"patch_33\">\n    <path d=\"M 33.2875 442.08 \nL 33.2875 7.2 \n\" style=\"fill:none;stroke:#000000;stroke-linecap:square;stroke-linejoin:miter;stroke-width:0.8;\"/>\n   </g>\n   <g id=\"patch_34\">\n    <path d=\"M 870.2875 442.08 \nL 870.2875 7.2 \n\" style=\"fill:none;stroke:#000000;stroke-linecap:square;stroke-linejoin:miter;stroke-width:0.8;\"/>\n   </g>\n   <g id=\"patch_35\">\n    <path d=\"M 33.2875 442.08 \nL 870.2875 442.08 \n\" style=\"fill:none;stroke:#000000;stroke-linecap:square;stroke-linejoin:miter;stroke-width:0.8;\"/>\n   </g>\n   <g id=\"patch_36\">\n    <path d=\"M 33.2875 7.2 \nL 870.2875 7.2 \n\" style=\"fill:none;stroke:#000000;stroke-linecap:square;stroke-linejoin:miter;stroke-width:0.8;\"/>\n   </g>\n  </g>\n </g>\n <defs>\n  <clipPath id=\"pe000e700b9\">\n   <rect height=\"434.88\" width=\"837\" x=\"33.2875\" y=\"7.2\"/>\n  </clipPath>\n </defs>\n</svg>\n",
            "image/png": "[encoded data removed]"
          },
          "metadata": {
            "needs_background": "light"
          }
        },
        {
          "output_type": "execute_result",
          "data": {
            "text/plain": [
              "['#sdgs',\n",
              " '#agenda2030',\n",
              " '#thegreatreset',\n",
              " '#politics',\n",
              " '#ideas',\n",
              " '#toronto',\n",
              " '#stopthegreatreset',\n",
              " '#savegoanow',\n",
              " '#cdnpoli',\n",
              " '#covid19',\n",
              " '#newworldorder',\n",
              " '#topoli',\n",
              " '#saveourchildren',\n",
              " '#srcusa',\n",
              " '#writerscommunity',\n",
              " '#tedgunderson',\n",
              " '#nancyschaefer',\n",
              " '#lauragaylersilsby',\n",
              " '#isaackappy',\n",
              " '#epstein',\n",
              " '#plandemic',\n",
              " '#health',\n",
              " '#scamdemic',\n",
              " '#2030agenda',\n",
              " '#education',\n",
              " '#children',\n",
              " '#covid19,',\n",
              " '#exams',\n",
              " '#goa’s',\n",
              " '#education.']"
            ]
          },
          "metadata": {},
          "execution_count": 141
        }
      ]
    },
    {
      "cell_type": "code",
      "execution_count": 142,
      "metadata": {},
      "outputs": [
        {
          "output_type": "execute_result",
          "data": {
            "text/plain": [
              "{'#sdgs': 148,\n",
              " '#agenda2030': 107,\n",
              " '#thegreatreset': 103,\n",
              " '#politics': 76,\n",
              " '#ideas': 73,\n",
              " '#toronto': 72,\n",
              " '#stopthegreatreset': 71,\n",
              " '#savegoanow': 68,\n",
              " '#cdnpoli': 64,\n",
              " '#covid19': 62,\n",
              " '#newworldorder': 62,\n",
              " '#topoli': 61,\n",
              " '#saveourchildren': 58,\n",
              " '#srcusa': 57,\n",
              " '#writerscommunity': 57,\n",
              " '#tedgunderson': 57,\n",
              " '#nancyschaefer': 57,\n",
              " '#lauragaylersilsby': 57,\n",
              " '#isaackappy': 57,\n",
              " '#epstein': 57,\n",
              " '#plandemic': 53,\n",
              " '#health': 52,\n",
              " '#scamdemic': 41,\n",
              " '#2030agenda': 38,\n",
              " '#education': 37,\n",
              " '#children': 35,\n",
              " '#covid19,': 34,\n",
              " '#exams': 34,\n",
              " '#goa’s': 34,\n",
              " '#education.': 34,\n",
              " '#covid19?just': 34,\n",
              " '#agenda21': 31,\n",
              " '#climateaction': 30,\n",
              " '#nocia': 24,\n",
              " '#peace': 22,\n",
              " '#noglobalism': 22,\n",
              " '#nwo': 21,\n",
              " '#noimf': 21,\n",
              " '#worldeconomicforum,': 21,\n",
              " '#vaccines': 21,\n",
              " '#pfizer': 21,\n",
              " '#bigpharma': 21,\n",
              " '#justice': 20,\n",
              " '#wef': 20,\n",
              " '#noagenda21': 20,\n",
              " '#noworldbank': 20,\n",
              " '#sdg': 19,\n",
              " '#propaganda': 18,\n",
              " '#nowef': 18,\n",
              " '#makepacsnlobbiesillegal': 18,\n",
              " '#covid': 17,\n",
              " '#coronavirus': 17,\n",
              " '#nogreatreset': 17,\n",
              " '#nocentralbank': 17,\n",
              " '#sustainabledevelopment': 17,\n",
              " '#buildbackbetter': 17,\n",
              " '#pcrtestpandemic': 16,\n",
              " '#noun': 15,\n",
              " '#nog30': 15,\n",
              " '#nopatriotact': 15,\n",
              " '#medtwitter': 14,\n",
              " '#writingcommunity': 14,\n",
              " '#deloitte': 13,\n",
              " '#homeless': 13,\n",
              " '#manchester': 13,\n",
              " '#greenwashing!': 13,\n",
              " '#housing': 13,\n",
              " '#homelessness': 13,\n",
              " '#stopthesteal': 13,\n",
              " '#nonsa': 13,\n",
              " '#globalgoals': 13,\n",
              " '#nopoliticalparties': 12,\n",
              " '#india': 11,\n",
              " '#draintheswamp': 11,\n",
              " '#vaxaware': 11,\n",
              " '#mcga': 11,\n",
              " '#recallgavinnewsom': 11,\n",
              " '#recallgavin2020': 11,\n",
              " '#climatechange': 10,\n",
              " '#hypocrisy': 10,\n",
              " '#sdg3)': 10,\n",
              " '#worldeconomicforum': 9,\n",
              " '#firefauci': 9,\n",
              " '#britishindians.': 9,\n",
              " '#poverty': 8,\n",
              " '#greatreset': 8,\n",
              " '#constitutionalgovernance': 8,\n",
              " '#trump': 8,\n",
              " '#auspol': 8,\n",
              " '#humanrights': 8,\n",
              " '#indians': 8,\n",
              " '#un': 7,\n",
              " '#covid1984': 7,\n",
              " '#nonewnormal': 7,\n",
              " '#socialjustice': 7,\n",
              " '#event201': 7,\n",
              " '#sdg13': 7,\n",
              " '#lockdown': 6,\n",
              " '#climate': 6,\n",
              " '#energy': 6,\n",
              " '#news': 6,\n",
              " '#nofema': 6,\n",
              " '#nofbi': 6,\n",
              " '#freeassangenow': 6,\n",
              " '#restoretherepublic': 6,\n",
              " '#problemreactionsolution': 6,\n",
              " '#orderoutofchaos': 6,\n",
              " '#globalgovernance': 6,\n",
              " '#billandmelindagatesfoundation': 6,\n",
              " '#transhumanistagenda': 6,\n",
              " '#mandatoryvaccination': 6,\n",
              " '#nosdgs': 6,\n",
              " '#makingitcount': 6,\n",
              " '#sdgatlas': 6,\n",
              " '#tacklingclimatechange': 6,\n",
              " '#wakeup': 5,\n",
              " '#maga': 5,\n",
              " '#freedom': 5,\n",
              " '#onpoli': 5,\n",
              " '#trump2020': 5,\n",
              " '#4ir': 5,\n",
              " '#ignorethelockdown': 5,\n",
              " '#thegreatresistance': 5,\n",
              " '#oregon': 5,\n",
              " '#dowjones': 5,\n",
              " '#supremecourt': 4,\n",
              " '#china': 4,\n",
              " '#corruption': 4,\n",
              " '#scamdemic2020': 4,\n",
              " '#iran': 4,\n",
              " '#noblm': 4,\n",
              " '#energychartertreaty': 4,\n",
              " '#climateaction,': 4,\n",
              " '#ectmythbusting': 4,\n",
              " '#treason': 4,\n",
              " '#fakesocialmedia': 4,\n",
              " '#voterinterference': 4,\n",
              " '#sos': 4,\n",
              " '#emergencybroadcastingsystem': 4,\n",
              " '#silentnomore': 4,\n",
              " '#teaching': 4,\n",
              " '#climatecrisis': 4,\n",
              " '#corona': 4,\n",
              " '#reformuk2021': 4,\n",
              " '#c19': 4,\n",
              " '#thegreatrese': 4,\n",
              " '#itdoesntakelong2killbylies': 4,\n",
              " '#necrotisingmed!oblastoma': 4,\n",
              " '#toxicdemocidal👹hypocrisy': 4,\n",
              " '#pseudologiafantast!ca🆚': 4,\n",
              " '#liberacancerau$dna!d$': 4,\n",
              " '#mustacare♡@euatun❌@hrw': 4,\n",
              " '#ledwabal£1mpersalmurd£r': 4,\n",
              " '#cop26': 4,\n",
              " '#animalrights': 4,\n",
              " '#ftse': 4,\n",
              " '#climaterisk': 4,\n",
              " '#esg': 4,\n",
              " '#ur2020': 4,\n",
              " '#pandemic': 3,\n",
              " '#thegreatawakeningworldwide': 3,\n",
              " '#fraud': 3,\n",
              " '#lies': 3,\n",
              " '#wethepeople': 3,\n",
              " '#uk': 3,\n",
              " '#armenians': 3,\n",
              " '#azerbaijan': 3,\n",
              " '#warcrimes?': 3,\n",
              " '#armenianpropaganda': 3,\n",
              " '#hatepolitics': 3,\n",
              " '#racism.': 3,\n",
              " '#stophateforprofit': 3,\n",
              " '#stoparmenianagression': 3,\n",
              " '#stoparmenianlies': 3,\n",
              " '#nkpeace': 3,\n",
              " '#peaceandjustice': 3,\n",
              " '#climateemergency': 3,\n",
              " '#pain': 3,\n",
              " '#god': 3,\n",
              " '#godwins': 3,\n",
              " '#gophypocrisy': 3,\n",
              " '#donotcomply': 3,\n",
              " '#noect': 3,\n",
              " '#cancer': 3,\n",
              " '#sustainability': 3,\n",
              " '#covidsolutions': 3,\n",
              " '#sdg14': 3,\n",
              " '#sdg5': 3,\n",
              " '#sdg3': 3,\n",
              " '#canada': 3,\n",
              " '#usa': 3,\n",
              " '#unitednations': 3,\n",
              " '#coronaviruspandemic': 3,\n",
              " '#greatfoodtransformation': 3,\n",
              " '#planetaryhealthdiet': 3,\n",
              " '#eatlancet': 3,\n",
              " '#greatreset,': 3,\n",
              " '#foodcanfixit-path': 3,\n",
              " \"#unitednations'\": 3,\n",
              " '#bend,': 3,\n",
              " '#global': 3,\n",
              " '#globalhealth': 3,\n",
              " '#novaccine': 3,\n",
              " '#stop5g': 3,\n",
              " '#plandemichoax': 3,\n",
              " '#lockstep': 3,\n",
              " '#masks': 3,\n",
              " '#resettingfood': 3,\n",
              " '#scienceishard': 2,\n",
              " '#scam': 2,\n",
              " '#virus': 2,\n",
              " '#economy': 2,\n",
              " '#music': 2,\n",
              " '#greennewdeal': 2,\n",
              " '#parisagreement': 2,\n",
              " '#covidvaccine': 2,\n",
              " '#joebiden': 2,\n",
              " '#covidー19': 2,\n",
              " '#hs2': 2,\n",
              " '#hypocrite!': 2,\n",
              " '#bevigilant': 2,\n",
              " '#indianleaks': 2,\n",
              " '#indian': 2,\n",
              " '#gang': 2,\n",
              " '#machine': 2,\n",
              " '#exposed': 2,\n",
              " '#bollywood': 2,\n",
              " '#rss': 2,\n",
              " '#bjp': 2,\n",
              " '#modi': 2,\n",
              " '#idianchronicles': 2,\n",
              " '#rigged': 2,\n",
              " '#justice.': 2,\n",
              " '#election': 2,\n",
              " '#basicincome': 2,\n",
              " '#pwd': 2,\n",
              " '#photoop': 2,\n",
              " '#icecreamday': 2,\n",
              " '#prc]': 2,\n",
              " '#ccp’s': 2,\n",
              " '#tyranny!': 2,\n",
              " '#vaccine': 2,\n",
              " '#biden': 2,\n",
              " '#corrupt': 2,\n",
              " '#fightback': 2,\n",
              " '#nomasks': 2,\n",
              " '#noreset': 2,\n",
              " '#thegreatawakeninguncensored': 2,\n",
              " '#thegreatresetiscancelled': 2,\n",
              " '#killary': 2,\n",
              " '#bengazi': 2,\n",
              " '#punisher': 2,\n",
              " '#punisherskull': 2,\n",
              " '#cue': 2,\n",
              " '#donaldtrump': 2,\n",
              " '#godisincontrol': 2,\n",
              " '#godiswithus': 2,\n",
              " '#godiswithyou': 2,\n",
              " '#democracy': 2,\n",
              " '#media': 2,\n",
              " '#commietakeover': 2,\n",
              " '#britishempire': 2,\n",
              " '#muzzlesoff': 2,\n",
              " '#fitness': 2,\n",
              " '#davosagenda': 2,\n",
              " '#dystopian': 2,\n",
              " '#justice...': 2,\n",
              " '#minorityrights': 2,\n",
              " '#hungary': 2,\n",
              " '#ukraine': 2,\n",
              " '#art': 2,\n",
              " '#understanding': 2,\n",
              " '#herdimmunity': 2,\n",
              " '#resignnow': 2,\n",
              " '#distancelearning': 2,\n",
              " '#fakenews': 2,\n",
              " '#hypocrite': 2,\n",
              " '#artwork': 2,\n",
              " '#environment': 2,\n",
              " '#heathrowexpansion': 2,\n",
              " '#cnnisfakenews': 2,\n",
              " '#cnnsucks': 2,\n",
              " '#internet': 2,\n",
              " '#quotes': 2,\n",
              " '#business': 2,\n",
              " '#firetrudeau': 2,\n",
              " '#us': 2,\n",
              " '#conspiracy': 2,\n",
              " '#sustainable': 2,\n",
              " '#covidscam': 2,\n",
              " '#war': 2,\n",
              " '#wakeupamerica': 2,\n",
              " '#violence': 2,\n",
              " '#liberalismisamentaldisorder': 2,\n",
              " '#liberallogic': 2,\n",
              " '#liberalhypocrisy': 2,\n",
              " '#trumprally': 2,\n",
              " '#democratscheat': 2,\n",
              " '#act.': 2,\n",
              " '#equitysummit2020': 2,\n",
              " '#emissions': 2,\n",
              " '#funny': 2,\n",
              " '#watchmen': 2,\n",
              " '#revelation': 2,\n",
              " '#remnant': 2,\n",
              " '#brethren': 2,\n",
              " '#ai': 2,\n",
              " '#globalism': 2,\n",
              " '#fauci': 2,\n",
              " '#openschools': 2,\n",
              " '#fape': 2,\n",
              " '#autism': 2,\n",
              " '#humanrightsday': 2,\n",
              " '#unitednations2020': 2,\n",
              " '#therighttoeducation': 2,\n",
              " '#nobelpeaceprize': 2,\n",
              " '#overturn': 2,\n",
              " '#yeshua': 2,\n",
              " '#mediavirus': 2,\n",
              " '#nomask': 2,\n",
              " '#stopthepcrtest': 2,\n",
              " '#nonwo': 2,\n",
              " '#silencingtheguns’': 2,\n",
              " '#genderequality': 2,\n",
              " '#act4sdgs': 2,\n",
              " '#sabakordafshari': 2,\n",
              " \"#iran's\": 2,\n",
              " '#love': 2,\n",
              " '#hcq': 2,\n",
              " '#billgates': 2,\n",
              " '#elonmusk': 2,\n",
              " '#borisjohnson': 2,\n",
              " '#claireedwards': 2,\n",
              " '#2030target': 2,\n",
              " \"#sdg's\": 2,\n",
              " '#snap': 2,\n",
              " '#zerohunger': 2,\n",
              " '#socialism': 2,\n",
              " '#cop26ambition': 2,\n",
              " '#disaster': 2,\n",
              " '#climatedialogues': 2,\n",
              " '#governmentcorruption': 2,\n",
              " '#wherestheflu': 2,\n",
              " '#nesaragesara': 1,\n",
              " '#wwg1wgaworldwide': 1,\n",
              " '#yourebeingliedto': 1,\n",
              " '#globalreset': 1,\n",
              " '#healthcare': 1,\n",
              " '#greenwashing;': 1,\n",
              " '#diversitywashing': 1,\n",
              " '#rainbowwashing': 1,\n",
              " '#quote': 1,\n",
              " '#pubs': 1,\n",
              " '#arts': 1,\n",
              " '#smallbusiness': 1,\n",
              " '#tier3': 1,\n",
              " '#jeanpierreraffarin': 1,\n",
              " '#xijinping': 1,\n",
              " '#france': 1,\n",
              " '#chine': 1,\n",
              " '#accorddeparis': 1,\n",
              " '#couvrefeu': 1,\n",
              " '#standup4humanrights': 1,\n",
              " '#raffarin': 1,\n",
              " '#vaccination': 1,\n",
              " '#pc': 1,\n",
              " '#ascension': 1,\n",
              " '#lightbeings': 1,\n",
              " '#electionfruad2020': 1,\n",
              " '#communistchina.': 1,\n",
              " '#fightback.': 1,\n",
              " '#knowledgeispower': 1,\n",
              " '#themoreyouknow.': 1,\n",
              " '#prayforamerica': 1,\n",
              " '#truth': 1,\n",
              " '#communists': 1,\n",
              " '#landslide': 1,\n",
              " '#nationalgeographic': 1,\n",
              " '#gretathunberg': 1,\n",
              " '#sustainabledevelopmentgoals': 1,\n",
              " '#sustainablecities': 1,\n",
              " '#oecd': 1,\n",
              " '#ccpi': 1,\n",
              " '#donttrustcormann': 1,\n",
              " '#emissionsreduction': 1,\n",
              " '#betterlives,': 1,\n",
              " '#obama': 1,\n",
              " '#obamahypocrisy': 1,\n",
              " '#climatechangeisreal': 1,\n",
              " '#lawenforcement': 1,\n",
              " '#adda': 1,\n",
              " '#puppy': 1,\n",
              " '#mainstreammedia': 1,\n",
              " '#cnn.': 1,\n",
              " '#mybodymychoice': 1,\n",
              " '#krsone': 1,\n",
              " '#thegrid': 1,\n",
              " '#offgrid': 1,\n",
              " '#prophet': 1,\n",
              " '#starseeds': 1,\n",
              " '#hiphop': 1,\n",
              " '#vibrations': 1,\n",
              " '#policebrutality': 1,\n",
              " '#racism': 1,\n",
              " '#krs1': 1,\n",
              " '#proselytizing': 1,\n",
              " '#aweful': 1,\n",
              " '#stateofisrael?': 1,\n",
              " '#intolerant': 1,\n",
              " '#truebeliefs,': 1,\n",
              " '#ideas,': 1,\n",
              " '#opinions': 1,\n",
              " '#joebidenfamilycrime': 1,\n",
              " '#border': 1,\n",
              " '#parisclimateagreement': 1,\n",
              " '#justus': 1,\n",
              " '#freedomoversafety': 1,\n",
              " '#getmoneyoutofpolitics': 1,\n",
              " '#loserinchief': 1,\n",
              " '#diaperdon': 1,\n",
              " '#flipthesenateblue': 1,\n",
              " '#nobodylikeskelly': 1,\n",
              " '#yellowbellyperdue': 1,\n",
              " '#bidenpresidency': 1,\n",
              " '#deathsantis': 1,\n",
              " '#gopgenocide': 1,\n",
              " '#thisisnotjournalism.': 1,\n",
              " '#liarfromtheshire': 1,\n",
              " '#scottyfromphotoops': 1,\n",
              " '#taylorcrimefamily': 1,\n",
              " '#climatecriminals': 1,\n",
              " '#greandeal': 1,\n",
              " '#solarenergy': 1,\n",
              " '#thorium': 1,\n",
              " '#greenenergy': 1,\n",
              " '#globalwarming': 1,\n",
              " '#burgatimedaillest': 1,\n",
              " '#burgamouthstudios': 1,\n",
              " '#humurus': 1,\n",
              " '#liars': 1,\n",
              " '#wicked': 1,\n",
              " '#scandalous': 1,\n",
              " '#vandals': 1,\n",
              " '#karma': 1,\n",
              " '#reactive': 1,\n",
              " '#provokedblackmale': 1,\n",
              " '#concealing': 1,\n",
              " '#information': 1,\n",
              " '#guilt': 1,\n",
              " '#acknowledge': 1,\n",
              " '#listen': 1,\n",
              " '#dontbotherme': 1,\n",
              " '#covidhoax': 1,\n",
              " '#tplf': 1,\n",
              " '#europeanunion/#nato': 1,\n",
              " '#ethiopia.': 1,\n",
              " '#hornofafrica.': 1,\n",
              " '#ethiopia': 1,\n",
              " '#pcr': 1,\n",
              " '#greatreplacement': 1,\n",
              " '#song': 1,\n",
              " '#democrat': 1,\n",
              " '#republican': 1,\n",
              " '#spotify': 1,\n",
              " '#opinion': 1,\n",
              " '#light': 1,\n",
              " '#activism.': 1,\n",
              " '#climatebrawl.': 1,\n",
              " '#china.': 1,\n",
              " '#ccp': 1,\n",
              " '#socialjustice.': 1,\n",
              " '#communism': 1,\n",
              " '#marxism': 1,\n",
              " '#sjw': 1,\n",
              " '#gongfei': 1,\n",
              " '#betrayal': 1,\n",
              " '#thepanic': 1,\n",
              " '#overthetarget': 1,\n",
              " '#bringthepain': 1,\n",
              " '#nonprofit': 1,\n",
              " '#forprofit': 1,\n",
              " '#militaryfriendly': 1,\n",
              " '#covidiots': 1,\n",
              " '#lockdownskill': 1,\n",
              " '#jobloss': 1,\n",
              " '#guardian': 1,\n",
              " '#heathrow': 1,\n",
              " '#psychotrump': 1,\n",
              " '#leftists': 1,\n",
              " '#mentalhealth': 1,\n",
              " '#abelism': 1,\n",
              " '#2020': 1,\n",
              " '#agony': 1,\n",
              " '#stress': 1,\n",
              " '#shifts': 1,\n",
              " '#retrogrades': 1,\n",
              " '#acrylicpainting': 1,\n",
              " '#expressionism': 1,\n",
              " '#paper': 1,\n",
              " '#unvieling': 1,\n",
              " '#conciousness': 1,\n",
              " '#paint': 1,\n",
              " '#draw': 1,\n",
              " '#sketch': 1,\n",
              " '#miguelpichardoart': 1,\n",
              " '#share': 1,\n",
              " '#comment': 1,\n",
              " '#like': 1,\n",
              " '#airpollution': 1,\n",
              " '#cleanair': 1,\n",
              " '#newindia': 1,\n",
              " '#economicgrowth': 1,\n",
              " '#covid,': 1,\n",
              " '#covidlockdowns,': 1,\n",
              " '#unemployment,': 1,\n",
              " '#homelessness,': 1,\n",
              " '#currencycrisis,': 1,\n",
              " '#debtcrisis': 1,\n",
              " '#poverty,': 1,\n",
              " '#rulingelite': 1,\n",
              " '#thegreatreset.': 1,\n",
              " '#powersthatbe,': 1,\n",
              " '#zeropointenergy': 1,\n",
              " '#abundanceforall': 1,\n",
              " '#peacethroughabundance.': 1,\n",
              " '#medbeds': 1,\n",
              " '#nonau': 1,\n",
              " '#snowden': 1,\n",
              " '#amycomeybarrett,': 1,\n",
              " '#scotus': 1,\n",
              " '#acb': 1,\n",
              " '#philosophy-#education': 1,\n",
              " '#p4c).': 1,\n",
              " '#zerocarbon': 1,\n",
              " '#maximumcarnage': 1,\n",
              " '#kayburley': 1,\n",
              " '#kbf': 1,\n",
              " '#bewarethegreatreset': 1,\n",
              " '#trade': 1,\n",
              " '#buildbacksustainable': 1,\n",
              " '#sdg17': 1,\n",
              " '#sdg16': 1,\n",
              " '#sdg15': 1,\n",
              " '#sdg12': 1,\n",
              " '#sdg11': 1,\n",
              " '#sdg10': 1,\n",
              " '#sdg9': 1,\n",
              " '#sdg8': 1,\n",
              " '#sdg7': 1,\n",
              " '#sdg6': 1,\n",
              " '#sdg4': 1,\n",
              " '#sdg2': 1,\n",
              " '#sdg1': 1,\n",
              " '#netzero': 1,\n",
              " '#drevil': 1,\n",
              " '#schwab': 1,\n",
              " '#weforum': 1,\n",
              " '#thefuturewewant': 1,\n",
              " '#freedomofspeech': 1,\n",
              " '#reesmogg': 1,\n",
              " '#unicef': 1,\n",
              " '#torybritain': 1,\n",
              " '#tory': 1,\n",
              " '#turkey': 1,\n",
              " '#turkey🇹🇷': 1,\n",
              " '#türkiye': 1,\n",
              " '#usa🇺🇸': 1,\n",
              " '#unitedstate': 1,\n",
              " '#unitedstates': 1,\n",
              " '#unitedkingdom': 1,\n",
              " '#elizabeth': 1,\n",
              " '#johnson': 1,\n",
              " '#brexit': 1,\n",
              " '#europe': 1,\n",
              " '#ypg': 1,\n",
              " '#pkk': 1,\n",
              " '#2020reset': 1,\n",
              " '#whyaretheydoingthis': 1,\n",
              " '#walkaway': 1,\n",
              " '#demobcrats': 1,\n",
              " '#greed': 1,\n",
              " '#truth=0👹trust=0?': 1,\n",
              " '#globalgoals♿#sdgs£48=0?': 1,\n",
              " '#dehuman!sa': 1,\n",
              " '#oathconrol£media=0?y': 1,\n",
              " '#statecaptureinquiry=sham?': 1,\n",
              " '#sainunsc=mockery/4aun': 1,\n",
              " '#ledwabal!aramapoli🆚': 1,\n",
              " '#endpoverty£1mpsalmurder': 1,\n",
              " '#udhr🔢567❌@sdg16plus': 1,\n",
              " '#zeromdmusk£25billizwane?': 1,\n",
              " '#agenda30': 1,\n",
              " '#trump2020tosaveamerica': 1,\n",
              " '#stopthesteai': 1,\n",
              " '#extinctionrebellion': 1,\n",
              " '#agency21': 1,\n",
              " '#nwoalert': 1,\n",
              " '#americarises': 1,\n",
              " '#scamdemicisover': 1,\n",
              " '#endpoverty': 1,\n",
              " '#klausschwab😎': 1,\n",
              " '#thegreatreset😎#querdenken711': 1,\n",
              " '#querdenker': 1,\n",
              " '#verzet': 1,\n",
              " '#femkehalsema': 1,\n",
              " '#crimesagainsthumanity': 1,\n",
              " '#wakkerworden': 1,\n",
              " '#taxpayers': 1,\n",
              " '#politics,': 1,\n",
              " '#stinks': 1,\n",
              " \"#country's\": 1,\n",
              " '#rulingclass': 1,\n",
              " '#institutions': 1,\n",
              " '#information,': 1,\n",
              " '#entertainment,': 1,\n",
              " '#defacto': 1,\n",
              " '#normalpeople!': 1,\n",
              " '#smell': 1,\n",
              " '#hypocrisy!!!': 1,\n",
              " '#media,': 1,\n",
              " '#logical,': 1,\n",
              " '#independent,': 1,\n",
              " '#criticalthinking,': 1,\n",
              " '#communication,': 1,\n",
              " '#discernment': 1,\n",
              " '#tools': 1,\n",
              " '#uspolitics': 1,\n",
              " '#crystalclear': 1,\n",
              " '#ussenate...': 1,\n",
              " '#turngeorgiablue': 1,\n",
              " '#gopbetrayedamerica': 1,\n",
              " '#peace.': 1,\n",
              " '#unity.': 1,\n",
              " '#love.': 1,\n",
              " '#tmlc': 1,\n",
              " '#islamic': 1,\n",
              " '#islam': 1,\n",
              " '#johnlennon': 1,\n",
              " '#peace,\"': 1,\n",
              " '#hypocrites.': 1,\n",
              " '#cop26ambiton': 1,\n",
              " '#togetherforourplanet': 1,\n",
              " '#hangzhou’s': 1,\n",
              " '#prospertogether': 1,\n",
              " '#justicefordee': 1,\n",
              " '#childtrafficking': 1,\n",
              " '#paedophiles': 1,\n",
              " '#americafirst': 1,\n",
              " '#fightbackforamerica': 1,\n",
              " '#openupamerica': 1,\n",
              " '#farmersprotest': 1,\n",
              " '#standwithfarmers': 1,\n",
              " '#thegreatreset):': 1,\n",
              " '#oott': 1,\n",
              " '#oilandgas': 1,\n",
              " '#hunger': 1,\n",
              " '#auditeverything': 1,\n",
              " '#exploration': 1,\n",
              " '#koolaid': 1,\n",
              " '#lockdownclimatechange': 1,\n",
              " '#lockdownclimatechange:': 1,\n",
              " '#globalist': 1,\n",
              " '#humanrigths': 1,\n",
              " '#greatergood': 1,\n",
              " '#savemollem': 1,\n",
              " '#goa': 1,\n",
              " '#govt': 1,\n",
              " '#rape': 1,\n",
              " '#sexualassault': 1,\n",
              " '#vegan': 1,\n",
              " '#animals.': 1,\n",
              " '#govegan': 1,\n",
              " '#endspeciesism': 1,\n",
              " '#bidencheated2020': 1,\n",
              " '#commonsense': 1,\n",
              " '#cementinlife': 1,\n",
              " '#concrete’s': 1,\n",
              " '#energy:': 1,\n",
              " '#globalgloals': 1,\n",
              " '#presidentelectbiden': 1,\n",
              " '#bidenharris': 1,\n",
              " '#birmo': 1,\n",
              " '#covid19hoax': 1,\n",
              " '#covid19fraud': 1,\n",
              " '#treators': 1,\n",
              " '#s386': 1,\n",
              " '#migration': 1,\n",
              " '#billcooper': 1,\n",
              " '#sethrich': 1,\n",
              " '#garywebb': 1,\n",
              " '#education,': 1,\n",
              " '#science,': 1,\n",
              " '#humanism.': 1,\n",
              " '#rightwing': 1,\n",
              " '#racism,': 1,\n",
              " '#sexism,': 1,\n",
              " '#stupidity': 1,\n",
              " '#intolerance.': 1,\n",
              " '#hate': 1,\n",
              " '#resentment.': 1,\n",
              " '#gop': 1,\n",
              " '#lockdowns': 1,\n",
              " '#nes': 1,\n",
              " '#doctormario': 1,\n",
              " '#ontario': 1,\n",
              " '#iamcanadian': 1,\n",
              " '#justintrudeau': 1,\n",
              " '#fake': 1,\n",
              " '#faceswap': 1,\n",
              " '#joke': 1,\n",
              " '#funnymemes': 1,\n",
              " '#memes': 1,\n",
              " '#skit': 1,\n",
              " '#parody': 1,\n",
              " '#play': 1,\n",
              " '#actor': 1,\n",
              " '#gamer': 1,\n",
              " '#suitandtie': 1,\n",
              " '#socialengineering': 1,\n",
              " '#billionaires': 1,\n",
              " '#agenda2030.': 1,\n",
              " '#middleeast': 1,\n",
              " '#israeli/#palestinian': 1,\n",
              " '#michigan': 1,\n",
              " '#unity': 1,\n",
              " '#cynthiajohnson': 1,\n",
              " '#cnn,': 1,\n",
              " '#hellno': 1,\n",
              " '#georgiaguidestones': 1,\n",
              " '#evil': 1,\n",
              " '#mentalhealthawareness': 1,\n",
              " '#stopthesteai2020': 1,\n",
              " '#transrightsarehumanrights': 1,\n",
              " '#savetheplanet': 1,\n",
              " '#6': 1,\n",
              " '#billnye': 1,\n",
              " '#voluntarysimplicity': 1,\n",
              " '#consumerism': 1,\n",
              " '#materialism': 1,\n",
              " '#environmentalism': 1,\n",
              " '#gifteconomy': 1,\n",
              " '#cola': 1,\n",
              " '#merkel': 1,\n",
              " '#lockdownjetzt': 1,\n",
              " '#fracking': 1,\n",
              " '#bcpoli': 1,\n",
              " '#followbackfriday': 1,\n",
              " '#fbpe': 1,\n",
              " '#tech': 1,\n",
              " '#nz': 1,\n",
              " '#socialist': 1,\n",
              " '#dyslexia': 1,\n",
              " '#data': 1,\n",
              " '#tibetans,': 1,\n",
              " '#mining': 1,\n",
              " '#environmental': 1,\n",
              " '#globalwarming.': 1,\n",
              " '#tibet': 1,\n",
              " '#3rdpole': 1,\n",
              " '#water.': 1,\n",
              " '#propaganda,': 1,\n",
              " '#thread': 1,\n",
              " '#nuclear': 1,\n",
              " '#kids': 1,\n",
              " '#safety': 1,\n",
              " '#journalism': 1,\n",
              " '#atom': 1,\n",
              " '#terrorism': 1,\n",
              " '#fallout': 1,\n",
              " '#meltdown': 1,\n",
              " '#radiation': 1,\n",
              " '#elearning': 1,\n",
              " '#thegreatreset!': 1,\n",
              " '#jobsreset': 1,\n",
              " '#mediabias': 1,\n",
              " '#slantedjournalism': 1,\n",
              " '#socialjusticewarriors': 1,\n",
              " '#1stamendment': 1,\n",
              " '#censorship': 1,\n",
              " '#censorship2020': 1,\n",
              " '#censoredtoday': 1,\n",
              " '#censored': 1,\n",
              " '#banned': 1,\n",
              " '#plandemic2020': 1,\n",
              " '#agenda': 1,\n",
              " '#nothinghaschanged': 1,\n",
              " '#unlesswechangeit': 1,\n",
              " '#itsoktoslowdown': 1,\n",
              " '#selflove': 1,\n",
              " '#faith': 1,\n",
              " '#hustleforyouandfamily': 1,\n",
              " '#grind': 1,\n",
              " '#tories': 1,\n",
              " '#hypocrites': 1,\n",
              " '#toryliars': 1,\n",
              " '#tigray': 1,\n",
              " '#radio': 1,\n",
              " '#islamabad': 1,\n",
              " '#coronahoax': 1,\n",
              " '#sarscov2': 1,\n",
              " '#food': 1,\n",
              " '#principles': 1,\n",
              " '#forcedvaccine': 1,\n",
              " '#arrestbillgates': 1,\n",
              " '#coronascam': 1,\n",
              " '#controlavirus': 1,\n",
              " '#indonesiastopthepropaganda': 1,\n",
              " '#webleedblackandred': 1,\n",
              " '#freewestpapua': 1,\n",
              " '#veganism': 1,\n",
              " '#blackrace=disgrace?justify': 1,\n",
              " '#zeromdmusk£25binzwane?': 1,\n",
              " '#statecaptureinquiry🆚': 1,\n",
              " '#statetormurderx149?': 1,\n",
              " '#deathbycorruption': 1,\n",
              " '#endpoverty🔒ynot24h=': 1,\n",
              " '#sdg16+1234life💖=💖❌': 1,\n",
              " '#endmurderbymadlawyers': 1,\n",
              " '#r2p£1mpersal❌storm': 1,\n",
              " '#statecaptureinquiry❌trust': 1,\n",
              " '#myconstitutionsa': 1,\n",
              " '#globalgoals❌#sdg1=what?': 1,\n",
              " '#blackrace=disgrace💯?': 1,\n",
              " '#udhrone75=7.5h💖v👹7.5y': 1,\n",
              " '#deathpenalty¿👹@ungeneva': 1,\n",
              " '#ledwabal!arama?': 1,\n",
              " '#licensed2kill?abovealllaw': 1,\n",
              " '#hangallpublickillerservants': 1,\n",
              " '#gbv”': 1,\n",
              " '#themoreyouknow': 1,\n",
              " '#endsars£ndramcesm': 1,\n",
              " '#endblackrule£vilpainsham': 1,\n",
              " '#endpoverty🔒ynot💖12hmax': 1,\n",
              " '#deathpenalty/4ledwabal!arama': 1,\n",
              " '#licensed2kill4$2kabovealllaw': 1,\n",
              " '#whosmyprez?whatshisjob': 1,\n",
              " '#sdgs=0?@hrw': 1,\n",
              " '#nujeenmustafa🆚doc2corpse?': 1,\n",
              " '#statecaptureinquiry🆚auschwitzanc': 1,\n",
              " '#theworldeconomicforum': 1,\n",
              " '#resettingjobs': 1,\n",
              " '#resettinghousing': 1,\n",
              " \"#unsdg's\": 1,\n",
              " '#sdgs).the': 1,\n",
              " '#dominion/global': 1,\n",
              " '#elections--wtf?': 1,\n",
              " '#mic': 1,\n",
              " '#climatechange/#sdgs': 1,\n",
              " '#greennewdeal-big': 1,\n",
              " '#technocracy': 1,\n",
              " '#bravenewworld': 1,\n",
              " '#resistthegreatreset': 1,\n",
              " '#climaterisk/#climaterisks': 1,\n",
              " '#precop26': 1,\n",
              " '#ghg': 1,\n",
              " '#mockcop26': 1,\n",
              " '#cop26universities': 1,\n",
              " '#globalgoals/own': 1,\n",
              " '#plastic': 1,\n",
              " '#smr': 1,\n",
              " '#uksmr': 1,\n",
              " '#csr': 1,\n",
              " '#climategoals/own': 1,\n",
              " '#wakeupwales': 1,\n",
              " '#deepstate': 1,\n",
              " '#sackhancock': 1,\n",
              " '#sackwhitty': 1,\n",
              " '#sackvallance': 1,\n",
              " '#sackpatel': 1,\n",
              " '#sackkhan': 1,\n",
              " '#nomorelies': 1,\n",
              " '#billgatesbioterrorist': 1,\n",
              " '#nhscorruption': 1,\n",
              " '#wescandal': 1,\n",
              " '#oywscandal': 1,\n",
              " '#youth': 1,\n",
              " '#sdgs,': 1,\n",
              " '#actnow': 1,\n",
              " '#unday.': 1,\n",
              " '#sdgsummit2020': 1,\n",
              " '#itsascam': 1,\n",
              " '#ourmoneynotyours': 1,\n",
              " '#unday': 1,\n",
              " '#sdgs.': 1,\n",
              " '#skelection': 1,\n",
              " '#democrats': 1}"
            ]
          },
          "metadata": {},
          "execution_count": 142
        }
      ],
      "source": [
        "StrongAgainst_HT"
      ]
    },
    {
      "cell_type": "code",
      "metadata": {
        "id": "rwNhGGQFXcU7"
      },
      "source": [
        "topnum=3\n",
        "StrongAgainst=PrintTopic(StrongAgainst,topnum,20)\n",
        "\n",
        "for i in range(topnum):\n",
        "  print(*StrongAgainst[StrongAgainst['HateTopic']==i].sample(2)['extended_tweet'].tolist(),sep='\\n'+'-'*100+'\\n')\n",
        "  print('*'*100)\n",
        "\n",
        "plt.hist(StrongAgainst['HateTopic'])\n",
        "plt.show()"
      ],
      "execution_count": null,
      "outputs": []
    },
    {
      "cell_type": "code",
      "execution_count": null,
      "metadata": {},
      "outputs": [],
      "source": []
    }
  ]
}