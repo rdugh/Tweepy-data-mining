{
  "nbformat": 4,
  "nbformat_minor": 0,
  "metadata": {
    "colab": {
      "name": "SDGs.ipynb",
      "provenance": [],
      "collapsed_sections": [
        "6HFcIEqqyKAw",
        "N3ZLvFrM7rRw",
        "L5ZWzc0y5AOM",
        "Ay9teHGp5Rhp",
        "0vwTfhwzSaJp",
        "_Vtjjmq8l_xc",
        "67_LDjZAKemx",
        "-jh6Os6A19y-",
        "jQybSTqP9ANi",
        "37_t6-QexHeN",
        "St8EUWGK_AOt",
        "XtiDVXmY_Hc6",
        "60VS0TTK-VJf",
        "qxz3axkYZl4V",
        "KGGwEh7xcIsw",
        "xbcOXVVRcB4D"
      ],
      "toc_visible": true
    },
    "kernelspec": {
      "name": "python3",
      "display_name": "Python 3.7.3 64-bit",
      "metadata": {
        "interpreter": {
          "hash": "31f2aee4e71d21fbe5cf8b01ff0e069b9275f58929596ceb00d14d90e3e16cd6"
        }
      }
    }
  },
  "cells": [
    {
      "cell_type": "markdown",
      "metadata": {
        "id": "N3ZLvFrM7rRw"
      },
      "source": [
        "# import Data\n",
        "## import and install important libraries"
      ]
    },
    {
      "cell_type": "code",
      "metadata": {
        "id": "o43KwlBJ6UYp"
      },
      "source": [
        "from sklearn import preprocessing"
      ],
      "execution_count": 1,
      "outputs": []
    },
    {
      "cell_type": "code",
      "metadata": {
        "id": "JhN_GSxKmKrp"
      },
      "source": [
        "import pandas as pd\n",
        "import numpy as np\n",
        "import re\n",
        "import json\n",
        "from os import listdir\n",
        "from os.path import join\n",
        "import matplotlib.pyplot as plt\n",
        "from collections import Counter\n",
        "import seaborn as sns"
      ],
      "execution_count": 2,
      "outputs": []
    },
    {
      "cell_type": "code",
      "metadata": {
        "id": "v9KucAcklVM1"
      },
      "source": [
        "'''!pip uninstall nltk\n",
        "!pip install nltk==3.2.5\n",
        "import nltk'''"
      ],
      "execution_count": 3,
      "outputs": [
        {
          "output_type": "execute_result",
          "data": {
            "text/plain": [
              "'!pip uninstall nltk\\n!pip install nltk==3.2.5\\nimport nltk'"
            ]
          },
          "metadata": {},
          "execution_count": 3
        }
      ]
    },
    {
      "cell_type": "code",
      "metadata": {
        "id": "8kVfAU1m387X"
      },
      "source": [
        "import emoji#checking if a character is an emoji\n",
        "import re\n",
        "import nltk\n",
        "from nltk.corpus import wordnet\n",
        "from nltk import word_tokenize \n",
        "from nltk.corpus import stopwords \n",
        "from nltk import sent_tokenize, word_tokenize\n",
        "import time"
      ],
      "execution_count": 4,
      "outputs": []
    },
    {
      "cell_type": "code",
      "metadata": {
        "id": "W8T9AiWuaql3"
      },
      "source": [
        "folder=f'/Users/livi/Documents/2020 Fall/data mining/Proposal/Final Paper/Tweets_Half_Cleaned/'\n",
        "FinFolder=os.listdir(folder)\n",
        "Frame=[]\n",
        "for file in FinFolder[:]:\n",
        "    if (file.endswith('.csv')) & (file!='.DS_Store'):\n",
        "        One_Frame=pd.read_csv(join(folder,file),lineterminator='\\n',index_col=0)\n",
        "        Frame.append(One_Frame)\n",
        "T=pd.concat(Frame)\n",
        "T.reset_index(inplace=True,drop=True)"
      ],
      "execution_count": 5,
      "outputs": []
    },
    {
      "cell_type": "code",
      "execution_count": null,
      "metadata": {},
      "outputs": [],
      "source": [
        "#drop\n",
        "for col in ['location','name','url']:\n",
        "    T.drop(columns=col,inplace=True)"
      ]
    },
    {
      "cell_type": "code",
      "execution_count": null,
      "metadata": {},
      "outputs": [],
      "source": [
        "#str\n",
        "for col in ['source','extended_tweet','CountryCode','id','extended_tweet_lemmatized']:\n",
        "    T[col]=T[col].astype(str)\n",
        "#num\n",
        "for col in ['friends_count','followers_count','neg','neu','pos','compound']:\n",
        "    T[col]=T[col].astype(float)\n",
        "#apply\n",
        "for col in ['SDG','hashtags']:\n",
        "    T[col]=T[col].apply(eval)"
      ]
    },
    {
      "cell_type": "code",
      "execution_count": null,
      "metadata": {},
      "outputs": [],
      "source": [
        "T.info()"
      ]
    },
    {
      "cell_type": "markdown",
      "metadata": {
        "id": "0SFaRepraql4"
      },
      "source": [
        "# Data Cleaning\n",
        "\n",
        "### Generate user information"
      ]
    },
    {
      "cell_type": "markdown",
      "metadata": {
        "id": "LzGCtPBtaql5"
      },
      "source": [
        "### Detect Bot and Consider label Bot\n",
        "1. interarrival time is smaller than 5 seconds(Tested, mainly small intervals are caused by long tweets)\n",
        "2. other weird resource (source from bot may have interarrival time much longer 5 sec) Most effective method\n",
        "3. number of tweets per day (statuses_count, not used here, because there are accounts which frequently tweets)\n",
        "\n",
        "number of Influencer:A micro-influencer is someone who has between 1,000 to 100,000 followers"
      ]
    },
    {
      "cell_type": "code",
      "execution_count": null,
      "metadata": {},
      "outputs": [],
      "source": [
        "#Assign user type\n",
        "T['UserType']=''\n",
        "screen_name_of_bots=list(T[T['source'].str.contains('bot')]['screen_name'].unique())\n",
        "screen_name_of_bots.extend(['trendsinAI','form_bot','UDHROne257_247','globalhealthbot'])\n",
        "screen_name_of_bots.extend(list(T[T['screen_name'].str.contains('retweet',case=False)]['screen_name'].unique()))\n",
        "BFF=T[['screen_name','friends_count','followers_count']].groupby(['screen_name']).agg({'friends_count':'max','followers_count':'max'}).reset_index()\n",
        "#assign user\n",
        "screen_name_of_user=list(BFF[(BFF['followers_count']<=800)]['screen_name'].unique())\n",
        "T.loc[(T['screen_name'].isin(screen_name_of_user))& (~ T['screen_name'].isin(screen_name_of_bots)),'UserType']='user'\n",
        "#assign influencer\n",
        "screen_name_of_influencer=list(BFF[(BFF['followers_count']>800)]['screen_name'].unique())\n",
        "screen_name_of_influencer.extend(list(T[T['screen_name'].str.contains('news',case=False)]['screen_name'].unique()))\n",
        "T.loc[(T['screen_name'].isin(screen_name_of_influencer)) & (~ T['screen_name'].isin(screen_name_of_bots)),'UserType']='influencer'\n",
        "#assign bots\n",
        "T.loc[T['screen_name'].isin(screen_name_of_bots),'UserType']='bot'"
      ]
    },
    {
      "source": [
        "### include other SDG according to the keywords"
      ],
      "cell_type": "markdown",
      "metadata": {}
    },
    {
      "cell_type": "code",
      "execution_count": null,
      "metadata": {
        "tags": []
      },
      "outputs": [],
      "source": [
        "keyword_list=[['#poverty'],['#zerohunger'],['#globalhealth'],['#education'],['#genderequality'],['#water'],['#energy'],['#decentwork'],['#economicgrowth','#ideas'],['#socialjustice'],['#sustainablecities'],['#sparetosave'],['#climateaction'],['#ocean'],['#lifeonland'],['#justice','#peace']]\n",
        "for i in range(16):\n",
        "    for ii in keyword_list[i]:\n",
        "        for iii in T[T['extended_tweet'].str.contains(ii,case=False)].index:\n",
        "            T.loc[iii,'SDG'].append('SDG'+str(i+1))\n",
        "        #print(i+1,keyword_list[i],ii)"
      ]
    },
    {
      "cell_type": "markdown",
      "metadata": {
        "id": "5Fs-Hfvo-Y8b"
      },
      "source": [
        "###  Generate labels topic"
      ]
    },
    {
      "cell_type": "code",
      "metadata": {
        "id": "cviRf6un-U0Z"
      },
      "source": [
        "from sklearn.decomposition import LatentDirichletAllocation\n",
        "from sklearn.feature_extraction.text import CountVectorizer"
      ],
      "execution_count": null,
      "outputs": []
    },
    {
      "cell_type": "code",
      "metadata": {
        "id": "bJM3mPlW6tcU"
      },
      "source": [
        "'''PopSDGs=['SDG'+str(i) for i in [4,5,7,2,16]]\n",
        "for PopSDG in PopSDGs:\n",
        "  searchTerm = PopSDG\n",
        "  TextExt=T[[searchTerm in x for x in T['SDG']]]\n",
        "  #parameter set-up\n",
        "  count_vect=CountVectorizer(max_df=0.8,min_df=2,stop_words='english')\n",
        "  LDA = LatentDirichletAllocation(n_components=5, random_state=42)\n",
        "  #topic modeling\n",
        "  tweet_matrix=count_vect.fit_transform(TextExt['extended_tweet_lemmatized'].values.astype('U'))\n",
        "  LDA.fit(tweet_matrix)\n",
        "  #print results\n",
        "  '''  for i in top_topic_words:\n",
        "      print(count_vect.get_feature_names()[i])'''\n",
        "  for i,topic in enumerate(LDA.components_):\n",
        "      print(f'Top 20 words for {PopSDG} topic #{i}:')\n",
        "      print([count_vect.get_feature_names()[i] for i in topic.argsort()[-20:]])\n",
        "      print('\\n')\n",
        "  print('*'*50)\n",
        "  #put topic back to tweets\n",
        "  topic_values = LDA.transform(tweet_matrix)\n",
        "  T[PopSDG+'Topic']=None\n",
        "  #putinto the main matrix\n",
        "  T.loc[TextExt.index,PopSDG+'Topic']=topic_values.argmax(axis=1)'''"
      ],
      "execution_count": null,
      "outputs": []
    },
    {
      "cell_type": "markdown",
      "metadata": {
        "id": "-jh6Os6A19y-"
      },
      "source": [
        "# Analysis\n",
        "## Generate different type of users"
      ]
    },
    {
      "cell_type": "code",
      "execution_count": null,
      "metadata": {},
      "outputs": [],
      "source": [
        "Users=T[['screen_name','id','UserType','source']].groupby('screen_name').agg({'id':'count','UserType':'last','source':'last'})"
      ]
    },
    {
      "cell_type": "code",
      "execution_count": null,
      "metadata": {},
      "outputs": [],
      "source": [
        "Users.sort_values('id',ascending=False,inplace=True)\n",
        "Users.reset_index(inplace=True)"
      ]
    },
    {
      "cell_type": "code",
      "execution_count": null,
      "metadata": {},
      "outputs": [],
      "source": [
        "cri_bot=Users['UserType']=='bot'\n",
        "cri_user=Users['UserType']=='user'\n",
        "cri_influencer=Users['UserType']=='influencer'"
      ]
    },
    {
      "cell_type": "code",
      "execution_count": null,
      "metadata": {},
      "outputs": [],
      "source": [
        "set(Users['screen_name'].to_list()[:30]).intersection(set(Users[cri_user]['screen_name'].to_list()[:15]))"
      ]
    },
    {
      "cell_type": "code",
      "execution_count": null,
      "metadata": {},
      "outputs": [],
      "source": [
        "plt.figure(figsize=(15,8))\n",
        "plt.bar(Users['screen_name'].to_list()[:40],Users['id'].to_list()[:40])\n",
        "plt.title('All', fontsize=15)\n",
        "plt.xticks(rotation=90)\n",
        "plt.show()\n",
        "\n",
        "plt.figure(figsize=(15,8))\n",
        "plt.bar(Users[cri_bot]['screen_name'].to_list()[:15],Users[cri_bot]['id'].to_list()[:15])\n",
        "plt.title('Bot', fontsize=15)\n",
        "plt.xticks(rotation=90)\n",
        "plt.show()\n",
        "\n",
        "plt.figure(figsize=(15,8))\n",
        "plt.bar(Users[cri_user]['screen_name'].to_list()[:30],Users[cri_user]['id'].to_list()[:30])\n",
        "plt.title('User', fontsize=15)\n",
        "plt.xticks(rotation=90)\n",
        "plt.show()\n",
        "\n",
        "plt.figure(figsize=(15,8))\n",
        "plt.bar(Users[cri_influencer]['screen_name'].to_list()[:15],Users[cri_influencer]['id'].to_list()[:15])\n",
        "plt.title('Influencer', fontsize=15)\n",
        "plt.xticks(rotation=90)\n",
        "plt.show()"
      ]
    },
    {
      "cell_type": "code",
      "execution_count": null,
      "metadata": {},
      "outputs": [],
      "source": [
        "T[['screen_name','id','UserType','source']].groupby('UserType').agg({'id':'count','source':'last','screen_name':'last'})"
      ]
    },
    {
      "cell_type": "markdown",
      "metadata": {
        "id": "jQybSTqP9ANi"
      },
      "source": [
        "## Generate National Graph\n",
        "### import libraty and geojson"
      ]
    },
    {
      "cell_type": "code",
      "metadata": {
        "id": "zo01q7vrhVr1"
      },
      "source": [
        "import folium"
      ],
      "execution_count": null,
      "outputs": []
    },
    {
      "cell_type": "code",
      "metadata": {
        "id": "T6LmhSwJhgGn"
      },
      "source": [
        "with open('/Users/livi/Git/Tweepy-data-mining/countries.geojson') as f:\n",
        "  geodata = json.load(f)"
      ],
      "execution_count": null,
      "outputs": []
    },
    {
      "cell_type": "code",
      "metadata": {
        "id": "9TWIyC4sjRzU"
      },
      "source": [
        "holdlist=[]\n",
        "allcountries=[]\n",
        "for k,i in enumerate(geodata['features']):\n",
        "  allcountries.append(i['properties']['ADMIN'])\n",
        "  if i['properties']['ADMIN'] in T['CountryCode'].tolist():\n",
        "    holdlist.append(i['properties']['ADMIN'])"
      ],
      "execution_count": null,
      "outputs": []
    },
    {
      "cell_type": "code",
      "execution_count": null,
      "metadata": {
        "tags": []
      },
      "outputs": [],
      "source": [
        "for i,k in enumerate(T['CountryCode']):\n",
        "    if '[' in str(k):\n",
        "        T.loc[i,'CountryCode']='nan'"
      ]
    },
    {
      "cell_type": "code",
      "metadata": {
        "id": "gx8-Ft05uzTT"
      },
      "source": [
        "print('Overlap of geojson and countrycode:',len(np.unique(np.array(holdlist))))\n",
        "print('CountryCode in data:',len(T['CountryCode'].unique()))\n",
        "print('Geojson we have:',len(np.unique(allcountries)))\n",
        "df1=pd.DataFrame(allcountries)\n",
        "df1.index=df1[0]\n",
        "df1.columns=['geojson']\n",
        "df2=pd.DataFrame(T['CountryCode'].unique())\n",
        "df2.index=df2[0]\n",
        "df2.columns=['googlemap']"
      ],
      "execution_count": null,
      "outputs": []
    },
    {
      "cell_type": "code",
      "execution_count": null,
      "metadata": {},
      "outputs": [],
      "source": [
        "#countries could not be identified\n",
        "countrynotincluded=list(set(T['CountryCode'].unique())-set(np.unique(np.array(holdlist))))\n",
        "sum(T['CountryCode'].isin(countrynotincluded)),len(T)"
      ]
    },
    {
      "cell_type": "code",
      "metadata": {
        "id": "tXGl0JF3w8Y8"
      },
      "source": [
        "'''contriesLists=pd.concat([df1, df2], axis=1, sort=False,join='outer')\n",
        "D=contriesLists[contriesLists['googlemap']!=contriesLists['geojson']]'''"
      ],
      "execution_count": null,
      "outputs": []
    },
    {
      "source": [
        "### Plot Frequency Map and sccatter plot"
      ],
      "cell_type": "markdown",
      "metadata": {
        "id": "ZHWAzABZlRhV"
      }
    },
    {
      "cell_type": "code",
      "metadata": {
        "id": "MnFBipvyogeN"
      },
      "source": [
        "PP=T[T['UserType']=='user']\n",
        "PP=PP[['CountryCode', 'id']].groupby('CountryCode').count()\n",
        "PP.reset_index(inplace=True)\n",
        "PP.sort_values('id',ascending=False,inplace=True)\n",
        "PP['count']=np.log10(PP['id'])"
      ],
      "execution_count": null,
      "outputs": []
    },
    {
      "cell_type": "code",
      "execution_count": null,
      "metadata": {},
      "outputs": [],
      "source": [
        "PP.head()"
      ]
    },
    {
      "cell_type": "code",
      "metadata": {
        "id": "bBpnccR4inwu"
      },
      "source": [
        "m = folium.Map(location=[0, 0], zoom_start=2)\n",
        "folium.Choropleth(\n",
        "    geo_data=geodata,\n",
        "    name='choropleth',\n",
        "    data=PP,\n",
        "    columns=['CountryCode', 'count'],\n",
        "    key_on='feature.properties.ADMIN',\n",
        "    fill_color='YlGn',\n",
        "    fill_opacity=0.7,\n",
        "    line_opacity=0.2,\n",
        "    legend_name='# of Tweets'\n",
        ").add_to(m)\n",
        "\n",
        "folium.LayerControl().add_to(m)\n",
        "m"
      ],
      "execution_count": null,
      "outputs": []
    },
    {
      "cell_type": "code",
      "metadata": {
        "id": "HDKGMBW2GFRK"
      },
      "source": [
        "plt.figure(figsize=(20,10))\n",
        "#plt.bar(PP.CountryCode[:30],PP.text[:30])\n",
        "plt.scatter(range(len(PP.CountryCode)),PP['count'])\n",
        "plt.xlabel('Country',fontsize=20)\n",
        "plt.xticks(rotation=90,fontsize=15)\n",
        "plt.yticks(fontsize=15)\n",
        "plt.ylabel('log_10 Frequency',fontsize=20)\n",
        "plt.tight_layout()\n",
        "#plt.savefig('1023place dis.jpg')\n",
        "plt.show()"
      ],
      "execution_count": null,
      "outputs": []
    },
    {
      "cell_type": "code",
      "execution_count": null,
      "metadata": {},
      "outputs": [],
      "source": [
        "plt.figure(figsize=(20,10))\n",
        "plt.bar(PP.CountryCode[:30],PP.id[:30])\n",
        "plt.xlabel('Country',fontsize=20)\n",
        "plt.xticks(rotation=90,fontsize=15)\n",
        "plt.yticks(fontsize=15)\n",
        "plt.ylabel('Frequency',fontsize=20)\n",
        "plt.tight_layout()\n",
        "#plt.savefig('1023place dis.jpg')\n",
        "plt.show()"
      ]
    },
    {
      "source": [
        "### plot SDG Map and heatmap table \n"
      ],
      "cell_type": "markdown",
      "metadata": {
        "id": "khGaoa3naVH9"
      }
    },
    {
      "cell_type": "code",
      "metadata": {
        "id": "p_UIUjUecggz"
      },
      "source": [
        "#Country and SDG distribution\n",
        "CS=T[['CountryCode','SDG']]\n",
        "SDs={}\n",
        "for coun in CS['CountryCode'].unique():\n",
        "    SDs[coun]={'SDG'+str(i+1):0 for i in range(17)}\n",
        "    temp=CS[CS['CountryCode']==coun]['SDG']\n",
        "    for S in temp:\n",
        "        for SS in S:\n",
        "            try:\n",
        "              SDs[coun][SS]+=1\n",
        "            except:\n",
        "                pass  "
      ],
      "execution_count": null,
      "outputs": []
    },
    {
      "cell_type": "code",
      "metadata": {
        "id": "pnQq5FUU0g3m"
      },
      "source": [
        "selected_country=['United States','United Kingdom','Australia','India','Nigeria','Kenya']\n",
        "SD_Coun_HM=pd.DataFrame({i:SDs[i] for i in selected_country})\n",
        "rowname,colname=SD_Coun_HM.columns,SD_Coun_HM.index\n",
        "#prepare label\n",
        "HM_label=SD_Coun_HM.div(SD_Coun_HM.sum(axis=0),axis=1).T.values\n",
        "#prepare data\n",
        "SD_Coun_HM=pd.DataFrame(preprocessing.MinMaxScaler().fit_transform(SD_Coun_HM).T)\n",
        "SD_Coun_HM.index,SD_Coun_HM.columns=rowname,colname\n",
        "#plt\n",
        "plt.figure(figsize=(20,4))\n",
        "axhm = plt.gca()\n",
        "axhm.xaxis.set_ticks_position('top')\n",
        "cmp=sns.color_palette(\"Blues\", as_cmap=True)\n",
        "sns.heatmap(SD_Coun_HM,cmap=cmp,vmax=1.2,linewidths=1,annot=HM_label,fmt='.1%',cbar=False,annot_kws={\"fontsize\":13})\n",
        "plt.xticks(fontsize=15)\n",
        "plt.yticks(fontsize=15)\n",
        "plt.show()"
      ],
      "execution_count": null,
      "outputs": []
    },
    {
      "cell_type": "code",
      "execution_count": null,
      "metadata": {},
      "outputs": [],
      "source": [
        "def multi_dict_max(dict):\n",
        "    max_value=max(dict.values())\n",
        "    return [i for i in dict.keys() if dict[i]==max_value]\n",
        "def multi_dict_min(dict):\n",
        "    min_value=min(dict.values())\n",
        "    return [i for i in dict.keys() if dict[i]==min_value]"
      ]
    },
    {
      "cell_type": "code",
      "metadata": {
        "id": "m5dqzHNYayLK"
      },
      "source": [
        "#Color of each SDG\n",
        "Colors=['#e4253c','#dea73a','#4c9f45','#c5202e','#f0412b','#29bee2','#fac315','#a21c44','#f26a2c','#dd1768','#f99d27','#be8b2c','#417f45','#1c97d3','#5dbb47','#06699e','#18486b']\n",
        "SDGcolor={'SDG'+str(i+1):Colors[i] for i in range(17)}\n",
        "\n",
        "#statistic of some selected countries\n",
        "#statistic of some selected countries\n",
        "EsC_count={}\n",
        "for i in SDs.keys():\n",
        "    if i==i and i not in [\"['SDG14']\",\"[]\"]:\n",
        "        try:\n",
        "            EsC_count[i]={'sum':0,'top':0,'percentage':0}\n",
        "            EsC_count[i]['sum']=sum(SDs[i].values())\n",
        "            if EsC_count[i]['sum']!=0:\n",
        "                EsC_count[i]['percentage']=round(max(SDs[i].values())/sum(SDs[i].values())*100,1)\n",
        "            else:\n",
        "                EsC_count[i]['percentage']=0\n",
        "            EsC_count[i]['top']=multi_dict_max(SDs[i])\n",
        "            EsC_count[i]['bottom']=multi_dict_min(SDs[i])\n",
        "            #EsC_count[i]['geo']=[geodict[i]['lat'],geodict[i]['lng']]\n",
        "        except:\n",
        "            raise\n",
        "#select some countries\n",
        "ggdataEsC=geodata\n",
        "select=[]\n",
        "for i in range(len(ggdataEsC['features'])):\n",
        "    if ggdataEsC['features'][i]['properties']['ADMIN'] in EsC_count.keys():\n",
        "        select.append(i)\n",
        "ggdataEsC['features']=[ggdataEsC['features'][i] for i in select]"
      ],
      "execution_count": null,
      "outputs": []
    },
    {
      "cell_type": "code",
      "metadata": {
        "id": "VLIdB1U8a1-H"
      },
      "source": [
        "#plot the graph most popular\n",
        "def stfunc(features):\n",
        "    return {'fillOpacity': 0.9,'weight': 0,'fillColor':SDGcolor[EsC_count[features['properties']['ADMIN']]['top'][0]]}\n",
        "def gengeo(coun):\n",
        "    f={'features':[ggdataEsC['features'][i]] for i in range(len(ggdataEsC['features'])) if ggdataEsC['features'][i]['properties']['ADMIN']==coun}\n",
        "    f['type']='FeatureCollection'\n",
        "    return f\n",
        "\n",
        "n = folium.Map(location=[50, 10], zoom_start=2.2,tiles='OpenStreetMap')\n",
        "folium.GeoJson(ggdataEsC,name='United States',style_function=stfunc).add_to(n)\n",
        "n"
      ],
      "execution_count": null,
      "outputs": []
    },
    {
      "cell_type": "code",
      "metadata": {
        "id": "ajCh_ZlPz0tT"
      },
      "source": [
        "#plot the graph least popular sdg\n",
        "def stfunc(features):\n",
        "    return {'fillOpacity': 0.9,'weight': 0,'fillColor':SDGcolor[EsC_count[features['properties']['ADMIN']]['bottom'][0]]}\n",
        "def gengeo(coun):\n",
        "    f={'features':[ggdataEsC['features'][i]] for i in range(len(ggdataEsC['features'])) if ggdataEsC['features'][i]['properties']['ADMIN']==coun}\n",
        "    f['type']='FeatureCollection'\n",
        "    return f\n",
        "\n",
        "o = folium.Map(location=[50, 10], zoom_start=2.2,tiles='OpenStreetMap')\n",
        "folium.GeoJson(ggdataEsC,name='United States',style_function=stfunc).add_to(o)\n",
        "o"
      ],
      "execution_count": null,
      "outputs": []
    },
    {
      "cell_type": "code",
      "metadata": {
        "id": "eKMDOs3dcgd4"
      },
      "source": [
        "#### Developing and Developed Country Compare (vote the top then select)\n",
        "#define developed country and developing country\n",
        "developed_country='Canada,United States,Australia,Japan,New Zealand,Austria,Belgium,Denmark,Finland,France,Germany,Greece,Ireland,Italy,Luxembourg,Netherlands,Portugal,Spain,Sweden,United Kingdom,Bulgaria,Croatia,Cyprus,Czechia,Estonia,Hungary,Latvia,Lithuania,Malta,Poland,Romania,Slovakia,Slovenia,Iceland,Norway,Switzerland'.split(',')\n",
        "transition='Albania,Bosnia and Herzegovina,Montenegro,North Macedonia,Serbia,Armenia,Azerbaijan,Belarus,Georgia,Kazakhstan,Kyrgyzstan,Moldova,Russia,Tajikistan,Turkmenistan,Ukraine,Uzbekistan'.split(',')\n",
        "developing_country='Algeria,Egypt,Libya,Mauritania,Morocco,Sudan,Tunisia,Cameroon,Central African Republic,Chad,Republic of the Congo,Equatorial Guinea,Gabon,São Tomé and Príncipe,Burundi,Comoros,Democratic Republic of the Congo,Djibouti,Eritrea,Ethiopia,Kenya,Madagascar,Rwanda,Somalia,South Sudan,Uganda,Tanzania,Angola,Botswana,Eswatini,Lesotho,Malawi,Mauritius,Mozambique,Namibia,South Africa,Zambia,Zimbabwe,Benin,Burkina Faso,Cape Verde,Côte d\\'Ivoire,The Gambia,Ghana,Guinea,Guinea-Bissau,Liberia,Mali,Niger,Nigeria,Senegal,Sierra Leone,Togo,Brunei,Cambodia,China,North Korea,Fiji,Hong Kong,Indonesia,Kiribati,Laos,Malaysia,Mongolia,Myanmar (Burma),Papua New Guinea,Philippines,South Korea,Samoa,Singapore,Solomon Islands,Taiwan,Thailand,Timor-Leste,Vanuatu,Vietnam,Afghanistan,Bangladesh,Bhutan,India,Iran,Maldives,Nepal,Pakistan,Sri Lanka,Bahrain,Iraq,Israel,Jordan,Kuwait,Lebanon,Oman,Qatar,Saudi Arabia,Palestine,Syria,Turkey,United Arab Emirates,Yemen,The Bahamas,Barbados,Belize,Guyana,Jamaica,Suriname,Trinidad and Tobago,Costa Rica,Cuba,Dominican Republic,El Salvador,Guatemala,Haiti,Honduras,Mexico,Nicaragua,Panama,Argentina,Bolivia,Brazil,Chile,Colombia,Ecuador,Paraguay,Peru,Uruguay,Venezuela'.split(',')\n",
        "\n"
      ],
      "execution_count": null,
      "outputs": []
    },
    {
      "source": [
        "### vote the top then select"
      ],
      "cell_type": "markdown",
      "metadata": {
        "id": "r_2xKYE1jNdZ"
      }
    },
    {
      "cell_type": "code",
      "metadata": {
        "id": "xAj1Q8CEj1Qt"
      },
      "source": [
        "def talkmost(country,T):\n",
        "  for i in list(set(country)-set(SDs.keys())):\n",
        "    country.remove(i)\n",
        "  country_SDs={i:SDs[i]for i in country}\n",
        "  country_TopSDG=[]\n",
        "  for i in country_SDs:\n",
        "    try:\n",
        "      if sum(country_SDs[i].values())>20 & max(country_SDs[i].values())>1:#make sure more than 1 tweets in the max column\n",
        "        MAXtop=max(country_SDs[i].values())\n",
        "        country_TopSDG.extend([ii for ii in country_SDs[i] if country_SDs[i][ii]==MAXtop])    \n",
        "    except:\n",
        "      pass\n",
        "  country_TopSDG={k:v for k,v in sorted(Counter(country_TopSDG).items(),key=lambda x:x[1],reverse=True)}\n",
        "  plt.bar(country_TopSDG.keys(),country_TopSDG.values())\n",
        "  plt.title(T)\n",
        "  print(list(country_TopSDG.keys()))\n",
        "  plt.show()\n",
        "\n",
        "def talkleast(country,T):\n",
        "  for i in list(set(country)-set(SDs.keys())):\n",
        "    country.remove(i)\n",
        "  country_SDs={i:SDs[i]for i in country}\n",
        "  country_TopSDG=[]\n",
        "  for i in country_SDs:\n",
        "    try:\n",
        "      if sum(country_SDs[i].values())>20:#make sure more than 1 tweets in the max column\n",
        "        MINtop=min(country_SDs[i].values())\n",
        "        country_TopSDG.extend([ii for ii in country_SDs[i] if country_SDs[i][ii]==MINtop])\n",
        "        #print(MINtop)\n",
        "    except:\n",
        "      pass\n",
        "  country_TopSDG={k:v for k,v in sorted(Counter(country_TopSDG).items(),key=lambda x:x[1],reverse=True)}\n",
        "  plt.bar(country_TopSDG.keys(),country_TopSDG.values())\n",
        "  plt.title(T)\n",
        "  print(list(country_TopSDG.keys()))\n",
        "  plt.show()"
      ],
      "execution_count": null,
      "outputs": []
    },
    {
      "cell_type": "code",
      "execution_count": null,
      "metadata": {},
      "outputs": [],
      "source": [
        "plt.figure(figsize=(15,5))\n",
        "talkmost(developed_country,'Developed talk Most')\n",
        "plt.figure(figsize=(15,5))\n",
        "talkleast(developed_country,'Developed talk Least')\n",
        "plt.figure(figsize=(15,5))\n",
        "talkmost(developing_country,'developing talk Most')\n",
        "plt.figure(figsize=(15,5))\n",
        "talkleast(developing_country,'developing talk Least')\n",
        "plt.figure(figsize=(15,5))\n",
        "talkmost(transition,'Transition talk Most')\n",
        "plt.figure(figsize=(15,5))\n",
        "talkleast(transition,'Transition talk Least')"
      ]
    },
    {
      "source": [
        "#### Based on Frequency"
      ],
      "cell_type": "markdown",
      "metadata": {
        "id": "zrjJltzq_GB_"
      }
    },
    {
      "cell_type": "code",
      "metadata": {
        "id": "ewv63om3AFaQ"
      },
      "source": [
        "def toptalkfreq(countrylist,T):\n",
        "  SD_Co=pd.DataFrame({i:SDs[i] for i in countrylist})\n",
        "  SD_Co.sum(axis=1).sort_values(ascending=False).plot(kind='bar')\n",
        "  l=list(SD_Co.sum(axis=1).sort_values(ascending=False).index)\n",
        "  #l = [i.strip('\\'\\'') for i in l]\n",
        "  print(l)\n",
        "\n",
        "  plt.title(T)\n",
        "  plt.show()"
      ],
      "execution_count": null,
      "outputs": []
    },
    {
      "cell_type": "code",
      "execution_count": null,
      "metadata": {},
      "outputs": [],
      "source": [
        "plt.figure(figsize=(10,5))\n",
        "toptalkfreq(developed_country,'Developed Countries')\n",
        "plt.figure(figsize=(10,5))\n",
        "toptalkfreq(developing_country,'Developing Countries')"
      ]
    },
    {
      "source": [
        "## Top SDG based on Country"
      ],
      "cell_type": "markdown",
      "metadata": {
        "id": "WBT_0MDphXBA"
      }
    },
    {
      "cell_type": "code",
      "execution_count": null,
      "metadata": {},
      "outputs": [],
      "source": [
        "top5EnCoun=PP.CountryCode[:30].tolist()\n",
        "for topcount in top5EnCoun:\n",
        "  plt.figure(figsize=(14,7))\n",
        "  plt.bar(SDs[topcount].keys(),SDs[topcount].values())\n",
        "  plt.title(topcount,fontsize=25,weight='bold')\n",
        "  plt.xlabel('SDG',fontsize=25,weight='bold')\n",
        "  plt.xticks(fontsize=20,weight='bold',rotation=90)\n",
        "  plt.yticks(fontsize=20,weight='bold',rotation=90)\n",
        "  plt.ylabel('Frequency',fontsize=25,weight='bold')\n",
        "  plt.tight_layout()\n",
        "  #plt.savefig(topcount+'.jpg')"
      ]
    },
    {
      "source": [
        "## Frequency of SDG"
      ],
      "cell_type": "markdown",
      "metadata": {
        "id": "2elFOHZW9isG"
      }
    },
    {
      "cell_type": "code",
      "metadata": {
        "id": "C0LZ0QbY28jU"
      },
      "source": [
        "TT=T[['extended_tweet', 'SDG','CountryCode']]\n",
        "TT['length']=[len(i) for i in TT['SDG']]\n",
        "TT=TT[[len(i)>0 for i in TT['SDG']]]\n",
        "TT.reset_index(drop=True,inplace=True)\n",
        "print(TT.shape)\n",
        "TT.head()"
      ],
      "execution_count": 46,
      "outputs": [
        {
          "output_type": "stream",
          "name": "stdout",
          "text": [
            "(384725, 4)\n"
          ]
        },
        {
          "output_type": "execute_result",
          "data": {
            "text/plain": [
              "                                      extended_tweet             SDG  \\\n",
              "0  2019 was the second warmest year on record .\\n...         [SDG13]   \n",
              "1  @fayway @fit4duty_ethics @drumeshprabhu @talal...         [SDG16]   \n",
              "2  what is the nutritional composition of the mos...          [SDG2]   \n",
              "3  we are excited to share our partner @bildungsh...          [SDG4]   \n",
              "4  we have the knowledge and the tools to prevent...  [SDG16, SDG16]   \n",
              "\n",
              "      CountryCode  length  \n",
              "0             nan       1  \n",
              "1  United Kingdom       1  \n",
              "2   United States       1  \n",
              "3             nan       1  \n",
              "4   United States       2  "
            ],
            "text/html": "<div>\n<style scoped>\n    .dataframe tbody tr th:only-of-type {\n        vertical-align: middle;\n    }\n\n    .dataframe tbody tr th {\n        vertical-align: top;\n    }\n\n    .dataframe thead th {\n        text-align: right;\n    }\n</style>\n<table border=\"1\" class=\"dataframe\">\n  <thead>\n    <tr style=\"text-align: right;\">\n      <th></th>\n      <th>extended_tweet</th>\n      <th>SDG</th>\n      <th>CountryCode</th>\n      <th>length</th>\n    </tr>\n  </thead>\n  <tbody>\n    <tr>\n      <th>0</th>\n      <td>2019 was the second warmest year on record .\\n...</td>\n      <td>[SDG13]</td>\n      <td>nan</td>\n      <td>1</td>\n    </tr>\n    <tr>\n      <th>1</th>\n      <td>@fayway @fit4duty_ethics @drumeshprabhu @talal...</td>\n      <td>[SDG16]</td>\n      <td>United Kingdom</td>\n      <td>1</td>\n    </tr>\n    <tr>\n      <th>2</th>\n      <td>what is the nutritional composition of the mos...</td>\n      <td>[SDG2]</td>\n      <td>United States</td>\n      <td>1</td>\n    </tr>\n    <tr>\n      <th>3</th>\n      <td>we are excited to share our partner @bildungsh...</td>\n      <td>[SDG4]</td>\n      <td>nan</td>\n      <td>1</td>\n    </tr>\n    <tr>\n      <th>4</th>\n      <td>we have the knowledge and the tools to prevent...</td>\n      <td>[SDG16, SDG16]</td>\n      <td>United States</td>\n      <td>2</td>\n    </tr>\n  </tbody>\n</table>\n</div>"
          },
          "metadata": {},
          "execution_count": 46
        }
      ]
    },
    {
      "cell_type": "code",
      "metadata": {
        "id": "P2Vrv8it5ED8"
      },
      "source": [
        "#Clean up the string\n",
        "Tdict={}\n",
        "for i in TT['SDG'].to_list():\n",
        "    for ii in i:\n",
        "        if ii in Tdict:\n",
        "            Tdict[ii]+=1\n",
        "        else:\n",
        "            Tdict[ii]=1\n",
        "#Tdict['']+=Tdict['']\n",
        "try:\n",
        "  Tdict['SDG1']+=Tdict['SDG01']\n",
        "  Tdict['SDG8']+=Tdict['SDG08']\n",
        "  Tdict['SDG6']+=Tdict['SDG64']\n",
        "  Tdict['SDG6']+=Tdict['SDG06']\n",
        "  Tdict['SDG4']+=Tdict['SDG04']\n",
        "  del Tdict['SDG01']\n",
        "  del Tdict['SDG04']\n",
        "  #del Tdict['SDG4ALL']\n",
        "  #del Tdict['SDG4B']\n",
        "  #del Tdict['SDG4IT']\n",
        "  #del Tdict['SDG4SURVEY']\n",
        "  #del Tdict['SDG4PT7']\n",
        "  del Tdict['SDG06']\n",
        "  del Tdict['SDG64']\n",
        "  del Tdict['SDG08']\n",
        "  del Tdict['SDG18']\n",
        "  del Tdict['SDG200']\n",
        "  del Tdict['SDG2030']\n",
        "  del Tdict['SDG2020']\n",
        "  del Tdict['SDG2000']\n",
        "  del Tdict['SDG632']\n",
        "  del Tdict['SDG20']\n",
        "  del Tdict['SDG0']\n",
        "  del Tdict['SDG19']\n",
        "\n",
        "except:\n",
        "  pass\n",
        "Tdict={k:v for k,v in sorted(Tdict.items(), key=lambda x: x[1],reverse=True)}\n",
        "sorted(Tdict)"
      ],
      "execution_count": 47,
      "outputs": [
        {
          "output_type": "execute_result",
          "data": {
            "text/plain": [
              "['SDG1',\n",
              " 'SDG10',\n",
              " 'SDG11',\n",
              " 'SDG12',\n",
              " 'SDG13',\n",
              " 'SDG14',\n",
              " 'SDG15',\n",
              " 'SDG16',\n",
              " 'SDG17',\n",
              " 'SDG2',\n",
              " 'SDG3',\n",
              " 'SDG4',\n",
              " 'SDG5',\n",
              " 'SDG6',\n",
              " 'SDG7',\n",
              " 'SDG8',\n",
              " 'SDG9']"
            ]
          },
          "metadata": {},
          "execution_count": 47
        }
      ]
    },
    {
      "cell_type": "code",
      "execution_count": 48,
      "metadata": {},
      "outputs": [
        {
          "output_type": "stream",
          "name": "stdout",
          "text": [
            "dict_keys(['SDG13', 'SDG4', 'SDG16', 'SDG7', 'SDG6', 'SDG14', 'SDG1', 'SDG5', 'SDG2', 'SDG3', 'SDG10', 'SDG9', 'SDG12', 'SDG8', 'SDG11', 'SDG17', 'SDG15'])\n"
          ]
        },
        {
          "output_type": "display_data",
          "data": {
            "text/plain": "<Figure size 1440x720 with 1 Axes>",
            "image/svg+xml": "<?xml version=\"1.0\" encoding=\"utf-8\" standalone=\"no\"?>\n<!DOCTYPE svg PUBLIC \"-//W3C//DTD SVG 1.1//EN\"\n  \"http://www.w3.org/Graphics/SVG/1.1/DTD/svg11.dtd\">\n<!-- Created with matplotlib (https://matplotlib.org/) -->\n<svg height=\"712.748437pt\" version=\"1.1\" viewBox=\"0 0 1433.351562 712.748437\" width=\"1433.351562pt\" xmlns=\"http://www.w3.org/2000/svg\" xmlns:xlink=\"http://www.w3.org/1999/xlink\">\n <metadata>\n  <rdf:RDF xmlns:cc=\"http://creativecommons.org/ns#\" xmlns:dc=\"http://purl.org/dc/elements/1.1/\" xmlns:rdf=\"http://www.w3.org/1999/02/22-rdf-syntax-ns#\">\n   <cc:Work>\n    <dc:type rdf:resource=\"http://purl.org/dc/dcmitype/StillImage\"/>\n    <dc:date>2020-12-29T23:26:10.886694</dc:date>\n    <dc:format>image/svg+xml</dc:format>\n    <dc:creator>\n     <cc:Agent>\n      <dc:title>Matplotlib v3.3.1, https://matplotlib.org/</dc:title>\n     </cc:Agent>\n    </dc:creator>\n   </cc:Work>\n  </rdf:RDF>\n </metadata>\n <defs>\n  <style type=\"text/css\">*{stroke-linecap:butt;stroke-linejoin:round;}</style>\n </defs>\n <g id=\"figure_1\">\n  <g id=\"patch_1\">\n   <path d=\"M -0 712.748437 \nL 1433.351562 712.748437 \nL 1433.351562 0 \nL -0 0 \nz\n\" style=\"fill:none;\"/>\n  </g>\n  <g id=\"axes_1\">\n   <g id=\"patch_2\">\n    <path d=\"M 61.751563 595.1 \nL 1426.151563 595.1 \nL 1426.151563 7.2 \nL 61.751563 7.2 \nz\n\" style=\"fill:#ffffff;\"/>\n   </g>\n   <g id=\"patch_3\">\n    <path clip-path=\"url(#p33e4db8512)\" d=\"M 123.769744 595.1 \nL 182.834679 595.1 \nL 182.834679 35.195238 \nL 123.769744 35.195238 \nz\n\" style=\"fill:#1f77b4;\"/>\n   </g>\n   <g id=\"patch_4\">\n    <path clip-path=\"url(#p33e4db8512)\" d=\"M 197.600913 595.1 \nL 256.665848 595.1 \nL 256.665848 44.885216 \nL 197.600913 44.885216 \nz\n\" style=\"fill:#1f77b4;\"/>\n   </g>\n   <g id=\"patch_5\">\n    <path clip-path=\"url(#p33e4db8512)\" d=\"M 271.432082 595.1 \nL 330.497017 595.1 \nL 330.497017 86.745212 \nL 271.432082 86.745212 \nz\n\" style=\"fill:#1f77b4;\"/>\n   </g>\n   <g id=\"patch_6\">\n    <path clip-path=\"url(#p33e4db8512)\" d=\"M 345.263251 595.1 \nL 404.328186 595.1 \nL 404.328186 325.859149 \nL 345.263251 325.859149 \nz\n\" style=\"fill:#1f77b4;\"/>\n   </g>\n   <g id=\"patch_7\">\n    <path clip-path=\"url(#p33e4db8512)\" d=\"M 419.09442 595.1 \nL 478.159355 595.1 \nL 478.159355 452.661457 \nL 419.09442 452.661457 \nz\n\" style=\"fill:#1f77b4;\"/>\n   </g>\n   <g id=\"patch_8\">\n    <path clip-path=\"url(#p33e4db8512)\" d=\"M 492.925588 595.1 \nL 551.990524 595.1 \nL 551.990524 489.992378 \nL 492.925588 489.992378 \nz\n\" style=\"fill:#1f77b4;\"/>\n   </g>\n   <g id=\"patch_9\">\n    <path clip-path=\"url(#p33e4db8512)\" d=\"M 566.756757 595.1 \nL 625.821692 595.1 \nL 625.821692 533.854143 \nL 566.756757 533.854143 \nz\n\" style=\"fill:#1f77b4;\"/>\n   </g>\n   <g id=\"patch_10\">\n    <path clip-path=\"url(#p33e4db8512)\" d=\"M 640.587926 595.1 \nL 699.652861 595.1 \nL 699.652861 538.359599 \nL 640.587926 538.359599 \nz\n\" style=\"fill:#1f77b4;\"/>\n   </g>\n   <g id=\"patch_11\">\n    <path clip-path=\"url(#p33e4db8512)\" d=\"M 714.419095 595.1 \nL 773.48403 595.1 \nL 773.48403 539.133143 \nL 714.419095 539.133143 \nz\n\" style=\"fill:#1f77b4;\"/>\n   </g>\n   <g id=\"patch_12\">\n    <path clip-path=\"url(#p33e4db8512)\" d=\"M 788.250264 595.1 \nL 847.315199 595.1 \nL 847.315199 541.093578 \nL 788.250264 541.093578 \nz\n\" style=\"fill:#1f77b4;\"/>\n   </g>\n   <g id=\"patch_13\">\n    <path clip-path=\"url(#p33e4db8512)\" d=\"M 862.081433 595.1 \nL 921.146368 595.1 \nL 921.146368 551.822822 \nL 862.081433 551.822822 \nz\n\" style=\"fill:#1f77b4;\"/>\n   </g>\n   <g id=\"patch_14\">\n    <path clip-path=\"url(#p33e4db8512)\" d=\"M 935.912601 595.1 \nL 994.977537 595.1 \nL 994.977537 554.480037 \nL 935.912601 554.480037 \nz\n\" style=\"fill:#1f77b4;\"/>\n   </g>\n   <g id=\"patch_15\">\n    <path clip-path=\"url(#p33e4db8512)\" d=\"M 1009.74377 595.1 \nL 1068.808705 595.1 \nL 1068.808705 570.169417 \nL 1009.74377 570.169417 \nz\n\" style=\"fill:#1f77b4;\"/>\n   </g>\n   <g id=\"patch_16\">\n    <path clip-path=\"url(#p33e4db8512)\" d=\"M 1083.574939 595.1 \nL 1142.639874 595.1 \nL 1142.639874 579.511004 \nL 1083.574939 579.511004 \nz\n\" style=\"fill:#1f77b4;\"/>\n   </g>\n   <g id=\"patch_17\">\n    <path clip-path=\"url(#p33e4db8512)\" d=\"M 1157.406108 595.1 \nL 1216.471043 595.1 \nL 1216.471043 581.146668 \nL 1157.406108 581.146668 \nz\n\" style=\"fill:#1f77b4;\"/>\n   </g>\n   <g id=\"patch_18\">\n    <path clip-path=\"url(#p33e4db8512)\" d=\"M 1231.237277 595.1 \nL 1290.302212 595.1 \nL 1290.302212 584.293992 \nL 1231.237277 584.293992 \nz\n\" style=\"fill:#1f77b4;\"/>\n   </g>\n   <g id=\"patch_19\">\n    <path clip-path=\"url(#p33e4db8512)\" d=\"M 1305.068446 595.1 \nL 1364.133381 595.1 \nL 1364.133381 586.159947 \nL 1305.068446 586.159947 \nz\n\" style=\"fill:#1f77b4;\"/>\n   </g>\n   <g id=\"matplotlib.axis_1\">\n    <g id=\"xtick_1\">\n     <g id=\"line2d_1\">\n      <defs>\n       <path d=\"M 0 0 \nL 0 3.5 \n\" id=\"m0adaa0ca3f\" style=\"stroke:#000000;stroke-width:0.8;\"/>\n      </defs>\n      <g>\n       <use style=\"stroke:#000000;stroke-width:0.8;\" x=\"153.302212\" xlink:href=\"#m0adaa0ca3f\" y=\"595.1\"/>\n      </g>\n     </g>\n     <g id=\"text_1\">\n      <!-- SDG13 -->\n      <g transform=\"translate(158.820962 677.353125)rotate(-90)scale(0.2 -0.2)\">\n       <defs>\n        <path d=\"M 59.90625 70.609375 \nL 59.90625 55.171875 \nQ 53.90625 57.859375 48.1875 59.21875 \nQ 42.484375 60.59375 37.40625 60.59375 \nQ 30.671875 60.59375 27.4375 58.734375 \nQ 24.21875 56.890625 24.21875 52.984375 \nQ 24.21875 50.046875 26.390625 48.40625 \nQ 28.5625 46.78125 34.28125 45.609375 \nL 42.28125 44 \nQ 54.4375 41.546875 59.5625 36.5625 \nQ 64.703125 31.59375 64.703125 22.40625 \nQ 64.703125 10.359375 57.546875 4.46875 \nQ 50.390625 -1.421875 35.6875 -1.421875 \nQ 28.765625 -1.421875 21.78125 -0.09375 \nQ 14.796875 1.21875 7.8125 3.8125 \nL 7.8125 19.671875 \nQ 14.796875 15.96875 21.3125 14.078125 \nQ 27.828125 12.203125 33.890625 12.203125 \nQ 40.046875 12.203125 43.3125 14.25 \nQ 46.578125 16.3125 46.578125 20.125 \nQ 46.578125 23.53125 44.359375 25.390625 \nQ 42.140625 27.25 35.5 28.71875 \nL 28.21875 30.328125 \nQ 17.28125 32.671875 12.21875 37.796875 \nQ 7.171875 42.921875 7.171875 51.609375 \nQ 7.171875 62.5 14.203125 68.359375 \nQ 21.234375 74.21875 34.421875 74.21875 \nQ 40.4375 74.21875 46.78125 73.3125 \nQ 53.125 72.40625 59.90625 70.609375 \nz\n\" id=\"DejaVuSans-Bold-83\"/>\n        <path d=\"M 27.984375 58.6875 \nL 27.984375 14.203125 \nL 34.71875 14.203125 \nQ 46.234375 14.203125 52.3125 19.921875 \nQ 58.40625 25.640625 58.40625 36.53125 \nQ 58.40625 47.359375 52.34375 53.015625 \nQ 46.296875 58.6875 34.71875 58.6875 \nz\nM 9.1875 72.90625 \nL 29 72.90625 \nQ 45.609375 72.90625 53.734375 70.53125 \nQ 61.859375 68.171875 67.671875 62.5 \nQ 72.796875 57.5625 75.28125 51.109375 \nQ 77.78125 44.671875 77.78125 36.53125 \nQ 77.78125 28.265625 75.28125 21.796875 \nQ 72.796875 15.328125 67.671875 10.40625 \nQ 61.8125 4.734375 53.609375 2.359375 \nQ 45.40625 0 29 0 \nL 9.1875 0 \nz\n\" id=\"DejaVuSans-Bold-68\"/>\n        <path d=\"M 74.703125 5.421875 \nQ 67.671875 2 60.109375 0.28125 \nQ 52.546875 -1.421875 44.484375 -1.421875 \nQ 26.265625 -1.421875 15.625 8.765625 \nQ 4.984375 18.953125 4.984375 36.375 \nQ 4.984375 54 15.8125 64.109375 \nQ 26.65625 74.21875 45.515625 74.21875 \nQ 52.78125 74.21875 59.4375 72.84375 \nQ 66.109375 71.484375 72.015625 68.796875 \nL 72.015625 53.71875 \nQ 65.921875 57.171875 59.890625 58.875 \nQ 53.859375 60.59375 47.796875 60.59375 \nQ 36.578125 60.59375 30.5 54.3125 \nQ 24.421875 48.046875 24.421875 36.375 \nQ 24.421875 24.8125 30.28125 18.5 \nQ 36.140625 12.203125 46.921875 12.203125 \nQ 49.859375 12.203125 52.375 12.5625 \nQ 54.890625 12.9375 56.890625 13.71875 \nL 56.890625 27.875 \nL 45.40625 27.875 \nL 45.40625 40.484375 \nL 74.703125 40.484375 \nz\n\" id=\"DejaVuSans-Bold-71\"/>\n        <path d=\"M 11.71875 12.984375 \nL 28.328125 12.984375 \nL 28.328125 60.109375 \nL 11.28125 56.59375 \nL 11.28125 69.390625 \nL 28.21875 72.90625 \nL 46.09375 72.90625 \nL 46.09375 12.984375 \nL 62.703125 12.984375 \nL 62.703125 0 \nL 11.71875 0 \nz\n\" id=\"DejaVuSans-Bold-49\"/>\n        <path d=\"M 46.578125 39.3125 \nQ 53.953125 37.40625 57.78125 32.6875 \nQ 61.625 27.984375 61.625 20.703125 \nQ 61.625 9.859375 53.3125 4.21875 \nQ 45.015625 -1.421875 29.109375 -1.421875 \nQ 23.484375 -1.421875 17.84375 -0.515625 \nQ 12.203125 0.390625 6.6875 2.203125 \nL 6.6875 16.703125 \nQ 11.96875 14.0625 17.15625 12.71875 \nQ 22.359375 11.375 27.390625 11.375 \nQ 34.859375 11.375 38.84375 13.953125 \nQ 42.828125 16.546875 42.828125 21.390625 \nQ 42.828125 26.375 38.75 28.9375 \nQ 34.671875 31.5 26.703125 31.5 \nL 19.1875 31.5 \nL 19.1875 43.609375 \nL 27.09375 43.609375 \nQ 34.1875 43.609375 37.640625 45.828125 \nQ 41.109375 48.046875 41.109375 52.59375 \nQ 41.109375 56.78125 37.734375 59.078125 \nQ 34.375 61.375 28.21875 61.375 \nQ 23.6875 61.375 19.046875 60.34375 \nQ 14.40625 59.328125 9.8125 57.328125 \nL 9.8125 71.09375 \nQ 15.375 72.65625 20.84375 73.4375 \nQ 26.3125 74.21875 31.59375 74.21875 \nQ 45.796875 74.21875 52.84375 69.546875 \nQ 59.90625 64.890625 59.90625 55.515625 \nQ 59.90625 49.125 56.53125 45.046875 \nQ 53.171875 40.96875 46.578125 39.3125 \nz\n\" id=\"DejaVuSans-Bold-51\"/>\n       </defs>\n       <use xlink:href=\"#DejaVuSans-Bold-83\"/>\n       <use x=\"72.021484\" xlink:href=\"#DejaVuSans-Bold-68\"/>\n       <use x=\"155.029297\" xlink:href=\"#DejaVuSans-Bold-71\"/>\n       <use x=\"237.109375\" xlink:href=\"#DejaVuSans-Bold-49\"/>\n       <use x=\"306.689453\" xlink:href=\"#DejaVuSans-Bold-51\"/>\n      </g>\n     </g>\n    </g>\n    <g id=\"xtick_2\">\n     <g id=\"line2d_2\">\n      <g>\n       <use style=\"stroke:#000000;stroke-width:0.8;\" x=\"227.133381\" xlink:href=\"#m0adaa0ca3f\" y=\"595.1\"/>\n      </g>\n     </g>\n     <g id=\"text_2\">\n      <!-- SDG4 -->\n      <g transform=\"translate(232.652131 663.4375)rotate(-90)scale(0.2 -0.2)\">\n       <defs>\n        <path d=\"M 36.8125 57.421875 \nL 16.21875 26.90625 \nL 36.8125 26.90625 \nz\nM 33.6875 72.90625 \nL 54.59375 72.90625 \nL 54.59375 26.90625 \nL 64.984375 26.90625 \nL 64.984375 13.28125 \nL 54.59375 13.28125 \nL 54.59375 0 \nL 36.8125 0 \nL 36.8125 13.28125 \nL 4.5 13.28125 \nL 4.5 29.390625 \nz\n\" id=\"DejaVuSans-Bold-52\"/>\n       </defs>\n       <use xlink:href=\"#DejaVuSans-Bold-83\"/>\n       <use x=\"72.021484\" xlink:href=\"#DejaVuSans-Bold-68\"/>\n       <use x=\"155.029297\" xlink:href=\"#DejaVuSans-Bold-71\"/>\n       <use x=\"237.109375\" xlink:href=\"#DejaVuSans-Bold-52\"/>\n      </g>\n     </g>\n    </g>\n    <g id=\"xtick_3\">\n     <g id=\"line2d_3\">\n      <g>\n       <use style=\"stroke:#000000;stroke-width:0.8;\" x=\"300.96455\" xlink:href=\"#m0adaa0ca3f\" y=\"595.1\"/>\n      </g>\n     </g>\n     <g id=\"text_3\">\n      <!-- SDG16 -->\n      <g transform=\"translate(306.4833 677.353125)rotate(-90)scale(0.2 -0.2)\">\n       <defs>\n        <path d=\"M 36.1875 35.984375 \nQ 31.25 35.984375 28.78125 32.78125 \nQ 26.3125 29.59375 26.3125 23.1875 \nQ 26.3125 16.796875 28.78125 13.59375 \nQ 31.25 10.40625 36.1875 10.40625 \nQ 41.15625 10.40625 43.625 13.59375 \nQ 46.09375 16.796875 46.09375 23.1875 \nQ 46.09375 29.59375 43.625 32.78125 \nQ 41.15625 35.984375 36.1875 35.984375 \nz\nM 59.421875 71 \nL 59.421875 57.515625 \nQ 54.78125 59.71875 50.671875 60.765625 \nQ 46.578125 61.8125 42.671875 61.8125 \nQ 34.28125 61.8125 29.59375 57.140625 \nQ 24.90625 52.484375 24.125 43.3125 \nQ 27.34375 45.703125 31.09375 46.890625 \nQ 34.859375 48.09375 39.3125 48.09375 \nQ 50.484375 48.09375 57.34375 41.546875 \nQ 64.203125 35.015625 64.203125 24.421875 \nQ 64.203125 12.703125 56.53125 5.640625 \nQ 48.875 -1.421875 35.984375 -1.421875 \nQ 21.78125 -1.421875 13.984375 8.171875 \nQ 6.203125 17.78125 6.203125 35.40625 \nQ 6.203125 53.46875 15.3125 63.796875 \nQ 24.421875 74.125 40.28125 74.125 \nQ 45.3125 74.125 50.046875 73.34375 \nQ 54.78125 72.5625 59.421875 71 \nz\n\" id=\"DejaVuSans-Bold-54\"/>\n       </defs>\n       <use xlink:href=\"#DejaVuSans-Bold-83\"/>\n       <use x=\"72.021484\" xlink:href=\"#DejaVuSans-Bold-68\"/>\n       <use x=\"155.029297\" xlink:href=\"#DejaVuSans-Bold-71\"/>\n       <use x=\"237.109375\" xlink:href=\"#DejaVuSans-Bold-49\"/>\n       <use x=\"306.689453\" xlink:href=\"#DejaVuSans-Bold-54\"/>\n      </g>\n     </g>\n    </g>\n    <g id=\"xtick_4\">\n     <g id=\"line2d_4\">\n      <g>\n       <use style=\"stroke:#000000;stroke-width:0.8;\" x=\"374.795718\" xlink:href=\"#m0adaa0ca3f\" y=\"595.1\"/>\n      </g>\n     </g>\n     <g id=\"text_4\">\n      <!-- SDG7 -->\n      <g transform=\"translate(380.314468 663.4375)rotate(-90)scale(0.2 -0.2)\">\n       <defs>\n        <path d=\"M 6.6875 72.90625 \nL 61.625 72.90625 \nL 61.625 62.3125 \nL 33.203125 0 \nL 14.890625 0 \nL 41.796875 59.078125 \nL 6.6875 59.078125 \nz\n\" id=\"DejaVuSans-Bold-55\"/>\n       </defs>\n       <use xlink:href=\"#DejaVuSans-Bold-83\"/>\n       <use x=\"72.021484\" xlink:href=\"#DejaVuSans-Bold-68\"/>\n       <use x=\"155.029297\" xlink:href=\"#DejaVuSans-Bold-71\"/>\n       <use x=\"237.109375\" xlink:href=\"#DejaVuSans-Bold-55\"/>\n      </g>\n     </g>\n    </g>\n    <g id=\"xtick_5\">\n     <g id=\"line2d_5\">\n      <g>\n       <use style=\"stroke:#000000;stroke-width:0.8;\" x=\"448.626887\" xlink:href=\"#m0adaa0ca3f\" y=\"595.1\"/>\n      </g>\n     </g>\n     <g id=\"text_5\">\n      <!-- SDG6 -->\n      <g transform=\"translate(454.145637 663.4375)rotate(-90)scale(0.2 -0.2)\">\n       <use xlink:href=\"#DejaVuSans-Bold-83\"/>\n       <use x=\"72.021484\" xlink:href=\"#DejaVuSans-Bold-68\"/>\n       <use x=\"155.029297\" xlink:href=\"#DejaVuSans-Bold-71\"/>\n       <use x=\"237.109375\" xlink:href=\"#DejaVuSans-Bold-54\"/>\n      </g>\n     </g>\n    </g>\n    <g id=\"xtick_6\">\n     <g id=\"line2d_6\">\n      <g>\n       <use style=\"stroke:#000000;stroke-width:0.8;\" x=\"522.458056\" xlink:href=\"#m0adaa0ca3f\" y=\"595.1\"/>\n      </g>\n     </g>\n     <g id=\"text_6\">\n      <!-- SDG14 -->\n      <g transform=\"translate(527.976806 677.353125)rotate(-90)scale(0.2 -0.2)\">\n       <use xlink:href=\"#DejaVuSans-Bold-83\"/>\n       <use x=\"72.021484\" xlink:href=\"#DejaVuSans-Bold-68\"/>\n       <use x=\"155.029297\" xlink:href=\"#DejaVuSans-Bold-71\"/>\n       <use x=\"237.109375\" xlink:href=\"#DejaVuSans-Bold-49\"/>\n       <use x=\"306.689453\" xlink:href=\"#DejaVuSans-Bold-52\"/>\n      </g>\n     </g>\n    </g>\n    <g id=\"xtick_7\">\n     <g id=\"line2d_7\">\n      <g>\n       <use style=\"stroke:#000000;stroke-width:0.8;\" x=\"596.289225\" xlink:href=\"#m0adaa0ca3f\" y=\"595.1\"/>\n      </g>\n     </g>\n     <g id=\"text_7\">\n      <!-- SDG1 -->\n      <g transform=\"translate(601.807975 663.4375)rotate(-90)scale(0.2 -0.2)\">\n       <use xlink:href=\"#DejaVuSans-Bold-83\"/>\n       <use x=\"72.021484\" xlink:href=\"#DejaVuSans-Bold-68\"/>\n       <use x=\"155.029297\" xlink:href=\"#DejaVuSans-Bold-71\"/>\n       <use x=\"237.109375\" xlink:href=\"#DejaVuSans-Bold-49\"/>\n      </g>\n     </g>\n    </g>\n    <g id=\"xtick_8\">\n     <g id=\"line2d_8\">\n      <g>\n       <use style=\"stroke:#000000;stroke-width:0.8;\" x=\"670.120394\" xlink:href=\"#m0adaa0ca3f\" y=\"595.1\"/>\n      </g>\n     </g>\n     <g id=\"text_8\">\n      <!-- SDG5 -->\n      <g transform=\"translate(675.639144 663.4375)rotate(-90)scale(0.2 -0.2)\">\n       <defs>\n        <path d=\"M 10.59375 72.90625 \nL 57.328125 72.90625 \nL 57.328125 59.078125 \nL 25.59375 59.078125 \nL 25.59375 47.796875 \nQ 27.734375 48.390625 29.90625 48.703125 \nQ 32.078125 49.03125 34.421875 49.03125 \nQ 47.75 49.03125 55.171875 42.359375 \nQ 62.59375 35.6875 62.59375 23.78125 \nQ 62.59375 11.96875 54.515625 5.265625 \nQ 46.4375 -1.421875 32.078125 -1.421875 \nQ 25.875 -1.421875 19.796875 -0.21875 \nQ 13.71875 0.984375 7.71875 3.421875 \nL 7.71875 18.21875 \nQ 13.671875 14.796875 19.015625 13.078125 \nQ 24.359375 11.375 29.109375 11.375 \nQ 35.9375 11.375 39.859375 14.71875 \nQ 43.796875 18.0625 43.796875 23.78125 \nQ 43.796875 29.546875 39.859375 32.859375 \nQ 35.9375 36.1875 29.109375 36.1875 \nQ 25.046875 36.1875 20.453125 35.125 \nQ 15.875 34.078125 10.59375 31.890625 \nz\n\" id=\"DejaVuSans-Bold-53\"/>\n       </defs>\n       <use xlink:href=\"#DejaVuSans-Bold-83\"/>\n       <use x=\"72.021484\" xlink:href=\"#DejaVuSans-Bold-68\"/>\n       <use x=\"155.029297\" xlink:href=\"#DejaVuSans-Bold-71\"/>\n       <use x=\"237.109375\" xlink:href=\"#DejaVuSans-Bold-53\"/>\n      </g>\n     </g>\n    </g>\n    <g id=\"xtick_9\">\n     <g id=\"line2d_9\">\n      <g>\n       <use style=\"stroke:#000000;stroke-width:0.8;\" x=\"743.951563\" xlink:href=\"#m0adaa0ca3f\" y=\"595.1\"/>\n      </g>\n     </g>\n     <g id=\"text_9\">\n      <!-- SDG2 -->\n      <g transform=\"translate(749.470312 663.4375)rotate(-90)scale(0.2 -0.2)\">\n       <defs>\n        <path d=\"M 28.8125 13.8125 \nL 60.890625 13.8125 \nL 60.890625 0 \nL 7.90625 0 \nL 7.90625 13.8125 \nL 34.515625 37.3125 \nQ 38.09375 40.53125 39.796875 43.609375 \nQ 41.5 46.6875 41.5 50 \nQ 41.5 55.125 38.0625 58.25 \nQ 34.625 61.375 28.90625 61.375 \nQ 24.515625 61.375 19.28125 59.5 \nQ 14.0625 57.625 8.109375 53.90625 \nL 8.109375 69.921875 \nQ 14.453125 72.015625 20.65625 73.109375 \nQ 26.859375 74.21875 32.8125 74.21875 \nQ 45.90625 74.21875 53.15625 68.453125 \nQ 60.40625 62.703125 60.40625 52.390625 \nQ 60.40625 46.4375 57.328125 41.28125 \nQ 54.25 36.140625 44.390625 27.484375 \nz\n\" id=\"DejaVuSans-Bold-50\"/>\n       </defs>\n       <use xlink:href=\"#DejaVuSans-Bold-83\"/>\n       <use x=\"72.021484\" xlink:href=\"#DejaVuSans-Bold-68\"/>\n       <use x=\"155.029297\" xlink:href=\"#DejaVuSans-Bold-71\"/>\n       <use x=\"237.109375\" xlink:href=\"#DejaVuSans-Bold-50\"/>\n      </g>\n     </g>\n    </g>\n    <g id=\"xtick_10\">\n     <g id=\"line2d_10\">\n      <g>\n       <use style=\"stroke:#000000;stroke-width:0.8;\" x=\"817.782731\" xlink:href=\"#m0adaa0ca3f\" y=\"595.1\"/>\n      </g>\n     </g>\n     <g id=\"text_10\">\n      <!-- SDG3 -->\n      <g transform=\"translate(823.301481 663.4375)rotate(-90)scale(0.2 -0.2)\">\n       <use xlink:href=\"#DejaVuSans-Bold-83\"/>\n       <use x=\"72.021484\" xlink:href=\"#DejaVuSans-Bold-68\"/>\n       <use x=\"155.029297\" xlink:href=\"#DejaVuSans-Bold-71\"/>\n       <use x=\"237.109375\" xlink:href=\"#DejaVuSans-Bold-51\"/>\n      </g>\n     </g>\n    </g>\n    <g id=\"xtick_11\">\n     <g id=\"line2d_11\">\n      <g>\n       <use style=\"stroke:#000000;stroke-width:0.8;\" x=\"891.6139\" xlink:href=\"#m0adaa0ca3f\" y=\"595.1\"/>\n      </g>\n     </g>\n     <g id=\"text_11\">\n      <!-- SDG10 -->\n      <g transform=\"translate(897.13265 677.353125)rotate(-90)scale(0.2 -0.2)\">\n       <defs>\n        <path d=\"M 46 36.53125 \nQ 46 50.203125 43.4375 55.78125 \nQ 40.875 61.375 34.8125 61.375 \nQ 28.765625 61.375 26.171875 55.78125 \nQ 23.578125 50.203125 23.578125 36.53125 \nQ 23.578125 22.703125 26.171875 17.03125 \nQ 28.765625 11.375 34.8125 11.375 \nQ 40.828125 11.375 43.40625 17.03125 \nQ 46 22.703125 46 36.53125 \nz\nM 64.796875 36.375 \nQ 64.796875 18.265625 56.984375 8.421875 \nQ 49.171875 -1.421875 34.8125 -1.421875 \nQ 20.40625 -1.421875 12.59375 8.421875 \nQ 4.78125 18.265625 4.78125 36.375 \nQ 4.78125 54.546875 12.59375 64.375 \nQ 20.40625 74.21875 34.8125 74.21875 \nQ 49.171875 74.21875 56.984375 64.375 \nQ 64.796875 54.546875 64.796875 36.375 \nz\n\" id=\"DejaVuSans-Bold-48\"/>\n       </defs>\n       <use xlink:href=\"#DejaVuSans-Bold-83\"/>\n       <use x=\"72.021484\" xlink:href=\"#DejaVuSans-Bold-68\"/>\n       <use x=\"155.029297\" xlink:href=\"#DejaVuSans-Bold-71\"/>\n       <use x=\"237.109375\" xlink:href=\"#DejaVuSans-Bold-49\"/>\n       <use x=\"306.689453\" xlink:href=\"#DejaVuSans-Bold-48\"/>\n      </g>\n     </g>\n    </g>\n    <g id=\"xtick_12\">\n     <g id=\"line2d_12\">\n      <g>\n       <use style=\"stroke:#000000;stroke-width:0.8;\" x=\"965.445069\" xlink:href=\"#m0adaa0ca3f\" y=\"595.1\"/>\n      </g>\n     </g>\n     <g id=\"text_12\">\n      <!-- SDG9 -->\n      <g transform=\"translate(970.963819 663.4375)rotate(-90)scale(0.2 -0.2)\">\n       <defs>\n        <path d=\"M 10.015625 1.609375 \nL 10.015625 15.09375 \nQ 14.5 12.984375 18.59375 11.9375 \nQ 22.703125 10.890625 26.703125 10.890625 \nQ 35.109375 10.890625 39.796875 15.546875 \nQ 44.484375 20.21875 45.3125 29.390625 \nQ 42 26.953125 38.234375 25.734375 \nQ 34.46875 24.515625 30.078125 24.515625 \nQ 18.890625 24.515625 12.03125 31.03125 \nQ 5.171875 37.546875 5.171875 48.1875 \nQ 5.171875 59.96875 12.8125 67.046875 \nQ 20.453125 74.125 33.296875 74.125 \nQ 47.5625 74.125 55.375 64.5 \nQ 63.1875 54.890625 63.1875 37.3125 \nQ 63.1875 19.234375 54.046875 8.90625 \nQ 44.921875 -1.421875 29 -1.421875 \nQ 23.875 -1.421875 19.1875 -0.65625 \nQ 14.5 0.09375 10.015625 1.609375 \nz\nM 33.203125 36.71875 \nQ 38.140625 36.71875 40.625 39.90625 \nQ 43.109375 43.109375 43.109375 49.515625 \nQ 43.109375 55.859375 40.625 59.078125 \nQ 38.140625 62.3125 33.203125 62.3125 \nQ 28.265625 62.3125 25.78125 59.078125 \nQ 23.296875 55.859375 23.296875 49.515625 \nQ 23.296875 43.109375 25.78125 39.90625 \nQ 28.265625 36.71875 33.203125 36.71875 \nz\n\" id=\"DejaVuSans-Bold-57\"/>\n       </defs>\n       <use xlink:href=\"#DejaVuSans-Bold-83\"/>\n       <use x=\"72.021484\" xlink:href=\"#DejaVuSans-Bold-68\"/>\n       <use x=\"155.029297\" xlink:href=\"#DejaVuSans-Bold-71\"/>\n       <use x=\"237.109375\" xlink:href=\"#DejaVuSans-Bold-57\"/>\n      </g>\n     </g>\n    </g>\n    <g id=\"xtick_13\">\n     <g id=\"line2d_13\">\n      <g>\n       <use style=\"stroke:#000000;stroke-width:0.8;\" x=\"1039.276238\" xlink:href=\"#m0adaa0ca3f\" y=\"595.1\"/>\n      </g>\n     </g>\n     <g id=\"text_13\">\n      <!-- SDG12 -->\n      <g transform=\"translate(1044.794988 677.353125)rotate(-90)scale(0.2 -0.2)\">\n       <use xlink:href=\"#DejaVuSans-Bold-83\"/>\n       <use x=\"72.021484\" xlink:href=\"#DejaVuSans-Bold-68\"/>\n       <use x=\"155.029297\" xlink:href=\"#DejaVuSans-Bold-71\"/>\n       <use x=\"237.109375\" xlink:href=\"#DejaVuSans-Bold-49\"/>\n       <use x=\"306.689453\" xlink:href=\"#DejaVuSans-Bold-50\"/>\n      </g>\n     </g>\n    </g>\n    <g id=\"xtick_14\">\n     <g id=\"line2d_14\">\n      <g>\n       <use style=\"stroke:#000000;stroke-width:0.8;\" x=\"1113.107407\" xlink:href=\"#m0adaa0ca3f\" y=\"595.1\"/>\n      </g>\n     </g>\n     <g id=\"text_14\">\n      <!-- SDG8 -->\n      <g transform=\"translate(1118.626157 663.4375)rotate(-90)scale(0.2 -0.2)\">\n       <defs>\n        <path d=\"M 34.8125 32.625 \nQ 29.546875 32.625 26.703125 29.734375 \nQ 23.875 26.859375 23.875 21.484375 \nQ 23.875 16.109375 26.703125 13.25 \nQ 29.546875 10.40625 34.8125 10.40625 \nQ 40.046875 10.40625 42.828125 13.25 \nQ 45.609375 16.109375 45.609375 21.484375 \nQ 45.609375 26.90625 42.828125 29.765625 \nQ 40.046875 32.625 34.8125 32.625 \nz\nM 21.09375 38.8125 \nQ 14.453125 40.828125 11.078125 44.96875 \nQ 7.71875 49.125 7.71875 55.328125 \nQ 7.71875 64.546875 14.59375 69.375 \nQ 21.484375 74.21875 34.8125 74.21875 \nQ 48.046875 74.21875 54.921875 69.40625 \nQ 61.8125 64.59375 61.8125 55.328125 \nQ 61.8125 49.125 58.421875 44.96875 \nQ 55.03125 40.828125 48.390625 38.8125 \nQ 55.8125 36.765625 59.59375 32.15625 \nQ 63.375 27.546875 63.375 20.515625 \nQ 63.375 9.671875 56.171875 4.125 \nQ 48.96875 -1.421875 34.8125 -1.421875 \nQ 20.609375 -1.421875 13.359375 4.125 \nQ 6.109375 9.671875 6.109375 20.515625 \nQ 6.109375 27.546875 9.890625 32.15625 \nQ 13.671875 36.765625 21.09375 38.8125 \nz\nM 25.484375 53.421875 \nQ 25.484375 49.078125 27.90625 46.734375 \nQ 30.328125 44.390625 34.8125 44.390625 \nQ 39.203125 44.390625 41.59375 46.734375 \nQ 44 49.078125 44 53.421875 \nQ 44 57.765625 41.59375 60.078125 \nQ 39.203125 62.40625 34.8125 62.40625 \nQ 30.328125 62.40625 27.90625 60.0625 \nQ 25.484375 57.71875 25.484375 53.421875 \nz\n\" id=\"DejaVuSans-Bold-56\"/>\n       </defs>\n       <use xlink:href=\"#DejaVuSans-Bold-83\"/>\n       <use x=\"72.021484\" xlink:href=\"#DejaVuSans-Bold-68\"/>\n       <use x=\"155.029297\" xlink:href=\"#DejaVuSans-Bold-71\"/>\n       <use x=\"237.109375\" xlink:href=\"#DejaVuSans-Bold-56\"/>\n      </g>\n     </g>\n    </g>\n    <g id=\"xtick_15\">\n     <g id=\"line2d_15\">\n      <g>\n       <use style=\"stroke:#000000;stroke-width:0.8;\" x=\"1186.938575\" xlink:href=\"#m0adaa0ca3f\" y=\"595.1\"/>\n      </g>\n     </g>\n     <g id=\"text_15\">\n      <!-- SDG11 -->\n      <g transform=\"translate(1192.457325 677.353125)rotate(-90)scale(0.2 -0.2)\">\n       <use xlink:href=\"#DejaVuSans-Bold-83\"/>\n       <use x=\"72.021484\" xlink:href=\"#DejaVuSans-Bold-68\"/>\n       <use x=\"155.029297\" xlink:href=\"#DejaVuSans-Bold-71\"/>\n       <use x=\"237.109375\" xlink:href=\"#DejaVuSans-Bold-49\"/>\n       <use x=\"306.689453\" xlink:href=\"#DejaVuSans-Bold-49\"/>\n      </g>\n     </g>\n    </g>\n    <g id=\"xtick_16\">\n     <g id=\"line2d_16\">\n      <g>\n       <use style=\"stroke:#000000;stroke-width:0.8;\" x=\"1260.769744\" xlink:href=\"#m0adaa0ca3f\" y=\"595.1\"/>\n      </g>\n     </g>\n     <g id=\"text_16\">\n      <!-- SDG17 -->\n      <g transform=\"translate(1266.288494 677.353125)rotate(-90)scale(0.2 -0.2)\">\n       <use xlink:href=\"#DejaVuSans-Bold-83\"/>\n       <use x=\"72.021484\" xlink:href=\"#DejaVuSans-Bold-68\"/>\n       <use x=\"155.029297\" xlink:href=\"#DejaVuSans-Bold-71\"/>\n       <use x=\"237.109375\" xlink:href=\"#DejaVuSans-Bold-49\"/>\n       <use x=\"306.689453\" xlink:href=\"#DejaVuSans-Bold-55\"/>\n      </g>\n     </g>\n    </g>\n    <g id=\"xtick_17\">\n     <g id=\"line2d_17\">\n      <g>\n       <use style=\"stroke:#000000;stroke-width:0.8;\" x=\"1334.600913\" xlink:href=\"#m0adaa0ca3f\" y=\"595.1\"/>\n      </g>\n     </g>\n     <g id=\"text_17\">\n      <!-- SDG15 -->\n      <g transform=\"translate(1340.119663 677.353125)rotate(-90)scale(0.2 -0.2)\">\n       <use xlink:href=\"#DejaVuSans-Bold-83\"/>\n       <use x=\"72.021484\" xlink:href=\"#DejaVuSans-Bold-68\"/>\n       <use x=\"155.029297\" xlink:href=\"#DejaVuSans-Bold-71\"/>\n       <use x=\"237.109375\" xlink:href=\"#DejaVuSans-Bold-49\"/>\n       <use x=\"306.689453\" xlink:href=\"#DejaVuSans-Bold-53\"/>\n      </g>\n     </g>\n    </g>\n    <g id=\"text_18\">\n     <!-- SDG -->\n     <g transform=\"translate(714.312891 700.349219)scale(0.25 -0.25)\">\n      <use xlink:href=\"#DejaVuSans-Bold-83\"/>\n      <use x=\"72.021484\" xlink:href=\"#DejaVuSans-Bold-68\"/>\n      <use x=\"155.029297\" xlink:href=\"#DejaVuSans-Bold-71\"/>\n     </g>\n    </g>\n   </g>\n   <g id=\"matplotlib.axis_2\">\n    <g id=\"ytick_1\">\n     <g id=\"line2d_18\">\n      <defs>\n       <path d=\"M 0 0 \nL -3.5 0 \n\" id=\"m9d1a87b8c4\" style=\"stroke:#000000;stroke-width:0.8;\"/>\n      </defs>\n      <g>\n       <use style=\"stroke:#000000;stroke-width:0.8;\" x=\"61.751563\" xlink:href=\"#m9d1a87b8c4\" y=\"595.1\"/>\n      </g>\n     </g>\n     <g id=\"text_19\">\n      <!-- 0 -->\n      <g transform=\"translate(50.592188 601.417187)rotate(-90)scale(0.2 -0.2)\">\n       <use xlink:href=\"#DejaVuSans-Bold-48\"/>\n      </g>\n     </g>\n    </g>\n    <g id=\"ytick_2\">\n     <g id=\"line2d_19\">\n      <g>\n       <use style=\"stroke:#000000;stroke-width:0.8;\" x=\"61.751563\" xlink:href=\"#m9d1a87b8c4\" y=\"477.001548\"/>\n      </g>\n     </g>\n     <g id=\"text_20\">\n      <!-- 20000 -->\n      <g transform=\"translate(50.592188 538.981235)rotate(-90)scale(0.2 -0.2)\">\n       <use xlink:href=\"#DejaVuSans-Bold-50\"/>\n       <use x=\"69.580078\" xlink:href=\"#DejaVuSans-Bold-48\"/>\n       <use x=\"139.160156\" xlink:href=\"#DejaVuSans-Bold-48\"/>\n       <use x=\"208.740234\" xlink:href=\"#DejaVuSans-Bold-48\"/>\n       <use x=\"278.320312\" xlink:href=\"#DejaVuSans-Bold-48\"/>\n      </g>\n     </g>\n    </g>\n    <g id=\"ytick_3\">\n     <g id=\"line2d_20\">\n      <g>\n       <use style=\"stroke:#000000;stroke-width:0.8;\" x=\"61.751563\" xlink:href=\"#m9d1a87b8c4\" y=\"358.903096\"/>\n      </g>\n     </g>\n     <g id=\"text_21\">\n      <!-- 40000 -->\n      <g transform=\"translate(50.592188 420.882783)rotate(-90)scale(0.2 -0.2)\">\n       <use xlink:href=\"#DejaVuSans-Bold-52\"/>\n       <use x=\"69.580078\" xlink:href=\"#DejaVuSans-Bold-48\"/>\n       <use x=\"139.160156\" xlink:href=\"#DejaVuSans-Bold-48\"/>\n       <use x=\"208.740234\" xlink:href=\"#DejaVuSans-Bold-48\"/>\n       <use x=\"278.320312\" xlink:href=\"#DejaVuSans-Bold-48\"/>\n      </g>\n     </g>\n    </g>\n    <g id=\"ytick_4\">\n     <g id=\"line2d_21\">\n      <g>\n       <use style=\"stroke:#000000;stroke-width:0.8;\" x=\"61.751563\" xlink:href=\"#m9d1a87b8c4\" y=\"240.804643\"/>\n      </g>\n     </g>\n     <g id=\"text_22\">\n      <!-- 60000 -->\n      <g transform=\"translate(50.592188 302.784331)rotate(-90)scale(0.2 -0.2)\">\n       <use xlink:href=\"#DejaVuSans-Bold-54\"/>\n       <use x=\"69.580078\" xlink:href=\"#DejaVuSans-Bold-48\"/>\n       <use x=\"139.160156\" xlink:href=\"#DejaVuSans-Bold-48\"/>\n       <use x=\"208.740234\" xlink:href=\"#DejaVuSans-Bold-48\"/>\n       <use x=\"278.320312\" xlink:href=\"#DejaVuSans-Bold-48\"/>\n      </g>\n     </g>\n    </g>\n    <g id=\"ytick_5\">\n     <g id=\"line2d_22\">\n      <g>\n       <use style=\"stroke:#000000;stroke-width:0.8;\" x=\"61.751563\" xlink:href=\"#m9d1a87b8c4\" y=\"122.706191\"/>\n      </g>\n     </g>\n     <g id=\"text_23\">\n      <!-- 80000 -->\n      <g transform=\"translate(50.592188 184.685879)rotate(-90)scale(0.2 -0.2)\">\n       <use xlink:href=\"#DejaVuSans-Bold-56\"/>\n       <use x=\"69.580078\" xlink:href=\"#DejaVuSans-Bold-48\"/>\n       <use x=\"139.160156\" xlink:href=\"#DejaVuSans-Bold-48\"/>\n       <use x=\"208.740234\" xlink:href=\"#DejaVuSans-Bold-48\"/>\n       <use x=\"278.320312\" xlink:href=\"#DejaVuSans-Bold-48\"/>\n      </g>\n     </g>\n    </g>\n    <g id=\"text_24\">\n     <!-- Frequency -->\n     <g transform=\"translate(26.000781 374.316016)rotate(-90)scale(0.25 -0.25)\">\n      <defs>\n       <path d=\"M 9.1875 72.90625 \nL 59.90625 72.90625 \nL 59.90625 58.6875 \nL 27.984375 58.6875 \nL 27.984375 45.125 \nL 58.015625 45.125 \nL 58.015625 30.90625 \nL 27.984375 30.90625 \nL 27.984375 0 \nL 9.1875 0 \nz\n\" id=\"DejaVuSans-Bold-70\"/>\n       <path d=\"M 49.03125 39.796875 \nQ 46.734375 40.875 44.453125 41.375 \nQ 42.1875 41.890625 39.890625 41.890625 \nQ 33.15625 41.890625 29.515625 37.5625 \nQ 25.875 33.25 25.875 25.203125 \nL 25.875 0 \nL 8.40625 0 \nL 8.40625 54.6875 \nL 25.875 54.6875 \nL 25.875 45.703125 \nQ 29.25 51.078125 33.609375 53.53125 \nQ 37.984375 56 44.09375 56 \nQ 44.96875 56 45.984375 55.921875 \nQ 47.015625 55.859375 48.96875 55.609375 \nz\n\" id=\"DejaVuSans-Bold-114\"/>\n       <path d=\"M 62.984375 27.484375 \nL 62.984375 22.515625 \nL 22.125 22.515625 \nQ 22.75 16.359375 26.5625 13.28125 \nQ 30.375 10.203125 37.203125 10.203125 \nQ 42.71875 10.203125 48.5 11.84375 \nQ 54.296875 13.484375 60.40625 16.796875 \nL 60.40625 3.328125 \nQ 54.203125 0.984375 48 -0.21875 \nQ 41.796875 -1.421875 35.59375 -1.421875 \nQ 20.75 -1.421875 12.515625 6.125 \nQ 4.296875 13.671875 4.296875 27.296875 \nQ 4.296875 40.671875 12.375 48.328125 \nQ 20.453125 56 34.625 56 \nQ 47.515625 56 55.25 48.234375 \nQ 62.984375 40.484375 62.984375 27.484375 \nz\nM 45.015625 33.296875 \nQ 45.015625 38.28125 42.109375 41.328125 \nQ 39.203125 44.390625 34.515625 44.390625 \nQ 29.4375 44.390625 26.265625 41.53125 \nQ 23.09375 38.671875 22.3125 33.296875 \nz\n\" id=\"DejaVuSans-Bold-101\"/>\n       <path d=\"M 34.078125 43.3125 \nQ 28.515625 43.3125 25.5625 39.203125 \nQ 22.609375 35.109375 22.609375 27.296875 \nQ 22.609375 19.484375 25.5625 15.375 \nQ 28.515625 11.28125 34.078125 11.28125 \nQ 39.703125 11.28125 42.65625 15.375 \nQ 45.609375 19.484375 45.609375 27.296875 \nQ 45.609375 35.109375 42.65625 39.203125 \nQ 39.703125 43.3125 34.078125 43.3125 \nz\nM 45.609375 7.90625 \nQ 42 3.078125 37.640625 0.828125 \nQ 33.296875 -1.421875 27.59375 -1.421875 \nQ 17.484375 -1.421875 10.984375 6.609375 \nQ 4.5 14.65625 4.5 27.296875 \nQ 4.5 39.9375 10.984375 47.921875 \nQ 17.484375 55.90625 27.59375 55.90625 \nQ 33.296875 55.90625 37.640625 53.65625 \nQ 42 51.421875 45.609375 46.578125 \nL 45.609375 54.6875 \nL 63.1875 54.6875 \nL 63.1875 -20.796875 \nL 45.609375 -20.796875 \nz\n\" id=\"DejaVuSans-Bold-113\"/>\n       <path d=\"M 7.8125 21.296875 \nL 7.8125 54.6875 \nL 25.390625 54.6875 \nL 25.390625 49.21875 \nQ 25.390625 44.78125 25.34375 38.0625 \nQ 25.296875 31.34375 25.296875 29.109375 \nQ 25.296875 22.515625 25.640625 19.609375 \nQ 25.984375 16.703125 26.8125 15.375 \nQ 27.875 13.671875 29.609375 12.734375 \nQ 31.34375 11.8125 33.59375 11.8125 \nQ 39.0625 11.8125 42.1875 16.015625 \nQ 45.3125 20.21875 45.3125 27.6875 \nL 45.3125 54.6875 \nL 62.796875 54.6875 \nL 62.796875 0 \nL 45.3125 0 \nL 45.3125 7.90625 \nQ 41.359375 3.125 36.9375 0.84375 \nQ 32.515625 -1.421875 27.203125 -1.421875 \nQ 17.71875 -1.421875 12.765625 4.390625 \nQ 7.8125 10.203125 7.8125 21.296875 \nz\n\" id=\"DejaVuSans-Bold-117\"/>\n       <path d=\"M 63.375 33.296875 \nL 63.375 0 \nL 45.796875 0 \nL 45.796875 5.421875 \nL 45.796875 25.484375 \nQ 45.796875 32.5625 45.484375 35.25 \nQ 45.171875 37.9375 44.390625 39.203125 \nQ 43.359375 40.921875 41.59375 41.875 \nQ 39.84375 42.828125 37.59375 42.828125 \nQ 32.125 42.828125 29 38.59375 \nQ 25.875 34.375 25.875 26.90625 \nL 25.875 0 \nL 8.40625 0 \nL 8.40625 54.6875 \nL 25.875 54.6875 \nL 25.875 46.6875 \nQ 29.828125 51.46875 34.265625 53.734375 \nQ 38.71875 56 44.09375 56 \nQ 53.5625 56 58.46875 50.1875 \nQ 63.375 44.390625 63.375 33.296875 \nz\n\" id=\"DejaVuSans-Bold-110\"/>\n       <path d=\"M 52.59375 52.984375 \nL 52.59375 38.71875 \nQ 49.03125 41.15625 45.4375 42.328125 \nQ 41.84375 43.5 37.984375 43.5 \nQ 30.671875 43.5 26.59375 39.234375 \nQ 22.515625 34.96875 22.515625 27.296875 \nQ 22.515625 19.625 26.59375 15.34375 \nQ 30.671875 11.078125 37.984375 11.078125 \nQ 42.09375 11.078125 45.78125 12.296875 \nQ 49.46875 13.53125 52.59375 15.921875 \nL 52.59375 1.609375 \nQ 48.484375 0.09375 44.265625 -0.65625 \nQ 40.046875 -1.421875 35.796875 -1.421875 \nQ 21 -1.421875 12.640625 6.171875 \nQ 4.296875 13.765625 4.296875 27.296875 \nQ 4.296875 40.828125 12.640625 48.40625 \nQ 21 56 35.796875 56 \nQ 40.09375 56 44.265625 55.25 \nQ 48.4375 54.5 52.59375 52.984375 \nz\n\" id=\"DejaVuSans-Bold-99\"/>\n       <path d=\"M 1.21875 54.6875 \nL 18.703125 54.6875 \nL 33.40625 17.578125 \nL 45.90625 54.6875 \nL 63.375 54.6875 \nL 40.375 -5.171875 \nQ 36.921875 -14.3125 32.296875 -17.9375 \nQ 27.6875 -21.578125 20.125 -21.578125 \nL 10.015625 -21.578125 \nL 10.015625 -10.109375 \nL 15.484375 -10.109375 \nQ 19.921875 -10.109375 21.9375 -8.6875 \nQ 23.96875 -7.28125 25.09375 -3.609375 \nL 25.59375 -2.09375 \nz\n\" id=\"DejaVuSans-Bold-121\"/>\n      </defs>\n      <use xlink:href=\"#DejaVuSans-Bold-70\"/>\n      <use x=\"61.935547\" xlink:href=\"#DejaVuSans-Bold-114\"/>\n      <use x=\"111.251953\" xlink:href=\"#DejaVuSans-Bold-101\"/>\n      <use x=\"179.074219\" xlink:href=\"#DejaVuSans-Bold-113\"/>\n      <use x=\"250.65625\" xlink:href=\"#DejaVuSans-Bold-117\"/>\n      <use x=\"321.847656\" xlink:href=\"#DejaVuSans-Bold-101\"/>\n      <use x=\"389.669922\" xlink:href=\"#DejaVuSans-Bold-110\"/>\n      <use x=\"460.861328\" xlink:href=\"#DejaVuSans-Bold-99\"/>\n      <use x=\"520.138672\" xlink:href=\"#DejaVuSans-Bold-121\"/>\n     </g>\n    </g>\n   </g>\n   <g id=\"patch_20\">\n    <path d=\"M 61.751563 595.1 \nL 61.751563 7.2 \n\" style=\"fill:none;stroke:#000000;stroke-linecap:square;stroke-linejoin:miter;stroke-width:0.8;\"/>\n   </g>\n   <g id=\"patch_21\">\n    <path d=\"M 1426.151563 595.1 \nL 1426.151563 7.2 \n\" style=\"fill:none;stroke:#000000;stroke-linecap:square;stroke-linejoin:miter;stroke-width:0.8;\"/>\n   </g>\n   <g id=\"patch_22\">\n    <path d=\"M 61.751563 595.1 \nL 1426.151563 595.1 \n\" style=\"fill:none;stroke:#000000;stroke-linecap:square;stroke-linejoin:miter;stroke-width:0.8;\"/>\n   </g>\n   <g id=\"patch_23\">\n    <path d=\"M 61.751563 7.2 \nL 1426.151563 7.2 \n\" style=\"fill:none;stroke:#000000;stroke-linecap:square;stroke-linejoin:miter;stroke-width:0.8;\"/>\n   </g>\n  </g>\n </g>\n <defs>\n  <clipPath id=\"p33e4db8512\">\n   <rect height=\"587.9\" width=\"1364.4\" x=\"61.751563\" y=\"7.2\"/>\n  </clipPath>\n </defs>\n</svg>\n",
            "image/png": "[encoded data removed]"
          },
          "metadata": {
            "needs_background": "light"
          }
        }
      ],
      "source": [
        "print(Tdict.keys())\n",
        "plt.figure(figsize=(20,10))\n",
        "plt.bar(Tdict.keys(),Tdict.values())\n",
        "plt.xlabel('SDG',fontsize=25,weight='bold')\n",
        "plt.xticks(fontsize=20,weight='bold',rotation=90)\n",
        "plt.yticks(fontsize=20,weight='bold',rotation=90)\n",
        "plt.ylabel('Frequency',fontsize=25,weight='bold')\n",
        "plt.tight_layout()\n",
        "#plt.savefig('SDG popularity.jpg')\n",
        "plt.show()"
      ]
    },
    {
      "cell_type": "markdown",
      "metadata": {
        "id": "KGGwEh7xcIsw"
      },
      "source": [
        "## Sentiment analysis"
      ]
    },
    {
      "source": [
        "### Sentiment on user, activist, and org"
      ],
      "cell_type": "markdown",
      "metadata": {
        "id": "PvlYADuCcy4Q"
      }
    },
    {
      "cell_type": "code",
      "metadata": {
        "id": "6Rq7_bSqnQ59"
      },
      "source": [
        "T[T['CountryCode'].isin(['United States','United Kingdom','Australia','Nigeria'])].groupby(['CountryCode','type']).apply(lambda x: len(set(x['id'])))"
      ],
      "execution_count": null,
      "outputs": []
    },
    {
      "cell_type": "code",
      "metadata": {
        "id": "nqyn_SXScH7z"
      },
      "source": [
        "#generate number of organization, activists and user\n",
        "T[T['CountryCode'].isin(['United States','United Kingdom','Australia','Nigeria'])].groupby(['CountryCode','type']).apply(lambda x: len(set(x['id'])))"
      ],
      "execution_count": null,
      "outputs": []
    },
    {
      "cell_type": "code",
      "metadata": {
        "id": "40T5zwKBhK4e"
      },
      "source": [
        "Sentiment_Type_Country=T[T['CountryCode'].isin(['United States','United Kingdom','Australia','Nigeria'])].groupby(['CountryCode','type']).describe()\n",
        "Sentiment_Type_Country['compound']"
      ],
      "execution_count": null,
      "outputs": []
    },
    {
      "cell_type": "markdown",
      "metadata": {
        "id": "M8HhyiCxM1vn"
      },
      "source": [
        "Sentiment_Type_Country_unique=T[T['CountryCode'].isin(['United States','United Kingdom','Australia','Nigeria'])].drop_duplicates(subset='extended_tweet').groupby(['CountryCode','type']).describe()\n",
        "Sentiment_Type_Country_unique['compound']"
      ]
    },
    {
      "cell_type": "code",
      "metadata": {
        "id": "05bGY_RZM1B5"
      },
      "source": [
        "#### LIWC analysis on User and Activists"
      ],
      "execution_count": null,
      "outputs": []
    },
    {
      "cell_type": "code",
      "metadata": {
        "id": "4BxeVv5Krq3-"
      },
      "source": [
        "TLIWC=pd.read_csv('/s3/Tweets files/LIWC2015 Results (T.csv).csv')"
      ],
      "execution_count": null,
      "outputs": []
    },
    {
      "cell_type": "code",
      "metadata": {
        "id": "JhudgwkKQc9z"
      },
      "source": [
        "pd.DataFrame(TLIWC.iloc[0])[:33]"
      ],
      "execution_count": null,
      "outputs": []
    },
    {
      "cell_type": "code",
      "metadata": {
        "id": "AcoWf62pNZf5"
      },
      "source": [
        "TLIWC.rename(columns={'L':'extended_tweet', 'AB':'id','AF':'type','P':'CountryCode'},inplace=True)"
      ],
      "execution_count": null,
      "outputs": []
    },
    {
      "cell_type": "code",
      "metadata": {
        "id": "bk2jncUeNsv_"
      },
      "source": [
        "# LIWC columns\n",
        "AffectWords=['posemo', 'negemo', 'anx', 'anger', 'sad']\n",
        "CognetiveProcess=['insight', 'cause', 'discrep', 'tentat', 'certain', 'differ']\n",
        "PerpetualProcesses=['see', 'hear', 'feel']\n",
        "BiologicalProcesses=['bio', 'body', 'health', 'sexual', 'ingest']\n",
        "CoreDrivesandNeeds=['affiliation', 'achieve', 'power', 'reward', 'risk']\n",
        "TimeOrientation=['focuspast', 'focuspresent', 'focusfuture']\n",
        "Relativity=['motion', 'space', 'time']\n",
        "PersonalConcerns=['work', 'leisure', 'home', 'money', 'relig', 'death']"
      ],
      "execution_count": null,
      "outputs": []
    },
    {
      "cell_type": "code",
      "metadata": {
        "id": "bgpnGM8FsBOF"
      },
      "source": [
        "desired_col=['extended_tweet','id','type','CountryCode']\n",
        "for i in ['AffectWords','CognetiveProcess','PerpetualProcesses','BiologicalProcesses','CoreDrivesandNeeds','TimeOrientation','Relativity','PersonalConcerns']:\n",
        "  desired_col.extend(eval(i))\n",
        "TLIWCsmall=TLIWC[desired_col]\n",
        "TLIWCsmall.drop(index=TLIWCsmall[pd.isnull(TLIWCsmall['extended_tweet'])].index,inplace=True)\n",
        "TLIWCsmall.drop(index=TLIWCsmall[pd.isnull(TLIWCsmall['id'])].index,inplace=True)\n",
        "TLIWCsmall.reset_index(drop=True,inplace=True)"
      ],
      "execution_count": null,
      "outputs": []
    },
    {
      "cell_type": "code",
      "metadata": {
        "id": "X-V5OZI4swWL"
      },
      "source": [
        "TLIWCsmall.head(2)"
      ],
      "execution_count": null,
      "outputs": []
    },
    {
      "cell_type": "code",
      "metadata": {
        "id": "TMTRrikItZaj"
      },
      "source": [
        "TLIWCsmall_COUN=TLIWCsmall[TLIWCsmall['CountryCode'].isin(selected_country)]"
      ],
      "execution_count": null,
      "outputs": []
    },
    {
      "cell_type": "code",
      "metadata": {
        "id": "0_tVJd_YtpQR"
      },
      "source": [
        "TLIWCsmall_COUN.drop_duplicates(subset=p['extended_tweet'],inplace=True)"
      ],
      "execution_count": null,
      "outputs": []
    },
    {
      "cell_type": "code",
      "metadata": {
        "id": "ZeIbamDXsGh3"
      },
      "source": [
        "Activists=TLIWCsmall_COUN[['id','CountryCode','type']].drop_duplicates(subset='id').groupby(['CountryCode','type']).count()\n",
        "Activists.rename(columns={'is':'Count'},inplace=True)"
      ],
      "execution_count": null,
      "outputs": []
    },
    {
      "cell_type": "code",
      "metadata": {
        "id": "VemgxzuruT8J"
      },
      "source": [
        "LIWC=TLIWCsmall_COUN.groupby(['CountryCode','type']).mean()"
      ],
      "execution_count": null,
      "outputs": []
    },
    {
      "cell_type": "code",
      "metadata": {
        "id": "pLDN1kFGwlWX"
      },
      "source": [
        "LIWC_ACT=Activists.join(LIWC)\n",
        "LIWC_ACT.rename(columns={'id':'Count'},inplace=True)"
      ],
      "execution_count": null,
      "outputs": []
    },
    {
      "cell_type": "code",
      "metadata": {
        "id": "JOoOi_mXzuCm"
      },
      "source": [
        "col_name=['Count']\n",
        "col_name.extend(AffectWords)\n",
        "col_name.extend(TimeOrientation)\n",
        "LIWC_ACT.loc[:,col_name]"
      ],
      "execution_count": null,
      "outputs": []
    },
    {
      "cell_type": "markdown",
      "metadata": {
        "id": "xbcOXVVRcB4D"
      },
      "source": [
        "LIWC_ACT.loc[:,CoreDrivesandNeeds]"
      ]
    },
    {
      "cell_type": "code",
      "metadata": {
        "id": "ra2pe98BKmi0"
      },
      "source": [
        "#### Sentiment on one of the SDG"
      ],
      "execution_count": null,
      "outputs": []
    },
    {
      "cell_type": "code",
      "metadata": {
        "id": "tFZBBC8YazbL"
      },
      "source": [
        "T.groupby('SDG4Topic')['compound'].describe()"
      ],
      "execution_count": null,
      "outputs": []
    },
    {
      "cell_type": "code",
      "metadata": {
        "id": "2BIF4e-mO6zt"
      },
      "source": [
        "for i in ['SDG4Topic','SDG5Topic','SDG7Topic','SDG2Topic']:\n",
        "    T[[i,'compound']].boxplot(figsize=(12,8),by=i,boxprops=dict(linestyle='-', linewidth=3),flierprops=dict(linestyle='-', linewidth=3),\n",
        "                 medianprops=dict(linestyle='-', linewidth=3),\n",
        "                 whiskerprops=dict(linestyle='-', linewidth=3),\n",
        "                 capprops=dict(linestyle='-', linewidth=3))\n",
        "\n",
        "    plt.title('Boxplot grouped by '+i,fontsize=25,weight='bold')\n",
        "    plt.xlabel(i,fontsize=25,weight='bold')\n",
        "    plt.xticks(fontsize=20,weight='bold')\n",
        "    plt.yticks(fontsize=20,weight='bold')\n",
        "    plt.ylabel('',fontsize=25,weight='bold')\n",
        "    plt.tight_layout()\n",
        "    plt.show()"
      ],
      "execution_count": null,
      "outputs": []
    },
    {
      "cell_type": "markdown",
      "metadata": {
        "id": "m6KDwodB-KVA"
      },
      "source": [
        "plt.scatter(range(len(T.groupby('CountryCode')['compound'])),sorted(T.groupby('CountryCode')['compound'].mean()))\n",
        "plt.show()"
      ]
    },
    {
      "cell_type": "code",
      "metadata": {
        "id": "e0iBNWD5Hlbg"
      },
      "source": [
        "### Strong against SDGs"
      ],
      "execution_count": null,
      "outputs": []
    },
    {
      "cell_type": "code",
      "metadata": {
        "id": "z1wcWCBKAis2"
      },
      "source": [
        "def PrintTopic(df, topicnum=5,keywds=20):\n",
        "  #parameter set-up\n",
        "  count_vect=CountVectorizer(max_df=0.8,min_df=2,stop_words='english')\n",
        "  LDA = LatentDirichletAllocation(n_components=topicnum, random_state=42)\n",
        "  #topic modeling\n",
        "  tweet_matrix=count_vect.fit_transform(df['extended_tweet_lemmatized'].values.astype('U'))\n",
        "  LDA.fit(tweet_matrix)\n",
        "  #print results\n",
        "  '''  for i in top_topic_words:\n",
        "      print(count_vect.get_feature_names()[i])'''\n",
        "  for i,topic in enumerate(LDA.components_):\n",
        "      print(f'Top 20 words for {PopSDG} topic #{i}:')\n",
        "      print([count_vect.get_feature_names()[i] for i in topic.argsort()[-keywds:]])\n",
        "      print('\\n')\n",
        "  print('*'*50)\n",
        "  #put topic back to tweets\n",
        "  topic_values = LDA.transform(tweet_matrix)\n",
        "  df['HateTopic']=None\n",
        "  #putinto the main matrix\n",
        "  df.loc[df.index,'HateTopic']=topic_values.argmax(axis=1)\n",
        "  return df\n"
      ],
      "execution_count": null,
      "outputs": []
    },
    {
      "cell_type": "code",
      "metadata": {
        "id": "3Gdr_tqb_J-Y"
      },
      "source": [
        "print(*T[T['extended_tweet'].str.contains('propaganda')]['extended_tweet'].drop_duplicates().tolist(),sep='\\n'+'-'*100+'\\n')\n",
        "print(*T[T['extended_tweet'].str.contains('nosdgs')]['extended_tweet'].tolist(),sep='\\n'+'-'*100+'\\n')\n",
        "print(*T[T['extended_tweet'].str.contains('hypocrite')]['extended_tweet'].tolist(),sep='\\n'+'-'*100+'\\n')\n",
        "print(*T[T['extended_tweet'].str.contains('stopsdg')]['extended_tweet'].tolist(),sep='\\n'+'-'*100+'\\n')\n",
        "print(*T[T['extended_tweet'].str.contains('globalism')]['extended_tweet'].drop_duplicates().tolist(),sep='\\n'+'-'*100+'\\n')\n",
        "print(*T[T['extended_tweet'].str.contains('hypocrisy')]['extended_tweet'].drop_duplicates().tolist(),sep='\\n'+'-'*100+'\\n')\n",
        "print(*T[T['extended_tweet'].str.contains('plandemic')]['extended_tweet'].drop_duplicates().tolist(),sep='\\n'+'-'*100+'\\n')"
      ],
      "execution_count": null,
      "outputs": []
    },
    {
      "cell_type": "code",
      "metadata": {
        "id": "rjQC5YxnJe6k"
      },
      "source": [
        "StrongAgainst=T[T['extended_tweet'].str.contains('propaganda|nosdgs|hypocrite|stopsdgs|globalism|hypocrisy|plandemic|pcrtestpandemic|thegreatreset|scamdemic|pcrtestpandemic')].drop_duplicates(subset='extended_tweet')#['extended_tweet']#.drop_duplicates()"
      ],
      "execution_count": null,
      "outputs": []
    },
    {
      "cell_type": "code",
      "metadata": {
        "id": "iivJjSQoL3EQ"
      },
      "source": [
        "StrongAgainst_HT=[]\n",
        "for i in StrongAgainst['hashtags'].tolist():\n",
        "  StrongAgainst_HT.extend(i)\n",
        "StrongAgainst_HT=Counter(StrongAgainst_HT)\n",
        "StrongAgainst_HT={i:k for i,k in sorted(StrongAgainst_HT.items(),key=lambda x:x[1],reverse=True)}\n",
        "\n",
        "del StrongAgainst_HT['#sdgs']\n",
        "del StrongAgainst_HT['#agenda2030']\n",
        "del StrongAgainst_HT['#2030agenda']\n",
        "del StrongAgainst_HT['#sdg']\n"
      ],
      "execution_count": null,
      "outputs": []
    },
    {
      "cell_type": "code",
      "metadata": {
        "id": "9glb4PUwFG8T"
      },
      "source": [
        "plt.figure(figsize=(15,8))\n",
        "plt.bar(list(StrongAgainst_HT.keys())[:30],list(StrongAgainst_HT.values())[:30])\n",
        "plt.xticks(rotation=90)\n",
        "plt.show()\n",
        "list(StrongAgainst_HT.keys())[:30]"
      ],
      "execution_count": null,
      "outputs": []
    },
    {
      "cell_type": "code",
      "metadata": {
        "id": "rwNhGGQFXcU7"
      },
      "source": [
        "topnum=3\n",
        "StrongAgainst=PrintTopic(StrongAgainst,topnum,20)\n",
        "\n",
        "for i in range(topnum):\n",
        "  print(*StrongAgainst[StrongAgainst['HateTopic']==i].sample(2)['extended_tweet'].tolist(),sep='\\n'+'-'*100+'\\n')\n",
        "  print('*'*100)\n",
        "\n",
        "plt.hist(StrongAgainst['HateTopic'])\n",
        "plt.show()"
      ],
      "execution_count": null,
      "outputs": []
    }
  ]
}