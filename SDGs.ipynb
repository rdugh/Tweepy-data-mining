{
  "nbformat": 4,
  "nbformat_minor": 0,
  "metadata": {
    "colab": {
      "name": "SDGs.ipynb",
      "provenance": [],
      "collapsed_sections": [
        "6HFcIEqqyKAw",
        "N3ZLvFrM7rRw",
        "L5ZWzc0y5AOM",
        "Ay9teHGp5Rhp",
        "0vwTfhwzSaJp",
        "_Vtjjmq8l_xc",
        "67_LDjZAKemx",
        "-jh6Os6A19y-",
        "jQybSTqP9ANi",
        "37_t6-QexHeN",
        "St8EUWGK_AOt",
        "XtiDVXmY_Hc6",
        "60VS0TTK-VJf",
        "qxz3axkYZl4V",
        "KGGwEh7xcIsw",
        "xbcOXVVRcB4D"
      ],
      "toc_visible": true
    },
    "kernelspec": {
      "name": "python3",
      "display_name": "Python 3.7.3 64-bit",
      "metadata": {
        "interpreter": {
          "hash": "31f2aee4e71d21fbe5cf8b01ff0e069b9275f58929596ceb00d14d90e3e16cd6"
        }
      }
    }
  },
  "cells": [
    {
      "cell_type": "markdown",
      "metadata": {
        "id": "N3ZLvFrM7rRw"
      },
      "source": [
        "# import Data\n",
        "## import and install important libraries"
      ]
    },
    {
      "cell_type": "code",
      "metadata": {
        "id": "o43KwlBJ6UYp"
      },
      "source": [
        "from sklearn import preprocessing"
      ],
      "execution_count": null,
      "outputs": []
    },
    {
      "cell_type": "code",
      "metadata": {
        "id": "JhN_GSxKmKrp"
      },
      "source": [
        "import pandas as pd\n",
        "import numpy as np\n",
        "import re\n",
        "import json\n",
        "from os import listdir\n",
        "from os.path import join\n",
        "import matplotlib.pyplot as plt\n",
        "from collections import Counter\n",
        "import seaborn as sns"
      ],
      "execution_count": null,
      "outputs": []
    },
    {
      "cell_type": "code",
      "metadata": {
        "id": "v9KucAcklVM1"
      },
      "source": [
        "'''!pip uninstall nltk\n",
        "!pip install nltk==3.2.5\n",
        "import nltk'''"
      ],
      "execution_count": null,
      "outputs": []
    },
    {
      "cell_type": "code",
      "metadata": {
        "id": "8kVfAU1m387X"
      },
      "source": [
        "import emoji#checking if a character is an emoji\n",
        "import re\n",
        "import nltk\n",
        "from nltk.corpus import wordnet\n",
        "from nltk import word_tokenize \n",
        "from nltk.corpus import stopwords \n",
        "from nltk import sent_tokenize, word_tokenize\n",
        "import time"
      ],
      "execution_count": null,
      "outputs": []
    },
    {
      "cell_type": "code",
      "metadata": {
        "id": "W8T9AiWuaql3"
      },
      "source": [
        "folder=f'/Users/livi/Documents/2020 Fall/data mining/Proposal/Final Paper/Tweets_Half_Cleaned/'\n",
        "FinFolder=os.listdir(folder)\n",
        "Frame=[]\n",
        "for file in FinFolder[:]:\n",
        "    if (file.endswith('.csv')) & (file!='.DS_Store'):\n",
        "        One_Frame=pd.read_csv(join(folder,file),lineterminator='\\n',index_col=0)\n",
        "        Frame.append(One_Frame)\n",
        "T=pd.concat(Frame)\n",
        "T.reset_index(inplace=True,drop=True)"
      ],
      "execution_count": null,
      "outputs": []
    },
    {
      "cell_type": "code",
      "execution_count": null,
      "metadata": {},
      "outputs": [],
      "source": [
        "#drop\n",
        "for col in ['location','name','url']:\n",
        "    T.drop(col,inplace=True)"
      ]
    },
    {
      "cell_type": "code",
      "execution_count": null,
      "metadata": {},
      "outputs": [],
      "source": [
        "#str\n",
        "for col in ['source','extended_tweet','CountryCode','id']:\n",
        "    T[col]=T[col].astype(str)\n",
        "#num\n",
        "for col in ['friends_count','followers_count','neg','neu','pos','compound']:\n",
        "    T[col]=T[col].astype(float)\n"
      ]
    },
    {
      "cell_type": "code",
      "execution_count": null,
      "metadata": {},
      "outputs": [],
      "source": [
        "#apply\n",
        "for col in ['SDG','hashtags','extended_tweet_lemmatized']:\n",
        "    T[col].apply(eval,inpalce=True)"
      ]
    },
    {
      "cell_type": "code",
      "execution_count": null,
      "metadata": {},
      "outputs": [],
      "source": [
        "T.location"
      ]
    },
    {
      "cell_type": "code",
      "execution_count": null,
      "metadata": {},
      "outputs": [],
      "source": [
        "T.info()"
      ]
    },
    {
      "cell_type": "markdown",
      "metadata": {
        "id": "0SFaRepraql4"
      },
      "source": [
        "# Data Cleaning\n",
        "\n",
        "### Generate user information"
      ]
    },
    {
      "cell_type": "markdown",
      "metadata": {
        "id": "LzGCtPBtaql5"
      },
      "source": [
        "### Detect Bot and Consider label Bot\n",
        "1. interarrival time is smaller than 5 seconds(Tested, mainly small intervals are caused by long tweets)\n",
        "2. other weird resource (source from bot may have interarrival time much longer 5 sec) Most effective method\n",
        "3. number of tweets per day (statuses_count, not used here, because there are accounts which frequently tweets)\n",
        "\n",
        "number of Influencer:A micro-influencer is someone who has between 1,000 to 100,000 followers"
      ]
    },
    {
      "cell_type": "code",
      "execution_count": null,
      "metadata": {},
      "outputs": [],
      "source": [
        "T['source'].fillna('',inplace=True)"
      ]
    },
    {
      "cell_type": "code",
      "execution_count": null,
      "metadata": {},
      "outputs": [],
      "source": [
        "#Assign user type\n",
        "T['UserType']=''\n",
        "screen_name_of_bots=list(T[T['source'].str.contains('bot')]['screen_name'].unique())\n",
        "screen_name_of_bots.extend(['trendsinAI','form_bot','UDHROne257_247','globalhealthbot'])\n",
        "screen_name_of_bots.extend(list(T[T['screen_name'].str.contains('retweet',case=False)]['screen_name'].unique()))\n",
        "BFF=T[['screen_name','friends_count','followers_count']].groupby(['screen_name']).agg({'friends_count':'max','followers_count':'max'}).reset_index()\n",
        "#assign user\n",
        "screen_name_of_user=list(BFF[(BFF['followers_count']<=800)]['screen_name'].unique())\n",
        "T.loc[(T['screen_name'].isin(screen_name_of_user))& (~ T['screen_name'].isin(screen_name_of_bots)),'UserType']='user'\n",
        "#assign influencer\n",
        "screen_name_of_influencer=list(BFF[(BFF['followers_count']>800)]['screen_name'].unique())\n",
        "screen_name_of_influencer.extend(list(T[T['screen_name'].str.contains('news',case=False)]['screen_name'].unique()))\n",
        "T.loc[(T['screen_name'].isin(screen_name_of_influencer)) & (~ T['screen_name'].isin(screen_name_of_bots)),'UserType']='influencer'\n",
        "#assign bots\n",
        "T.loc[T['screen_name'].isin(screen_name_of_bots),'UserType']='bot'"
      ]
    },
    {
      "cell_type": "markdown",
      "metadata": {
        "id": "5Fs-Hfvo-Y8b"
      },
      "source": [
        "###  Generate labels topic"
      ]
    },
    {
      "cell_type": "code",
      "metadata": {
        "id": "cviRf6un-U0Z"
      },
      "source": [
        "from sklearn.decomposition import LatentDirichletAllocation\n",
        "from sklearn.feature_extraction.text import CountVectorizer"
      ],
      "execution_count": null,
      "outputs": []
    },
    {
      "cell_type": "code",
      "metadata": {
        "id": "bJM3mPlW6tcU"
      },
      "source": [
        "'''PopSDGs=['SDG'+str(i) for i in [4,5,7,2,16]]\n",
        "for PopSDG in PopSDGs:\n",
        "  searchTerm = PopSDG\n",
        "  TextExt=T[[searchTerm in x for x in T['SDG']]]\n",
        "  #parameter set-up\n",
        "  count_vect=CountVectorizer(max_df=0.8,min_df=2,stop_words='english')\n",
        "  LDA = LatentDirichletAllocation(n_components=5, random_state=42)\n",
        "  #topic modeling\n",
        "  tweet_matrix=count_vect.fit_transform(TextExt['extended_tweet_lemmatized'].values.astype('U'))\n",
        "  LDA.fit(tweet_matrix)\n",
        "  #print results\n",
        "  '''  for i in top_topic_words:\n",
        "      print(count_vect.get_feature_names()[i])'''\n",
        "  for i,topic in enumerate(LDA.components_):\n",
        "      print(f'Top 20 words for {PopSDG} topic #{i}:')\n",
        "      print([count_vect.get_feature_names()[i] for i in topic.argsort()[-20:]])\n",
        "      print('\\n')\n",
        "  print('*'*50)\n",
        "  #put topic back to tweets\n",
        "  topic_values = LDA.transform(tweet_matrix)\n",
        "  T[PopSDG+'Topic']=None\n",
        "  #putinto the main matrix\n",
        "  T.loc[TextExt.index,PopSDG+'Topic']=topic_values.argmax(axis=1)'''"
      ],
      "execution_count": null,
      "outputs": []
    },
    {
      "cell_type": "markdown",
      "metadata": {
        "id": "-jh6Os6A19y-"
      },
      "source": [
        "# Analysis"
      ]
    },
    {
      "cell_type": "markdown",
      "metadata": {
        "id": "njrYdZx9T84F"
      },
      "source": [
        "## Generate different type of users"
      ]
    },
    {
      "cell_type": "code",
      "execution_count": null,
      "metadata": {},
      "outputs": [],
      "source": [
        "Users=T[['screen_name','id','UserType','source']].groupby('screen_name').agg({'id':'count','UserType':'last','source':'last'})"
      ]
    },
    {
      "cell_type": "code",
      "execution_count": null,
      "metadata": {},
      "outputs": [],
      "source": [
        "Users.sort_values('id',ascending=False,inplace=True)\n",
        "Users.reset_index(inplace=True)\n",
        "Users"
      ]
    },
    {
      "cell_type": "code",
      "execution_count": null,
      "metadata": {},
      "outputs": [],
      "source": [
        "cri_bot=Users['UserType']=='bot'\n",
        "cri_user=Users['UserType']=='user'\n",
        "cri_influencer=Users['UserType']=='influencer'"
      ]
    },
    {
      "cell_type": "code",
      "execution_count": null,
      "metadata": {},
      "outputs": [],
      "source": [
        "set(Users['screen_name'].to_list()[:30]).intersection(set(Users[cri_user]['screen_name'].to_list()[:15]))"
      ]
    },
    {
      "cell_type": "code",
      "execution_count": null,
      "metadata": {},
      "outputs": [],
      "source": [
        "plt.figure(figsize=(15,8))\n",
        "plt.bar(Users['screen_name'].to_list()[:40],Users['id'].to_list()[:40])\n",
        "plt.title('All', fontsize=15)\n",
        "plt.xticks(rotation=90)\n",
        "plt.show()\n",
        "\n",
        "plt.figure(figsize=(15,8))\n",
        "plt.bar(Users[cri_bot]['screen_name'].to_list()[:15],Users[cri_bot]['id'].to_list()[:15])\n",
        "plt.title('Bot', fontsize=15)\n",
        "plt.xticks(rotation=90)\n",
        "plt.show()\n",
        "\n",
        "plt.figure(figsize=(15,8))\n",
        "plt.bar(Users[cri_user]['screen_name'].to_list()[:30],Users[cri_user]['id'].to_list()[:30])\n",
        "plt.title('User', fontsize=15)\n",
        "plt.xticks(rotation=90)\n",
        "plt.show()\n",
        "\n",
        "plt.figure(figsize=(15,8))\n",
        "plt.bar(Users[cri_influencer]['screen_name'].to_list()[:15],Users[cri_influencer]['id'].to_list()[:15])\n",
        "plt.title('Influencer', fontsize=15)\n",
        "plt.xticks(rotation=90)\n",
        "plt.show()"
      ]
    },
    {
      "cell_type": "code",
      "execution_count": null,
      "metadata": {},
      "outputs": [],
      "source": [
        "T[['screen_name','id','UserType','source']].groupby('UserType').agg({'id':'count','source':'last','screen_name':'last'})"
      ]
    },
    {
      "cell_type": "markdown",
      "metadata": {
        "id": "jQybSTqP9ANi"
      },
      "source": [
        "## Generate National Graph\n",
        "### import libraty and geojson"
      ]
    },
    {
      "cell_type": "code",
      "metadata": {
        "id": "zo01q7vrhVr1"
      },
      "source": [
        "import folium"
      ],
      "execution_count": null,
      "outputs": []
    },
    {
      "cell_type": "code",
      "metadata": {
        "id": "T6LmhSwJhgGn"
      },
      "source": [
        "with open('/Users/livi/Git/Tweepy-data-mining/countries.geojson') as f:\n",
        "  geodata = json.load(f)"
      ],
      "execution_count": null,
      "outputs": []
    },
    {
      "cell_type": "code",
      "metadata": {
        "id": "9TWIyC4sjRzU"
      },
      "source": [
        "holdlist=[]\n",
        "allcountries=[]\n",
        "for k,i in enumerate(geodata['features']):\n",
        "  allcountries.append(i['properties']['ADMIN'])\n",
        "  if i['properties']['ADMIN'] in T['CountryCode'].tolist():\n",
        "    holdlist.append(i['properties']['ADMIN'])"
      ],
      "execution_count": null,
      "outputs": []
    },
    {
      "cell_type": "code",
      "execution_count": null,
      "metadata": {
        "tags": []
      },
      "outputs": [],
      "source": [
        "for i,k in enumerate(T['CountryCode']):\n",
        "    if '[' in str(k):\n",
        "        T.loc[i,'CountryCode']=''"
      ]
    },
    {
      "cell_type": "code",
      "execution_count": null,
      "metadata": {},
      "outputs": [],
      "source": [
        "set(T['CountryCode'].unique())-set(np.unique(np.array(holdlist)))"
      ]
    },
    {
      "cell_type": "code",
      "metadata": {
        "id": "gx8-Ft05uzTT"
      },
      "source": [
        "print('Overlap of geojson and countrycode:',len(np.unique(np.array(holdlist))))\n",
        "print('CountryCode in data:',len(T['CountryCode'].unique()))\n",
        "print('Geojson we have:',len(np.unique(allcountries)))\n",
        "df1=pd.DataFrame(allcountries)\n",
        "df1.index=df1[0]\n",
        "df1.columns=['geojson']\n",
        "df2=pd.DataFrame(T['CountryCode'].unique())\n",
        "df2.index=df2[0]\n",
        "df2.columns=['googlemap']"
      ],
      "execution_count": null,
      "outputs": []
    },
    {
      "cell_type": "code",
      "metadata": {
        "id": "tXGl0JF3w8Y8"
      },
      "source": [
        "contriesLists=pd.concat([df1, df2], axis=1, sort=False,join='outer')\n",
        "D=contriesLists[contriesLists['googlemap']!=contriesLists['geojson']]"
      ],
      "execution_count": null,
      "outputs": []
    },
    {
      "source": [
        "### Plot Frequency Map and sccatter plot"
      ],
      "cell_type": "markdown",
      "metadata": {
        "id": "ZHWAzABZlRhV"
      }
    },
    {
      "cell_type": "code",
      "metadata": {
        "id": "MnFBipvyogeN"
      },
      "source": [
        "PP=T[T['UserType']=='user']\n",
        "PP=T[['CountryCode', 'id']].groupby('CountryCode').count()\n",
        "PP.reset_index(inplace=True)\n",
        "PP.sort_values('id',ascending=False,inplace=True)"
      ],
      "execution_count": null,
      "outputs": []
    },
    {
      "cell_type": "code",
      "metadata": {
        "id": "OI0u1A0_ilPQ"
      },
      "source": [
        "PP['count']=np.log10(PP['id'])"
      ],
      "execution_count": null,
      "outputs": []
    },
    {
      "cell_type": "code",
      "metadata": {
        "id": "bBpnccR4inwu"
      },
      "source": [
        "m = folium.Map(location=[0, 0], zoom_start=2)\n",
        "folium.Choropleth(\n",
        "    geo_data=geodata,\n",
        "    name='choropleth',\n",
        "    data=PP,\n",
        "    columns=['CountryCode', 'count'],\n",
        "    key_on='feature.properties.ADMIN',\n",
        "    fill_color='YlGn',\n",
        "    fill_opacity=0.7,\n",
        "    line_opacity=0.2,\n",
        "    legend_name='# of Tweets'\n",
        ").add_to(m)\n",
        "\n",
        "folium.LayerControl().add_to(m)\n",
        "m"
      ],
      "execution_count": null,
      "outputs": []
    },
    {
      "cell_type": "code",
      "metadata": {
        "id": "HDKGMBW2GFRK"
      },
      "source": [
        "plt.figure(figsize=(20,10))\n",
        "#plt.bar(PP.CountryCode[:30],PP.text[:30])\n",
        "plt.scatter(range(len(PP.CountryCode)),PP['count'])\n",
        "plt.xlabel('Country',fontsize=20)\n",
        "plt.xticks(rotation=90,fontsize=15)\n",
        "plt.yticks(fontsize=15)\n",
        "plt.ylabel('log_10 Frequency',fontsize=20)\n",
        "plt.tight_layout()\n",
        "#plt.savefig('1023place dis.jpg')\n",
        "plt.show()"
      ],
      "execution_count": null,
      "outputs": []
    },
    {
      "cell_type": "code",
      "execution_count": null,
      "metadata": {},
      "outputs": [],
      "source": [
        "plt.figure(figsize=(20,10))\n",
        "plt.bar(PP.CountryCode[:30],PP.id[:30])\n",
        "plt.xlabel('Country',fontsize=20)\n",
        "plt.xticks(rotation=90,fontsize=15)\n",
        "plt.yticks(fontsize=15)\n",
        "plt.ylabel('Frequency',fontsize=20)\n",
        "plt.tight_layout()\n",
        "#plt.savefig('1023place dis.jpg')\n",
        "plt.show()"
      ]
    },
    {
      "source": [
        "### plot SDG Map and heatmap table \n"
      ],
      "cell_type": "markdown",
      "metadata": {
        "id": "khGaoa3naVH9"
      }
    },
    {
      "cell_type": "code",
      "metadata": {
        "id": "p_UIUjUecggz"
      },
      "source": [
        "#Country and SDG distribution\n",
        "CS=T[['CountryCode','SDG']]\n",
        "SDs={}\n",
        "for coun in CS['CountryCode'].unique():\n",
        "    SDs[coun]={'SDG'+str(i+1):0 for i in range(17)}\n",
        "    temp=CS[CS['CountryCode']==coun]['SDG']\n",
        "    for S in temp:\n",
        "        for SS in S:\n",
        "            try:\n",
        "              SDs[coun][SS]+=1\n",
        "            except:\n",
        "                pass  "
      ],
      "execution_count": null,
      "outputs": []
    },
    {
      "cell_type": "code",
      "metadata": {
        "id": "pnQq5FUU0g3m"
      },
      "source": [
        "selected_country=['United States','United Kingdom','Australia','India','Nigeria','Kenya']\n",
        "SD_Coun_HM=pd.DataFrame({i:SDs[i] for i in selected_country})\n",
        "rowname,colname=SD_Coun_HM.columns,SD_Coun_HM.index\n",
        "#prepare label\n",
        "HM_label=SD_Coun_HM.div(SD_Coun_HM.sum(axis=0),axis=1).T.values\n",
        "#prepare data\n",
        "SD_Coun_HM=pd.DataFrame(preprocessing.MinMaxScaler().fit_transform(SD_Coun_HM).T)\n",
        "SD_Coun_HM.index,SD_Coun_HM.columns=rowname,colname\n",
        "#plt\n",
        "plt.figure(figsize=(20,4))\n",
        "axhm = plt.gca()\n",
        "axhm.xaxis.set_ticks_position('top')\n",
        "cmp=sns.color_palette(\"Blues\", as_cmap=True)\n",
        "sns.heatmap(SD_Coun_HM,cmap=cmp,vmax=1.2,linewidths=1,annot=HM_label,fmt='.2%',cbar=False,annot_kws={\"fontsize\":13})\n",
        "plt.xticks(fontsize=15)\n",
        "plt.yticks(fontsize=15)\n",
        "plt.show()"
      ],
      "execution_count": null,
      "outputs": []
    },
    {
      "cell_type": "code",
      "metadata": {
        "id": "m5dqzHNYayLK"
      },
      "source": [
        "#Color of each SDG\n",
        "Colors=['#e4253c','#dea73a','#4c9f45','#c5202e','#f0412b','#29bee2','#fac315','#a21c44','#f26a2c','#dd1768','#f99d27','#be8b2c','#417f45','#1c97d3','#5dbb47','#06699e','#18486b']\n",
        "SDGcolor={'SDG'+str(i+1):Colors[i] for i in range(17)}\n",
        "\n",
        "#statistic of some selected countries\n",
        "EsC_count={}\n",
        "for i in SDs.keys():\n",
        "    if i==i and i not in [\"['SDG14']\",\"[]\"]:\n",
        "        try:\n",
        "            EsC_count[i]={'sum':0,'top':0,'percentage':0}\n",
        "            EsC_count[i]['sum']=sum(SDs[i].values())\n",
        "            if EsC_count[i]['sum']!=0:\n",
        "                EsC_count[i]['percentage']=round(max(SDs[i].values())/sum(SDs[i].values())*100,1)\n",
        "            else:\n",
        "                EsC_count[i]['percentage']=0\n",
        "            EsC_count[i]['top']=max(SDs[i].items(),key=lambda x: x[1])[0]\n",
        "            EsC_count[i]['bottom']=min(SDs[i].items(),key=lambda x: x[1])[0]\n",
        "            #EsC_count[i]['geo']=[geodict[i]['lat'],geodict[i]['lng']]\n",
        "        except:\n",
        "            raise\n",
        "\n",
        "#select some countries\n",
        "ggdataEsC=geodata\n",
        "select=[]\n",
        "for i in range(len(ggdataEsC['features'])):\n",
        "    if ggdataEsC['features'][i]['properties']['ADMIN'] in EsC_count.keys():\n",
        "        select.append(i)\n",
        "ggdataEsC['features']=[ggdataEsC['features'][i] for i in select]\n",
        "\n"
      ],
      "execution_count": null,
      "outputs": []
    },
    {
      "cell_type": "code",
      "metadata": {
        "id": "VLIdB1U8a1-H"
      },
      "source": [
        "#plot the graph most popular\n",
        "def stfunc(features):\n",
        "    return {'fillOpacity': 0.9,'weight': 0,'fillColor':SDGcolor[EsC_count[features['properties']['ADMIN']]['top']]}\n",
        "def gengeo(coun):\n",
        "    f={'features':[ggdataEsC['features'][i]] for i in range(len(ggdataEsC['features'])) if ggdataEsC['features'][i]['properties']['ADMIN']==coun}\n",
        "    f['type']='FeatureCollection'\n",
        "    return f\n",
        "\n",
        "n = folium.Map(location=[50, 10], zoom_start=2.2,tiles='OpenStreetMap')\n",
        "folium.GeoJson(ggdataEsC,name='United States',style_function=stfunc).add_to(n)\n",
        "n"
      ],
      "execution_count": null,
      "outputs": []
    },
    {
      "cell_type": "code",
      "metadata": {
        "id": "ajCh_ZlPz0tT"
      },
      "source": [
        "#plot the graph least popular sdg\n",
        "def stfunc(features):\n",
        "    return {'fillOpacity': 0.9,'weight': 0,'fillColor':SDGcolor[EsC_count[features['properties']['ADMIN']]['bottom']]}\n",
        "def gengeo(coun):\n",
        "    f={'features':[ggdataEsC['features'][i]] for i in range(len(ggdataEsC['features'])) if ggdataEsC['features'][i]['properties']['ADMIN']==coun}\n",
        "    f['type']='FeatureCollection'\n",
        "    return f\n",
        "\n",
        "o = folium.Map(location=[50, 10], zoom_start=2.2,tiles='OpenStreetMap')\n",
        "folium.GeoJson(ggdataEsC,name='United States',style_function=stfunc).add_to(o)\n",
        "o"
      ],
      "execution_count": null,
      "outputs": []
    },
    {
      "cell_type": "markdown",
      "metadata": {
        "id": "APzyQI-OcZyT"
      },
      "source": [
        "#T.to_csv('T with location.csv')"
      ]
    },
    {
      "cell_type": "code",
      "metadata": {
        "id": "eKMDOs3dcgd4"
      },
      "source": [
        "#### Developing and Developed Country Compare (vote the top then select)\n",
        "#define developed country and developing country\n",
        "developed_country='Canada,United States,Australia,Japan,New Zealand,Austria,Belgium,Denmark,Finland,France,Germany,Greece,Ireland,Italy,Luxembourg,Netherlands,Portugal,Spain,Sweden,United Kingdom,Bulgaria,Croatia,Cyprus,Czechia,Estonia,Hungary,Latvia,Lithuania,Malta,Poland,Romania,Slovakia,Slovenia,Iceland,Norway,Switzerland'.split(',')\n",
        "transition='Albania,Bosnia and Herzegovina,Montenegro,North Macedonia,Serbia,Armenia,Azerbaijan,Belarus,Georgia,Kazakhstan,Kyrgyzstan,Moldova,Russia,Tajikistan,Turkmenistan,Ukraine,Uzbekistan'.split(',')\n",
        "developing_country='Algeria,Egypt,Libya,Mauritania,Morocco,Sudan,Tunisia,Cameroon,Central African Republic,Chad,Republic of the Congo,Equatorial Guinea,Gabon,São Tomé and Príncipe,Burundi,Comoros,Democratic Republic of the Congo,Djibouti,Eritrea,Ethiopia,Kenya,Madagascar,Rwanda,Somalia,South Sudan,Uganda,Tanzania,Angola,Botswana,Eswatini,Lesotho,Malawi,Mauritius,Mozambique,Namibia,South Africa,Zambia,Zimbabwe,Benin,Burkina Faso,Cape Verde,Côte d\\'Ivoire,The Gambia,Ghana,Guinea,Guinea-Bissau,Liberia,Mali,Niger,Nigeria,Senegal,Sierra Leone,Togo,Brunei,Cambodia,China,North Korea,Fiji,Hong Kong,Indonesia,Kiribati,Laos,Malaysia,Mongolia,Myanmar (Burma),Papua New Guinea,Philippines,South Korea,Samoa,Singapore,Solomon Islands,Taiwan,Thailand,Timor-Leste,Vanuatu,Vietnam,Afghanistan,Bangladesh,Bhutan,India,Iran,Maldives,Nepal,Pakistan,Sri Lanka,Bahrain,Iraq,Israel,Jordan,Kuwait,Lebanon,Oman,Qatar,Saudi Arabia,Palestine,Syria,Turkey,United Arab Emirates,Yemen,The Bahamas,Barbados,Belize,Guyana,Jamaica,Suriname,Trinidad and Tobago,Costa Rica,Cuba,Dominican Republic,El Salvador,Guatemala,Haiti,Honduras,Mexico,Nicaragua,Panama,Argentina,Bolivia,Brazil,Chile,Colombia,Ecuador,Paraguay,Peru,Uruguay,Venezuela'.split(',')\n",
        "\n"
      ],
      "execution_count": null,
      "outputs": []
    },
    {
      "cell_type": "code",
      "metadata": {
        "id": "r_2xKYE1jNdZ"
      },
      "source": [
        "##### vote the top then select"
      ],
      "execution_count": null,
      "outputs": []
    },
    {
      "cell_type": "code",
      "metadata": {
        "id": "xAj1Q8CEj1Qt"
      },
      "source": [
        "def talkmost(country,T):\n",
        "  for i in list(set(country)-set(SDs.keys())):\n",
        "    country.remove(i)\n",
        "  country_SDs={i:SDs[i]for i in country}\n",
        "  country_TopSDG=[]\n",
        "  for i in country_SDs:\n",
        "    try:\n",
        "      if sum(country_SDs[i].values())>20 & max(country_SDs[i].values())>1:#make sure more than 1 tweets in the max column\n",
        "        MAXtop=max(country_SDs[i].values())\n",
        "        country_TopSDG.extend([ii for ii in country_SDs[i] if country_SDs[i][ii]==MAXtop])    \n",
        "    except:\n",
        "      pass\n",
        "  country_TopSDG={k:v for k,v in sorted(Counter(country_TopSDG).items(),key=lambda x:x[1],reverse=True)}\n",
        "  plt.bar(country_TopSDG.keys(),country_TopSDG.values())\n",
        "  plt.title(T)\n",
        "  print(list(country_TopSDG.keys()))\n",
        "  plt.show()\n",
        "\n",
        "def talkleast(country,T):\n",
        "  for i in list(set(country)-set(SDs.keys())):\n",
        "    country.remove(i)\n",
        "  country_SDs={i:SDs[i]for i in country}\n",
        "  country_TopSDG=[]\n",
        "  for i in country_SDs:\n",
        "    try:\n",
        "      if sum(country_SDs[i].values())>20:#make sure more than 1 tweets in the max column\n",
        "        MINtop=min(country_SDs[i].values())\n",
        "        country_TopSDG.extend([ii for ii in country_SDs[i] if country_SDs[i][ii]==MINtop])\n",
        "        #print(MINtop)\n",
        "    except:\n",
        "      pass\n",
        "  country_TopSDG={k:v for k,v in sorted(Counter(country_TopSDG).items(),key=lambda x:x[1],reverse=True)}\n",
        "  plt.bar(country_TopSDG.keys(),country_TopSDG.values())\n",
        "  plt.title(T)\n",
        "  print(list(country_TopSDG.keys()))\n",
        "  plt.show()"
      ],
      "execution_count": null,
      "outputs": []
    },
    {
      "cell_type": "markdown",
      "metadata": {
        "id": "XtiDVXmY_Hc6"
      },
      "source": [
        "plt.figure(figsize=(15,5))\n",
        "talkmost(developed_country,'Developed talk Most')\n",
        "plt.figure(figsize=(15,5))\n",
        "talkleast(developed_country,'Developed talk Least')\n",
        "plt.figure(figsize=(15,5))\n",
        "talkmost(developing_country,'developing talk Most')\n",
        "plt.figure(figsize=(15,5))\n",
        "talkleast(developing_country,'developing talk Least')\n",
        "plt.figure(figsize=(15,5))\n",
        "talkmost(transition,'Transition talk Most')\n",
        "plt.figure(figsize=(15,5))\n",
        "talkleast(transition,'Transition talk Least')\n",
        "\n"
      ]
    },
    {
      "cell_type": "code",
      "metadata": {
        "id": "zrjJltzq_GB_"
      },
      "source": [
        "##### Based on Frequency"
      ],
      "execution_count": null,
      "outputs": []
    },
    {
      "cell_type": "code",
      "metadata": {
        "id": "ewv63om3AFaQ"
      },
      "source": [
        "def toptalkfreq(countrylist,T):\n",
        "  SD_Co=pd.DataFrame({i:SDs[i] for i in countrylist})\n",
        "  SD_Co.sum(axis=1).sort_values(ascending=False).plot(kind='bar')\n",
        "  l=list(SD_Co.sum(axis=1).sort_values(ascending=False).index)\n",
        "  #l = [i.strip('\\'\\'') for i in l]\n",
        "  print(l)\n",
        "\n",
        "  plt.title(T)\n",
        "  plt.show()"
      ],
      "execution_count": null,
      "outputs": []
    },
    {
      "cell_type": "markdown",
      "metadata": {
        "id": "60VS0TTK-VJf"
      },
      "source": [
        "plt.figure(figsize=(10,5))\n",
        "toptalkfreq(developed_country,'Developed Countries')\n",
        "plt.figure(figsize=(10,5))\n",
        "toptalkfreq(developing_country,'Developing Countries')"
      ]
    },
    {
      "cell_type": "code",
      "metadata": {
        "id": "WBT_0MDphXBA"
      },
      "source": [
        "### Top SDG based on Country"
      ],
      "execution_count": null,
      "outputs": []
    },
    {
      "cell_type": "code",
      "metadata": {
        "id": "h0My2aTHGXIg"
      },
      "source": [
        "#TextTweets=pd.read_csv('/s3/Tweets files/TextTweets 11 columns.csv')"
      ],
      "execution_count": null,
      "outputs": []
    },
    {
      "cell_type": "markdown",
      "metadata": {
        "id": "qxz3axkYZl4V"
      },
      "source": [
        "top5EnCoun=PP.CountryCode[:30].tolist()\n",
        "for topcount in top5EnCoun:\n",
        "  plt.figure(figsize=(14,7))\n",
        "  plt.bar(SDs[topcount].keys(),SDs[topcount].values())\n",
        "  plt.title(topcount,fontsize=25,weight='bold')\n",
        "  plt.xlabel('SDG',fontsize=25,weight='bold')\n",
        "  plt.xticks(fontsize=20,weight='bold',rotation=90)\n",
        "  plt.yticks(fontsize=20,weight='bold',rotation=90)\n",
        "  plt.ylabel('Frequency',fontsize=25,weight='bold')\n",
        "  plt.tight_layout()\n",
        "  #plt.savefig(topcount+'.jpg')\n",
        "  plt.show()"
      ]
    },
    {
      "cell_type": "code",
      "metadata": {
        "id": "2elFOHZW9isG"
      },
      "source": [
        "\n",
        "### Frequency of SDG"
      ],
      "execution_count": null,
      "outputs": []
    },
    {
      "cell_type": "code",
      "metadata": {
        "id": "C0LZ0QbY28jU"
      },
      "source": [
        "TT=T[['extended_tweet', 'SDG','CountryCode']]\n",
        "TT['length']=[len(i) for i in TT['SDG']]\n",
        "TT=TT[[len(i)>0 for i in TT['SDG']]]\n",
        "TT.reset_index(drop=True,inplace=True)\n",
        "print(TT.shape)\n",
        "TT.head()"
      ],
      "execution_count": null,
      "outputs": []
    },
    {
      "cell_type": "code",
      "metadata": {
        "id": "xVipsou_48Vc"
      },
      "source": [
        "#TT.to_csv('TT 3 columns.csv')\n",
        "#T.to_csv('T with loc and extendedtweet.csv')"
      ],
      "execution_count": null,
      "outputs": []
    },
    {
      "cell_type": "code",
      "metadata": {
        "id": "P2Vrv8it5ED8"
      },
      "source": [
        "#Clean up the string\n",
        "Tdict={}\n",
        "for i in TT['SDG'].to_list():\n",
        "    for ii in i:\n",
        "        if ii in Tdict:\n",
        "            Tdict[ii]+=1\n",
        "        else:\n",
        "            Tdict[ii]=1\n",
        "\n",
        "#Tdict['']+=Tdict['']\n",
        "try:\n",
        "  Tdict['SDG1']+=Tdict['SDG01']\n",
        "  Tdict['SDG8']+=Tdict['SDG08']\n",
        "  Tdict['SDG6']+=Tdict['SDG64']\n",
        "  Tdict['SDG4']+=Tdict['SDG04']\n",
        "  del Tdict['SDG01']\n",
        "  del Tdict['SDG04']\n",
        "  #del Tdict['SDG4ALL']\n",
        "  #del Tdict['SDG4B']\n",
        "  #del Tdict['SDG4IT']\n",
        "  #del Tdict['SDG4SURVEY']\n",
        "  #del Tdict['SDG4PT7']\n",
        "  del Tdict['SDG64']\n",
        "  del Tdict['SDG08']\n",
        "  del Tdict['SDG18']\n",
        "  del Tdict['SDG200']\n",
        "  del Tdict['SDG2030']\n",
        "  del Tdict['SDG2020']\n",
        "except:\n",
        "  pass\n",
        "Tdict={k:v for k,v in sorted(Tdict.items(), key=lambda x: x[1],reverse=True)}\n",
        "Tdict"
      ],
      "execution_count": null,
      "outputs": []
    },
    {
      "cell_type": "markdown",
      "metadata": {
        "id": "0XCovrOfveHm"
      },
      "source": [
        "print(Tdict.keys())\n",
        "plt.figure(figsize=(20,10))\n",
        "plt.bar(Tdict.keys(),Tdict.values())\n",
        "plt.xlabel('SDG',fontsize=25,weight='bold')\n",
        "plt.xticks(fontsize=20,weight='bold',rotation=90)\n",
        "plt.yticks(fontsize=20,weight='bold',rotation=90)\n",
        "plt.ylabel('Frequency',fontsize=25,weight='bold')\n",
        "plt.tight_layout()\n",
        "#plt.savefig('SDG popularity.jpg')\n",
        "plt.show()"
      ]
    },
    {
      "cell_type": "markdown",
      "metadata": {
        "id": "KGGwEh7xcIsw"
      },
      "source": [
        "### Sentiment analysis"
      ]
    },
    {
      "cell_type": "code",
      "metadata": {
        "id": "PvlYADuCcy4Q"
      },
      "source": [
        "#### Sentiment on user, activist, and org"
      ],
      "execution_count": null,
      "outputs": []
    },
    {
      "cell_type": "code",
      "metadata": {
        "id": "6Rq7_bSqnQ59"
      },
      "source": [
        "T[T['CountryCode'].isin(['United States','United Kingdom','Australia','Nigeria'])].groupby(['CountryCode','type']).apply(lambda x: len(set(x['id'])))"
      ],
      "execution_count": null,
      "outputs": []
    },
    {
      "cell_type": "code",
      "metadata": {
        "id": "nqyn_SXScH7z"
      },
      "source": [
        "#generate number of organization, activists and user\n",
        "T[T['CountryCode'].isin(['United States','United Kingdom','Australia','Nigeria'])].groupby(['CountryCode','type']).apply(lambda x: len(set(x['id'])))"
      ],
      "execution_count": null,
      "outputs": []
    },
    {
      "cell_type": "code",
      "metadata": {
        "id": "40T5zwKBhK4e"
      },
      "source": [
        "Sentiment_Type_Country=T[T['CountryCode'].isin(['United States','United Kingdom','Australia','Nigeria'])].groupby(['CountryCode','type']).describe()\n",
        "Sentiment_Type_Country['compound']"
      ],
      "execution_count": null,
      "outputs": []
    },
    {
      "cell_type": "markdown",
      "metadata": {
        "id": "M8HhyiCxM1vn"
      },
      "source": [
        "Sentiment_Type_Country_unique=T[T['CountryCode'].isin(['United States','United Kingdom','Australia','Nigeria'])].drop_duplicates(subset='extended_tweet').groupby(['CountryCode','type']).describe()\n",
        "Sentiment_Type_Country_unique['compound']"
      ]
    },
    {
      "cell_type": "code",
      "metadata": {
        "id": "05bGY_RZM1B5"
      },
      "source": [
        "#### LIWC analysis on User and Activists"
      ],
      "execution_count": null,
      "outputs": []
    },
    {
      "cell_type": "code",
      "metadata": {
        "id": "4BxeVv5Krq3-"
      },
      "source": [
        "TLIWC=pd.read_csv('/s3/Tweets files/LIWC2015 Results (T.csv).csv')"
      ],
      "execution_count": null,
      "outputs": []
    },
    {
      "cell_type": "code",
      "metadata": {
        "id": "JhudgwkKQc9z"
      },
      "source": [
        "pd.DataFrame(TLIWC.iloc[0])[:33]"
      ],
      "execution_count": null,
      "outputs": []
    },
    {
      "cell_type": "code",
      "metadata": {
        "id": "AcoWf62pNZf5"
      },
      "source": [
        "TLIWC.rename(columns={'L':'extended_tweet', 'AB':'id','AF':'type','P':'CountryCode'},inplace=True)"
      ],
      "execution_count": null,
      "outputs": []
    },
    {
      "cell_type": "code",
      "metadata": {
        "id": "bk2jncUeNsv_"
      },
      "source": [
        "# LIWC columns\n",
        "AffectWords=['posemo', 'negemo', 'anx', 'anger', 'sad']\n",
        "CognetiveProcess=['insight', 'cause', 'discrep', 'tentat', 'certain', 'differ']\n",
        "PerpetualProcesses=['see', 'hear', 'feel']\n",
        "BiologicalProcesses=['bio', 'body', 'health', 'sexual', 'ingest']\n",
        "CoreDrivesandNeeds=['affiliation', 'achieve', 'power', 'reward', 'risk']\n",
        "TimeOrientation=['focuspast', 'focuspresent', 'focusfuture']\n",
        "Relativity=['motion', 'space', 'time']\n",
        "PersonalConcerns=['work', 'leisure', 'home', 'money', 'relig', 'death']"
      ],
      "execution_count": null,
      "outputs": []
    },
    {
      "cell_type": "code",
      "metadata": {
        "id": "bgpnGM8FsBOF"
      },
      "source": [
        "desired_col=['extended_tweet','id','type','CountryCode']\n",
        "for i in ['AffectWords','CognetiveProcess','PerpetualProcesses','BiologicalProcesses','CoreDrivesandNeeds','TimeOrientation','Relativity','PersonalConcerns']:\n",
        "  desired_col.extend(eval(i))\n",
        "TLIWCsmall=TLIWC[desired_col]\n",
        "TLIWCsmall.drop(index=TLIWCsmall[pd.isnull(TLIWCsmall['extended_tweet'])].index,inplace=True)\n",
        "TLIWCsmall.drop(index=TLIWCsmall[pd.isnull(TLIWCsmall['id'])].index,inplace=True)\n",
        "TLIWCsmall.reset_index(drop=True,inplace=True)"
      ],
      "execution_count": null,
      "outputs": []
    },
    {
      "cell_type": "code",
      "metadata": {
        "id": "X-V5OZI4swWL"
      },
      "source": [
        "TLIWCsmall.head(2)"
      ],
      "execution_count": null,
      "outputs": []
    },
    {
      "cell_type": "code",
      "metadata": {
        "id": "TMTRrikItZaj"
      },
      "source": [
        "TLIWCsmall_COUN=TLIWCsmall[TLIWCsmall['CountryCode'].isin(selected_country)]"
      ],
      "execution_count": null,
      "outputs": []
    },
    {
      "cell_type": "code",
      "metadata": {
        "id": "0_tVJd_YtpQR"
      },
      "source": [
        "TLIWCsmall_COUN.drop_duplicates(subset=p['extended_tweet'],inplace=True)"
      ],
      "execution_count": null,
      "outputs": []
    },
    {
      "cell_type": "code",
      "metadata": {
        "id": "ZeIbamDXsGh3"
      },
      "source": [
        "Activists=TLIWCsmall_COUN[['id','CountryCode','type']].drop_duplicates(subset='id').groupby(['CountryCode','type']).count()\n",
        "Activists.rename(columns={'is':'Count'},inplace=True)"
      ],
      "execution_count": null,
      "outputs": []
    },
    {
      "cell_type": "code",
      "metadata": {
        "id": "VemgxzuruT8J"
      },
      "source": [
        "LIWC=TLIWCsmall_COUN.groupby(['CountryCode','type']).mean()"
      ],
      "execution_count": null,
      "outputs": []
    },
    {
      "cell_type": "code",
      "metadata": {
        "id": "pLDN1kFGwlWX"
      },
      "source": [
        "LIWC_ACT=Activists.join(LIWC)\n",
        "LIWC_ACT.rename(columns={'id':'Count'},inplace=True)"
      ],
      "execution_count": null,
      "outputs": []
    },
    {
      "cell_type": "code",
      "metadata": {
        "id": "JOoOi_mXzuCm"
      },
      "source": [
        "col_name=['Count']\n",
        "col_name.extend(AffectWords)\n",
        "col_name.extend(TimeOrientation)\n",
        "LIWC_ACT.loc[:,col_name]"
      ],
      "execution_count": null,
      "outputs": []
    },
    {
      "cell_type": "markdown",
      "metadata": {
        "id": "xbcOXVVRcB4D"
      },
      "source": [
        "LIWC_ACT.loc[:,CoreDrivesandNeeds]"
      ]
    },
    {
      "cell_type": "code",
      "metadata": {
        "id": "ra2pe98BKmi0"
      },
      "source": [
        "#### Sentiment on one of the SDG"
      ],
      "execution_count": null,
      "outputs": []
    },
    {
      "cell_type": "code",
      "metadata": {
        "id": "tFZBBC8YazbL"
      },
      "source": [
        "T.groupby('SDG4Topic')['compound'].describe()"
      ],
      "execution_count": null,
      "outputs": []
    },
    {
      "cell_type": "code",
      "metadata": {
        "id": "2BIF4e-mO6zt"
      },
      "source": [
        "for i in ['SDG4Topic','SDG5Topic','SDG7Topic','SDG2Topic']:\n",
        "    T[[i,'compound']].boxplot(figsize=(12,8),by=i,boxprops=dict(linestyle='-', linewidth=3),flierprops=dict(linestyle='-', linewidth=3),\n",
        "                 medianprops=dict(linestyle='-', linewidth=3),\n",
        "                 whiskerprops=dict(linestyle='-', linewidth=3),\n",
        "                 capprops=dict(linestyle='-', linewidth=3))\n",
        "\n",
        "    plt.title('Boxplot grouped by '+i,fontsize=25,weight='bold')\n",
        "    plt.xlabel(i,fontsize=25,weight='bold')\n",
        "    plt.xticks(fontsize=20,weight='bold')\n",
        "    plt.yticks(fontsize=20,weight='bold')\n",
        "    plt.ylabel('',fontsize=25,weight='bold')\n",
        "    plt.tight_layout()\n",
        "    plt.show()"
      ],
      "execution_count": null,
      "outputs": []
    },
    {
      "cell_type": "markdown",
      "metadata": {
        "id": "m6KDwodB-KVA"
      },
      "source": [
        "plt.scatter(range(len(T.groupby('CountryCode')['compound'])),sorted(T.groupby('CountryCode')['compound'].mean()))\n",
        "plt.show()"
      ]
    },
    {
      "cell_type": "code",
      "metadata": {
        "id": "e0iBNWD5Hlbg"
      },
      "source": [
        "### Strong against SDGs"
      ],
      "execution_count": null,
      "outputs": []
    },
    {
      "cell_type": "code",
      "metadata": {
        "id": "z1wcWCBKAis2"
      },
      "source": [
        "def PrintTopic(df, topicnum=5,keywds=20):\n",
        "  #parameter set-up\n",
        "  count_vect=CountVectorizer(max_df=0.8,min_df=2,stop_words='english')\n",
        "  LDA = LatentDirichletAllocation(n_components=topicnum, random_state=42)\n",
        "  #topic modeling\n",
        "  tweet_matrix=count_vect.fit_transform(df['extended_tweet_lemmatized'].values.astype('U'))\n",
        "  LDA.fit(tweet_matrix)\n",
        "  #print results\n",
        "  '''  for i in top_topic_words:\n",
        "      print(count_vect.get_feature_names()[i])'''\n",
        "  for i,topic in enumerate(LDA.components_):\n",
        "      print(f'Top 20 words for {PopSDG} topic #{i}:')\n",
        "      print([count_vect.get_feature_names()[i] for i in topic.argsort()[-keywds:]])\n",
        "      print('\\n')\n",
        "  print('*'*50)\n",
        "  #put topic back to tweets\n",
        "  topic_values = LDA.transform(tweet_matrix)\n",
        "  df['HateTopic']=None\n",
        "  #putinto the main matrix\n",
        "  df.loc[df.index,'HateTopic']=topic_values.argmax(axis=1)\n",
        "  return df\n"
      ],
      "execution_count": null,
      "outputs": []
    },
    {
      "cell_type": "code",
      "metadata": {
        "id": "3Gdr_tqb_J-Y"
      },
      "source": [
        "print(*T[T['extended_tweet'].str.contains('propaganda')]['extended_tweet'].drop_duplicates().tolist(),sep='\\n'+'-'*100+'\\n')\n",
        "print(*T[T['extended_tweet'].str.contains('nosdgs')]['extended_tweet'].tolist(),sep='\\n'+'-'*100+'\\n')\n",
        "print(*T[T['extended_tweet'].str.contains('hypocrite')]['extended_tweet'].tolist(),sep='\\n'+'-'*100+'\\n')\n",
        "print(*T[T['extended_tweet'].str.contains('stopsdg')]['extended_tweet'].tolist(),sep='\\n'+'-'*100+'\\n')\n",
        "print(*T[T['extended_tweet'].str.contains('globalism')]['extended_tweet'].drop_duplicates().tolist(),sep='\\n'+'-'*100+'\\n')\n",
        "print(*T[T['extended_tweet'].str.contains('hypocrisy')]['extended_tweet'].drop_duplicates().tolist(),sep='\\n'+'-'*100+'\\n')\n",
        "print(*T[T['extended_tweet'].str.contains('plandemic')]['extended_tweet'].drop_duplicates().tolist(),sep='\\n'+'-'*100+'\\n')"
      ],
      "execution_count": null,
      "outputs": []
    },
    {
      "cell_type": "code",
      "metadata": {
        "id": "rjQC5YxnJe6k"
      },
      "source": [
        "StrongAgainst=T[T['extended_tweet'].str.contains('propaganda|nosdgs|hypocrite|stopsdgs|globalism|hypocrisy|plandemic|pcrtestpandemic|thegreatreset|scamdemic|pcrtestpandemic')].drop_duplicates(subset='extended_tweet')#['extended_tweet']#.drop_duplicates()"
      ],
      "execution_count": null,
      "outputs": []
    },
    {
      "cell_type": "code",
      "metadata": {
        "id": "iivJjSQoL3EQ"
      },
      "source": [
        "StrongAgainst_HT=[]\n",
        "for i in StrongAgainst['hashtags'].tolist():\n",
        "  StrongAgainst_HT.extend(i)\n",
        "StrongAgainst_HT=Counter(StrongAgainst_HT)\n",
        "StrongAgainst_HT={i:k for i,k in sorted(StrongAgainst_HT.items(),key=lambda x:x[1],reverse=True)}\n",
        "\n",
        "del StrongAgainst_HT['#sdgs']\n",
        "del StrongAgainst_HT['#agenda2030']\n",
        "del StrongAgainst_HT['#2030agenda']\n",
        "del StrongAgainst_HT['#sdg']\n"
      ],
      "execution_count": null,
      "outputs": []
    },
    {
      "cell_type": "code",
      "metadata": {
        "id": "9glb4PUwFG8T"
      },
      "source": [
        "plt.figure(figsize=(15,8))\n",
        "plt.bar(list(StrongAgainst_HT.keys())[:30],list(StrongAgainst_HT.values())[:30])\n",
        "plt.xticks(rotation=90)\n",
        "plt.show()\n",
        "list(StrongAgainst_HT.keys())[:30]"
      ],
      "execution_count": null,
      "outputs": []
    },
    {
      "cell_type": "code",
      "metadata": {
        "id": "rwNhGGQFXcU7"
      },
      "source": [
        "topnum=3\n",
        "StrongAgainst=PrintTopic(StrongAgainst,topnum,20)\n",
        "\n",
        "for i in range(topnum):\n",
        "  print(*StrongAgainst[StrongAgainst['HateTopic']==i].sample(2)['extended_tweet'].tolist(),sep='\\n'+'-'*100+'\\n')\n",
        "  print('*'*100)\n",
        "\n",
        "plt.hist(StrongAgainst['HateTopic'])\n",
        "plt.show()"
      ],
      "execution_count": null,
      "outputs": []
    }
  ]
}